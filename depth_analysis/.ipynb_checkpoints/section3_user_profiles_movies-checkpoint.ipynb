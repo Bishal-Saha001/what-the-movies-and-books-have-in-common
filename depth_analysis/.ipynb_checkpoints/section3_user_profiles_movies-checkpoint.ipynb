{
 "cells": [
  {
   "cell_type": "markdown",
   "metadata": {},
   "source": [
    "# Depth findings in Movies"
   ]
  },
  {
   "cell_type": "markdown",
   "metadata": {},
   "source": [
    "## II. User profiles\n",
    "\n",
    "In this section, we try to build user profiles, looking for user with high participation on rankings. We want to discover the preferences of people, according genres, description of movies and key-words. "
   ]
  },
  {
   "cell_type": "markdown",
   "metadata": {},
   "source": [
    "### Importing Data"
   ]
  },
  {
   "cell_type": "markdown",
   "metadata": {},
   "source": [
    "Importing relevant packages:"
   ]
  },
  {
   "cell_type": "code",
   "execution_count": 2,
   "metadata": {},
   "outputs": [],
   "source": [
    "import re\n",
    "from scipy import stats\n",
    "import pandas as pd\n",
    "import matplotlib.pyplot as plt\n",
    "import seaborn as sns\n",
    "import numpy as np"
   ]
  },
  {
   "cell_type": "markdown",
   "metadata": {},
   "source": [
    "Importing movies and ratings datasets:"
   ]
  },
  {
   "cell_type": "code",
   "execution_count": 3,
   "metadata": {},
   "outputs": [],
   "source": [
    "df_movies = pd.read_csv('../Data/interim/movies/movies.csv')"
   ]
  },
  {
   "cell_type": "code",
   "execution_count": 4,
   "metadata": {},
   "outputs": [],
   "source": [
    "df_movies.rename(columns = {'Unnamed: 0': 'counter'}, inplace=True)"
   ]
  },
  {
   "cell_type": "code",
   "execution_count": 5,
   "metadata": {},
   "outputs": [
    {
     "data": {
      "text/html": [
       "<div>\n",
       "<style scoped>\n",
       "    .dataframe tbody tr th:only-of-type {\n",
       "        vertical-align: middle;\n",
       "    }\n",
       "\n",
       "    .dataframe tbody tr th {\n",
       "        vertical-align: top;\n",
       "    }\n",
       "\n",
       "    .dataframe thead th {\n",
       "        text-align: right;\n",
       "    }\n",
       "</style>\n",
       "<table border=\"1\" class=\"dataframe\">\n",
       "  <thead>\n",
       "    <tr style=\"text-align: right;\">\n",
       "      <th></th>\n",
       "      <th>counter</th>\n",
       "      <th>adult</th>\n",
       "      <th>belongs_to_collection</th>\n",
       "      <th>genres</th>\n",
       "      <th>id</th>\n",
       "      <th>original_language</th>\n",
       "      <th>overview</th>\n",
       "      <th>popularity</th>\n",
       "      <th>production_companies</th>\n",
       "      <th>production_countries</th>\n",
       "      <th>...</th>\n",
       "      <th>Foreign</th>\n",
       "      <th>History</th>\n",
       "      <th>Horror</th>\n",
       "      <th>Music</th>\n",
       "      <th>Mystery</th>\n",
       "      <th>Romance</th>\n",
       "      <th>Thriller</th>\n",
       "      <th>War</th>\n",
       "      <th>Western</th>\n",
       "      <th>key_list</th>\n",
       "    </tr>\n",
       "  </thead>\n",
       "  <tbody>\n",
       "    <tr>\n",
       "      <th>0</th>\n",
       "      <td>0</td>\n",
       "      <td>False</td>\n",
       "      <td>{'id': 10194, 'name': 'Toy Story Collection', ...</td>\n",
       "      <td>[{'id': 16, 'name': 'Animation'}, {'id': 35, '...</td>\n",
       "      <td>862</td>\n",
       "      <td>en</td>\n",
       "      <td>Led by Woody, Andy's toys live happily in his ...</td>\n",
       "      <td>21.946943</td>\n",
       "      <td>[{'name': 'Pixar Animation Studios', 'id': 3}]</td>\n",
       "      <td>[{'iso_3166_1': 'US', 'name': 'United States o...</td>\n",
       "      <td>...</td>\n",
       "      <td>NaN</td>\n",
       "      <td>NaN</td>\n",
       "      <td>NaN</td>\n",
       "      <td>NaN</td>\n",
       "      <td>NaN</td>\n",
       "      <td>NaN</td>\n",
       "      <td>NaN</td>\n",
       "      <td>NaN</td>\n",
       "      <td>NaN</td>\n",
       "      <td>['jealousy', 'toy', 'boy', 'friendship', 'frie...</td>\n",
       "    </tr>\n",
       "    <tr>\n",
       "      <th>1</th>\n",
       "      <td>1</td>\n",
       "      <td>False</td>\n",
       "      <td>NaN</td>\n",
       "      <td>[{'id': 12, 'name': 'Adventure'}, {'id': 14, '...</td>\n",
       "      <td>8844</td>\n",
       "      <td>en</td>\n",
       "      <td>When siblings Judy and Peter discover an encha...</td>\n",
       "      <td>17.015539</td>\n",
       "      <td>[{'name': 'TriStar Pictures', 'id': 559}, {'na...</td>\n",
       "      <td>[{'iso_3166_1': 'US', 'name': 'United States o...</td>\n",
       "      <td>...</td>\n",
       "      <td>NaN</td>\n",
       "      <td>NaN</td>\n",
       "      <td>NaN</td>\n",
       "      <td>NaN</td>\n",
       "      <td>NaN</td>\n",
       "      <td>NaN</td>\n",
       "      <td>NaN</td>\n",
       "      <td>NaN</td>\n",
       "      <td>NaN</td>\n",
       "      <td>['disappearance', 'recluse']</td>\n",
       "    </tr>\n",
       "  </tbody>\n",
       "</table>\n",
       "<p>2 rows × 37 columns</p>\n",
       "</div>"
      ],
      "text/plain": [
       "   counter  adult                              belongs_to_collection  \\\n",
       "0        0  False  {'id': 10194, 'name': 'Toy Story Collection', ...   \n",
       "1        1  False                                                NaN   \n",
       "\n",
       "                                              genres    id original_language  \\\n",
       "0  [{'id': 16, 'name': 'Animation'}, {'id': 35, '...   862                en   \n",
       "1  [{'id': 12, 'name': 'Adventure'}, {'id': 14, '...  8844                en   \n",
       "\n",
       "                                            overview  popularity  \\\n",
       "0  Led by Woody, Andy's toys live happily in his ...   21.946943   \n",
       "1  When siblings Judy and Peter discover an encha...   17.015539   \n",
       "\n",
       "                                production_companies  \\\n",
       "0     [{'name': 'Pixar Animation Studios', 'id': 3}]   \n",
       "1  [{'name': 'TriStar Pictures', 'id': 559}, {'na...   \n",
       "\n",
       "                                production_countries  \\\n",
       "0  [{'iso_3166_1': 'US', 'name': 'United States o...   \n",
       "1  [{'iso_3166_1': 'US', 'name': 'United States o...   \n",
       "\n",
       "                         ...                         Foreign  History Horror  \\\n",
       "0                        ...                             NaN      NaN    NaN   \n",
       "1                        ...                             NaN      NaN    NaN   \n",
       "\n",
       "  Music  Mystery  Romance  Thriller  War Western  \\\n",
       "0   NaN      NaN      NaN       NaN  NaN     NaN   \n",
       "1   NaN      NaN      NaN       NaN  NaN     NaN   \n",
       "\n",
       "                                            key_list  \n",
       "0  ['jealousy', 'toy', 'boy', 'friendship', 'frie...  \n",
       "1                       ['disappearance', 'recluse']  \n",
       "\n",
       "[2 rows x 37 columns]"
      ]
     },
     "execution_count": 5,
     "metadata": {},
     "output_type": "execute_result"
    }
   ],
   "source": [
    "df_movies.head(2)"
   ]
  },
  {
   "cell_type": "code",
   "execution_count": 6,
   "metadata": {},
   "outputs": [],
   "source": [
    "df_ratings = pd.read_csv('../Data/raw/movies/the-movies-dataset/ratings.csv')"
   ]
  },
  {
   "cell_type": "code",
   "execution_count": 7,
   "metadata": {},
   "outputs": [
    {
     "data": {
      "text/html": [
       "<div>\n",
       "<style scoped>\n",
       "    .dataframe tbody tr th:only-of-type {\n",
       "        vertical-align: middle;\n",
       "    }\n",
       "\n",
       "    .dataframe tbody tr th {\n",
       "        vertical-align: top;\n",
       "    }\n",
       "\n",
       "    .dataframe thead th {\n",
       "        text-align: right;\n",
       "    }\n",
       "</style>\n",
       "<table border=\"1\" class=\"dataframe\">\n",
       "  <thead>\n",
       "    <tr style=\"text-align: right;\">\n",
       "      <th></th>\n",
       "      <th>userId</th>\n",
       "      <th>movieId</th>\n",
       "      <th>rating</th>\n",
       "      <th>timestamp</th>\n",
       "    </tr>\n",
       "  </thead>\n",
       "  <tbody>\n",
       "    <tr>\n",
       "      <th>0</th>\n",
       "      <td>1</td>\n",
       "      <td>110</td>\n",
       "      <td>1.0</td>\n",
       "      <td>1425941529</td>\n",
       "    </tr>\n",
       "    <tr>\n",
       "      <th>1</th>\n",
       "      <td>1</td>\n",
       "      <td>147</td>\n",
       "      <td>4.5</td>\n",
       "      <td>1425942435</td>\n",
       "    </tr>\n",
       "    <tr>\n",
       "      <th>2</th>\n",
       "      <td>1</td>\n",
       "      <td>858</td>\n",
       "      <td>5.0</td>\n",
       "      <td>1425941523</td>\n",
       "    </tr>\n",
       "    <tr>\n",
       "      <th>3</th>\n",
       "      <td>1</td>\n",
       "      <td>1221</td>\n",
       "      <td>5.0</td>\n",
       "      <td>1425941546</td>\n",
       "    </tr>\n",
       "    <tr>\n",
       "      <th>4</th>\n",
       "      <td>1</td>\n",
       "      <td>1246</td>\n",
       "      <td>5.0</td>\n",
       "      <td>1425941556</td>\n",
       "    </tr>\n",
       "  </tbody>\n",
       "</table>\n",
       "</div>"
      ],
      "text/plain": [
       "   userId  movieId  rating   timestamp\n",
       "0       1      110     1.0  1425941529\n",
       "1       1      147     4.5  1425942435\n",
       "2       1      858     5.0  1425941523\n",
       "3       1     1221     5.0  1425941546\n",
       "4       1     1246     5.0  1425941556"
      ]
     },
     "execution_count": 7,
     "metadata": {},
     "output_type": "execute_result"
    }
   ],
   "source": [
    "df_ratings.head()"
   ]
  },
  {
   "cell_type": "markdown",
   "metadata": {},
   "source": [
    "As we can note, the rating dataset contains `userId`, `movieId` and `rating`. Grouping by users, we could determine which users are actively voting movies and they could bring us more information to generate profiles: "
   ]
  },
  {
   "cell_type": "code",
   "execution_count": 8,
   "metadata": {},
   "outputs": [],
   "source": [
    "df_users = df_ratings.groupby('userId').count().movieId"
   ]
  },
  {
   "cell_type": "code",
   "execution_count": 9,
   "metadata": {
    "scrolled": true
   },
   "outputs": [
    {
     "data": {
      "image/png": "[encoded data removed]",
      "text/plain": [
       "<Figure size 288x288 with 1 Axes>"
      ]
     },
     "metadata": {
      "needs_background": "light"
     },
     "output_type": "display_data"
    }
   ],
   "source": [
    "f, ax = plt.subplots(figsize=(4, 4))\n",
    "_ = sns.set_style(\"white\")\n",
    "ax = sns.distplot(df_users, kde=False, bins=15, color='dodgerblue')\n",
    "ax.set_yscale('log')\n",
    "_ = plt.xlabel('number of votes', fontsize=10)\n",
    "_ = plt.ylabel('users', fontsize=10)\n",
    "_ = plt.title('Histogram of number of movies voted by every user', fontsize=14)\n",
    "_ = sns.despine(offset=5, trim=True)"
   ]
  },
  {
   "cell_type": "markdown",
   "metadata": {},
   "source": [
    "According to the Figure, almost all people vote 1-5000 movies. Inspecting percentiles, we could get values to filter users:"
   ]
  },
  {
   "cell_type": "code",
   "execution_count": 10,
   "metadata": {},
   "outputs": [
    {
     "name": "stdout",
     "output_type": "stream",
     "text": [
      "Percentiles 80 = 119.0\n",
      "Percentile 95 = 398.0\n"
     ]
    }
   ],
   "source": [
    "print('Percentiles 80 = {}'.format(np.percentile(df_users.values, 80)) + '\\nPercentile 95 = {}'.format(np.percentile(df_users.values, 95)))"
   ]
  },
  {
   "cell_type": "markdown",
   "metadata": {},
   "source": [
    "80% of users had voted less than 120 movies and 95% of people sum up less than 400 movies. Therefore, the users with frecuencies lower than 120 movies and upper than 400 are filtered:"
   ]
  },
  {
   "cell_type": "code",
   "execution_count": 11,
   "metadata": {},
   "outputs": [
    {
     "name": "stdout",
     "output_type": "stream",
     "text": [
      "40301\n"
     ]
    }
   ],
   "source": [
    "users_idx = df_users.where((df_users.values > 120) & (df_users.values < 400)).dropna()\n",
    "print(len(users_idx))"
   ]
  },
  {
   "cell_type": "markdown",
   "metadata": {},
   "source": [
    "Filtering the users from the ratings dataFrame and then merging with the movies dataset:"
   ]
  },
  {
   "cell_type": "code",
   "execution_count": 12,
   "metadata": {},
   "outputs": [],
   "source": [
    "df_ratings_filter = df_ratings[df_ratings['userId'].isin(users_idx.index.tolist())]"
   ]
  },
  {
   "cell_type": "code",
   "execution_count": 13,
   "metadata": {},
   "outputs": [],
   "source": [
    "df_movies_rating = df_movies.merge(df_ratings_filter, left_on='id', right_on='movieId')"
   ]
  },
  {
   "cell_type": "code",
   "execution_count": 14,
   "metadata": {},
   "outputs": [
    {
     "data": {
      "text/html": [
       "<div>\n",
       "<style scoped>\n",
       "    .dataframe tbody tr th:only-of-type {\n",
       "        vertical-align: middle;\n",
       "    }\n",
       "\n",
       "    .dataframe tbody tr th {\n",
       "        vertical-align: top;\n",
       "    }\n",
       "\n",
       "    .dataframe thead th {\n",
       "        text-align: right;\n",
       "    }\n",
       "</style>\n",
       "<table border=\"1\" class=\"dataframe\">\n",
       "  <thead>\n",
       "    <tr style=\"text-align: right;\">\n",
       "      <th></th>\n",
       "      <th>counter</th>\n",
       "      <th>adult</th>\n",
       "      <th>belongs_to_collection</th>\n",
       "      <th>genres</th>\n",
       "      <th>id</th>\n",
       "      <th>original_language</th>\n",
       "      <th>overview</th>\n",
       "      <th>popularity</th>\n",
       "      <th>production_companies</th>\n",
       "      <th>production_countries</th>\n",
       "      <th>...</th>\n",
       "      <th>Music</th>\n",
       "      <th>Mystery</th>\n",
       "      <th>Romance</th>\n",
       "      <th>Thriller</th>\n",
       "      <th>War</th>\n",
       "      <th>Western</th>\n",
       "      <th>key_list</th>\n",
       "      <th>movieId</th>\n",
       "      <th>rating</th>\n",
       "      <th>timestamp</th>\n",
       "    </tr>\n",
       "    <tr>\n",
       "      <th>userId</th>\n",
       "      <th></th>\n",
       "      <th></th>\n",
       "      <th></th>\n",
       "      <th></th>\n",
       "      <th></th>\n",
       "      <th></th>\n",
       "      <th></th>\n",
       "      <th></th>\n",
       "      <th></th>\n",
       "      <th></th>\n",
       "      <th></th>\n",
       "      <th></th>\n",
       "      <th></th>\n",
       "      <th></th>\n",
       "      <th></th>\n",
       "      <th></th>\n",
       "      <th></th>\n",
       "      <th></th>\n",
       "      <th></th>\n",
       "      <th></th>\n",
       "      <th></th>\n",
       "    </tr>\n",
       "  </thead>\n",
       "  <tbody>\n",
       "    <tr>\n",
       "      <th>11</th>\n",
       "      <td>67</td>\n",
       "      <td>67</td>\n",
       "      <td>17</td>\n",
       "      <td>67</td>\n",
       "      <td>67</td>\n",
       "      <td>67</td>\n",
       "      <td>67</td>\n",
       "      <td>67</td>\n",
       "      <td>67</td>\n",
       "      <td>67</td>\n",
       "      <td>...</td>\n",
       "      <td>3</td>\n",
       "      <td>8</td>\n",
       "      <td>7</td>\n",
       "      <td>17</td>\n",
       "      <td>2</td>\n",
       "      <td>1</td>\n",
       "      <td>67</td>\n",
       "      <td>67</td>\n",
       "      <td>67</td>\n",
       "      <td>67</td>\n",
       "    </tr>\n",
       "    <tr>\n",
       "      <th>12</th>\n",
       "      <td>136</td>\n",
       "      <td>136</td>\n",
       "      <td>28</td>\n",
       "      <td>136</td>\n",
       "      <td>136</td>\n",
       "      <td>136</td>\n",
       "      <td>135</td>\n",
       "      <td>136</td>\n",
       "      <td>136</td>\n",
       "      <td>136</td>\n",
       "      <td>...</td>\n",
       "      <td>3</td>\n",
       "      <td>14</td>\n",
       "      <td>26</td>\n",
       "      <td>32</td>\n",
       "      <td>1</td>\n",
       "      <td>3</td>\n",
       "      <td>136</td>\n",
       "      <td>136</td>\n",
       "      <td>136</td>\n",
       "      <td>136</td>\n",
       "    </tr>\n",
       "    <tr>\n",
       "      <th>15</th>\n",
       "      <td>77</td>\n",
       "      <td>77</td>\n",
       "      <td>13</td>\n",
       "      <td>77</td>\n",
       "      <td>77</td>\n",
       "      <td>77</td>\n",
       "      <td>76</td>\n",
       "      <td>77</td>\n",
       "      <td>77</td>\n",
       "      <td>77</td>\n",
       "      <td>...</td>\n",
       "      <td>4</td>\n",
       "      <td>7</td>\n",
       "      <td>11</td>\n",
       "      <td>23</td>\n",
       "      <td>1</td>\n",
       "      <td>0</td>\n",
       "      <td>77</td>\n",
       "      <td>77</td>\n",
       "      <td>77</td>\n",
       "      <td>77</td>\n",
       "    </tr>\n",
       "    <tr>\n",
       "      <th>16</th>\n",
       "      <td>54</td>\n",
       "      <td>54</td>\n",
       "      <td>8</td>\n",
       "      <td>54</td>\n",
       "      <td>54</td>\n",
       "      <td>54</td>\n",
       "      <td>54</td>\n",
       "      <td>54</td>\n",
       "      <td>54</td>\n",
       "      <td>54</td>\n",
       "      <td>...</td>\n",
       "      <td>1</td>\n",
       "      <td>3</td>\n",
       "      <td>10</td>\n",
       "      <td>15</td>\n",
       "      <td>2</td>\n",
       "      <td>5</td>\n",
       "      <td>54</td>\n",
       "      <td>54</td>\n",
       "      <td>54</td>\n",
       "      <td>54</td>\n",
       "    </tr>\n",
       "    <tr>\n",
       "      <th>20</th>\n",
       "      <td>86</td>\n",
       "      <td>86</td>\n",
       "      <td>18</td>\n",
       "      <td>86</td>\n",
       "      <td>86</td>\n",
       "      <td>86</td>\n",
       "      <td>86</td>\n",
       "      <td>86</td>\n",
       "      <td>86</td>\n",
       "      <td>86</td>\n",
       "      <td>...</td>\n",
       "      <td>0</td>\n",
       "      <td>8</td>\n",
       "      <td>11</td>\n",
       "      <td>19</td>\n",
       "      <td>5</td>\n",
       "      <td>2</td>\n",
       "      <td>86</td>\n",
       "      <td>86</td>\n",
       "      <td>86</td>\n",
       "      <td>86</td>\n",
       "    </tr>\n",
       "  </tbody>\n",
       "</table>\n",
       "<p>5 rows × 40 columns</p>\n",
       "</div>"
      ],
      "text/plain": [
       "        counter  adult  belongs_to_collection  genres   id  original_language  \\\n",
       "userId                                                                          \n",
       "11           67     67                     17      67   67                 67   \n",
       "12          136    136                     28     136  136                136   \n",
       "15           77     77                     13      77   77                 77   \n",
       "16           54     54                      8      54   54                 54   \n",
       "20           86     86                     18      86   86                 86   \n",
       "\n",
       "        overview  popularity  production_companies  production_countries  \\\n",
       "userId                                                                     \n",
       "11            67          67                    67                    67   \n",
       "12           135         136                   136                   136   \n",
       "15            76          77                    77                    77   \n",
       "16            54          54                    54                    54   \n",
       "20            86          86                    86                    86   \n",
       "\n",
       "          ...      Music  Mystery  Romance  Thriller  War  Western  key_list  \\\n",
       "userId    ...                                                                  \n",
       "11        ...          3        8        7        17    2        1        67   \n",
       "12        ...          3       14       26        32    1        3       136   \n",
       "15        ...          4        7       11        23    1        0        77   \n",
       "16        ...          1        3       10        15    2        5        54   \n",
       "20        ...          0        8       11        19    5        2        86   \n",
       "\n",
       "        movieId  rating  timestamp  \n",
       "userId                              \n",
       "11           67      67         67  \n",
       "12          136     136        136  \n",
       "15           77      77         77  \n",
       "16           54      54         54  \n",
       "20           86      86         86  \n",
       "\n",
       "[5 rows x 40 columns]"
      ]
     },
     "execution_count": 14,
     "metadata": {},
     "output_type": "execute_result"
    }
   ],
   "source": [
    "df_movies_rating_group = df_movies_rating.groupby('userId').count()\n",
    "df_movies_rating_group.head()"
   ]
  },
  {
   "cell_type": "markdown",
   "metadata": {},
   "source": [
    "After merging datasets, we loss information from users and movies. Again, we filter users using the previously got percentiles 85 and 90:"
   ]
  },
  {
   "cell_type": "code",
   "execution_count": 15,
   "metadata": {},
   "outputs": [],
   "source": [
    "users_idx_filter = df_movies_rating_group.where((df_movies_rating_group.counter > 120) & (df_movies_rating_group.counter < 400)).dropna()"
   ]
  },
  {
   "cell_type": "code",
   "execution_count": 16,
   "metadata": {},
   "outputs": [
    {
     "data": {
      "text/plain": [
       "9246"
      ]
     },
     "execution_count": 16,
     "metadata": {},
     "output_type": "execute_result"
    }
   ],
   "source": [
    "len(users_idx_filter)"
   ]
  },
  {
   "cell_type": "code",
   "execution_count": 17,
   "metadata": {},
   "outputs": [],
   "source": [
    "df_user_sample = users_idx_filter.sample(frac=0.1)"
   ]
  },
  {
   "cell_type": "code",
   "execution_count": 18,
   "metadata": {},
   "outputs": [],
   "source": [
    "df_movies_rating_filter = df_movies_rating[df_movies_rating['userId'].isin(df_user_sample.index.tolist())]"
   ]
  },
  {
   "cell_type": "markdown",
   "metadata": {},
   "source": [
    "Building a copy of dataframe:"
   ]
  },
  {
   "cell_type": "code",
   "execution_count": 21,
   "metadata": {},
   "outputs": [],
   "source": [
    "df_mov_rating = df_movies_rating_filter.copy()"
   ]
  },
  {
   "cell_type": "markdown",
   "metadata": {},
   "source": [
    "Selecting columns for the analysis:"
   ]
  },
  {
   "cell_type": "code",
   "execution_count": 22,
   "metadata": {},
   "outputs": [],
   "source": [
    "df_mov_rating = df_mov_rating.loc[:, ['userId', 'movieId', 'title', \n",
    "                       'overview', 'spoken_languages', \n",
    "                       'rating', 'genres_list', 'key_list', \n",
    "                       'vote_count', 'vote_average',\n",
    "                       'runtime', 'release_date']]"
   ]
  },
  {
   "cell_type": "code",
   "execution_count": 23,
   "metadata": {},
   "outputs": [
    {
     "data": {
      "text/html": [
       "<div>\n",
       "<style scoped>\n",
       "    .dataframe tbody tr th:only-of-type {\n",
       "        vertical-align: middle;\n",
       "    }\n",
       "\n",
       "    .dataframe tbody tr th {\n",
       "        vertical-align: top;\n",
       "    }\n",
       "\n",
       "    .dataframe thead th {\n",
       "        text-align: right;\n",
       "    }\n",
       "</style>\n",
       "<table border=\"1\" class=\"dataframe\">\n",
       "  <thead>\n",
       "    <tr style=\"text-align: right;\">\n",
       "      <th></th>\n",
       "      <th>userId</th>\n",
       "      <th>movieId</th>\n",
       "      <th>title</th>\n",
       "      <th>overview</th>\n",
       "      <th>spoken_languages</th>\n",
       "      <th>rating</th>\n",
       "      <th>genres_list</th>\n",
       "      <th>key_list</th>\n",
       "      <th>vote_count</th>\n",
       "      <th>vote_average</th>\n",
       "      <th>runtime</th>\n",
       "      <th>release_date</th>\n",
       "    </tr>\n",
       "  </thead>\n",
       "  <tbody>\n",
       "    <tr>\n",
       "      <th>1</th>\n",
       "      <td>6525</td>\n",
       "      <td>862</td>\n",
       "      <td>Toy Story</td>\n",
       "      <td>Led by Woody, Andy's toys live happily in his ...</td>\n",
       "      <td>[{'iso_639_1': 'en', 'name': 'English'}]</td>\n",
       "      <td>4.0</td>\n",
       "      <td>['Animation', 'Comedy', 'Family']</td>\n",
       "      <td>['jealousy', 'toy', 'boy', 'friendship', 'frie...</td>\n",
       "      <td>5415.0</td>\n",
       "      <td>7.7</td>\n",
       "      <td>81.0</td>\n",
       "      <td>1995-10-30</td>\n",
       "    </tr>\n",
       "    <tr>\n",
       "      <th>18</th>\n",
       "      <td>60313</td>\n",
       "      <td>862</td>\n",
       "      <td>Toy Story</td>\n",
       "      <td>Led by Woody, Andy's toys live happily in his ...</td>\n",
       "      <td>[{'iso_639_1': 'en', 'name': 'English'}]</td>\n",
       "      <td>4.0</td>\n",
       "      <td>['Animation', 'Comedy', 'Family']</td>\n",
       "      <td>['jealousy', 'toy', 'boy', 'friendship', 'frie...</td>\n",
       "      <td>5415.0</td>\n",
       "      <td>7.7</td>\n",
       "      <td>81.0</td>\n",
       "      <td>1995-10-30</td>\n",
       "    </tr>\n",
       "  </tbody>\n",
       "</table>\n",
       "</div>"
      ],
      "text/plain": [
       "    userId  movieId      title  \\\n",
       "1     6525      862  Toy Story   \n",
       "18   60313      862  Toy Story   \n",
       "\n",
       "                                             overview  \\\n",
       "1   Led by Woody, Andy's toys live happily in his ...   \n",
       "18  Led by Woody, Andy's toys live happily in his ...   \n",
       "\n",
       "                            spoken_languages  rating  \\\n",
       "1   [{'iso_639_1': 'en', 'name': 'English'}]     4.0   \n",
       "18  [{'iso_639_1': 'en', 'name': 'English'}]     4.0   \n",
       "\n",
       "                          genres_list  \\\n",
       "1   ['Animation', 'Comedy', 'Family']   \n",
       "18  ['Animation', 'Comedy', 'Family']   \n",
       "\n",
       "                                             key_list  vote_count  \\\n",
       "1   ['jealousy', 'toy', 'boy', 'friendship', 'frie...      5415.0   \n",
       "18  ['jealousy', 'toy', 'boy', 'friendship', 'frie...      5415.0   \n",
       "\n",
       "    vote_average  runtime release_date  \n",
       "1            7.7     81.0   1995-10-30  \n",
       "18           7.7     81.0   1995-10-30  "
      ]
     },
     "execution_count": 23,
     "metadata": {},
     "output_type": "execute_result"
    }
   ],
   "source": [
    "df_mov_rating.head(2)"
   ]
  },
  {
   "cell_type": "markdown",
   "metadata": {},
   "source": [
    "Multi-indexing by users and movies:"
   ]
  },
  {
   "cell_type": "code",
   "execution_count": 24,
   "metadata": {
    "scrolled": true
   },
   "outputs": [],
   "source": [
    "df_user = df_mov_rating.set_index(['userId', 'movieId']).sort_values('userId')\n",
    "#df_user.reset_index()"
   ]
  },
  {
   "cell_type": "code",
   "execution_count": 25,
   "metadata": {},
   "outputs": [
    {
     "data": {
      "text/html": [
       "<div>\n",
       "<style scoped>\n",
       "    .dataframe tbody tr th:only-of-type {\n",
       "        vertical-align: middle;\n",
       "    }\n",
       "\n",
       "    .dataframe tbody tr th {\n",
       "        vertical-align: top;\n",
       "    }\n",
       "\n",
       "    .dataframe thead th {\n",
       "        text-align: right;\n",
       "    }\n",
       "</style>\n",
       "<table border=\"1\" class=\"dataframe\">\n",
       "  <thead>\n",
       "    <tr style=\"text-align: right;\">\n",
       "      <th></th>\n",
       "      <th></th>\n",
       "      <th>title</th>\n",
       "      <th>overview</th>\n",
       "      <th>spoken_languages</th>\n",
       "      <th>rating</th>\n",
       "      <th>genres_list</th>\n",
       "      <th>key_list</th>\n",
       "      <th>vote_count</th>\n",
       "      <th>vote_average</th>\n",
       "      <th>runtime</th>\n",
       "      <th>release_date</th>\n",
       "    </tr>\n",
       "    <tr>\n",
       "      <th>userId</th>\n",
       "      <th>movieId</th>\n",
       "      <th></th>\n",
       "      <th></th>\n",
       "      <th></th>\n",
       "      <th></th>\n",
       "      <th></th>\n",
       "      <th></th>\n",
       "      <th></th>\n",
       "      <th></th>\n",
       "      <th></th>\n",
       "      <th></th>\n",
       "    </tr>\n",
       "  </thead>\n",
       "  <tbody>\n",
       "    <tr>\n",
       "      <th rowspan=\"2\" valign=\"top\">65</th>\n",
       "      <th>1485</th>\n",
       "      <td>Get Carter</td>\n",
       "      <td>Michael Caine is Jack Carter, a small-time hoo...</td>\n",
       "      <td>[{'iso_639_1': 'en', 'name': 'English'}]</td>\n",
       "      <td>3.0</td>\n",
       "      <td>['Crime', 'Thriller']</td>\n",
       "      <td>['hitman', 'british', 'gritty']</td>\n",
       "      <td>122.0</td>\n",
       "      <td>6.9</td>\n",
       "      <td>112.0</td>\n",
       "      <td>1971-03-03</td>\n",
       "    </tr>\n",
       "    <tr>\n",
       "      <th>1480</th>\n",
       "      <td>Touch of Evil</td>\n",
       "      <td>Stark, perverse story of murder, kidnapping, a...</td>\n",
       "      <td>[{'iso_639_1': 'en', 'name': 'English'}, {'iso...</td>\n",
       "      <td>3.0</td>\n",
       "      <td>['Drama', 'Thriller', 'Crime']</td>\n",
       "      <td>['hotel', 'brothel', 'border', 'evidence', 'ho...</td>\n",
       "      <td>292.0</td>\n",
       "      <td>7.6</td>\n",
       "      <td>95.0</td>\n",
       "      <td>1958-04-23</td>\n",
       "    </tr>\n",
       "  </tbody>\n",
       "</table>\n",
       "</div>"
      ],
      "text/plain": [
       "                        title  \\\n",
       "userId movieId                  \n",
       "65     1485        Get Carter   \n",
       "       1480     Touch of Evil   \n",
       "\n",
       "                                                         overview  \\\n",
       "userId movieId                                                      \n",
       "65     1485     Michael Caine is Jack Carter, a small-time hoo...   \n",
       "       1480     Stark, perverse story of murder, kidnapping, a...   \n",
       "\n",
       "                                                 spoken_languages  rating  \\\n",
       "userId movieId                                                              \n",
       "65     1485              [{'iso_639_1': 'en', 'name': 'English'}]     3.0   \n",
       "       1480     [{'iso_639_1': 'en', 'name': 'English'}, {'iso...     3.0   \n",
       "\n",
       "                                   genres_list  \\\n",
       "userId movieId                                   \n",
       "65     1485              ['Crime', 'Thriller']   \n",
       "       1480     ['Drama', 'Thriller', 'Crime']   \n",
       "\n",
       "                                                         key_list  vote_count  \\\n",
       "userId movieId                                                                  \n",
       "65     1485                       ['hitman', 'british', 'gritty']       122.0   \n",
       "       1480     ['hotel', 'brothel', 'border', 'evidence', 'ho...       292.0   \n",
       "\n",
       "                vote_average  runtime release_date  \n",
       "userId movieId                                      \n",
       "65     1485              6.9    112.0   1971-03-03  \n",
       "       1480              7.6     95.0   1958-04-23  "
      ]
     },
     "execution_count": 25,
     "metadata": {},
     "output_type": "execute_result"
    }
   ],
   "source": [
    "df_user.head(2)"
   ]
  },
  {
   "cell_type": "markdown",
   "metadata": {},
   "source": [
    "Build a dictionary of userId, genres and genres (to count the number of movies depending on the genres and how the user qualify every genre)."
   ]
  },
  {
   "cell_type": "code",
   "execution_count": 26,
   "metadata": {},
   "outputs": [
    {
     "name": "stderr",
     "output_type": "stream",
     "text": [
      "/Users/daniela/anaconda3/lib/python3.7/site-packages/ipykernel/zmqshell.py:536: PerformanceWarning: indexing past lexsort depth may impact performance.\n",
      "  return super(ZMQInteractiveShell, self).run_cell(*args, **kwargs)\n"
     ]
    }
   ],
   "source": [
    "genres = []\n",
    "rating = []\n",
    "userId = []\n",
    "movieId = []\n",
    "vote_average = []\n",
    "\n",
    "for i in range(df_user.shape[0]):\n",
    "    a, b = df_user.index[i][0], df_user.index[i][1]\n",
    "    try:\n",
    "        df_user.genres_list[a, b].split(',')\n",
    "    except:\n",
    "        continue\n",
    "    for g in df_user.genres_list[a, b].split(','):\n",
    "        g = g.replace('[','').replace(']','').replace(\"'\", \"\").replace(\" \", \"\")\n",
    "        \n",
    "        userId.append(a)\n",
    "        movieId.append(b)\n",
    "        genres.append(g)\n",
    "        rating.append(df_user.rating[a, b])\n",
    "        vote_average.append(df_user.vote_average[a, b])\n",
    "        \n",
    "df_users_profiles = pd.DataFrame({'userId': userId, \n",
    "                                  'movieId': movieId, \n",
    "                                  'genre': genres, \n",
    "                                  'rating': rating, \n",
    "                                  'vote_average': vote_average})       "
   ]
  },
  {
   "cell_type": "markdown",
   "metadata": {},
   "source": [
    "Checking genres:"
   ]
  },
  {
   "cell_type": "code",
   "execution_count": 27,
   "metadata": {},
   "outputs": [
    {
     "data": {
      "text/plain": [
       "array(['Crime', 'Thriller', 'Drama', 'Fantasy', 'Comedy', 'Action',\n",
       "       'Adventure', 'Romance', 'Horror', 'Animation', 'Family', 'Mystery',\n",
       "       'Western', 'War', 'History', 'Documentary', 'Music', 'Foreign'],\n",
       "      dtype=object)"
      ]
     },
     "execution_count": 27,
     "metadata": {},
     "output_type": "execute_result"
    }
   ],
   "source": [
    "df_users_profiles.genre.unique()"
   ]
  },
  {
   "cell_type": "code",
   "execution_count": 51,
   "metadata": {},
   "outputs": [],
   "source": [
    "#df_users_profiles.userId.unique()"
   ]
  },
  {
   "cell_type": "markdown",
   "metadata": {},
   "source": [
    "Now, we use the information about a specific user and his preferences in genres. To visualize that, boxplots of every genre are displayed below, showing the votes that this user did for movies belongs to every genre:"
   ]
  },
  {
   "cell_type": "code",
   "execution_count": 32,
   "metadata": {},
   "outputs": [
    {
     "name": "stdout",
     "output_type": "stream",
     "text": [
      "361\n"
     ]
    },
    {
     "data": {
      "image/png": "[encoded data removed]",
      "text/plain": [
       "<Figure size 1440x432 with 1 Axes>"
      ]
     },
     "metadata": {},
     "output_type": "display_data"
    }
   ],
   "source": [
    "df_example = df_users_profiles[df_users_profiles.userId == 766]\n",
    "\n",
    "f, ax = plt.subplots(figsize=(20, 6))\n",
    "_ = sns.set_style(\"white\")\n",
    "_ = sns.boxplot(x='genre', y='rating', data=df_example, palette='coolwarm')\n",
    "_ = plt.title('Genre preferences for user B', fontsize=14)\n",
    "_ = plt.xlabel('Genre', fontsize=10)\n",
    "_ = plt.ylabel('Score', fontsize=10)\n",
    "_ = sns.despine(offset=5, trim=True)"
   ]
  },
  {
   "cell_type": "markdown",
   "metadata": {},
   "source": [
    "The boxplots of average ratings from the movies in this sample is displayed below. As we can see, every genre offers a different distribution of scores:"
   ]
  },
  {
   "cell_type": "code",
   "execution_count": 48,
   "metadata": {},
   "outputs": [],
   "source": [
    "def rescale(data):\n",
    "    x = ((5 - 0)*(data - 0)/(10-0)) + 0\n",
    "    return x"
   ]
  },
  {
   "cell_type": "code",
   "execution_count": 50,
   "metadata": {},
   "outputs": [
    {
     "name": "stderr",
     "output_type": "stream",
     "text": [
      "/Users/daniela/anaconda3/lib/python3.7/site-packages/ipykernel_launcher.py:1: SettingWithCopyWarning: \n",
      "A value is trying to be set on a copy of a slice from a DataFrame.\n",
      "Try using .loc[row_indexer,col_indexer] = value instead\n",
      "\n",
      "See the caveats in the documentation: http://pandas.pydata.org/pandas-docs/stable/indexing.html#indexing-view-versus-copy\n",
      "  \"\"\"Entry point for launching an IPython kernel.\n"
     ]
    },
    {
     "data": {
      "image/png": "[encoded data removed]",
      "text/plain": [
       "<Figure size 1440x432 with 1 Axes>"
      ]
     },
     "metadata": {},
     "output_type": "display_data"
    }
   ],
   "source": [
    "df_example['vote_average_rescaled'] = df_example.vote_average.apply(rescale)\n",
    "\n",
    "f, ax = plt.subplots(figsize=(20, 6))\n",
    "_ = sns.set_style(\"white\")\n",
    "_ = sns.boxplot(x='genre', y='vote_average_rescaled', data=df_example, palette='GnBu_d')\n",
    "_ = plt.title('General genre preferences for users', fontsize=14)\n",
    "_ = plt.xlabel('Genre', fontsize=10)\n",
    "_ = plt.ylabel('average movie rating', fontsize=10)\n",
    "_ = sns.despine(offset=5, trim=True)"
   ]
  },
  {
   "cell_type": "code",
   "execution_count": 128,
   "metadata": {
    "scrolled": true
   },
   "outputs": [
    {
     "data": {
      "text/html": [
       "<div>\n",
       "<style scoped>\n",
       "    .dataframe tbody tr th:only-of-type {\n",
       "        vertical-align: middle;\n",
       "    }\n",
       "\n",
       "    .dataframe tbody tr th {\n",
       "        vertical-align: top;\n",
       "    }\n",
       "\n",
       "    .dataframe thead th {\n",
       "        text-align: right;\n",
       "    }\n",
       "</style>\n",
       "<table border=\"1\" class=\"dataframe\">\n",
       "  <thead>\n",
       "    <tr style=\"text-align: right;\">\n",
       "      <th></th>\n",
       "      <th></th>\n",
       "      <th>mean</th>\n",
       "      <th>std</th>\n",
       "      <th>min</th>\n",
       "      <th>max</th>\n",
       "      <th>count</th>\n",
       "    </tr>\n",
       "    <tr>\n",
       "      <th>userId</th>\n",
       "      <th>genre</th>\n",
       "      <th></th>\n",
       "      <th></th>\n",
       "      <th></th>\n",
       "      <th></th>\n",
       "      <th></th>\n",
       "    </tr>\n",
       "  </thead>\n",
       "  <tbody>\n",
       "    <tr>\n",
       "      <th rowspan=\"5\" valign=\"top\">65</th>\n",
       "      <th>Action</th>\n",
       "      <td>3.794118</td>\n",
       "      <td>1.094875</td>\n",
       "      <td>1.0</td>\n",
       "      <td>5.0</td>\n",
       "      <td>34</td>\n",
       "    </tr>\n",
       "    <tr>\n",
       "      <th>Adventure</th>\n",
       "      <td>3.869565</td>\n",
       "      <td>1.099766</td>\n",
       "      <td>1.0</td>\n",
       "      <td>5.0</td>\n",
       "      <td>23</td>\n",
       "    </tr>\n",
       "    <tr>\n",
       "      <th>Animation</th>\n",
       "      <td>4.166667</td>\n",
       "      <td>0.752773</td>\n",
       "      <td>3.0</td>\n",
       "      <td>5.0</td>\n",
       "      <td>6</td>\n",
       "    </tr>\n",
       "    <tr>\n",
       "      <th>Comedy</th>\n",
       "      <td>3.555556</td>\n",
       "      <td>0.924849</td>\n",
       "      <td>1.0</td>\n",
       "      <td>5.0</td>\n",
       "      <td>54</td>\n",
       "    </tr>\n",
       "    <tr>\n",
       "      <th>Crime</th>\n",
       "      <td>3.783784</td>\n",
       "      <td>0.854242</td>\n",
       "      <td>3.0</td>\n",
       "      <td>5.0</td>\n",
       "      <td>37</td>\n",
       "    </tr>\n",
       "  </tbody>\n",
       "</table>\n",
       "</div>"
      ],
      "text/plain": [
       "                      mean       std  min  max  count\n",
       "userId genre                                         \n",
       "65     Action     3.794118  1.094875  1.0  5.0     34\n",
       "       Adventure  3.869565  1.099766  1.0  5.0     23\n",
       "       Animation  4.166667  0.752773  3.0  5.0      6\n",
       "       Comedy     3.555556  0.924849  1.0  5.0     54\n",
       "       Crime      3.783784  0.854242  3.0  5.0     37"
      ]
     },
     "execution_count": 128,
     "metadata": {},
     "output_type": "execute_result"
    }
   ],
   "source": [
    "df = df_users_profiles.groupby(['userId', 'genre']).rating.agg(['mean', 'std', 'min', 'max', 'count'])\n",
    "df.head()"
   ]
  },
  {
   "cell_type": "markdown",
   "metadata": {},
   "source": [
    "Algorithm to calculate rating of genres, adapted from https://math.stackexchange.com/questions/942738/algorithm-to-calculate-rating-based-on-multiple-reviews-using-both-review-score"
   ]
  },
  {
   "cell_type": "code",
   "execution_count": 129,
   "metadata": {},
   "outputs": [],
   "source": [
    "from math import exp\n",
    "\n",
    "def genres_ranking_by_user(df):\n",
    "    \"\"\"\n",
    "    We adapt the algorithm describe on the link below to get a coefficient that represent\n",
    "    the popularity of the genre for every user. This popularity depend on the number of movies \n",
    "    watched belongs to specific genre and the average rating for the same genre.\n",
    "    \"\"\"\n",
    "    genres_ranking = []\n",
    "    Q = max(df.loc[:, 'count'])\n",
    "    #Q = 144\n",
    "    for idx in df.index:\n",
    "        p = df.loc[idx, 'mean']\n",
    "        q = df.loc[idx, 'count']\n",
    "        score = 5*p/10 + 5*(1 - exp(-q/Q))\n",
    "        genres_ranking.append(score)\n",
    "        \n",
    "    return genres_ranking"
   ]
  },
  {
   "cell_type": "code",
   "execution_count": 130,
   "metadata": {},
   "outputs": [],
   "source": [
    "df['ranking_genres'] = genres_ranking_by_user(df)"
   ]
  },
  {
   "cell_type": "code",
   "execution_count": 131,
   "metadata": {},
   "outputs": [
    {
     "data": {
      "text/html": [
       "<div>\n",
       "<style scoped>\n",
       "    .dataframe tbody tr th:only-of-type {\n",
       "        vertical-align: middle;\n",
       "    }\n",
       "\n",
       "    .dataframe tbody tr th {\n",
       "        vertical-align: top;\n",
       "    }\n",
       "\n",
       "    .dataframe thead th {\n",
       "        text-align: right;\n",
       "    }\n",
       "</style>\n",
       "<table border=\"1\" class=\"dataframe\">\n",
       "  <thead>\n",
       "    <tr style=\"text-align: right;\">\n",
       "      <th></th>\n",
       "      <th></th>\n",
       "      <th>mean</th>\n",
       "      <th>std</th>\n",
       "      <th>min</th>\n",
       "      <th>max</th>\n",
       "      <th>count</th>\n",
       "      <th>ranking_genres</th>\n",
       "    </tr>\n",
       "    <tr>\n",
       "      <th>userId</th>\n",
       "      <th>genre</th>\n",
       "      <th></th>\n",
       "      <th></th>\n",
       "      <th></th>\n",
       "      <th></th>\n",
       "      <th></th>\n",
       "      <th></th>\n",
       "    </tr>\n",
       "  </thead>\n",
       "  <tbody>\n",
       "    <tr>\n",
       "      <th rowspan=\"18\" valign=\"top\">65</th>\n",
       "      <th>Action</th>\n",
       "      <td>3.794118</td>\n",
       "      <td>1.094875</td>\n",
       "      <td>1.0</td>\n",
       "      <td>5.0</td>\n",
       "      <td>34</td>\n",
       "      <td>2.870640</td>\n",
       "    </tr>\n",
       "    <tr>\n",
       "      <th>Adventure</th>\n",
       "      <td>3.869565</td>\n",
       "      <td>1.099766</td>\n",
       "      <td>1.0</td>\n",
       "      <td>5.0</td>\n",
       "      <td>23</td>\n",
       "      <td>2.616140</td>\n",
       "    </tr>\n",
       "    <tr>\n",
       "      <th>Animation</th>\n",
       "      <td>4.166667</td>\n",
       "      <td>0.752773</td>\n",
       "      <td>3.0</td>\n",
       "      <td>5.0</td>\n",
       "      <td>6</td>\n",
       "      <td>2.270811</td>\n",
       "    </tr>\n",
       "    <tr>\n",
       "      <th>Comedy</th>\n",
       "      <td>3.555556</td>\n",
       "      <td>0.924849</td>\n",
       "      <td>1.0</td>\n",
       "      <td>5.0</td>\n",
       "      <td>54</td>\n",
       "      <td>3.232953</td>\n",
       "    </tr>\n",
       "    <tr>\n",
       "      <th>Crime</th>\n",
       "      <td>3.783784</td>\n",
       "      <td>0.854242</td>\n",
       "      <td>3.0</td>\n",
       "      <td>5.0</td>\n",
       "      <td>37</td>\n",
       "      <td>2.941680</td>\n",
       "    </tr>\n",
       "    <tr>\n",
       "      <th>Documentary</th>\n",
       "      <td>3.750000</td>\n",
       "      <td>0.500000</td>\n",
       "      <td>3.0</td>\n",
       "      <td>4.0</td>\n",
       "      <td>4</td>\n",
       "      <td>2.000779</td>\n",
       "    </tr>\n",
       "    <tr>\n",
       "      <th>Drama</th>\n",
       "      <td>3.725490</td>\n",
       "      <td>0.986612</td>\n",
       "      <td>1.0</td>\n",
       "      <td>5.0</td>\n",
       "      <td>102</td>\n",
       "      <td>4.251685</td>\n",
       "    </tr>\n",
       "    <tr>\n",
       "      <th>Family</th>\n",
       "      <td>4.222222</td>\n",
       "      <td>0.666667</td>\n",
       "      <td>3.0</td>\n",
       "      <td>5.0</td>\n",
       "      <td>9</td>\n",
       "      <td>2.389675</td>\n",
       "    </tr>\n",
       "    <tr>\n",
       "      <th>Fantasy</th>\n",
       "      <td>3.416667</td>\n",
       "      <td>1.164500</td>\n",
       "      <td>1.0</td>\n",
       "      <td>5.0</td>\n",
       "      <td>12</td>\n",
       "      <td>2.076259</td>\n",
       "    </tr>\n",
       "    <tr>\n",
       "      <th>Foreign</th>\n",
       "      <td>2.000000</td>\n",
       "      <td>NaN</td>\n",
       "      <td>2.0</td>\n",
       "      <td>2.0</td>\n",
       "      <td>1</td>\n",
       "      <td>1.031746</td>\n",
       "    </tr>\n",
       "    <tr>\n",
       "      <th>History</th>\n",
       "      <td>3.875000</td>\n",
       "      <td>0.834523</td>\n",
       "      <td>3.0</td>\n",
       "      <td>5.0</td>\n",
       "      <td>8</td>\n",
       "      <td>2.185895</td>\n",
       "    </tr>\n",
       "    <tr>\n",
       "      <th>Horror</th>\n",
       "      <td>3.636364</td>\n",
       "      <td>0.924416</td>\n",
       "      <td>3.0</td>\n",
       "      <td>5.0</td>\n",
       "      <td>11</td>\n",
       "      <td>2.156510</td>\n",
       "    </tr>\n",
       "    <tr>\n",
       "      <th>Music</th>\n",
       "      <td>3.375000</td>\n",
       "      <td>1.060660</td>\n",
       "      <td>2.0</td>\n",
       "      <td>5.0</td>\n",
       "      <td>8</td>\n",
       "      <td>1.935895</td>\n",
       "    </tr>\n",
       "    <tr>\n",
       "      <th>Mystery</th>\n",
       "      <td>4.375000</td>\n",
       "      <td>0.806226</td>\n",
       "      <td>3.0</td>\n",
       "      <td>5.0</td>\n",
       "      <td>16</td>\n",
       "      <td>2.671950</td>\n",
       "    </tr>\n",
       "    <tr>\n",
       "      <th>Romance</th>\n",
       "      <td>3.621622</td>\n",
       "      <td>0.892915</td>\n",
       "      <td>2.0</td>\n",
       "      <td>5.0</td>\n",
       "      <td>37</td>\n",
       "      <td>2.860599</td>\n",
       "    </tr>\n",
       "    <tr>\n",
       "      <th>Thriller</th>\n",
       "      <td>3.800000</td>\n",
       "      <td>0.966092</td>\n",
       "      <td>2.0</td>\n",
       "      <td>5.0</td>\n",
       "      <td>40</td>\n",
       "      <td>3.024554</td>\n",
       "    </tr>\n",
       "    <tr>\n",
       "      <th>War</th>\n",
       "      <td>4.333333</td>\n",
       "      <td>0.577350</td>\n",
       "      <td>4.0</td>\n",
       "      <td>5.0</td>\n",
       "      <td>3</td>\n",
       "      <td>2.261301</td>\n",
       "    </tr>\n",
       "    <tr>\n",
       "      <th>Western</th>\n",
       "      <td>3.571429</td>\n",
       "      <td>0.975900</td>\n",
       "      <td>2.0</td>\n",
       "      <td>5.0</td>\n",
       "      <td>7</td>\n",
       "      <td>2.003747</td>\n",
       "    </tr>\n",
       "  </tbody>\n",
       "</table>\n",
       "</div>"
      ],
      "text/plain": [
       "                        mean       std  min  max  count  ranking_genres\n",
       "userId genre                                                           \n",
       "65     Action       3.794118  1.094875  1.0  5.0     34        2.870640\n",
       "       Adventure    3.869565  1.099766  1.0  5.0     23        2.616140\n",
       "       Animation    4.166667  0.752773  3.0  5.0      6        2.270811\n",
       "       Comedy       3.555556  0.924849  1.0  5.0     54        3.232953\n",
       "       Crime        3.783784  0.854242  3.0  5.0     37        2.941680\n",
       "       Documentary  3.750000  0.500000  3.0  4.0      4        2.000779\n",
       "       Drama        3.725490  0.986612  1.0  5.0    102        4.251685\n",
       "       Family       4.222222  0.666667  3.0  5.0      9        2.389675\n",
       "       Fantasy      3.416667  1.164500  1.0  5.0     12        2.076259\n",
       "       Foreign      2.000000       NaN  2.0  2.0      1        1.031746\n",
       "       History      3.875000  0.834523  3.0  5.0      8        2.185895\n",
       "       Horror       3.636364  0.924416  3.0  5.0     11        2.156510\n",
       "       Music        3.375000  1.060660  2.0  5.0      8        1.935895\n",
       "       Mystery      4.375000  0.806226  3.0  5.0     16        2.671950\n",
       "       Romance      3.621622  0.892915  2.0  5.0     37        2.860599\n",
       "       Thriller     3.800000  0.966092  2.0  5.0     40        3.024554\n",
       "       War          4.333333  0.577350  4.0  5.0      3        2.261301\n",
       "       Western      3.571429  0.975900  2.0  5.0      7        2.003747"
      ]
     },
     "execution_count": 131,
     "metadata": {},
     "output_type": "execute_result"
    }
   ],
   "source": [
    "df.head(18)"
   ]
  },
  {
   "cell_type": "code",
   "execution_count": 143,
   "metadata": {},
   "outputs": [
    {
     "data": {
      "image/png": "[encoded data removed]",
      "text/plain": [
       "<Figure size 432x432 with 1 Axes>"
      ]
     },
     "metadata": {},
     "output_type": "display_data"
    }
   ],
   "source": [
    "f, ax = plt.subplots(figsize=(6, 6))\n",
    "_ = sns.set_style(\"white\")\n",
    "_ = sns.distplot(df['ranking_genres'], color='dodgerblue', kde=False)\n",
    "_ = plt.title('Measure of genre ratings using average score and quantity', fontsize=14)\n",
    "_ = plt.xlabel('Score', fontsize=10)\n",
    "_ = plt.ylabel('Genres for different users', fontsize=10)\n",
    "_ = sns.despine(offset=5, trim=True)"
   ]
  },
  {
   "cell_type": "code",
   "execution_count": 144,
   "metadata": {},
   "outputs": [
    {
     "name": "stdout",
     "output_type": "stream",
     "text": [
      "kurtosis = 1.459290412055446\n",
      "skewness = 0.8213934467931712\n"
     ]
    }
   ],
   "source": [
    "from scipy.stats import kurtosis, skew\n",
    "\n",
    "print('kurtosis = {}'.format( kurtosis(df['ranking_genres'].values) ))\n",
    "print('skewness = {}'.format( skew(df['ranking_genres'].values) ))"
   ]
  },
  {
   "cell_type": "code",
   "execution_count": 133,
   "metadata": {},
   "outputs": [
    {
     "data": {
      "text/html": [
       "<div>\n",
       "<style scoped>\n",
       "    .dataframe tbody tr th:only-of-type {\n",
       "        vertical-align: middle;\n",
       "    }\n",
       "\n",
       "    .dataframe tbody tr th {\n",
       "        vertical-align: top;\n",
       "    }\n",
       "\n",
       "    .dataframe thead th {\n",
       "        text-align: right;\n",
       "    }\n",
       "</style>\n",
       "<table border=\"1\" class=\"dataframe\">\n",
       "  <thead>\n",
       "    <tr style=\"text-align: right;\">\n",
       "      <th>genre</th>\n",
       "      <th>Action</th>\n",
       "      <th>Adventure</th>\n",
       "      <th>Animation</th>\n",
       "      <th>Comedy</th>\n",
       "      <th>Crime</th>\n",
       "      <th>Documentary</th>\n",
       "      <th>Drama</th>\n",
       "      <th>Family</th>\n",
       "      <th>Fantasy</th>\n",
       "      <th>Foreign</th>\n",
       "      <th>History</th>\n",
       "      <th>Horror</th>\n",
       "      <th>Music</th>\n",
       "      <th>Mystery</th>\n",
       "      <th>Romance</th>\n",
       "      <th>Thriller</th>\n",
       "      <th>War</th>\n",
       "      <th>Western</th>\n",
       "    </tr>\n",
       "    <tr>\n",
       "      <th>userId</th>\n",
       "      <th></th>\n",
       "      <th></th>\n",
       "      <th></th>\n",
       "      <th></th>\n",
       "      <th></th>\n",
       "      <th></th>\n",
       "      <th></th>\n",
       "      <th></th>\n",
       "      <th></th>\n",
       "      <th></th>\n",
       "      <th></th>\n",
       "      <th></th>\n",
       "      <th></th>\n",
       "      <th></th>\n",
       "      <th></th>\n",
       "      <th></th>\n",
       "      <th></th>\n",
       "      <th></th>\n",
       "    </tr>\n",
       "  </thead>\n",
       "  <tbody>\n",
       "    <tr>\n",
       "      <th>65</th>\n",
       "      <td>2.870640</td>\n",
       "      <td>2.616140</td>\n",
       "      <td>2.270811</td>\n",
       "      <td>3.232953</td>\n",
       "      <td>2.941680</td>\n",
       "      <td>2.000779</td>\n",
       "      <td>4.251685</td>\n",
       "      <td>2.389675</td>\n",
       "      <td>2.076259</td>\n",
       "      <td>1.031746</td>\n",
       "      <td>2.185895</td>\n",
       "      <td>2.156510</td>\n",
       "      <td>1.935895</td>\n",
       "      <td>2.671950</td>\n",
       "      <td>2.860599</td>\n",
       "      <td>3.024554</td>\n",
       "      <td>2.261301</td>\n",
       "      <td>2.003747</td>\n",
       "    </tr>\n",
       "    <tr>\n",
       "      <th>674</th>\n",
       "      <td>2.638156</td>\n",
       "      <td>2.425178</td>\n",
       "      <td>1.812478</td>\n",
       "      <td>2.675126</td>\n",
       "      <td>2.399801</td>\n",
       "      <td>1.896605</td>\n",
       "      <td>3.433499</td>\n",
       "      <td>1.861897</td>\n",
       "      <td>1.810895</td>\n",
       "      <td>1.656727</td>\n",
       "      <td>1.813279</td>\n",
       "      <td>2.108874</td>\n",
       "      <td>1.770811</td>\n",
       "      <td>2.201259</td>\n",
       "      <td>2.372546</td>\n",
       "      <td>2.796338</td>\n",
       "      <td>1.927968</td>\n",
       "      <td>2.000779</td>\n",
       "    </tr>\n",
       "    <tr>\n",
       "      <th>766</th>\n",
       "      <td>2.388156</td>\n",
       "      <td>2.159618</td>\n",
       "      <td>1.875779</td>\n",
       "      <td>2.710083</td>\n",
       "      <td>2.267399</td>\n",
       "      <td>1.511301</td>\n",
       "      <td>3.779040</td>\n",
       "      <td>1.633782</td>\n",
       "      <td>2.005596</td>\n",
       "      <td>NaN</td>\n",
       "      <td>1.813279</td>\n",
       "      <td>1.906325</td>\n",
       "      <td>1.456727</td>\n",
       "      <td>2.046950</td>\n",
       "      <td>2.136023</td>\n",
       "      <td>2.673553</td>\n",
       "      <td>1.625779</td>\n",
       "      <td>1.718033</td>\n",
       "    </tr>\n",
       "    <tr>\n",
       "      <th>817</th>\n",
       "      <td>2.796023</td>\n",
       "      <td>2.721944</td>\n",
       "      <td>2.031746</td>\n",
       "      <td>2.984406</td>\n",
       "      <td>2.624941</td>\n",
       "      <td>2.056727</td>\n",
       "      <td>3.790545</td>\n",
       "      <td>1.932319</td>\n",
       "      <td>2.288930</td>\n",
       "      <td>2.031746</td>\n",
       "      <td>2.075176</td>\n",
       "      <td>2.356727</td>\n",
       "      <td>2.375779</td>\n",
       "      <td>2.640844</td>\n",
       "      <td>2.691727</td>\n",
       "      <td>2.978156</td>\n",
       "      <td>2.563290</td>\n",
       "      <td>2.063290</td>\n",
       "    </tr>\n",
       "    <tr>\n",
       "      <th>1014</th>\n",
       "      <td>2.827498</td>\n",
       "      <td>2.576522</td>\n",
       "      <td>2.056727</td>\n",
       "      <td>3.346423</td>\n",
       "      <td>2.709324</td>\n",
       "      <td>1.520811</td>\n",
       "      <td>4.225812</td>\n",
       "      <td>1.858541</td>\n",
       "      <td>2.062853</td>\n",
       "      <td>NaN</td>\n",
       "      <td>2.000779</td>\n",
       "      <td>2.254125</td>\n",
       "      <td>2.242926</td>\n",
       "      <td>2.456664</td>\n",
       "      <td>2.727996</td>\n",
       "      <td>3.361212</td>\n",
       "      <td>1.813290</td>\n",
       "      <td>2.056727</td>\n",
       "    </tr>\n",
       "  </tbody>\n",
       "</table>\n",
       "</div>"
      ],
      "text/plain": [
       "genre     Action  Adventure  Animation    Comedy     Crime  Documentary  \\\n",
       "userId                                                                    \n",
       "65      2.870640   2.616140   2.270811  3.232953  2.941680     2.000779   \n",
       "674     2.638156   2.425178   1.812478  2.675126  2.399801     1.896605   \n",
       "766     2.388156   2.159618   1.875779  2.710083  2.267399     1.511301   \n",
       "817     2.796023   2.721944   2.031746  2.984406  2.624941     2.056727   \n",
       "1014    2.827498   2.576522   2.056727  3.346423  2.709324     1.520811   \n",
       "\n",
       "genre      Drama    Family   Fantasy   Foreign   History    Horror     Music  \\\n",
       "userId                                                                         \n",
       "65      4.251685  2.389675  2.076259  1.031746  2.185895  2.156510  1.935895   \n",
       "674     3.433499  1.861897  1.810895  1.656727  1.813279  2.108874  1.770811   \n",
       "766     3.779040  1.633782  2.005596       NaN  1.813279  1.906325  1.456727   \n",
       "817     3.790545  1.932319  2.288930  2.031746  2.075176  2.356727  2.375779   \n",
       "1014    4.225812  1.858541  2.062853       NaN  2.000779  2.254125  2.242926   \n",
       "\n",
       "genre    Mystery   Romance  Thriller       War   Western  \n",
       "userId                                                    \n",
       "65      2.671950  2.860599  3.024554  2.261301  2.003747  \n",
       "674     2.201259  2.372546  2.796338  1.927968  2.000779  \n",
       "766     2.046950  2.136023  2.673553  1.625779  1.718033  \n",
       "817     2.640844  2.691727  2.978156  2.563290  2.063290  \n",
       "1014    2.456664  2.727996  3.361212  1.813290  2.056727  "
      ]
     },
     "execution_count": 133,
     "metadata": {},
     "output_type": "execute_result"
    }
   ],
   "source": [
    "df_reindex = df.reset_index()\n",
    "\n",
    "df_pivot = df_reindex.pivot(index='userId', columns='genre', values='ranking_genres')\n",
    "df_pivot.head()"
   ]
  },
  {
   "cell_type": "code",
   "execution_count": 134,
   "metadata": {},
   "outputs": [],
   "source": [
    "df_pivot.fillna(0, inplace=True)"
   ]
  },
  {
   "cell_type": "code",
   "execution_count": 135,
   "metadata": {},
   "outputs": [],
   "source": [
    "from sklearn.metrics import pairwise_distances\n",
    "\n",
    "cosine_sim = 1-pairwise_distances(df_pivot, metric=\"cosine\")"
   ]
  },
  {
   "cell_type": "code",
   "execution_count": 136,
   "metadata": {},
   "outputs": [
    {
     "data": {
      "text/html": [
       "<div>\n",
       "<style scoped>\n",
       "    .dataframe tbody tr th:only-of-type {\n",
       "        vertical-align: middle;\n",
       "    }\n",
       "\n",
       "    .dataframe tbody tr th {\n",
       "        vertical-align: top;\n",
       "    }\n",
       "\n",
       "    .dataframe thead th {\n",
       "        text-align: right;\n",
       "    }\n",
       "</style>\n",
       "<table border=\"1\" class=\"dataframe\">\n",
       "  <thead>\n",
       "    <tr style=\"text-align: right;\">\n",
       "      <th></th>\n",
       "      <th>0</th>\n",
       "      <th>1</th>\n",
       "      <th>2</th>\n",
       "      <th>3</th>\n",
       "      <th>4</th>\n",
       "      <th>5</th>\n",
       "      <th>6</th>\n",
       "      <th>7</th>\n",
       "      <th>8</th>\n",
       "      <th>9</th>\n",
       "      <th>...</th>\n",
       "      <th>915</th>\n",
       "      <th>916</th>\n",
       "      <th>917</th>\n",
       "      <th>918</th>\n",
       "      <th>919</th>\n",
       "      <th>920</th>\n",
       "      <th>921</th>\n",
       "      <th>922</th>\n",
       "      <th>923</th>\n",
       "      <th>924</th>\n",
       "    </tr>\n",
       "  </thead>\n",
       "  <tbody>\n",
       "    <tr>\n",
       "      <th>0</th>\n",
       "      <td>1.000000</td>\n",
       "      <td>0.994347</td>\n",
       "      <td>0.992277</td>\n",
       "      <td>0.991258</td>\n",
       "      <td>0.990956</td>\n",
       "      <td>0.991820</td>\n",
       "      <td>0.991481</td>\n",
       "      <td>0.996820</td>\n",
       "      <td>0.991082</td>\n",
       "      <td>0.992533</td>\n",
       "      <td>...</td>\n",
       "      <td>0.992044</td>\n",
       "      <td>0.993511</td>\n",
       "      <td>0.994451</td>\n",
       "      <td>0.984467</td>\n",
       "      <td>0.991214</td>\n",
       "      <td>0.993271</td>\n",
       "      <td>0.994387</td>\n",
       "      <td>0.997545</td>\n",
       "      <td>0.994626</td>\n",
       "      <td>0.992098</td>\n",
       "    </tr>\n",
       "    <tr>\n",
       "      <th>1</th>\n",
       "      <td>0.994347</td>\n",
       "      <td>1.000000</td>\n",
       "      <td>0.980468</td>\n",
       "      <td>0.997595</td>\n",
       "      <td>0.980299</td>\n",
       "      <td>0.997318</td>\n",
       "      <td>0.995559</td>\n",
       "      <td>0.995625</td>\n",
       "      <td>0.977730</td>\n",
       "      <td>0.997755</td>\n",
       "      <td>...</td>\n",
       "      <td>0.996645</td>\n",
       "      <td>0.979267</td>\n",
       "      <td>0.994029</td>\n",
       "      <td>0.993483</td>\n",
       "      <td>0.996130</td>\n",
       "      <td>0.988955</td>\n",
       "      <td>0.997459</td>\n",
       "      <td>0.994116</td>\n",
       "      <td>0.995306</td>\n",
       "      <td>0.981599</td>\n",
       "    </tr>\n",
       "    <tr>\n",
       "      <th>2</th>\n",
       "      <td>0.992277</td>\n",
       "      <td>0.980468</td>\n",
       "      <td>1.000000</td>\n",
       "      <td>0.975001</td>\n",
       "      <td>0.997034</td>\n",
       "      <td>0.976619</td>\n",
       "      <td>0.979603</td>\n",
       "      <td>0.987699</td>\n",
       "      <td>0.996241</td>\n",
       "      <td>0.976989</td>\n",
       "      <td>...</td>\n",
       "      <td>0.975580</td>\n",
       "      <td>0.996348</td>\n",
       "      <td>0.985090</td>\n",
       "      <td>0.969100</td>\n",
       "      <td>0.976054</td>\n",
       "      <td>0.989540</td>\n",
       "      <td>0.980266</td>\n",
       "      <td>0.991165</td>\n",
       "      <td>0.981999</td>\n",
       "      <td>0.995544</td>\n",
       "    </tr>\n",
       "    <tr>\n",
       "      <th>3</th>\n",
       "      <td>0.991258</td>\n",
       "      <td>0.997595</td>\n",
       "      <td>0.975001</td>\n",
       "      <td>1.000000</td>\n",
       "      <td>0.975630</td>\n",
       "      <td>0.995852</td>\n",
       "      <td>0.993355</td>\n",
       "      <td>0.991713</td>\n",
       "      <td>0.973403</td>\n",
       "      <td>0.995614</td>\n",
       "      <td>...</td>\n",
       "      <td>0.996082</td>\n",
       "      <td>0.974471</td>\n",
       "      <td>0.993565</td>\n",
       "      <td>0.990707</td>\n",
       "      <td>0.994969</td>\n",
       "      <td>0.983165</td>\n",
       "      <td>0.995471</td>\n",
       "      <td>0.991385</td>\n",
       "      <td>0.993043</td>\n",
       "      <td>0.977076</td>\n",
       "    </tr>\n",
       "    <tr>\n",
       "      <th>4</th>\n",
       "      <td>0.990956</td>\n",
       "      <td>0.980299</td>\n",
       "      <td>0.997034</td>\n",
       "      <td>0.975630</td>\n",
       "      <td>1.000000</td>\n",
       "      <td>0.976646</td>\n",
       "      <td>0.978206</td>\n",
       "      <td>0.985159</td>\n",
       "      <td>0.994582</td>\n",
       "      <td>0.977205</td>\n",
       "      <td>...</td>\n",
       "      <td>0.976034</td>\n",
       "      <td>0.995215</td>\n",
       "      <td>0.984750</td>\n",
       "      <td>0.970735</td>\n",
       "      <td>0.977306</td>\n",
       "      <td>0.989060</td>\n",
       "      <td>0.977181</td>\n",
       "      <td>0.989647</td>\n",
       "      <td>0.981170</td>\n",
       "      <td>0.994675</td>\n",
       "    </tr>\n",
       "  </tbody>\n",
       "</table>\n",
       "<p>5 rows × 925 columns</p>\n",
       "</div>"
      ],
      "text/plain": [
       "        0         1         2         3         4         5         6    \\\n",
       "0  1.000000  0.994347  0.992277  0.991258  0.990956  0.991820  0.991481   \n",
       "1  0.994347  1.000000  0.980468  0.997595  0.980299  0.997318  0.995559   \n",
       "2  0.992277  0.980468  1.000000  0.975001  0.997034  0.976619  0.979603   \n",
       "3  0.991258  0.997595  0.975001  1.000000  0.975630  0.995852  0.993355   \n",
       "4  0.990956  0.980299  0.997034  0.975630  1.000000  0.976646  0.978206   \n",
       "\n",
       "        7         8         9      ...          915       916       917  \\\n",
       "0  0.996820  0.991082  0.992533    ...     0.992044  0.993511  0.994451   \n",
       "1  0.995625  0.977730  0.997755    ...     0.996645  0.979267  0.994029   \n",
       "2  0.987699  0.996241  0.976989    ...     0.975580  0.996348  0.985090   \n",
       "3  0.991713  0.973403  0.995614    ...     0.996082  0.974471  0.993565   \n",
       "4  0.985159  0.994582  0.977205    ...     0.976034  0.995215  0.984750   \n",
       "\n",
       "        918       919       920       921       922       923       924  \n",
       "0  0.984467  0.991214  0.993271  0.994387  0.997545  0.994626  0.992098  \n",
       "1  0.993483  0.996130  0.988955  0.997459  0.994116  0.995306  0.981599  \n",
       "2  0.969100  0.976054  0.989540  0.980266  0.991165  0.981999  0.995544  \n",
       "3  0.990707  0.994969  0.983165  0.995471  0.991385  0.993043  0.977076  \n",
       "4  0.970735  0.977306  0.989060  0.977181  0.989647  0.981170  0.994675  \n",
       "\n",
       "[5 rows x 925 columns]"
      ]
     },
     "execution_count": 136,
     "metadata": {},
     "output_type": "execute_result"
    }
   ],
   "source": [
    "pd.DataFrame(cosine_sim).head()"
   ]
  },
  {
   "cell_type": "markdown",
   "metadata": {},
   "source": [
    "The following function find k similar users. We select four and compare the corrected genre scores using linear plots of every user."
   ]
  },
  {
   "cell_type": "code",
   "execution_count": 253,
   "metadata": {},
   "outputs": [],
   "source": [
    "from sklearn.neighbors import NearestNeighbors\n",
    "\n",
    "#This function finds k similar users given the user_id and ratings matrix M\n",
    "#Note that the similarities are same as obtained via using pairwise_distances\n",
    "\n",
    "def findksimilarusers(userId, ratings, metric = metric, k=k, verbose=True):\n",
    "    user_id = userId + 1\n",
    "    similarities=[]\n",
    "    indices=[]\n",
    "    model_knn = NearestNeighbors(metric = metric) \n",
    "    model_knn.fit(ratings)\n",
    "\n",
    "    distances, indices = model_knn.kneighbors(ratings.iloc[user_id-1, :].values.reshape(1, -1), n_neighbors = k+1)\n",
    "    similarities = 1-distances.flatten()\n",
    "    if verbose:\n",
    "        print ('{} most similar users for User {}:\\n'.format(k,userId))\n",
    "    for i in range(0, len(indices.flatten())):\n",
    "        if indices.flatten()[i]+1 == user_id:\n",
    "            continue;\n",
    "\n",
    "        else:\n",
    "            if verbose:\n",
    "                print ('{}: User {}, with similarity of {}'.format(i, indices.flatten()[i], similarities.flatten()[i]))\n",
    "            \n",
    "    return similarities,indices"
   ]
  },
  {
   "cell_type": "code",
   "execution_count": 246,
   "metadata": {},
   "outputs": [
    {
     "name": "stdout",
     "output_type": "stream",
     "text": [
      "4 most similar users for User 0:\n",
      "\n",
      "1: User 163, with similarity of 0.997919159511408\n",
      "2: User 760, with similarity of 0.9976587038389682\n",
      "3: User 922, with similarity of 0.9975450184382024\n",
      "4: User 78, with similarity of 0.9974103171879882\n"
     ]
    }
   ],
   "source": [
    "similarities,indices = findksimilarusers(0, df_pivot, metric='cosine', k=4)"
   ]
  },
  {
   "cell_type": "code",
   "execution_count": 195,
   "metadata": {},
   "outputs": [],
   "source": [
    "df_similar_users = pd.concat([df_pivot.iloc[0, :].rename('user'), \n",
    "                              df_pivot.iloc[163, :].rename('first similar'), \n",
    "                              df_pivot.iloc[760, :].rename('second similar'),\n",
    "                              df_pivot.iloc[922, :].rename('third similar'),\n",
    "                              df_pivot.iloc[78, :].rename('fourth similar')\n",
    "                              ], axis=1)"
   ]
  },
  {
   "cell_type": "code",
   "execution_count": 194,
   "metadata": {},
   "outputs": [
    {
     "data": {
      "image/png": "[encoded data removed]",
      "text/plain": [
       "<Figure size 1440x432 with 1 Axes>"
      ]
     },
     "metadata": {},
     "output_type": "display_data"
    }
   ],
   "source": [
    "f, ax = plt.subplots(figsize=(20, 6))\n",
    "_ = sns.set_style(\"white\")\n",
    "_ = sns.lineplot(data=df_similar_users['user'], color='firebrick', linewidth=4)\n",
    "_ = sns.lineplot(data=df_similar_users['first similar'], color='grey', linewidth=2)\n",
    "_ = sns.lineplot(data=df_similar_users['second similar'], color='slateblue', linewidth=2)\n",
    "_ = sns.lineplot(data=df_similar_users['third similar'], color='dodgerblue', linewidth=2)\n",
    "_ = sns.lineplot(data=df_similar_users['fourth similar'], color='plum', linewidth=2)\n",
    "_ = plt.legend(['user', 'first similar', 'second similar', 'third similar', 'fourth similar'])\n",
    "_ = plt.title('Similar users', fontsize=14)\n",
    "_ = plt.xlabel('genres', fontsize=10)\n",
    "_ = plt.ylabel('corrected genre scores', fontsize=10)"
   ]
  },
  {
   "cell_type": "code",
   "execution_count": 299,
   "metadata": {},
   "outputs": [],
   "source": [
    "#This function predicts rating for specified user-item combination based on user-based approach\n",
    "def predict_userbased(userId, item_id, ratings, metric = metric, k=k, verbose=True):\n",
    "    user_id = userId + 1\n",
    "    prediction=0\n",
    "    similarities, indices=findksimilarusers(userId, ratings,metric, k, verbose=False) #similar users based on cosine similarity\n",
    "    mean_rating = ratings.iloc[user_id-1,:].mean() #to adjust for zero based indexing\n",
    "    sum_wt = np.sum(similarities)-1\n",
    "    product=1\n",
    "    wtd_sum = 0 \n",
    "    \n",
    "    for i in range(0, len(indices.flatten())):\n",
    "        if indices.flatten()[i]+1 == user_id:\n",
    "            continue;\n",
    "        else: \n",
    "            ratings_diff = ratings.iloc[indices.flatten()[i],item_id-1]-np.mean(ratings.iloc[indices.flatten()[i],:])\n",
    "            product = ratings_diff * (similarities[i])\n",
    "            wtd_sum = wtd_sum + product\n",
    "    \n",
    "    prediction = mean_rating + (wtd_sum/sum_wt)\n",
    "    if verbose:\n",
    "        print ('\\nFor user {} and item {}, the predicted score is {}'.format(userId,item_id-1,prediction))\n",
    "\n",
    "    return prediction"
   ]
  },
  {
   "cell_type": "markdown",
   "metadata": {},
   "source": [
    "Predicting scores for every genre of User 0:"
   ]
  },
  {
   "cell_type": "code",
   "execution_count": 300,
   "metadata": {},
   "outputs": [],
   "source": [
    "prediction = []\n",
    "for i in range(18):\n",
    "    p = predict_userbased(0, i+1, df_pivot, metric='cosine', k=4, verbose=False)\n",
    "    prediction.append(p)\n",
    "    \n",
    "df_similar_users['prediction'] = prediction"
   ]
  },
  {
   "cell_type": "code",
   "execution_count": 303,
   "metadata": {},
   "outputs": [
    {
     "data": {
      "image/png": "[encoded data removed]",
      "text/plain": [
       "<Figure size 1440x432 with 1 Axes>"
      ]
     },
     "metadata": {},
     "output_type": "display_data"
    }
   ],
   "source": [
    "f, ax = plt.subplots(figsize=(20, 6))\n",
    "_ = sns.set_style(\"white\")\n",
    "_ = sns.lineplot(data=df_similar_users['user'], color='black', linewidth=2)\n",
    "_ = sns.lineplot(data=df_similar_users['prediction'], color='dodgerblue', linewidth=2)\n",
    "_ = plt.legend(['user', 'prediction'])\n",
    "_ = plt.title('Prediction of user profile', fontsize=14)\n",
    "_ = plt.xlabel('genres', fontsize=10)\n",
    "_ = plt.ylabel('corrected genre scores', fontsize=10)"
   ]
  },
  {
   "cell_type": "code",
   "execution_count": 302,
   "metadata": {},
   "outputs": [
    {
     "data": {
      "text/plain": [
       "0.019235046393525308"
      ]
     },
     "execution_count": 302,
     "metadata": {},
     "output_type": "execute_result"
    }
   ],
   "source": [
    "from sklearn.metrics import mean_squared_error\n",
    "mean_squared_error(df_similar_users['user'].values, df_similar_users['prediction'].values)"
   ]
  },
  {
   "cell_type": "code",
   "execution_count": null,
   "metadata": {},
   "outputs": [],
   "source": []
  }
 ],
 "metadata": {
  "kernelspec": {
   "display_name": "Python 3",
   "language": "python",
   "name": "python3"
  },
  "language_info": {
   "codemirror_mode": {
    "name": "ipython",
    "version": 3
   },
   "file_extension": ".py",
   "mimetype": "text/x-python",
   "name": "python",
   "nbconvert_exporter": "python",
   "pygments_lexer": "ipython3",
   "version": "3.7.1"
  }
 },
 "nbformat": 4,
 "nbformat_minor": 2
}
