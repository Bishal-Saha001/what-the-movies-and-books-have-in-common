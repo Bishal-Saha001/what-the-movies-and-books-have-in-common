{
 "cells": [
  {
   "cell_type": "markdown",
   "metadata": {},
   "source": [
    "# Depth findings in Books"
   ]
  },
  {
   "cell_type": "markdown",
   "metadata": {},
   "source": [
    "## I. Predicting genres using description of books\n",
    "\n",
    "In this section, we use the tf-idf model built using the movies genres to label books. Categorized books are used for create groups and being able to recommend books based on the movie users profiles. Alternativaly, we could use the same exercise creating users profiles of readers.\n",
    "\n",
    "\n",
    "## II. Users profiles\n",
    "\n",
    "\n",
    "\n",
    "\n",
    "## III. Retrieve places and dates to put books in historical contexts"
   ]
  },
  {
   "cell_type": "markdown",
   "metadata": {},
   "source": [
    "### Importing Data"
   ]
  },
  {
   "cell_type": "markdown",
   "metadata": {},
   "source": [
    "Importing relevant packages:"
   ]
  },
  {
   "cell_type": "code",
   "execution_count": 1,
   "metadata": {},
   "outputs": [],
   "source": [
    "import re\n",
    "from scipy import stats\n",
    "import pandas as pd\n",
    "import matplotlib.pyplot as plt\n",
    "import seaborn as sns\n",
    "import numpy as np"
   ]
  },
  {
   "cell_type": "code",
   "execution_count": 2,
   "metadata": {},
   "outputs": [],
   "source": [
    "df_books_reviews = pd.read_csv('../Data/processed/books/sentiment_patterns_books_reviews.csv', index_col=False)"
   ]
  },
  {
   "cell_type": "code",
   "execution_count": 3,
   "metadata": {},
   "outputs": [],
   "source": [
    "df_books_reviews.rename(columns = {'Unnamed: 0': 'counter'}, inplace=True)"
   ]
  },
  {
   "cell_type": "code",
   "execution_count": 4,
   "metadata": {},
   "outputs": [
    {
     "data": {
      "text/html": [
       "<div>\n",
       "<style scoped>\n",
       "    .dataframe tbody tr th:only-of-type {\n",
       "        vertical-align: middle;\n",
       "    }\n",
       "\n",
       "    .dataframe tbody tr th {\n",
       "        vertical-align: top;\n",
       "    }\n",
       "\n",
       "    .dataframe thead th {\n",
       "        text-align: right;\n",
       "    }\n",
       "</style>\n",
       "<table border=\"1\" class=\"dataframe\">\n",
       "  <thead>\n",
       "    <tr style=\"text-align: right;\">\n",
       "      <th></th>\n",
       "      <th>counter</th>\n",
       "      <th>book_id</th>\n",
       "      <th>has_spoiler</th>\n",
       "      <th>rating</th>\n",
       "      <th>review_id</th>\n",
       "      <th>review_sentences</th>\n",
       "      <th>timestamp</th>\n",
       "      <th>user_id</th>\n",
       "      <th>title</th>\n",
       "      <th>description</th>\n",
       "      <th>text_normalized</th>\n",
       "      <th>polarity_textBlob</th>\n",
       "      <th>subjectivity_textBlob</th>\n",
       "      <th>sentiment_scores</th>\n",
       "      <th>sentiment_category</th>\n",
       "    </tr>\n",
       "  </thead>\n",
       "  <tbody>\n",
       "    <tr>\n",
       "      <th>0</th>\n",
       "      <td>0</td>\n",
       "      <td>16981</td>\n",
       "      <td>False</td>\n",
       "      <td>3</td>\n",
       "      <td>a5d2c3628987712d0e05c4f90798eb67</td>\n",
       "      <td>[[0, 'Recommended by Don Katz.'], [0, 'Avail f...</td>\n",
       "      <td>2017-03-22</td>\n",
       "      <td>8842281e1d1347389f2ab93d60773d4d</td>\n",
       "      <td>Invisible Man</td>\n",
       "      <td>First published in 1952 and immediately hailed...</td>\n",
       "      <td>recommended by don katz avail for free in dece...</td>\n",
       "      <td>0.4000</td>\n",
       "      <td>0.8000</td>\n",
       "      <td>3.0</td>\n",
       "      <td>positive</td>\n",
       "    </tr>\n",
       "    <tr>\n",
       "      <th>1</th>\n",
       "      <td>1</td>\n",
       "      <td>16981</td>\n",
       "      <td>False</td>\n",
       "      <td>4</td>\n",
       "      <td>706a8032efbde550167bf0d96c2ab501</td>\n",
       "      <td>[[0, 'This book was actually good, so long tho...</td>\n",
       "      <td>2015-02-25</td>\n",
       "      <td>2159f55d397e8fbe68d5e03668e7d9d2</td>\n",
       "      <td>Invisible Man</td>\n",
       "      <td>First published in 1952 and immediately hailed...</td>\n",
       "      <td>this book wa actually good so long though haha...</td>\n",
       "      <td>0.4125</td>\n",
       "      <td>0.5125</td>\n",
       "      <td>9.0</td>\n",
       "      <td>positive</td>\n",
       "    </tr>\n",
       "  </tbody>\n",
       "</table>\n",
       "</div>"
      ],
      "text/plain": [
       "   counter  book_id  has_spoiler  rating                         review_id  \\\n",
       "0        0    16981        False       3  a5d2c3628987712d0e05c4f90798eb67   \n",
       "1        1    16981        False       4  706a8032efbde550167bf0d96c2ab501   \n",
       "\n",
       "                                    review_sentences   timestamp  \\\n",
       "0  [[0, 'Recommended by Don Katz.'], [0, 'Avail f...  2017-03-22   \n",
       "1  [[0, 'This book was actually good, so long tho...  2015-02-25   \n",
       "\n",
       "                            user_id          title  \\\n",
       "0  8842281e1d1347389f2ab93d60773d4d  Invisible Man   \n",
       "1  2159f55d397e8fbe68d5e03668e7d9d2  Invisible Man   \n",
       "\n",
       "                                         description  \\\n",
       "0  First published in 1952 and immediately hailed...   \n",
       "1  First published in 1952 and immediately hailed...   \n",
       "\n",
       "                                     text_normalized  polarity_textBlob  \\\n",
       "0  recommended by don katz avail for free in dece...             0.4000   \n",
       "1  this book wa actually good so long though haha...             0.4125   \n",
       "\n",
       "   subjectivity_textBlob  sentiment_scores sentiment_category  \n",
       "0                 0.8000               3.0           positive  \n",
       "1                 0.5125               9.0           positive  "
      ]
     },
     "execution_count": 4,
     "metadata": {},
     "output_type": "execute_result"
    }
   ],
   "source": [
    "df_books_reviews.head(2)"
   ]
  },
  {
   "cell_type": "code",
   "execution_count": 5,
   "metadata": {},
   "outputs": [],
   "source": [
    "df_books = pd.read_csv('../Data/processed/books/books_noDict_year.csv', index_col=False)"
   ]
  },
  {
   "cell_type": "code",
   "execution_count": 6,
   "metadata": {},
   "outputs": [
    {
     "name": "stdout",
     "output_type": "stream",
     "text": [
      "<class 'pandas.core.frame.DataFrame'>\n",
      "RangeIndex: 581450 entries, 0 to 581449\n",
      "Data columns (total 32 columns):\n",
      "Unnamed: 0              581450 non-null int64\n",
      "asin                    41515 non-null object\n",
      "authors                 581450 non-null object\n",
      "average_rating          581450 non-null float64\n",
      "book_id                 581450 non-null int64\n",
      "country_code            581450 non-null object\n",
      "description             581450 non-null object\n",
      "edition_information     68270 non-null object\n",
      "format                  559346 non-null object\n",
      "image_url               581450 non-null object\n",
      "is_ebook                581450 non-null bool\n",
      "isbn                    413393 non-null object\n",
      "isbn13                  475271 non-null object\n",
      "kindle_asin             242123 non-null object\n",
      "language_code           355032 non-null object\n",
      "link                    581450 non-null object\n",
      "num_pages               581450 non-null float64\n",
      "popular_shelves         581450 non-null object\n",
      "publication_day         452057 non-null float64\n",
      "publication_month       498213 non-null float64\n",
      "publication_year        581450 non-null float64\n",
      "publisher               558040 non-null object\n",
      "ratings_count           581450 non-null float64\n",
      "series                  581450 non-null object\n",
      "similar_books           581450 non-null object\n",
      "text_reviews_count      581450 non-null float64\n",
      "title                   581449 non-null object\n",
      "title_without_series    581449 non-null object\n",
      "url                     581450 non-null object\n",
      "work_id                 581450 non-null float64\n",
      "is_dictionary           581450 non-null int64\n",
      "abs_rating              581450 non-null float64\n",
      "dtypes: bool(1), float64(9), int64(3), object(19)\n",
      "memory usage: 138.1+ MB\n"
     ]
    }
   ],
   "source": [
    "df_books.info()"
   ]
  },
  {
   "cell_type": "code",
   "execution_count": 7,
   "metadata": {},
   "outputs": [],
   "source": [
    "df_books_col = df_books.loc[:, ['book_id', 'title', 'language_code', \n",
    "                  'description', 'similar_books', 'average_rating', 'ratings_count',\n",
    "                  'num_pages', 'text_reviews_count']]"
   ]
  },
  {
   "cell_type": "code",
   "execution_count": 8,
   "metadata": {},
   "outputs": [
    {
     "data": {
      "text/html": [
       "<div>\n",
       "<style scoped>\n",
       "    .dataframe tbody tr th:only-of-type {\n",
       "        vertical-align: middle;\n",
       "    }\n",
       "\n",
       "    .dataframe tbody tr th {\n",
       "        vertical-align: top;\n",
       "    }\n",
       "\n",
       "    .dataframe thead th {\n",
       "        text-align: right;\n",
       "    }\n",
       "</style>\n",
       "<table border=\"1\" class=\"dataframe\">\n",
       "  <thead>\n",
       "    <tr style=\"text-align: right;\">\n",
       "      <th></th>\n",
       "      <th>book_id</th>\n",
       "      <th>title</th>\n",
       "      <th>language_code</th>\n",
       "      <th>description</th>\n",
       "      <th>similar_books</th>\n",
       "      <th>average_rating</th>\n",
       "      <th>ratings_count</th>\n",
       "      <th>num_pages</th>\n",
       "      <th>text_reviews_count</th>\n",
       "    </tr>\n",
       "  </thead>\n",
       "  <tbody>\n",
       "    <tr>\n",
       "      <th>0</th>\n",
       "      <td>7327624</td>\n",
       "      <td>The Unschooled Wizard (Sun Wolf and Starhawk, ...</td>\n",
       "      <td>eng</td>\n",
       "      <td>Omnibus book club edition containing the Ladie...</td>\n",
       "      <td>['19997', '828466', '1569323', '425389', '1176...</td>\n",
       "      <td>4.03</td>\n",
       "      <td>140.0</td>\n",
       "      <td>600.0</td>\n",
       "      <td>7.0</td>\n",
       "    </tr>\n",
       "    <tr>\n",
       "      <th>1</th>\n",
       "      <td>287141</td>\n",
       "      <td>The Aeneid for Boys and Girls</td>\n",
       "      <td>NaN</td>\n",
       "      <td>Relates in vigorous prose the tale of Aeneas, ...</td>\n",
       "      <td>[]</td>\n",
       "      <td>4.13</td>\n",
       "      <td>46.0</td>\n",
       "      <td>162.0</td>\n",
       "      <td>7.0</td>\n",
       "    </tr>\n",
       "    <tr>\n",
       "      <th>2</th>\n",
       "      <td>6066812</td>\n",
       "      <td>All's Fairy in Love and War (Avalon: Web of Ma...</td>\n",
       "      <td>NaN</td>\n",
       "      <td>To Kara's astonishment, she discovers that a p...</td>\n",
       "      <td>['948696', '439885', '274955', '12978730', '37...</td>\n",
       "      <td>4.22</td>\n",
       "      <td>98.0</td>\n",
       "      <td>216.0</td>\n",
       "      <td>6.0</td>\n",
       "    </tr>\n",
       "    <tr>\n",
       "      <th>3</th>\n",
       "      <td>287149</td>\n",
       "      <td>The Devil's Notebook</td>\n",
       "      <td>NaN</td>\n",
       "      <td>Wisdom, humor, and dark observations by the fo...</td>\n",
       "      <td>['287151', '1104760', '1172822', '440292', '28...</td>\n",
       "      <td>3.81</td>\n",
       "      <td>986.0</td>\n",
       "      <td>147.0</td>\n",
       "      <td>39.0</td>\n",
       "    </tr>\n",
       "    <tr>\n",
       "      <th>4</th>\n",
       "      <td>6066814</td>\n",
       "      <td>Crowner Royal (Crowner John Mystery, #13)</td>\n",
       "      <td>NaN</td>\n",
       "      <td>London, 1196. At the command of Richard the Li...</td>\n",
       "      <td>['439108', '522621', '116770', '1275927', '620...</td>\n",
       "      <td>3.93</td>\n",
       "      <td>186.0</td>\n",
       "      <td>400.0</td>\n",
       "      <td>15.0</td>\n",
       "    </tr>\n",
       "  </tbody>\n",
       "</table>\n",
       "</div>"
      ],
      "text/plain": [
       "   book_id                                              title language_code  \\\n",
       "0  7327624  The Unschooled Wizard (Sun Wolf and Starhawk, ...           eng   \n",
       "1   287141                      The Aeneid for Boys and Girls           NaN   \n",
       "2  6066812  All's Fairy in Love and War (Avalon: Web of Ma...           NaN   \n",
       "3   287149                               The Devil's Notebook           NaN   \n",
       "4  6066814          Crowner Royal (Crowner John Mystery, #13)           NaN   \n",
       "\n",
       "                                         description  \\\n",
       "0  Omnibus book club edition containing the Ladie...   \n",
       "1  Relates in vigorous prose the tale of Aeneas, ...   \n",
       "2  To Kara's astonishment, she discovers that a p...   \n",
       "3  Wisdom, humor, and dark observations by the fo...   \n",
       "4  London, 1196. At the command of Richard the Li...   \n",
       "\n",
       "                                       similar_books  average_rating  \\\n",
       "0  ['19997', '828466', '1569323', '425389', '1176...            4.03   \n",
       "1                                                 []            4.13   \n",
       "2  ['948696', '439885', '274955', '12978730', '37...            4.22   \n",
       "3  ['287151', '1104760', '1172822', '440292', '28...            3.81   \n",
       "4  ['439108', '522621', '116770', '1275927', '620...            3.93   \n",
       "\n",
       "   ratings_count  num_pages  text_reviews_count  \n",
       "0          140.0      600.0                 7.0  \n",
       "1           46.0      162.0                 7.0  \n",
       "2           98.0      216.0                 6.0  \n",
       "3          986.0      147.0                39.0  \n",
       "4          186.0      400.0                15.0  "
      ]
     },
     "execution_count": 8,
     "metadata": {},
     "output_type": "execute_result"
    }
   ],
   "source": [
    "df_books_col.head()"
   ]
  },
  {
   "cell_type": "markdown",
   "metadata": {},
   "source": [
    "## Language in descriptions\n",
    "\n",
    "To label the books, we have to ensure that all descriptions are in English, which is the language used to create documents by genre in movies."
   ]
  },
  {
   "cell_type": "code",
   "execution_count": 9,
   "metadata": {},
   "outputs": [
    {
     "name": "stdout",
     "output_type": "stream",
     "text": [
      "['eng' nan 'ger' 'spa' 'ita' 'tur' 'mon' 'per' 'ara' 'en-US' 'tha' 'lav'\n",
      " 'jpn' 'pol' 'fre' 'kor' 'fin' 'bul' 'en-GB' 'nl' 'gre' 'slo' 'heb' 'hun'\n",
      " 'ben' 'por' 'ind' 'scr' 'zho' 'fil' 'rus' 'en-CA' 'lit' 'swe' 'nor' 'msa'\n",
      " 'rum' 'dan' 'cze' 'slv' 'nno' 'pes' 'hye' 'nob' 'cat' 'vie' 'nep' 'mar'\n",
      " 'srp' 'guj' 'est' 'ukr' 'kat' 'hin' 'mus' 'tam' 'urd' 'afr' 'en' 'bos'\n",
      " 'kur' 'pt-BR' 'isl' 'crh' 'kan' 'mul' 'mal' 'fao' 'aze' 'ota' 'mkd'\n",
      " 'es-MX' 'pra' 'tgl' 'lat' 'grc' 'eus' 'glg' 'sin' 'tel' 'mlt' 'ada' '--'\n",
      " 'apa' 'udm' 'sqi' 'bel' 'mya' 'dum' 'ori' 'smn' 'amh' 'tut' 'frs' 'arg'\n",
      " 'ang' 'epo' 'snd' 'vls' 'jav' 'tlh' 'din' 'wel' 'gsw' 'her' 'abk' 'enm'\n",
      " 'oci' 'ast' 'nld' 'kok' 'tib' 'aus' 'grn' 'nds' 'gla' 'dyu' 'sco' 'che'\n",
      " 'nqo' 'sun' 'cor' 'run' 'ira' 'asm' 'bug' 'pan' 'vai' 'gmh' 'qaa' 'dua'\n",
      " 'krl' 'gle' 'inh' 'egy' 'fiu' 'phi' 'mri' 'hat' 'san' 'ava' 'chb' 'peo'\n",
      " 'iba' 'en-IN' 'tup' 'swa']\n"
     ]
    }
   ],
   "source": [
    "print(df_books_col.language_code.unique())"
   ]
  },
  {
   "cell_type": "code",
   "execution_count": 10,
   "metadata": {},
   "outputs": [
    {
     "data": {
      "text/html": [
       "<div>\n",
       "<style scoped>\n",
       "    .dataframe tbody tr th:only-of-type {\n",
       "        vertical-align: middle;\n",
       "    }\n",
       "\n",
       "    .dataframe tbody tr th {\n",
       "        vertical-align: top;\n",
       "    }\n",
       "\n",
       "    .dataframe thead th {\n",
       "        text-align: right;\n",
       "    }\n",
       "</style>\n",
       "<table border=\"1\" class=\"dataframe\">\n",
       "  <thead>\n",
       "    <tr style=\"text-align: right;\">\n",
       "      <th></th>\n",
       "      <th>book_id</th>\n",
       "      <th>title</th>\n",
       "      <th>language_code</th>\n",
       "      <th>description</th>\n",
       "      <th>similar_books</th>\n",
       "      <th>average_rating</th>\n",
       "      <th>ratings_count</th>\n",
       "      <th>num_pages</th>\n",
       "      <th>text_reviews_count</th>\n",
       "    </tr>\n",
       "  </thead>\n",
       "  <tbody>\n",
       "    <tr>\n",
       "      <th>14</th>\n",
       "      <td>18628480</td>\n",
       "      <td>Stoner</td>\n",
       "      <td>ita</td>\n",
       "      <td>Stoner e il racconto della vita di un uomo tra...</td>\n",
       "      <td>['458275', '1289430', '6553843', '6760818', '7...</td>\n",
       "      <td>4.28</td>\n",
       "      <td>116.0</td>\n",
       "      <td>332.0</td>\n",
       "      <td>19.0</td>\n",
       "    </tr>\n",
       "    <tr>\n",
       "      <th>23</th>\n",
       "      <td>9671977</td>\n",
       "      <td>Aristotele e i misteri di Eleusi</td>\n",
       "      <td>ita</td>\n",
       "      <td>\"I misteri di Eleusi\" e il quinto romanzo di A...</td>\n",
       "      <td>[]</td>\n",
       "      <td>3.54</td>\n",
       "      <td>22.0</td>\n",
       "      <td>659.0</td>\n",
       "      <td>3.0</td>\n",
       "    </tr>\n",
       "    <tr>\n",
       "      <th>32</th>\n",
       "      <td>17373671</td>\n",
       "      <td>L'isola dell'amore proibito</td>\n",
       "      <td>ita</td>\n",
       "      <td>L'acqua cristallina lambisce dolcemente i suoi...</td>\n",
       "      <td>['7504833', '17229636', '1531433', '17447588',...</td>\n",
       "      <td>4.13</td>\n",
       "      <td>5.0</td>\n",
       "      <td>322.0</td>\n",
       "      <td>1.0</td>\n",
       "    </tr>\n",
       "    <tr>\n",
       "      <th>81</th>\n",
       "      <td>15773972</td>\n",
       "      <td>La regina, l'alchimista e il cardinale</td>\n",
       "      <td>ita</td>\n",
       "      <td>La corte del re Luigi XVI sta per essere travo...</td>\n",
       "      <td>[]</td>\n",
       "      <td>3.79</td>\n",
       "      <td>19.0</td>\n",
       "      <td>499.0</td>\n",
       "      <td>3.0</td>\n",
       "    </tr>\n",
       "    <tr>\n",
       "      <th>91</th>\n",
       "      <td>10573355</td>\n",
       "      <td>L'assassino di Banconi</td>\n",
       "      <td>ita</td>\n",
       "      <td>Africa Occidentale, Bamako, capitale del Mali....</td>\n",
       "      <td>[]</td>\n",
       "      <td>3.00</td>\n",
       "      <td>6.0</td>\n",
       "      <td>167.0</td>\n",
       "      <td>2.0</td>\n",
       "    </tr>\n",
       "  </tbody>\n",
       "</table>\n",
       "</div>"
      ],
      "text/plain": [
       "     book_id                                   title language_code  \\\n",
       "14  18628480                                  Stoner           ita   \n",
       "23   9671977        Aristotele e i misteri di Eleusi           ita   \n",
       "32  17373671             L'isola dell'amore proibito           ita   \n",
       "81  15773972  La regina, l'alchimista e il cardinale           ita   \n",
       "91  10573355                  L'assassino di Banconi           ita   \n",
       "\n",
       "                                          description  \\\n",
       "14  Stoner e il racconto della vita di un uomo tra...   \n",
       "23  \"I misteri di Eleusi\" e il quinto romanzo di A...   \n",
       "32  L'acqua cristallina lambisce dolcemente i suoi...   \n",
       "81  La corte del re Luigi XVI sta per essere travo...   \n",
       "91  Africa Occidentale, Bamako, capitale del Mali....   \n",
       "\n",
       "                                        similar_books  average_rating  \\\n",
       "14  ['458275', '1289430', '6553843', '6760818', '7...            4.28   \n",
       "23                                                 []            3.54   \n",
       "32  ['7504833', '17229636', '1531433', '17447588',...            4.13   \n",
       "81                                                 []            3.79   \n",
       "91                                                 []            3.00   \n",
       "\n",
       "    ratings_count  num_pages  text_reviews_count  \n",
       "14          116.0      332.0                19.0  \n",
       "23           22.0      659.0                 3.0  \n",
       "32            5.0      322.0                 1.0  \n",
       "81           19.0      499.0                 3.0  \n",
       "91            6.0      167.0                 2.0  "
      ]
     },
     "execution_count": 10,
     "metadata": {},
     "output_type": "execute_result"
    }
   ],
   "source": [
    "df_books_col[df_books_col.language_code == 'ita'].head()"
   ]
  },
  {
   "cell_type": "code",
   "execution_count": 11,
   "metadata": {},
   "outputs": [
    {
     "data": {
      "text/html": [
       "<div>\n",
       "<style scoped>\n",
       "    .dataframe tbody tr th:only-of-type {\n",
       "        vertical-align: middle;\n",
       "    }\n",
       "\n",
       "    .dataframe tbody tr th {\n",
       "        vertical-align: top;\n",
       "    }\n",
       "\n",
       "    .dataframe thead th {\n",
       "        text-align: right;\n",
       "    }\n",
       "</style>\n",
       "<table border=\"1\" class=\"dataframe\">\n",
       "  <thead>\n",
       "    <tr style=\"text-align: right;\">\n",
       "      <th></th>\n",
       "      <th>book_id</th>\n",
       "      <th>title</th>\n",
       "      <th>language_code</th>\n",
       "      <th>description</th>\n",
       "      <th>similar_books</th>\n",
       "      <th>average_rating</th>\n",
       "      <th>ratings_count</th>\n",
       "      <th>num_pages</th>\n",
       "      <th>text_reviews_count</th>\n",
       "    </tr>\n",
       "  </thead>\n",
       "  <tbody>\n",
       "    <tr>\n",
       "      <th>8</th>\n",
       "      <td>2008910</td>\n",
       "      <td>Buenos días, tristeza</td>\n",
       "      <td>spa</td>\n",
       "      <td>En una hermosa mansion a orillas del Mediterra...</td>\n",
       "      <td>['1341626', '2781122', '1616343', '1665710', '...</td>\n",
       "      <td>3.62</td>\n",
       "      <td>5.0</td>\n",
       "      <td>184.0</td>\n",
       "      <td>2.0</td>\n",
       "    </tr>\n",
       "    <tr>\n",
       "      <th>51</th>\n",
       "      <td>27189830</td>\n",
       "      <td>El Tarot del inconsciente: Abordaje terapéutic...</td>\n",
       "      <td>spa</td>\n",
       "      <td>Entre los muchos metodos existentes para deter...</td>\n",
       "      <td>[]</td>\n",
       "      <td>5.00</td>\n",
       "      <td>1.0</td>\n",
       "      <td>202.0</td>\n",
       "      <td>1.0</td>\n",
       "    </tr>\n",
       "    <tr>\n",
       "      <th>87</th>\n",
       "      <td>15773978</td>\n",
       "      <td>El secuestro de Robles Martínez</td>\n",
       "      <td>spa</td>\n",
       "      <td>Robles Martinez fue un escritor de mediano pre...</td>\n",
       "      <td>[]</td>\n",
       "      <td>3.25</td>\n",
       "      <td>8.0</td>\n",
       "      <td>91.0</td>\n",
       "      <td>1.0</td>\n",
       "    </tr>\n",
       "    <tr>\n",
       "      <th>109</th>\n",
       "      <td>25719218</td>\n",
       "      <td>Viaje a Australia, Nueva Zelanda y Malasia</td>\n",
       "      <td>spa</td>\n",
       "      <td>Tras un recorrido de 72.000 kilometros y seis ...</td>\n",
       "      <td>['278263', '48130', '414962', '157974', '10756...</td>\n",
       "      <td>3.97</td>\n",
       "      <td>2.0</td>\n",
       "      <td>230.0</td>\n",
       "      <td>1.0</td>\n",
       "    </tr>\n",
       "    <tr>\n",
       "      <th>116</th>\n",
       "      <td>1263548</td>\n",
       "      <td>Anibal, El Orgullo De Cartago</td>\n",
       "      <td>spa</td>\n",
       "      <td>Comenzando en Espana, donde el padre de Anibal...</td>\n",
       "      <td>['484192', '836850', '49577', '3979407', '4380...</td>\n",
       "      <td>3.87</td>\n",
       "      <td>77.0</td>\n",
       "      <td>580.0</td>\n",
       "      <td>8.0</td>\n",
       "    </tr>\n",
       "  </tbody>\n",
       "</table>\n",
       "</div>"
      ],
      "text/plain": [
       "      book_id                                              title  \\\n",
       "8     2008910                              Buenos días, tristeza   \n",
       "51   27189830  El Tarot del inconsciente: Abordaje terapéutic...   \n",
       "87   15773978                    El secuestro de Robles Martínez   \n",
       "109  25719218         Viaje a Australia, Nueva Zelanda y Malasia   \n",
       "116   1263548                      Anibal, El Orgullo De Cartago   \n",
       "\n",
       "    language_code                                        description  \\\n",
       "8             spa  En una hermosa mansion a orillas del Mediterra...   \n",
       "51            spa  Entre los muchos metodos existentes para deter...   \n",
       "87            spa  Robles Martinez fue un escritor de mediano pre...   \n",
       "109           spa  Tras un recorrido de 72.000 kilometros y seis ...   \n",
       "116           spa  Comenzando en Espana, donde el padre de Anibal...   \n",
       "\n",
       "                                         similar_books  average_rating  \\\n",
       "8    ['1341626', '2781122', '1616343', '1665710', '...            3.62   \n",
       "51                                                  []            5.00   \n",
       "87                                                  []            3.25   \n",
       "109  ['278263', '48130', '414962', '157974', '10756...            3.97   \n",
       "116  ['484192', '836850', '49577', '3979407', '4380...            3.87   \n",
       "\n",
       "     ratings_count  num_pages  text_reviews_count  \n",
       "8              5.0      184.0                 2.0  \n",
       "51             1.0      202.0                 1.0  \n",
       "87             8.0       91.0                 1.0  \n",
       "109            2.0      230.0                 1.0  \n",
       "116           77.0      580.0                 8.0  "
      ]
     },
     "execution_count": 11,
     "metadata": {},
     "output_type": "execute_result"
    }
   ],
   "source": [
    "df_books_col[df_books_col.language_code == 'spa'].head()"
   ]
  },
  {
   "cell_type": "markdown",
   "metadata": {},
   "source": [
    "As we could note, we can't guarantee that the language of descriptions for foreign books is English. Then, we manage only English books. To do that, and perhaps there are other english descriptions in the rest of language codes, we use the following list of english codes:"
   ]
  },
  {
   "cell_type": "code",
   "execution_count": 12,
   "metadata": {},
   "outputs": [],
   "source": [
    "english_list = ['eng', 'en-US', 'en-GB', 'en-CA', 'en', 'en-IN']"
   ]
  },
  {
   "cell_type": "code",
   "execution_count": 13,
   "metadata": {},
   "outputs": [],
   "source": [
    "df_books_col_eng = df_books_col[df_books_col.language_code.isin(english_list)]"
   ]
  },
  {
   "cell_type": "code",
   "execution_count": 14,
   "metadata": {},
   "outputs": [
    {
     "data": {
      "text/html": [
       "<div>\n",
       "<style scoped>\n",
       "    .dataframe tbody tr th:only-of-type {\n",
       "        vertical-align: middle;\n",
       "    }\n",
       "\n",
       "    .dataframe tbody tr th {\n",
       "        vertical-align: top;\n",
       "    }\n",
       "\n",
       "    .dataframe thead th {\n",
       "        text-align: right;\n",
       "    }\n",
       "</style>\n",
       "<table border=\"1\" class=\"dataframe\">\n",
       "  <thead>\n",
       "    <tr style=\"text-align: right;\">\n",
       "      <th></th>\n",
       "      <th>book_id</th>\n",
       "      <th>title</th>\n",
       "      <th>language_code</th>\n",
       "      <th>description</th>\n",
       "      <th>similar_books</th>\n",
       "      <th>average_rating</th>\n",
       "      <th>ratings_count</th>\n",
       "      <th>num_pages</th>\n",
       "      <th>text_reviews_count</th>\n",
       "    </tr>\n",
       "  </thead>\n",
       "  <tbody>\n",
       "    <tr>\n",
       "      <th>0</th>\n",
       "      <td>7327624</td>\n",
       "      <td>The Unschooled Wizard (Sun Wolf and Starhawk, ...</td>\n",
       "      <td>eng</td>\n",
       "      <td>Omnibus book club edition containing the Ladie...</td>\n",
       "      <td>['19997', '828466', '1569323', '425389', '1176...</td>\n",
       "      <td>4.03</td>\n",
       "      <td>140.0</td>\n",
       "      <td>600.0</td>\n",
       "      <td>7.0</td>\n",
       "    </tr>\n",
       "    <tr>\n",
       "      <th>7</th>\n",
       "      <td>89378</td>\n",
       "      <td>Dog Heaven</td>\n",
       "      <td>eng</td>\n",
       "      <td>In Newbery Medalist Cynthia Rylant's classic b...</td>\n",
       "      <td>['834493', '452189', '140185', '1897316', '218...</td>\n",
       "      <td>4.43</td>\n",
       "      <td>1331.0</td>\n",
       "      <td>40.0</td>\n",
       "      <td>193.0</td>\n",
       "    </tr>\n",
       "  </tbody>\n",
       "</table>\n",
       "</div>"
      ],
      "text/plain": [
       "   book_id                                              title language_code  \\\n",
       "0  7327624  The Unschooled Wizard (Sun Wolf and Starhawk, ...           eng   \n",
       "7    89378                                         Dog Heaven           eng   \n",
       "\n",
       "                                         description  \\\n",
       "0  Omnibus book club edition containing the Ladie...   \n",
       "7  In Newbery Medalist Cynthia Rylant's classic b...   \n",
       "\n",
       "                                       similar_books  average_rating  \\\n",
       "0  ['19997', '828466', '1569323', '425389', '1176...            4.03   \n",
       "7  ['834493', '452189', '140185', '1897316', '218...            4.43   \n",
       "\n",
       "   ratings_count  num_pages  text_reviews_count  \n",
       "0          140.0      600.0                 7.0  \n",
       "7         1331.0       40.0               193.0  "
      ]
     },
     "execution_count": 14,
     "metadata": {},
     "output_type": "execute_result"
    }
   ],
   "source": [
    "df_books_col_eng.head(2)"
   ]
  },
  {
   "cell_type": "markdown",
   "metadata": {},
   "source": [
    "### NLP Preprocessing to extract key words (same to movies in previous section)\n",
    "\n",
    "In this part, we are using NLP preprocessing pipeline to extract key words from descriptions. We dont' want to repeat the pipeline in duplicates books, then we assert that every id book is unique."
   ]
  },
  {
   "cell_type": "code",
   "execution_count": 15,
   "metadata": {},
   "outputs": [
    {
     "name": "stderr",
     "output_type": "stream",
     "text": [
      "/Users/daniela/anaconda3/lib/python3.7/site-packages/ipykernel_launcher.py:4: SettingWithCopyWarning: \n",
      "A value is trying to be set on a copy of a slice from a DataFrame\n",
      "\n",
      "See the caveats in the documentation: http://pandas.pydata.org/pandas-docs/stable/indexing.html#indexing-view-versus-copy\n",
      "  after removing the cwd from sys.path.\n"
     ]
    }
   ],
   "source": [
    "try:\n",
    "    assert len(df_books_col_eng.books_id) == len(df_books_col_eng.books_id.unique())\n",
    "except:\n",
    "    df_books_col_eng.drop_duplicates('book_id', keep='first', inplace=True)"
   ]
  },
  {
   "cell_type": "markdown",
   "metadata": {},
   "source": [
    "Importing the NLP packages to do the preprocessing and to measure the similarity between books and documents by genres"
   ]
  },
  {
   "cell_type": "code",
   "execution_count": 16,
   "metadata": {},
   "outputs": [],
   "source": [
    "from nltk.stem import WordNetLemmatizer \n",
    "from sklearn.feature_extraction.text import CountVectorizer\n",
    "from sklearn.metrics.pairwise import cosine_similarity\n",
    "import nltk\n",
    "import json"
   ]
  },
  {
   "cell_type": "code",
   "execution_count": 17,
   "metadata": {},
   "outputs": [],
   "source": [
    "\"\"\"\n",
    "from http://stackoverflow.com/questions/19790188/expanding-english-language-contractions-in-python\n",
    "all credits go to alko and arturomp @ stack overflow.\n",
    "\"\"\"\n",
    "\n",
    "with open('../Data_wrangling/wordLists/contractionList.txt', 'r') as f:\n",
    "    cList = json.loads(f.read())\n",
    "    c_re = re.compile('(%s)' % '|'.join(cList.keys()))\n",
    "\n",
    "def expandContractions(text, c_re=c_re):\n",
    "    def replace(match):\n",
    "        return cList[match.group(0)]\n",
    "    return c_re.sub(replace, text)"
   ]
  },
  {
   "cell_type": "code",
   "execution_count": 18,
   "metadata": {},
   "outputs": [],
   "source": [
    "wpt = nltk.WordPunctTokenizer()\n",
    "lemmatizer = WordNetLemmatizer()\n",
    "stopwords_list = nltk.corpus.stopwords.words('english')\n",
    "\n",
    "def pre_processing(text):\n",
    "    text = expandContractions(text.lower())\n",
    "    # Filtering special characters\n",
    "    text = re.sub(r'[^0-9-a-zA-Z\\s]','', text)\n",
    "    # Tokenization and filtering stop-words\n",
    "    tokens = wpt.tokenize(text)\n",
    "    # Filtering stop_words\n",
    "    tokens_filtered = [word for word in tokens if word.lower() not in stopwords_list]\n",
    "    # Lemmatization\n",
    "    words_lem = [lemmatizer.lemmatize(word) for word in tokens_filtered]\n",
    "    text_norm = ' '.join(words_lem)\n",
    "    \n",
    "    return text_norm"
   ]
  },
  {
   "cell_type": "markdown",
   "metadata": {},
   "source": [
    "Filtering NaN overviews:"
   ]
  },
  {
   "cell_type": "code",
   "execution_count": 19,
   "metadata": {},
   "outputs": [
    {
     "name": "stdout",
     "output_type": "stream",
     "text": [
      "size of data = 221605 \n",
      "size of data ignoring NaN in overviews = 221605\n"
     ]
    }
   ],
   "source": [
    "df_books_col_eng_copy = df_books_col_eng.copy()\n",
    "df_books_col_eng_copy.dropna(subset=['description'], inplace=True)\n",
    "print('size of data = {}'.format(df_books_col_eng.shape[0]), '\\nsize of data ignoring NaN in overviews = {}'.format(df_books_col_eng_copy.shape[0]))"
   ]
  },
  {
   "cell_type": "markdown",
   "metadata": {},
   "source": [
    "### Part of Speech to delete irrelevant words (same to movies in previous section)\n",
    "\n",
    "\n",
    "One approach is use our preprocessing NLP steps for filtering irrelevant words, but instead, we could use part of speech and extract only some specific structures of sentences, for instances, verbs, nouns and adjectives."
   ]
  },
  {
   "cell_type": "code",
   "execution_count": 20,
   "metadata": {},
   "outputs": [],
   "source": [
    "from nltk.tag import pos_tag"
   ]
  },
  {
   "cell_type": "markdown",
   "metadata": {},
   "source": [
    "We could go without preprositions `IN` and verbs `VB`, for instances. Using all the movies in the sample and filtering all except nouns `NN`, adjectives `JJ` and cardinal digits `CD`:"
   ]
  },
  {
   "cell_type": "code",
   "execution_count": 21,
   "metadata": {},
   "outputs": [],
   "source": [
    "def part_of_speech_filtering(text):\n",
    "    \"\"\"\n",
    "    This function filter words after to determine the part of speech of everyone using nltk library. \n",
    "    Only nouns, adjectives and numbers are retrieved, listed in post_list.\n",
    "    \"\"\"\n",
    "    pos_list = ['NN', 'VBP', 'NNS', 'NNPS', 'NNP', 'JJ', 'JJR', 'JJS', 'CD']\n",
    "    # Determining Part Of Speech of every word\n",
    "    tokens = nltk.word_tokenize(text)\n",
    "    pos = nltk.pos_tag(tokens)\n",
    "    # Filtering according to pos_list\n",
    "    words_pos = [p[0].lower() for p in pos if p[1] in pos_list]\n",
    "    # Joining the words again to return as text\n",
    "    text_pos = ' '.join(words_pos)\n",
    "    \n",
    "    return text_pos"
   ]
  },
  {
   "cell_type": "markdown",
   "metadata": {},
   "source": [
    "In this case, we apply these functions to a sample data. Before to do that, we come back to movies and their descriptions."
   ]
  },
  {
   "cell_type": "markdown",
   "metadata": {},
   "source": [
    "Importing the dataFrame with description of movies and genres *documents_movies_genres.csv*:"
   ]
  },
  {
   "cell_type": "code",
   "execution_count": 22,
   "metadata": {},
   "outputs": [],
   "source": [
    "df_documents_movies_genres = pd.read_csv('../Data/processed/documents_movies_genres.csv')"
   ]
  },
  {
   "cell_type": "code",
   "execution_count": 23,
   "metadata": {},
   "outputs": [
    {
     "data": {
      "text/plain": [
       "['Action',\n",
       " 'Adventure',\n",
       " 'Animation',\n",
       " 'Comedy',\n",
       " 'Crime',\n",
       " 'Documentary',\n",
       " 'Drama',\n",
       " 'Family',\n",
       " 'Fantasy',\n",
       " 'Foreign',\n",
       " 'History',\n",
       " 'Horror',\n",
       " 'Music',\n",
       " 'Mystery',\n",
       " 'Romance',\n",
       " 'Thriller',\n",
       " 'War',\n",
       " 'Western']"
      ]
     },
     "execution_count": 23,
     "metadata": {},
     "output_type": "execute_result"
    }
   ],
   "source": [
    "label_genres = list(df_documents_movies_genres.label.values)\n",
    "label_genres"
   ]
  },
  {
   "cell_type": "markdown",
   "metadata": {},
   "source": [
    "**Additional considerations**: \n",
    "\n",
    "1. Some movie genres don’t match appropriately with book genres. For instance, the Western or Comedy genres are not likely genres for books.\n",
    "2. Animation genre is applicable to comics and manga books, but we are missing animation books excluding Foreign languages.\n",
    "3. We are filtering foreign cultures using only the English language code."
   ]
  },
  {
   "cell_type": "code",
   "execution_count": 24,
   "metadata": {},
   "outputs": [
    {
     "name": "stdout",
     "output_type": "stream",
     "text": [
      "['Action', 'Adventure', 'Crime', 'Documentary', 'Drama', 'Family', 'Fantasy', 'History', 'Horror', 'Music', 'Mystery', 'Romance', 'Thriller', 'War']\n"
     ]
    }
   ],
   "source": [
    "genres_removed = ['Animation', 'Comedy', 'Western', 'Foreign']\n",
    "for genre in genres_removed:\n",
    "    label_genres.remove(genre)\n",
    "    \n",
    "print(label_genres)"
   ]
  },
  {
   "cell_type": "markdown",
   "metadata": {},
   "source": [
    "Building the new dictionary of documents by genre:"
   ]
  },
  {
   "cell_type": "code",
   "execution_count": 25,
   "metadata": {},
   "outputs": [
    {
     "name": "stdout",
     "output_type": "stream",
     "text": [
      "(14, 93112)\n"
     ]
    }
   ],
   "source": [
    "from sklearn.feature_extraction.text import TfidfVectorizer\n",
    "\n",
    "tfidf_vectorizer = TfidfVectorizer()\n",
    "\n",
    "documents = (\n",
    "                df_documents_movies_genres['description'][0],\n",
    "                df_documents_movies_genres['description'][1],\n",
    "                df_documents_movies_genres['description'][4],\n",
    "                df_documents_movies_genres['description'][5],\n",
    "                df_documents_movies_genres['description'][6],\n",
    "                df_documents_movies_genres['description'][7],\n",
    "                df_documents_movies_genres['description'][8],\n",
    "                df_documents_movies_genres['description'][10],\n",
    "                df_documents_movies_genres['description'][11],\n",
    "                df_documents_movies_genres['description'][12],\n",
    "                df_documents_movies_genres['description'][13],\n",
    "                df_documents_movies_genres['description'][14],\n",
    "                df_documents_movies_genres['description'][15],\n",
    "                df_documents_movies_genres['description'][16]\n",
    "\n",
    ")\n",
    "\n",
    "tfidf_matrix = tfidf_vectorizer.fit_transform(documents)\n",
    "print (tfidf_matrix.shape)"
   ]
  },
  {
   "cell_type": "code",
   "execution_count": 26,
   "metadata": {},
   "outputs": [],
   "source": [
    "from heapq import nlargest\n",
    "\n",
    "def similar_genres(books_similarities, genres_names):\n",
    "    \"\"\"\n",
    "    Method to get the name of the genres with higher scores in similarity. We extract the positions of \n",
    "    the larger coefficients of similarity and look for the genres in the same positions in genres_names list.\n",
    "    \"\"\"\n",
    "    genres = []\n",
    "    similarity_coef = []\n",
    "    tuples_largest = nlargest(4, enumerate(books_similarities), key=lambda x: x[1])\n",
    "    for idx, score in tuples_largest:\n",
    "        genres.append(genres_names[idx])\n",
    "        similarity_coef.append(score)\n",
    "    return genres, similarity_coef"
   ]
  },
  {
   "cell_type": "code",
   "execution_count": 27,
   "metadata": {},
   "outputs": [],
   "source": [
    "def dataframe_results_similarity(df_testing, tfidf_matrix):\n",
    "    \"\"\"\n",
    "    Method to get a dataFrame with the list of predicted genres. After to measure the similarity \n",
    "    with the documents by genre, we get the four genres with highest scores of similarity.\n",
    "    \"\"\"\n",
    "    predict_genres_test = []\n",
    "    similarity_coef_test = []\n",
    "    \n",
    "    for doc in df_testing.title_description_norm:\n",
    "        document = {doc}\n",
    "        \n",
    "        matrix = cosine_similarity(tfidf_vectorizer.transform(document), tfidf_matrix)\n",
    "        \n",
    "        predict_genres = []\n",
    "        similarity_coef = []\n",
    "        for row in range(matrix.shape[0]):\n",
    "            g, coef = similar_genres(matrix[row], label_genres)\n",
    "            predict_genres.append(g)\n",
    "            similarity_coef.append(coef)    \n",
    "            \n",
    "        predict_genres_test.append(np.array(predict_genres).flatten())\n",
    "        similarity_coef_test.append(np.array(similarity_coef).flatten())\n",
    "        \n",
    "    df = pd.DataFrame({'id': df_testing.book_id,\n",
    "                       'title': df_testing.title,\n",
    "                       'language_code': df_testing.language_code,\n",
    "                       'description': df_testing.title_description_norm,\n",
    "                       'predicted genres': predict_genres_test,\n",
    "                       'similarity_coef': similarity_coef_test,\n",
    "                       'similar_books': df_testing.similar_books,\n",
    "                       'ratings_count':df_testing.ratings_count,\n",
    "                       'num_pages':df_testing.num_pages,\n",
    "                       'text_reviews_count':df_testing.text_reviews_count,\n",
    "                       'average_rating': df_testing.average_rating})\n",
    "    return df"
   ]
  },
  {
   "cell_type": "code",
   "execution_count": 28,
   "metadata": {},
   "outputs": [],
   "source": [
    "def matrix_similarity(df_testing, tfidf_matrix):\n",
    "    \"\"\"\n",
    "    Method to get a dataFrame with the list of predicted genres as columns of the datase, with the similarity scores.\n",
    "    It means that every movie has 14 extra columns with the similarity respect to all the possible genres.\n",
    "    \"\"\"\n",
    "    matrix = []\n",
    "    \n",
    "    for doc in df_testing.title_description_norm:\n",
    "        document = {doc}\n",
    "        \n",
    "        m = cosine_similarity(tfidf_vectorizer.transform(document), tfidf_matrix)  \n",
    "        matrix.append(np.array(m).flatten())\n",
    "        \n",
    "    \n",
    "    df_matrix = pd.DataFrame(matrix)\n",
    "    \n",
    "    df = pd.DataFrame({'id': df_testing.book_id,\n",
    "                       'title': df_testing.title,\n",
    "                       'language_code': df_testing.language_code,\n",
    "                       'description': df_testing.description,\n",
    "                       'similar_books': df_testing.similar_books,\n",
    "                       'ratings_count':df_testing.ratings_count,\n",
    "                       'num_pages':df_testing.num_pages,\n",
    "                       'text_reviews_count':df_testing.text_reviews_count,\n",
    "                       'average_rating': df_testing.average_rating,\n",
    "                       'Action': df_matrix.iloc[:, 0].values,\n",
    "                       'Adventure': df_matrix.iloc[:, 1].values,\n",
    "                       'Crime': df_matrix.iloc[:, 2].values,\n",
    "                       'Documentary': df_matrix.iloc[:, 3].values,\n",
    "                       'Drama': df_matrix.iloc[:, 4].values,\n",
    "                       'Family': df_matrix.iloc[:, 5].values,\n",
    "                       'Fantasy': df_matrix.iloc[:, 6].values,\n",
    "                       'History': df_matrix.iloc[:, 7].values,\n",
    "                       'Horror': df_matrix.iloc[:, 8].values,\n",
    "                       'Music': df_matrix.iloc[:, 9].values,\n",
    "                       'Mystery': df_matrix.iloc[:, 10].values,\n",
    "                       'Romance': df_matrix.iloc[:, 11].values,\n",
    "                       'Thriller': df_matrix.iloc[:, 12].values,\n",
    "                       'War': df_matrix.iloc[:, 13].values\n",
    "                      })\n",
    "    \n",
    "    return df"
   ]
  },
  {
   "cell_type": "markdown",
   "metadata": {},
   "source": [
    "### Applying NLP functions to the sample data:"
   ]
  },
  {
   "cell_type": "markdown",
   "metadata": {},
   "source": [
    "As books represent a huge dataset, we select a sample correspondent to 10% of data:"
   ]
  },
  {
   "cell_type": "code",
   "execution_count": 29,
   "metadata": {},
   "outputs": [],
   "source": [
    "df_books_sample = df_books_col_eng_copy.sample(frac=0.1, random_state=42)"
   ]
  },
  {
   "cell_type": "code",
   "execution_count": 30,
   "metadata": {},
   "outputs": [],
   "source": [
    "df_books_sample['description_normalized'] = df_books_sample.description.apply(pre_processing)"
   ]
  },
  {
   "cell_type": "markdown",
   "metadata": {},
   "source": [
    "Replace NaN in titles and apply preprocessing to lower words and delete stop words"
   ]
  },
  {
   "cell_type": "code",
   "execution_count": 31,
   "metadata": {},
   "outputs": [],
   "source": [
    "df_books_sample.title.replace(np.nan, '', regex=True, inplace=True)"
   ]
  },
  {
   "cell_type": "code",
   "execution_count": 32,
   "metadata": {},
   "outputs": [],
   "source": [
    "df_books_sample['title_normalized'] = df_books_sample.title.apply(pre_processing)"
   ]
  },
  {
   "cell_type": "code",
   "execution_count": 33,
   "metadata": {},
   "outputs": [],
   "source": [
    "df_books_sample['description_PoS'] = df_books_sample.description.apply(part_of_speech_filtering)"
   ]
  },
  {
   "cell_type": "code",
   "execution_count": 34,
   "metadata": {},
   "outputs": [],
   "source": [
    "df_books_sample['title_description_norm'] = df_books_sample.title_normalized + ' ' + df_books_sample.description_PoS"
   ]
  },
  {
   "cell_type": "code",
   "execution_count": 35,
   "metadata": {},
   "outputs": [
    {
     "data": {
      "text/plain": [
       "578547    dark matter 10 hours 9 minutes author wayward ...\n",
       "78272     slight trick mind mitch cullin a slight trick ...\n",
       "189941    feast famine potluck dazzling collection afric...\n",
       "471234      mystery southampton water america 'crime solent\n",
       "214794    allison hewitt trapped zombie 1 one woman stor...\n",
       "Name: title_description_norm, dtype: object"
      ]
     },
     "execution_count": 35,
     "metadata": {},
     "output_type": "execute_result"
    }
   ],
   "source": [
    "df_books_sample['title_description_norm'].head()"
   ]
  },
  {
   "cell_type": "code",
   "execution_count": 36,
   "metadata": {},
   "outputs": [],
   "source": [
    "df_prediction_genres = dataframe_results_similarity(df_books_sample, tfidf_matrix)"
   ]
  },
  {
   "cell_type": "code",
   "execution_count": 37,
   "metadata": {},
   "outputs": [
    {
     "data": {
      "text/plain": [
       "array(['eng', 'en-US', 'en-GB', 'en-CA', 'en'], dtype=object)"
      ]
     },
     "execution_count": 37,
     "metadata": {},
     "output_type": "execute_result"
    }
   ],
   "source": [
    "df_prediction_genres.language_code.unique()"
   ]
  },
  {
   "cell_type": "code",
   "execution_count": 38,
   "metadata": {
    "scrolled": true
   },
   "outputs": [
    {
     "data": {
      "text/html": [
       "<div>\n",
       "<style scoped>\n",
       "    .dataframe tbody tr th:only-of-type {\n",
       "        vertical-align: middle;\n",
       "    }\n",
       "\n",
       "    .dataframe tbody tr th {\n",
       "        vertical-align: top;\n",
       "    }\n",
       "\n",
       "    .dataframe thead th {\n",
       "        text-align: right;\n",
       "    }\n",
       "</style>\n",
       "<table border=\"1\" class=\"dataframe\">\n",
       "  <thead>\n",
       "    <tr style=\"text-align: right;\">\n",
       "      <th></th>\n",
       "      <th>id</th>\n",
       "      <th>title</th>\n",
       "      <th>language_code</th>\n",
       "      <th>description</th>\n",
       "      <th>predicted genres</th>\n",
       "      <th>similarity_coef</th>\n",
       "      <th>similar_books</th>\n",
       "      <th>ratings_count</th>\n",
       "      <th>num_pages</th>\n",
       "      <th>text_reviews_count</th>\n",
       "      <th>average_rating</th>\n",
       "    </tr>\n",
       "  </thead>\n",
       "  <tbody>\n",
       "    <tr>\n",
       "      <th>578547</th>\n",
       "      <td>27833673</td>\n",
       "      <td>Dark Matter</td>\n",
       "      <td>eng</td>\n",
       "      <td>dark matter 10 hours 9 minutes author wayward ...</td>\n",
       "      <td>[Thriller, Drama, Mystery, Horror]</td>\n",
       "      <td>[0.19487769324288584, 0.17744312338801468, 0.1...</td>\n",
       "      <td>['25430248', '32912923', '24452990', '32940838...</td>\n",
       "      <td>555.0</td>\n",
       "      <td>10.0</td>\n",
       "      <td>215.0</td>\n",
       "      <td>4.10</td>\n",
       "    </tr>\n",
       "    <tr>\n",
       "      <th>78272</th>\n",
       "      <td>969749</td>\n",
       "      <td>A Slight Trick of the Mind</td>\n",
       "      <td>eng</td>\n",
       "      <td>slight trick mind mitch cullin a slight trick ...</td>\n",
       "      <td>[Mystery, Drama, Fantasy, Thriller]</td>\n",
       "      <td>[0.1554305561540901, 0.15011654241010475, 0.14...</td>\n",
       "      <td>['1720047', '22749724', '1094486', '3150208', ...</td>\n",
       "      <td>335.0</td>\n",
       "      <td>253.0</td>\n",
       "      <td>85.0</td>\n",
       "      <td>3.43</td>\n",
       "    </tr>\n",
       "    <tr>\n",
       "      <th>189941</th>\n",
       "      <td>19042062</td>\n",
       "      <td>Feast, Famine &amp; Potluck</td>\n",
       "      <td>eng</td>\n",
       "      <td>feast famine potluck dazzling collection afric...</td>\n",
       "      <td>[Drama, Family, History, Documentary]</td>\n",
       "      <td>[0.10185285906656885, 0.10127424260925516, 0.0...</td>\n",
       "      <td>[]</td>\n",
       "      <td>16.0</td>\n",
       "      <td>260.0</td>\n",
       "      <td>7.0</td>\n",
       "      <td>4.47</td>\n",
       "    </tr>\n",
       "    <tr>\n",
       "      <th>471234</th>\n",
       "      <td>9802614</td>\n",
       "      <td>Mystery on Southampton Water</td>\n",
       "      <td>eng</td>\n",
       "      <td>mystery southampton water america 'crime solent</td>\n",
       "      <td>[Crime, Mystery, Thriller, Action]</td>\n",
       "      <td>[0.0938715311087752, 0.08161721604902762, 0.06...</td>\n",
       "      <td>[]</td>\n",
       "      <td>7.0</td>\n",
       "      <td>354.0</td>\n",
       "      <td>1.0</td>\n",
       "      <td>4.11</td>\n",
       "    </tr>\n",
       "    <tr>\n",
       "      <th>214794</th>\n",
       "      <td>10214902</td>\n",
       "      <td>Allison Hewitt Is Trapped (Zombie #1)</td>\n",
       "      <td>eng</td>\n",
       "      <td>allison hewitt trapped zombie 1 one woman stor...</td>\n",
       "      <td>[Horror, Action, Thriller, Adventure]</td>\n",
       "      <td>[0.1487405049572654, 0.12305659248729986, 0.12...</td>\n",
       "      <td>['7797852', '6350211', '12730666', '8437831', ...</td>\n",
       "      <td>20.0</td>\n",
       "      <td>288.0</td>\n",
       "      <td>2.0</td>\n",
       "      <td>3.76</td>\n",
       "    </tr>\n",
       "  </tbody>\n",
       "</table>\n",
       "</div>"
      ],
      "text/plain": [
       "              id                                  title language_code  \\\n",
       "578547  27833673                            Dark Matter           eng   \n",
       "78272     969749             A Slight Trick of the Mind           eng   \n",
       "189941  19042062                Feast, Famine & Potluck           eng   \n",
       "471234   9802614           Mystery on Southampton Water           eng   \n",
       "214794  10214902  Allison Hewitt Is Trapped (Zombie #1)           eng   \n",
       "\n",
       "                                              description  \\\n",
       "578547  dark matter 10 hours 9 minutes author wayward ...   \n",
       "78272   slight trick mind mitch cullin a slight trick ...   \n",
       "189941  feast famine potluck dazzling collection afric...   \n",
       "471234    mystery southampton water america 'crime solent   \n",
       "214794  allison hewitt trapped zombie 1 one woman stor...   \n",
       "\n",
       "                             predicted genres  \\\n",
       "578547     [Thriller, Drama, Mystery, Horror]   \n",
       "78272     [Mystery, Drama, Fantasy, Thriller]   \n",
       "189941  [Drama, Family, History, Documentary]   \n",
       "471234     [Crime, Mystery, Thriller, Action]   \n",
       "214794  [Horror, Action, Thriller, Adventure]   \n",
       "\n",
       "                                          similarity_coef  \\\n",
       "578547  [0.19487769324288584, 0.17744312338801468, 0.1...   \n",
       "78272   [0.1554305561540901, 0.15011654241010475, 0.14...   \n",
       "189941  [0.10185285906656885, 0.10127424260925516, 0.0...   \n",
       "471234  [0.0938715311087752, 0.08161721604902762, 0.06...   \n",
       "214794  [0.1487405049572654, 0.12305659248729986, 0.12...   \n",
       "\n",
       "                                            similar_books  ratings_count  \\\n",
       "578547  ['25430248', '32912923', '24452990', '32940838...          555.0   \n",
       "78272   ['1720047', '22749724', '1094486', '3150208', ...          335.0   \n",
       "189941                                                 []           16.0   \n",
       "471234                                                 []            7.0   \n",
       "214794  ['7797852', '6350211', '12730666', '8437831', ...           20.0   \n",
       "\n",
       "        num_pages  text_reviews_count  average_rating  \n",
       "578547       10.0               215.0            4.10  \n",
       "78272       253.0                85.0            3.43  \n",
       "189941      260.0                 7.0            4.47  \n",
       "471234      354.0                 1.0            4.11  \n",
       "214794      288.0                 2.0            3.76  "
      ]
     },
     "execution_count": 38,
     "metadata": {},
     "output_type": "execute_result"
    }
   ],
   "source": [
    "df_prediction_genres.head()"
   ]
  },
  {
   "cell_type": "markdown",
   "metadata": {},
   "source": [
    "### Predicting the rating of books using the new information about genres:"
   ]
  },
  {
   "cell_type": "markdown",
   "metadata": {},
   "source": [
    "#### 1. Classification approach: \n",
    "\n",
    "Building a dataFrame with books, genres and ratings, with similar number of samples by `rating_abs`:"
   ]
  },
  {
   "cell_type": "code",
   "execution_count": 39,
   "metadata": {},
   "outputs": [],
   "source": [
    "df_books_col_eng_copy['rating_abs'] = np.round(df_books_col_eng_copy.average_rating)"
   ]
  },
  {
   "cell_type": "code",
   "execution_count": 40,
   "metadata": {},
   "outputs": [
    {
     "data": {
      "text/html": [
       "<div>\n",
       "<style scoped>\n",
       "    .dataframe tbody tr th:only-of-type {\n",
       "        vertical-align: middle;\n",
       "    }\n",
       "\n",
       "    .dataframe tbody tr th {\n",
       "        vertical-align: top;\n",
       "    }\n",
       "\n",
       "    .dataframe thead th {\n",
       "        text-align: right;\n",
       "    }\n",
       "</style>\n",
       "<table border=\"1\" class=\"dataframe\">\n",
       "  <thead>\n",
       "    <tr style=\"text-align: right;\">\n",
       "      <th></th>\n",
       "      <th>book_id</th>\n",
       "      <th>title</th>\n",
       "      <th>language_code</th>\n",
       "      <th>description</th>\n",
       "      <th>similar_books</th>\n",
       "      <th>average_rating</th>\n",
       "      <th>ratings_count</th>\n",
       "      <th>num_pages</th>\n",
       "      <th>text_reviews_count</th>\n",
       "    </tr>\n",
       "    <tr>\n",
       "      <th>rating_abs</th>\n",
       "      <th></th>\n",
       "      <th></th>\n",
       "      <th></th>\n",
       "      <th></th>\n",
       "      <th></th>\n",
       "      <th></th>\n",
       "      <th></th>\n",
       "      <th></th>\n",
       "      <th></th>\n",
       "    </tr>\n",
       "  </thead>\n",
       "  <tbody>\n",
       "    <tr>\n",
       "      <th>0.0</th>\n",
       "      <td>290</td>\n",
       "      <td>290</td>\n",
       "      <td>290</td>\n",
       "      <td>290</td>\n",
       "      <td>290</td>\n",
       "      <td>290</td>\n",
       "      <td>290</td>\n",
       "      <td>290</td>\n",
       "      <td>290</td>\n",
       "    </tr>\n",
       "    <tr>\n",
       "      <th>1.0</th>\n",
       "      <td>184</td>\n",
       "      <td>184</td>\n",
       "      <td>184</td>\n",
       "      <td>184</td>\n",
       "      <td>184</td>\n",
       "      <td>184</td>\n",
       "      <td>184</td>\n",
       "      <td>184</td>\n",
       "      <td>184</td>\n",
       "    </tr>\n",
       "    <tr>\n",
       "      <th>2.0</th>\n",
       "      <td>1206</td>\n",
       "      <td>1206</td>\n",
       "      <td>1206</td>\n",
       "      <td>1206</td>\n",
       "      <td>1206</td>\n",
       "      <td>1206</td>\n",
       "      <td>1206</td>\n",
       "      <td>1206</td>\n",
       "      <td>1206</td>\n",
       "    </tr>\n",
       "    <tr>\n",
       "      <th>3.0</th>\n",
       "      <td>26931</td>\n",
       "      <td>26931</td>\n",
       "      <td>26931</td>\n",
       "      <td>26931</td>\n",
       "      <td>26931</td>\n",
       "      <td>26931</td>\n",
       "      <td>26931</td>\n",
       "      <td>26931</td>\n",
       "      <td>26931</td>\n",
       "    </tr>\n",
       "    <tr>\n",
       "      <th>4.0</th>\n",
       "      <td>177491</td>\n",
       "      <td>177491</td>\n",
       "      <td>177491</td>\n",
       "      <td>177491</td>\n",
       "      <td>177491</td>\n",
       "      <td>177491</td>\n",
       "      <td>177491</td>\n",
       "      <td>177491</td>\n",
       "      <td>177491</td>\n",
       "    </tr>\n",
       "    <tr>\n",
       "      <th>5.0</th>\n",
       "      <td>15503</td>\n",
       "      <td>15503</td>\n",
       "      <td>15503</td>\n",
       "      <td>15503</td>\n",
       "      <td>15503</td>\n",
       "      <td>15503</td>\n",
       "      <td>15503</td>\n",
       "      <td>15503</td>\n",
       "      <td>15503</td>\n",
       "    </tr>\n",
       "  </tbody>\n",
       "</table>\n",
       "</div>"
      ],
      "text/plain": [
       "            book_id   title  language_code  description  similar_books  \\\n",
       "rating_abs                                                               \n",
       "0.0             290     290            290          290            290   \n",
       "1.0             184     184            184          184            184   \n",
       "2.0            1206    1206           1206         1206           1206   \n",
       "3.0           26931   26931          26931        26931          26931   \n",
       "4.0          177491  177491         177491       177491         177491   \n",
       "5.0           15503   15503          15503        15503          15503   \n",
       "\n",
       "            average_rating  ratings_count  num_pages  text_reviews_count  \n",
       "rating_abs                                                                \n",
       "0.0                    290            290        290                 290  \n",
       "1.0                    184            184        184                 184  \n",
       "2.0                   1206           1206       1206                1206  \n",
       "3.0                  26931          26931      26931               26931  \n",
       "4.0                 177491         177491     177491              177491  \n",
       "5.0                  15503          15503      15503               15503  "
      ]
     },
     "execution_count": 40,
     "metadata": {},
     "output_type": "execute_result"
    }
   ],
   "source": [
    "df_books_col_eng_copy.groupby('rating_abs').count()"
   ]
  },
  {
   "cell_type": "code",
   "execution_count": 41,
   "metadata": {},
   "outputs": [
    {
     "data": {
      "image/png": "[encoded data removed]",
      "text/plain": [
       "<Figure size 432x432 with 1 Axes>"
      ]
     },
     "metadata": {
      "needs_background": "light"
     },
     "output_type": "display_data"
    }
   ],
   "source": [
    "f, ax = plt.subplots(figsize=(6, 6))\n",
    "_ = sns.set_style(\"white\")\n",
    "ax = sns.barplot(x=df_books_col_eng_copy.groupby('rating_abs').count().index, \n",
    "                 y=df_books_col_eng_copy.groupby('rating_abs').count().book_id, \n",
    "                 palette='Set2')\n",
    "ax.set_yscale('log')\n",
    "_ = plt.xlabel('Ratings', fontsize=10)\n",
    "_ = plt.ylabel('Number of books', fontsize=10)\n",
    "_ = plt.title('Books by absolute rating', fontsize=14)\n",
    "_ = sns.despine(offset=5, trim=True)"
   ]
  },
  {
   "cell_type": "markdown",
   "metadata": {},
   "source": [
    "We take samples to manage similar number of books according to `rating_abs`. As we can note, almost all the scores are between 3 and 5. Therefore, we work with maximum 500 of every category:"
   ]
  },
  {
   "cell_type": "code",
   "execution_count": 42,
   "metadata": {},
   "outputs": [],
   "source": [
    "sample_1 = df_books_col_eng_copy[df_books_col_eng_copy['rating_abs'] == 1]\n",
    "sample_2 = df_books_col_eng_copy[df_books_col_eng_copy['rating_abs'] == 2]\n",
    "sample_4 = df_books_col_eng_copy[df_books_col_eng_copy['rating_abs'] == 4]\n",
    "sample_5 = df_books_col_eng_copy[df_books_col_eng_copy['rating_abs'] == 5]"
   ]
  },
  {
   "cell_type": "code",
   "execution_count": 43,
   "metadata": {},
   "outputs": [],
   "source": [
    "df_1 = sample_1\n",
    "df_2 = sample_2.sample(n=500, random_state=0)\n",
    "df_4 = sample_4.sample(n=500, random_state=0)\n",
    "df_5 = sample_5.sample(n=500, random_state=0)\n",
    "df_books_sample_concat = pd.concat([df_1, df_2, df_4, df_5], axis=0, sort=False)"
   ]
  },
  {
   "cell_type": "code",
   "execution_count": 44,
   "metadata": {},
   "outputs": [],
   "source": [
    "df_books_sample_concat.title.replace(np.nan, '', regex=True, inplace=True)\n",
    "df_books_sample_concat['title_normalized'] = df_books_sample_concat.title.apply(pre_processing)\n",
    "df_books_sample_concat['description_PoS'] = df_books_sample_concat.description.apply(part_of_speech_filtering)\n",
    "df_books_sample_concat['title_description_norm'] = df_books_sample_concat.title_normalized + ' ' + df_books_sample_concat.description_PoS"
   ]
  },
  {
   "cell_type": "code",
   "execution_count": 45,
   "metadata": {},
   "outputs": [
    {
     "data": {
      "text/html": [
       "<div>\n",
       "<style scoped>\n",
       "    .dataframe tbody tr th:only-of-type {\n",
       "        vertical-align: middle;\n",
       "    }\n",
       "\n",
       "    .dataframe tbody tr th {\n",
       "        vertical-align: top;\n",
       "    }\n",
       "\n",
       "    .dataframe thead th {\n",
       "        text-align: right;\n",
       "    }\n",
       "</style>\n",
       "<table border=\"1\" class=\"dataframe\">\n",
       "  <thead>\n",
       "    <tr style=\"text-align: right;\">\n",
       "      <th></th>\n",
       "      <th>book_id</th>\n",
       "      <th>title</th>\n",
       "      <th>language_code</th>\n",
       "      <th>description</th>\n",
       "      <th>similar_books</th>\n",
       "      <th>average_rating</th>\n",
       "      <th>ratings_count</th>\n",
       "      <th>num_pages</th>\n",
       "      <th>text_reviews_count</th>\n",
       "      <th>rating_abs</th>\n",
       "      <th>title_normalized</th>\n",
       "      <th>description_PoS</th>\n",
       "      <th>title_description_norm</th>\n",
       "    </tr>\n",
       "  </thead>\n",
       "  <tbody>\n",
       "    <tr>\n",
       "      <th>901</th>\n",
       "      <td>16137127</td>\n",
       "      <td>Certainty and the Search for Absolute Truth</td>\n",
       "      <td>eng</td>\n",
       "      <td>Wait! Before you fly into that building...\\nWh...</td>\n",
       "      <td>[]</td>\n",
       "      <td>1.0</td>\n",
       "      <td>1.0</td>\n",
       "      <td>162.0</td>\n",
       "      <td>1.0</td>\n",
       "      <td>1.0</td>\n",
       "      <td>certainty search absolute truth</td>\n",
       "      <td>wait fly building truth knowable certain anyth...</td>\n",
       "      <td>certainty search absolute truth wait fly build...</td>\n",
       "    </tr>\n",
       "    <tr>\n",
       "      <th>6925</th>\n",
       "      <td>14740987</td>\n",
       "      <td>A State of Symmetry</td>\n",
       "      <td>eng</td>\n",
       "      <td>Novel first published in South Africa in 1996,...</td>\n",
       "      <td>[]</td>\n",
       "      <td>1.0</td>\n",
       "      <td>2.0</td>\n",
       "      <td>380.0</td>\n",
       "      <td>2.0</td>\n",
       "      <td>1.0</td>\n",
       "      <td>state symmetry</td>\n",
       "      <td>novel south africa 1996 south africa time apar...</td>\n",
       "      <td>state symmetry novel south africa 1996 south a...</td>\n",
       "    </tr>\n",
       "  </tbody>\n",
       "</table>\n",
       "</div>"
      ],
      "text/plain": [
       "       book_id                                        title language_code  \\\n",
       "901   16137127  Certainty and the Search for Absolute Truth           eng   \n",
       "6925  14740987                          A State of Symmetry           eng   \n",
       "\n",
       "                                            description similar_books  \\\n",
       "901   Wait! Before you fly into that building...\\nWh...            []   \n",
       "6925  Novel first published in South Africa in 1996,...            []   \n",
       "\n",
       "      average_rating  ratings_count  num_pages  text_reviews_count  \\\n",
       "901              1.0            1.0      162.0                 1.0   \n",
       "6925             1.0            2.0      380.0                 2.0   \n",
       "\n",
       "      rating_abs                 title_normalized  \\\n",
       "901          1.0  certainty search absolute truth   \n",
       "6925         1.0                   state symmetry   \n",
       "\n",
       "                                        description_PoS  \\\n",
       "901   wait fly building truth knowable certain anyth...   \n",
       "6925  novel south africa 1996 south africa time apar...   \n",
       "\n",
       "                                 title_description_norm  \n",
       "901   certainty search absolute truth wait fly build...  \n",
       "6925  state symmetry novel south africa 1996 south a...  "
      ]
     },
     "execution_count": 45,
     "metadata": {},
     "output_type": "execute_result"
    }
   ],
   "source": [
    "df_books_sample_concat.head(2)"
   ]
  },
  {
   "cell_type": "markdown",
   "metadata": {},
   "source": [
    "Then, we get the similarity matrix, with the coefficients of similarity between movies and all the possible genres:"
   ]
  },
  {
   "cell_type": "code",
   "execution_count": 46,
   "metadata": {},
   "outputs": [],
   "source": [
    "df_matrix_similarity = matrix_similarity(df_books_sample_concat, tfidf_matrix)"
   ]
  },
  {
   "cell_type": "code",
   "execution_count": 47,
   "metadata": {
    "scrolled": true
   },
   "outputs": [
    {
     "name": "stdout",
     "output_type": "stream",
     "text": [
      "<class 'pandas.core.frame.DataFrame'>\n",
      "Int64Index: 1684 entries, 901 to 234247\n",
      "Data columns (total 23 columns):\n",
      "id                    1684 non-null int64\n",
      "title                 1684 non-null object\n",
      "language_code         1684 non-null object\n",
      "description           1684 non-null object\n",
      "similar_books         1684 non-null object\n",
      "ratings_count         1684 non-null float64\n",
      "num_pages             1684 non-null float64\n",
      "text_reviews_count    1684 non-null float64\n",
      "average_rating        1684 non-null float64\n",
      "Action                1684 non-null float64\n",
      "Adventure             1684 non-null float64\n",
      "Crime                 1684 non-null float64\n",
      "Documentary           1684 non-null float64\n",
      "Drama                 1684 non-null float64\n",
      "Family                1684 non-null float64\n",
      "Fantasy               1684 non-null float64\n",
      "History               1684 non-null float64\n",
      "Horror                1684 non-null float64\n",
      "Music                 1684 non-null float64\n",
      "Mystery               1684 non-null float64\n",
      "Romance               1684 non-null float64\n",
      "Thriller              1684 non-null float64\n",
      "War                   1684 non-null float64\n",
      "dtypes: float64(18), int64(1), object(4)\n",
      "memory usage: 315.8+ KB\n"
     ]
    }
   ],
   "source": [
    "df_matrix_similarity.info()"
   ]
  },
  {
   "cell_type": "code",
   "execution_count": 48,
   "metadata": {},
   "outputs": [],
   "source": [
    "df_matrix_similarity_copy = df_matrix_similarity.copy()"
   ]
  },
  {
   "cell_type": "markdown",
   "metadata": {},
   "source": [
    "Then, these similarity coefficients are replaced by 0 and 1, depending on if, for a specific movie, the coefficient is among the four highest values. The rule is: assign a 1 if the coefficient is between 4 biggest or 0 otherwise."
   ]
  },
  {
   "cell_type": "code",
   "execution_count": 49,
   "metadata": {},
   "outputs": [
    {
     "name": "stderr",
     "output_type": "stream",
     "text": [
      "/Users/daniela/anaconda3/lib/python3.7/site-packages/ipykernel_launcher.py:8: SettingWithCopyWarning: \n",
      "A value is trying to be set on a copy of a slice from a DataFrame\n",
      "\n",
      "See the caveats in the documentation: http://pandas.pydata.org/pandas-docs/stable/indexing.html#indexing-view-versus-copy\n",
      "  \n"
     ]
    }
   ],
   "source": [
    "import sys\n",
    "\n",
    "for idx in df_matrix_similarity_copy.index:\n",
    "    \n",
    "    books_similarities = df_matrix_similarity_copy.loc[idx, 'Action' : 'War']\n",
    "    tuples_largest = nlargest(4, enumerate(books_similarities), key=lambda x: x[1])\n",
    "    for ind, _ in tuples_largest:\n",
    "        df_matrix_similarity_copy[label_genres[ind]][idx] = 1    "
   ]
  },
  {
   "cell_type": "code",
   "execution_count": 50,
   "metadata": {},
   "outputs": [],
   "source": [
    "s = df_matrix_similarity_copy.loc[:, 'Action' : 'War'].where(df_matrix_similarity_copy.loc[:, 'Action' : 'War'] == 1, 0)"
   ]
  },
  {
   "cell_type": "code",
   "execution_count": 51,
   "metadata": {},
   "outputs": [],
   "source": [
    "s.rename({'Action': 'Action_b',\n",
    "          'Adventure': 'Adventure_b',\n",
    "          'Crime': 'Crime_b',\n",
    "          'Documentary': 'Documentary_b',\n",
    "          'Drama': 'Drama_b',\n",
    "          'Family': 'Family_b',\n",
    "          'Fantasy': 'Fantasy_b',\n",
    "          'History': 'History_b',\n",
    "          'Horror': 'Horror_b',\n",
    "          'Music': 'Music_b',\n",
    "          'Mystery': 'Mystery_b',\n",
    "          'Romance': 'Romance_b',\n",
    "          'Thriller': 'Thriller_b',\n",
    "          'War':'War_b'}, axis=1, inplace=True)   "
   ]
  },
  {
   "cell_type": "code",
   "execution_count": 52,
   "metadata": {},
   "outputs": [],
   "source": [
    "df_binary_similarity = pd.concat([df_matrix_similarity_copy, s], axis=1, sort=False)"
   ]
  },
  {
   "cell_type": "code",
   "execution_count": 53,
   "metadata": {},
   "outputs": [
    {
     "data": {
      "text/html": [
       "<div>\n",
       "<style scoped>\n",
       "    .dataframe tbody tr th:only-of-type {\n",
       "        vertical-align: middle;\n",
       "    }\n",
       "\n",
       "    .dataframe tbody tr th {\n",
       "        vertical-align: top;\n",
       "    }\n",
       "\n",
       "    .dataframe thead th {\n",
       "        text-align: right;\n",
       "    }\n",
       "</style>\n",
       "<table border=\"1\" class=\"dataframe\">\n",
       "  <thead>\n",
       "    <tr style=\"text-align: right;\">\n",
       "      <th></th>\n",
       "      <th>id</th>\n",
       "      <th>title</th>\n",
       "      <th>language_code</th>\n",
       "      <th>description</th>\n",
       "      <th>similar_books</th>\n",
       "      <th>ratings_count</th>\n",
       "      <th>num_pages</th>\n",
       "      <th>text_reviews_count</th>\n",
       "      <th>average_rating</th>\n",
       "      <th>Action</th>\n",
       "      <th>...</th>\n",
       "      <th>Drama_b</th>\n",
       "      <th>Family_b</th>\n",
       "      <th>Fantasy_b</th>\n",
       "      <th>History_b</th>\n",
       "      <th>Horror_b</th>\n",
       "      <th>Music_b</th>\n",
       "      <th>Mystery_b</th>\n",
       "      <th>Romance_b</th>\n",
       "      <th>Thriller_b</th>\n",
       "      <th>War_b</th>\n",
       "    </tr>\n",
       "  </thead>\n",
       "  <tbody>\n",
       "    <tr>\n",
       "      <th>901</th>\n",
       "      <td>16137127</td>\n",
       "      <td>Certainty and the Search for Absolute Truth</td>\n",
       "      <td>eng</td>\n",
       "      <td>Wait! Before you fly into that building...\\nWh...</td>\n",
       "      <td>[]</td>\n",
       "      <td>1.0</td>\n",
       "      <td>162.0</td>\n",
       "      <td>1.0</td>\n",
       "      <td>1.0</td>\n",
       "      <td>0.108026</td>\n",
       "      <td>...</td>\n",
       "      <td>0.0</td>\n",
       "      <td>0.0</td>\n",
       "      <td>1.0</td>\n",
       "      <td>0.0</td>\n",
       "      <td>1.0</td>\n",
       "      <td>0.0</td>\n",
       "      <td>0.0</td>\n",
       "      <td>0.0</td>\n",
       "      <td>1.0</td>\n",
       "      <td>0.0</td>\n",
       "    </tr>\n",
       "    <tr>\n",
       "      <th>6925</th>\n",
       "      <td>14740987</td>\n",
       "      <td>A State of Symmetry</td>\n",
       "      <td>eng</td>\n",
       "      <td>Novel first published in South Africa in 1996,...</td>\n",
       "      <td>[]</td>\n",
       "      <td>2.0</td>\n",
       "      <td>380.0</td>\n",
       "      <td>2.0</td>\n",
       "      <td>1.0</td>\n",
       "      <td>0.120953</td>\n",
       "      <td>...</td>\n",
       "      <td>0.0</td>\n",
       "      <td>0.0</td>\n",
       "      <td>0.0</td>\n",
       "      <td>0.0</td>\n",
       "      <td>1.0</td>\n",
       "      <td>0.0</td>\n",
       "      <td>1.0</td>\n",
       "      <td>0.0</td>\n",
       "      <td>1.0</td>\n",
       "      <td>0.0</td>\n",
       "    </tr>\n",
       "  </tbody>\n",
       "</table>\n",
       "<p>2 rows × 37 columns</p>\n",
       "</div>"
      ],
      "text/plain": [
       "            id                                        title language_code  \\\n",
       "901   16137127  Certainty and the Search for Absolute Truth           eng   \n",
       "6925  14740987                          A State of Symmetry           eng   \n",
       "\n",
       "                                            description similar_books  \\\n",
       "901   Wait! Before you fly into that building...\\nWh...            []   \n",
       "6925  Novel first published in South Africa in 1996,...            []   \n",
       "\n",
       "      ratings_count  num_pages  text_reviews_count  average_rating    Action  \\\n",
       "901             1.0      162.0                 1.0             1.0  0.108026   \n",
       "6925            2.0      380.0                 2.0             1.0  0.120953   \n",
       "\n",
       "      ...    Drama_b  Family_b  Fantasy_b  History_b  Horror_b  Music_b  \\\n",
       "901   ...        0.0       0.0        1.0        0.0       1.0      0.0   \n",
       "6925  ...        0.0       0.0        0.0        0.0       1.0      0.0   \n",
       "\n",
       "      Mystery_b  Romance_b  Thriller_b  War_b  \n",
       "901         0.0        0.0         1.0    0.0  \n",
       "6925        1.0        0.0         1.0    0.0  \n",
       "\n",
       "[2 rows x 37 columns]"
      ]
     },
     "execution_count": 53,
     "metadata": {},
     "output_type": "execute_result"
    }
   ],
   "source": [
    "df_binary_similarity.fillna(0, inplace=True)\n",
    "df_binary_similarity.head(2)"
   ]
  },
  {
   "cell_type": "markdown",
   "metadata": {},
   "source": [
    "Saving the classification data: "
   ]
  },
  {
   "cell_type": "code",
   "execution_count": 54,
   "metadata": {},
   "outputs": [],
   "source": [
    "#df_binary_similarity.to_csv('../Data/processed/books/classification_genres_books.csv')"
   ]
  },
  {
   "cell_type": "code",
   "execution_count": 55,
   "metadata": {},
   "outputs": [],
   "source": [
    "df_classification = df_binary_similarity.loc[:, ['ratings_count', 'num_pages', 'text_reviews_count', \n",
    "               'Action_b', 'Adventure_b', 'Crime_b', 'Documentary_b',\n",
    "               'Drama_b', 'Family_b', 'Fantasy_b', 'History_b', 'Horror_b',\n",
    "               'Music_b', 'Mystery_b', 'Romance_b', 'Thriller_b', 'War_b']]"
   ]
  },
  {
   "cell_type": "markdown",
   "metadata": {},
   "source": [
    "Applying MinMaxScaler for scaling `ratings_count`, `num_pages` and `text_reviews_count` between (0, 1):"
   ]
  },
  {
   "cell_type": "code",
   "execution_count": 56,
   "metadata": {},
   "outputs": [],
   "source": [
    "from sklearn.preprocessing import MinMaxScaler\n",
    "\n",
    "scaler = MinMaxScaler(feature_range=(0, 1))\n",
    "df_classification_rescaled = scaler.fit_transform(df_classification)\n",
    "# summarize transformed data\n",
    "np.set_printoptions(precision=3)"
   ]
  },
  {
   "cell_type": "code",
   "execution_count": 57,
   "metadata": {},
   "outputs": [
    {
     "data": {
      "text/plain": [
       "array([[5.054e-05, 1.536e-01, 0.000e+00, ..., 0.000e+00, 1.000e+00,\n",
       "        0.000e+00],\n",
       "       [1.011e-04, 3.602e-01, 4.464e-04, ..., 0.000e+00, 1.000e+00,\n",
       "        0.000e+00],\n",
       "       [5.054e-05, 2.796e-01, 0.000e+00, ..., 1.000e+00, 0.000e+00,\n",
       "        0.000e+00],\n",
       "       ...,\n",
       "       [5.559e-04, 3.412e-02, 2.679e-03, ..., 0.000e+00, 0.000e+00,\n",
       "        0.000e+00],\n",
       "       [1.011e-04, 2.199e-01, 4.464e-04, ..., 0.000e+00, 1.000e+00,\n",
       "        0.000e+00],\n",
       "       [5.054e-05, 5.782e-02, 0.000e+00, ..., 0.000e+00, 1.000e+00,\n",
       "        0.000e+00]])"
      ]
     },
     "execution_count": 57,
     "metadata": {},
     "output_type": "execute_result"
    }
   ],
   "source": [
    "df_classification_rescaled"
   ]
  },
  {
   "cell_type": "code",
   "execution_count": 58,
   "metadata": {},
   "outputs": [],
   "source": [
    "y_classification = np.round(df_matrix_similarity.average_rating)\n",
    "y_classification = y_classification[y_classification != 3]"
   ]
  },
  {
   "cell_type": "code",
   "execution_count": 59,
   "metadata": {},
   "outputs": [
    {
     "data": {
      "text/plain": [
       "array([1., 2., 4., 5.])"
      ]
     },
     "execution_count": 59,
     "metadata": {},
     "output_type": "execute_result"
    }
   ],
   "source": [
    "y_classification.unique()"
   ]
  },
  {
   "cell_type": "markdown",
   "metadata": {},
   "source": [
    "To resolve the classification problem, we define two categories: \n",
    "1. Scores 5 and 4 are labeled as 1\n",
    "2. Scores 2 and 1 are labeled as -1"
   ]
  },
  {
   "cell_type": "code",
   "execution_count": 60,
   "metadata": {},
   "outputs": [],
   "source": [
    "y_binary_class = []\n",
    "\n",
    "for y in y_classification:\n",
    "    if y > 3:\n",
    "        n = 1\n",
    "    else:\n",
    "        n = -1\n",
    "    y_binary_class.append(n)"
   ]
  },
  {
   "cell_type": "markdown",
   "metadata": {},
   "source": [
    "Splitting data in training and testing:"
   ]
  },
  {
   "cell_type": "code",
   "execution_count": 61,
   "metadata": {},
   "outputs": [],
   "source": [
    "from sklearn.model_selection import train_test_split\n",
    "\n",
    "x = df_classification_rescaled\n",
    "y = y_binary_class    \n",
    "X_train, X_test, y_train, y_test = train_test_split(x, y, test_size=0.2, random_state=0)"
   ]
  },
  {
   "cell_type": "markdown",
   "metadata": {},
   "source": [
    "#### Determine best features\n",
    "\n",
    "A statistic chi-squared test provided by SelectKBest was applied to extract the features more strongly related to the label or output variable of the features vector. Tests measure dependence between the features and output variable and lower scores represent independence and then useless for the classification."
   ]
  },
  {
   "cell_type": "code",
   "execution_count": 62,
   "metadata": {},
   "outputs": [
    {
     "name": "stdout",
     "output_type": "stream",
     "text": [
      "              Features      Score\n",
      "1            num_pages  12.737878\n",
      "0        ratings_count   9.269749\n",
      "2   text_reviews_count   6.493101\n",
      "10           History_b   3.450347\n",
      "14           Romance_b   3.363795\n",
      "12             Music_b   3.057573\n",
      "9            Fantasy_b   2.414604\n",
      "8             Family_b   2.401954\n",
      "6        Documentary_b   2.151978\n",
      "3             Action_b   2.092209\n",
      "4          Adventure_b   1.907704\n",
      "7              Drama_b   1.671438\n",
      "11            Horror_b   1.008529\n",
      "13           Mystery_b   0.478487\n",
      "16               War_b   0.343136\n",
      "15          Thriller_b   0.131516\n",
      "5              Crime_b   0.124222\n"
     ]
    }
   ],
   "source": [
    "from sklearn.feature_selection import SelectKBest\n",
    "from sklearn.feature_selection import chi2\n",
    "\n",
    "#apply SelectKBest class to extract best features\n",
    "bestfeatures = SelectKBest(score_func=chi2, k=17)\n",
    "fit = bestfeatures.fit(x, y)\n",
    "\n",
    "dfscores = pd.DataFrame(fit.scores_)\n",
    "dfcolumns = pd.DataFrame(df_classification.columns)\n",
    "#concat two dataframes for better visualization \n",
    "featureScores = pd.concat([dfcolumns, dfscores],axis=1)\n",
    "\n",
    "featureScores.columns = ['Features','Score']  #naming the dataframe columns\n",
    "print(featureScores.nlargest(17,'Score'))  #print all best features"
   ]
  },
  {
   "cell_type": "markdown",
   "metadata": {},
   "source": [
    "The genres less related to the rating of books are `Crime`, `War`, `Mystery` and `Thriller`. "
   ]
  },
  {
   "cell_type": "code",
   "execution_count": 63,
   "metadata": {},
   "outputs": [
    {
     "data": {
      "text/html": [
       "<div>\n",
       "<style scoped>\n",
       "    .dataframe tbody tr th:only-of-type {\n",
       "        vertical-align: middle;\n",
       "    }\n",
       "\n",
       "    .dataframe tbody tr th {\n",
       "        vertical-align: top;\n",
       "    }\n",
       "\n",
       "    .dataframe thead th {\n",
       "        text-align: right;\n",
       "    }\n",
       "</style>\n",
       "<table border=\"1\" class=\"dataframe\">\n",
       "  <thead>\n",
       "    <tr style=\"text-align: right;\">\n",
       "      <th></th>\n",
       "      <th>id</th>\n",
       "      <th>title</th>\n",
       "      <th>language_code</th>\n",
       "      <th>description</th>\n",
       "      <th>similar_books</th>\n",
       "      <th>ratings_count</th>\n",
       "      <th>num_pages</th>\n",
       "      <th>text_reviews_count</th>\n",
       "      <th>average_rating</th>\n",
       "      <th>Action</th>\n",
       "      <th>...</th>\n",
       "      <th>Drama_b</th>\n",
       "      <th>Family_b</th>\n",
       "      <th>Fantasy_b</th>\n",
       "      <th>History_b</th>\n",
       "      <th>Horror_b</th>\n",
       "      <th>Music_b</th>\n",
       "      <th>Mystery_b</th>\n",
       "      <th>Romance_b</th>\n",
       "      <th>Thriller_b</th>\n",
       "      <th>War_b</th>\n",
       "    </tr>\n",
       "  </thead>\n",
       "  <tbody>\n",
       "    <tr>\n",
       "      <th>901</th>\n",
       "      <td>16137127</td>\n",
       "      <td>Certainty and the Search for Absolute Truth</td>\n",
       "      <td>eng</td>\n",
       "      <td>Wait! Before you fly into that building...\\nWh...</td>\n",
       "      <td>[]</td>\n",
       "      <td>1.0</td>\n",
       "      <td>162.0</td>\n",
       "      <td>1.0</td>\n",
       "      <td>1.0</td>\n",
       "      <td>0.108026</td>\n",
       "      <td>...</td>\n",
       "      <td>0.0</td>\n",
       "      <td>0.0</td>\n",
       "      <td>1.0</td>\n",
       "      <td>0.0</td>\n",
       "      <td>1.0</td>\n",
       "      <td>0.0</td>\n",
       "      <td>0.0</td>\n",
       "      <td>0.0</td>\n",
       "      <td>1.0</td>\n",
       "      <td>0.0</td>\n",
       "    </tr>\n",
       "    <tr>\n",
       "      <th>6925</th>\n",
       "      <td>14740987</td>\n",
       "      <td>A State of Symmetry</td>\n",
       "      <td>eng</td>\n",
       "      <td>Novel first published in South Africa in 1996,...</td>\n",
       "      <td>[]</td>\n",
       "      <td>2.0</td>\n",
       "      <td>380.0</td>\n",
       "      <td>2.0</td>\n",
       "      <td>1.0</td>\n",
       "      <td>0.120953</td>\n",
       "      <td>...</td>\n",
       "      <td>0.0</td>\n",
       "      <td>0.0</td>\n",
       "      <td>0.0</td>\n",
       "      <td>0.0</td>\n",
       "      <td>1.0</td>\n",
       "      <td>0.0</td>\n",
       "      <td>1.0</td>\n",
       "      <td>0.0</td>\n",
       "      <td>1.0</td>\n",
       "      <td>0.0</td>\n",
       "    </tr>\n",
       "  </tbody>\n",
       "</table>\n",
       "<p>2 rows × 37 columns</p>\n",
       "</div>"
      ],
      "text/plain": [
       "            id                                        title language_code  \\\n",
       "901   16137127  Certainty and the Search for Absolute Truth           eng   \n",
       "6925  14740987                          A State of Symmetry           eng   \n",
       "\n",
       "                                            description similar_books  \\\n",
       "901   Wait! Before you fly into that building...\\nWh...            []   \n",
       "6925  Novel first published in South Africa in 1996,...            []   \n",
       "\n",
       "      ratings_count  num_pages  text_reviews_count  average_rating    Action  \\\n",
       "901             1.0      162.0                 1.0             1.0  0.108026   \n",
       "6925            2.0      380.0                 2.0             1.0  0.120953   \n",
       "\n",
       "      ...    Drama_b  Family_b  Fantasy_b  History_b  Horror_b  Music_b  \\\n",
       "901   ...        0.0       0.0        1.0        0.0       1.0      0.0   \n",
       "6925  ...        0.0       0.0        0.0        0.0       1.0      0.0   \n",
       "\n",
       "      Mystery_b  Romance_b  Thriller_b  War_b  \n",
       "901         0.0        0.0         1.0    0.0  \n",
       "6925        1.0        0.0         1.0    0.0  \n",
       "\n",
       "[2 rows x 37 columns]"
      ]
     },
     "execution_count": 63,
     "metadata": {},
     "output_type": "execute_result"
    }
   ],
   "source": [
    "df_binary_similarity.fillna(0, inplace=True)\n",
    "df_binary_similarity.head(2)"
   ]
  },
  {
   "cell_type": "code",
   "execution_count": 64,
   "metadata": {},
   "outputs": [],
   "source": [
    "df_classification_best_features = df_binary_similarity.loc[:, ['ratings_count', \n",
    "                                                               'num_pages', 'text_reviews_count', \n",
    "                                                               'Action_b', 'Adventure_b', 'Documentary_b',\n",
    "                                                               'Drama_b', 'Family_b', 'Fantasy_b', 'History_b',\n",
    "                                                               'Music_b', 'Romance_b', 'Horror_b']]\n",
    "\n",
    "\n",
    "df_classification_rescaled_best_features = scaler.fit_transform(df_classification_best_features)\n",
    "# summarize transformed data\n",
    "np.set_printoptions(precision=3)"
   ]
  },
  {
   "cell_type": "code",
   "execution_count": 65,
   "metadata": {},
   "outputs": [],
   "source": [
    "x = df_classification_best_features  \n",
    "X_train, X_test, y_train, y_test = train_test_split(x, y, test_size=0.2, random_state=0)"
   ]
  },
  {
   "cell_type": "code",
   "execution_count": 66,
   "metadata": {},
   "outputs": [],
   "source": [
    "pd.DataFrame(x).to_csv('../Data/processed/training_test_data_predict_reception_books.csv')"
   ]
  },
  {
   "cell_type": "markdown",
   "metadata": {},
   "source": [
    "#### Training Models\n",
    "\n",
    "In this section, we train different models an compare their performance using Accuracy, confusion matrix and ROC. ROC Curves reflect the trade-off between the true positive rate and false positive rate for a predictive model using different probability thresholds. If we data is inbalanced, we should use ,instead, the Recall/Precision curve."
   ]
  },
  {
   "cell_type": "markdown",
   "metadata": {},
   "source": [
    "1. Ensemble models\n",
    "\n",
    "The previous feature vectors are the inputs to different ensemble machine learning algorithm: xgBoost, Gradient Boost, Random Forest and the combinations Gradient Boost-Logistic Regression and Random Forest-Logistic Regression. "
   ]
  },
  {
   "cell_type": "code",
   "execution_count": 67,
   "metadata": {},
   "outputs": [],
   "source": [
    "from sklearn.linear_model import LogisticRegression\n",
    "from sklearn.ensemble import (RandomForestClassifier,\n",
    "                              GradientBoostingClassifier)\n",
    "from sklearn.preprocessing import OneHotEncoder\n",
    "from sklearn.metrics import accuracy_score\n",
    "from sklearn.metrics import roc_curve\n",
    "from sklearn.metrics import confusion_matrix\n",
    "from sklearn.metrics import roc_auc_score"
   ]
  },
  {
   "cell_type": "code",
   "execution_count": 68,
   "metadata": {},
   "outputs": [],
   "source": [
    "from sklearn import svm\n",
    "from sklearn.model_selection import GridSearchCV"
   ]
  },
  {
   "cell_type": "markdown",
   "metadata": {},
   "source": [
    "We do a search over specified parameter values, looking for the best performance in every model in 5 folds.\n",
    "\n",
    "a) Gradient Boosting: In this case, the parameters are `learning_rate`, `max_features` and `n_estimators`. For the last parameter, we decide use the total number of features."
   ]
  },
  {
   "cell_type": "code",
   "execution_count": 69,
   "metadata": {},
   "outputs": [],
   "source": [
    "parameters_grd = {'learning_rate':[0.1, 0.01], \n",
    "                  'n_estimators':[5, 10, 50, 100, 150]}"
   ]
  },
  {
   "cell_type": "code",
   "execution_count": 70,
   "metadata": {},
   "outputs": [],
   "source": [
    "grd = GradientBoostingClassifier()\n",
    "clf = GridSearchCV(grd, parameters_grd, cv=5)\n",
    "grid_result = clf.fit(X_train, y_train)"
   ]
  },
  {
   "cell_type": "code",
   "execution_count": 71,
   "metadata": {},
   "outputs": [
    {
     "data": {
      "text/plain": [
       "{'learning_rate': 0.1, 'n_estimators': 100}"
      ]
     },
     "execution_count": 71,
     "metadata": {},
     "output_type": "execute_result"
    }
   ],
   "source": [
    "best_params = grid_result.best_params_\n",
    "best_params"
   ]
  },
  {
   "cell_type": "markdown",
   "metadata": {},
   "source": [
    "Training the model using this "
   ]
  },
  {
   "cell_type": "code",
   "execution_count": 72,
   "metadata": {},
   "outputs": [],
   "source": [
    "grd = GradientBoostingClassifier(learning_rate= 0.1,  n_estimators= 100)\n",
    "grd.fit(X_train, y_train)\n",
    "y_pred_grd = grd.predict_proba(X_test)[:, 1]"
   ]
  },
  {
   "cell_type": "code",
   "execution_count": 73,
   "metadata": {},
   "outputs": [
    {
     "name": "stdout",
     "output_type": "stream",
     "text": [
      "GRADIENT BOOSTING \n",
      "AUC: 78.63%\n",
      "Accuracy: 71.81%\n"
     ]
    }
   ],
   "source": [
    "fpr_grd, tpr_grd, _ = roc_curve(y_test, y_pred_grd)\n",
    "auc = roc_auc_score(y_test, y_pred_grd)\n",
    "\n",
    "predictions = [round(value) for value in y_pred_grd]\n",
    "predictions = [-1 if p ==0 else 1 for p in predictions]\n",
    "accuracy = accuracy_score(y_test, predictions)\n",
    "print(\"GRADIENT BOOSTING \\nAUC: %.2f%%\" % (auc * 100.0) + \"\\nAccuracy: %.2f%%\" % (accuracy * 100.0))"
   ]
  },
  {
   "cell_type": "markdown",
   "metadata": {},
   "source": [
    "b) Random Forest: This model has 2 interesting tunning parameters: number of features and number of trees. The `max_gestures` will be all the possible features (default in both ensemble models). Only the number of trees or estimators is inserted in the grid to choose the best parameter.\n",
    "\n",
    "**Random Forest** has less tunning parameters than Gradient Boosting. Both are expensive computationally, hard to visualize and implement (related to KNN). The advantage of Random Forest over Gradient Boosting is less variance and reduction of overfitting (because we choose an average of all the trees implemented) and training takes less time, because trees are build in parallel, meanwhile in Gradient Boosting, they are created sequentially. This drawbacks also means that GB is more susceptible to overfitting. "
   ]
  },
  {
   "cell_type": "code",
   "execution_count": 74,
   "metadata": {},
   "outputs": [],
   "source": [
    "parameters_rf = {'n_estimators':[5, 10, 50, 100, 150, 200]}"
   ]
  },
  {
   "cell_type": "code",
   "execution_count": 75,
   "metadata": {},
   "outputs": [],
   "source": [
    "rf = RandomForestClassifier()\n",
    "clf = GridSearchCV(rf, parameters_rf, cv=5)\n",
    "grid_result = clf.fit(X_train, y_train)"
   ]
  },
  {
   "cell_type": "code",
   "execution_count": 76,
   "metadata": {},
   "outputs": [
    {
     "data": {
      "text/plain": [
       "{'n_estimators': 150}"
      ]
     },
     "execution_count": 76,
     "metadata": {},
     "output_type": "execute_result"
    }
   ],
   "source": [
    "best_params = grid_result.best_params_\n",
    "best_params"
   ]
  },
  {
   "cell_type": "markdown",
   "metadata": {},
   "source": [
    "Training the model:"
   ]
  },
  {
   "cell_type": "code",
   "execution_count": 79,
   "metadata": {},
   "outputs": [],
   "source": [
    "rf = RandomForestClassifier(n_estimators= 100)\n",
    "rf.fit(X_train, y_train)\n",
    "y_pred_rf = rf.predict_proba(X_test)[:, 1]"
   ]
  },
  {
   "cell_type": "code",
   "execution_count": 80,
   "metadata": {},
   "outputs": [
    {
     "name": "stdout",
     "output_type": "stream",
     "text": [
      "RANDOM FOREST \n",
      "AUC: 76.54%\n",
      "Accuracy: 71.81%\n"
     ]
    }
   ],
   "source": [
    "fpr_rf, tpr_rf, _ = roc_curve(y_test, y_pred_rf)\n",
    "auc = roc_auc_score(y_test, y_pred_rf)\n",
    "\n",
    "predictions = [round(value) for value in y_pred_grd]\n",
    "predictions = [-1 if p ==0 else 1 for p in predictions]\n",
    "accuracy = accuracy_score(y_test, predictions)\n",
    "print(\"RANDOM FOREST \\nAUC: %.2f%%\" % (auc * 100.0) + \"\\nAccuracy: %.2f%%\" % (accuracy * 100.0))"
   ]
  },
  {
   "cell_type": "markdown",
   "metadata": {},
   "source": [
    "c) **xgBoost** has high flexibility to define the optimization objetctive and evaluation criteria. Besides, reduce the overfitting through regularization terms and allow us to run cross validation in every iteration of the boosting process (unlike GB). XGBoost on the other hand make splits upto the max_depth specified and then start pruning the tree backwards and remove splits beyond which there is no positive gain.\n",
    "\n",
    "We inspect different \n",
    "- `learning_rates`: if we decrease the learning rate we should add more trees.\n",
    "- `n_estimators`: we evaluate `eval_metric` through 1000 estimators to determine the best value.\n",
    "- `max_depth`: The maximum depth of a tree, same as GBM. Used to control over-fitting as higher depth will allow model to learn relations very specific to a particular sample. Typical values: 3-10\n",
    "- `gamma`: A node is split only when the resulting split gives a positive reduction in the loss function. Gamma specifies the minimum loss reduction required to make a split.\n",
    "- `eval_metric`: Metric used for validation. AUC and Binary classification error rate are chosen."
   ]
  },
  {
   "cell_type": "code",
   "execution_count": 81,
   "metadata": {},
   "outputs": [],
   "source": [
    "import os\n",
    "os.environ['KMP_DUPLICATE_LIB_OK']='True'\n",
    "from xgboost import XGBClassifier"
   ]
  },
  {
   "cell_type": "code",
   "execution_count": 82,
   "metadata": {
    "scrolled": true
   },
   "outputs": [
    {
     "name": "stdout",
     "output_type": "stream",
     "text": [
      "[0]\tvalidation_0-auc:0.800123\tvalidation_0-error:0.259837\tvalidation_1-auc:0.75629\tvalidation_1-error:0.305638\n",
      "[1]\tvalidation_0-auc:0.812894\tvalidation_0-error:0.25167\tvalidation_1-auc:0.768041\tvalidation_1-error:0.296736\n",
      "[2]\tvalidation_0-auc:0.81249\tvalidation_0-error:0.25167\tvalidation_1-auc:0.767465\tvalidation_1-error:0.296736\n",
      "[3]\tvalidation_0-auc:0.810779\tvalidation_0-error:0.259837\tvalidation_1-auc:0.764851\tvalidation_1-error:0.305638\n",
      "[4]\tvalidation_0-auc:0.809871\tvalidation_0-error:0.259837\tvalidation_1-auc:0.766149\tvalidation_1-error:0.305638\n",
      "[5]\tvalidation_0-auc:0.814612\tvalidation_0-error:0.244246\tvalidation_1-auc:0.773755\tvalidation_1-error:0.296736\n",
      "[6]\tvalidation_0-auc:0.818618\tvalidation_0-error:0.242019\tvalidation_1-auc:0.775611\tvalidation_1-error:0.27003\n",
      "[7]\tvalidation_0-auc:0.818127\tvalidation_0-error:0.246474\tvalidation_1-auc:0.779252\tvalidation_1-error:0.284866\n",
      "[8]\tvalidation_0-auc:0.817558\tvalidation_0-error:0.246474\tvalidation_1-auc:0.779288\tvalidation_1-error:0.284866\n",
      "[9]\tvalidation_0-auc:0.822864\tvalidation_0-error:0.240535\tvalidation_1-auc:0.787146\tvalidation_1-error:0.278932\n",
      "[10]\tvalidation_0-auc:0.825588\tvalidation_0-error:0.239792\tvalidation_1-auc:0.791598\tvalidation_1-error:0.275964\n",
      "[11]\tvalidation_0-auc:0.827257\tvalidation_0-error:0.240535\tvalidation_1-auc:0.788353\tvalidation_1-error:0.275964\n",
      "[12]\tvalidation_0-auc:0.827933\tvalidation_0-error:0.241277\tvalidation_1-auc:0.784713\tvalidation_1-error:0.272997\n",
      "[13]\tvalidation_0-auc:0.827641\tvalidation_0-error:0.240535\tvalidation_1-auc:0.784605\tvalidation_1-error:0.272997\n",
      "[14]\tvalidation_0-auc:0.827652\tvalidation_0-error:0.242019\tvalidation_1-auc:0.784857\tvalidation_1-error:0.272997\n",
      "[15]\tvalidation_0-auc:0.827586\tvalidation_0-error:0.241277\tvalidation_1-auc:0.788263\tvalidation_1-error:0.272997\n",
      "[16]\tvalidation_0-auc:0.829581\tvalidation_0-error:0.240535\tvalidation_1-auc:0.791525\tvalidation_1-error:0.272997\n",
      "[17]\tvalidation_0-auc:0.829729\tvalidation_0-error:0.239792\tvalidation_1-auc:0.790985\tvalidation_1-error:0.272997\n",
      "[18]\tvalidation_0-auc:0.830926\tvalidation_0-error:0.241277\tvalidation_1-auc:0.79039\tvalidation_1-error:0.272997\n",
      "[19]\tvalidation_0-auc:0.831025\tvalidation_0-error:0.241277\tvalidation_1-auc:0.790787\tvalidation_1-error:0.272997\n",
      "[20]\tvalidation_0-auc:0.831009\tvalidation_0-error:0.243504\tvalidation_1-auc:0.792012\tvalidation_1-error:0.272997\n",
      "[21]\tvalidation_0-auc:0.830862\tvalidation_0-error:0.243504\tvalidation_1-auc:0.792228\tvalidation_1-error:0.272997\n",
      "[22]\tvalidation_0-auc:0.830573\tvalidation_0-error:0.244989\tvalidation_1-auc:0.792589\tvalidation_1-error:0.267062\n",
      "[23]\tvalidation_0-auc:0.830926\tvalidation_0-error:0.245731\tvalidation_1-auc:0.793094\tvalidation_1-error:0.267062\n",
      "[24]\tvalidation_0-auc:0.833034\tvalidation_0-error:0.23905\tvalidation_1-auc:0.795364\tvalidation_1-error:0.267062\n",
      "[25]\tvalidation_0-auc:0.832965\tvalidation_0-error:0.23905\tvalidation_1-auc:0.795473\tvalidation_1-error:0.267062\n",
      "[26]\tvalidation_0-auc:0.835349\tvalidation_0-error:0.240535\tvalidation_1-auc:0.795689\tvalidation_1-error:0.267062\n",
      "[27]\tvalidation_0-auc:0.835278\tvalidation_0-error:0.240535\tvalidation_1-auc:0.795545\tvalidation_1-error:0.267062\n",
      "[28]\tvalidation_0-auc:0.83539\tvalidation_0-error:0.240535\tvalidation_1-auc:0.795653\tvalidation_1-error:0.264095\n",
      "[29]\tvalidation_0-auc:0.836053\tvalidation_0-error:0.240535\tvalidation_1-auc:0.795545\tvalidation_1-error:0.272997\n",
      "CPU times: user 92.4 ms, sys: 7.7 ms, total: 100 ms\n",
      "Wall time: 90.9 ms\n"
     ]
    },
    {
     "data": {
      "text/plain": [
       "XGBClassifier(base_score=0.5, booster='gbtree', colsample_bylevel=1,\n",
       "       colsample_bynode=1, colsample_bytree=1, gamma=5, learning_rate=0.1,\n",
       "       max_delta_step=0, max_depth=5, min_child_weight=1, missing=None,\n",
       "       n_estimators=30, n_jobs=1, nthread=None,\n",
       "       objective='binary:logistic', random_state=0, reg_alpha=1,\n",
       "       reg_lambda=1, scale_pos_weight=1, seed=None, silent=False,\n",
       "       subsample=1, verbosity=1)"
      ]
     },
     "execution_count": 82,
     "metadata": {},
     "output_type": "execute_result"
    }
   ],
   "source": [
    "#Inspecting performance adding estimators:\n",
    "model = XGBClassifier(silent=False, \n",
    "                      scale_pos_weight=1,\n",
    "                      learning_rate=0.1,  \n",
    "                      colsample_bytree = 1,\n",
    "                      subsample = 1,\n",
    "                      objective='binary:logistic', \n",
    "                      n_estimators=30, \n",
    "                      reg_alpha = 1,\n",
    "                      max_depth=5, \n",
    "                      gamma=5)\n",
    "\n",
    "eval_set = [(X_train, y_train), (X_test, y_test)]\n",
    "eval_metric = [\"auc\",\"error\"]\n",
    "%time model.fit(X_train, y_train, eval_metric=eval_metric, eval_set=eval_set, verbose=True)"
   ]
  },
  {
   "cell_type": "markdown",
   "metadata": {},
   "source": [
    "Now, training the model:"
   ]
  },
  {
   "cell_type": "code",
   "execution_count": 83,
   "metadata": {},
   "outputs": [],
   "source": [
    "xg = XGBClassifier(silent=False, \n",
    "                      scale_pos_weight=1,\n",
    "                      learning_rate=0.1,  \n",
    "                      colsample_bytree = 1,\n",
    "                      subsample = 1,\n",
    "                      objective='binary:logistic', \n",
    "                      n_estimators=25, \n",
    "                      reg_alpha = 1,\n",
    "                      max_depth=5, \n",
    "                      gamma=5)"
   ]
  },
  {
   "cell_type": "code",
   "execution_count": 84,
   "metadata": {},
   "outputs": [],
   "source": [
    "xg.fit(X_train, y_train)\n",
    "y_pred_xg = xg.predict_proba(X_test)[:, 1]"
   ]
  },
  {
   "cell_type": "code",
   "execution_count": 85,
   "metadata": {},
   "outputs": [
    {
     "name": "stdout",
     "output_type": "stream",
     "text": [
      "XGBOOST \n",
      "AUC: 79.54%\n",
      "Accuracy: 73.29%\n"
     ]
    }
   ],
   "source": [
    "fpr_xg, tpr_xg, _ = roc_curve(y_test, y_pred_xg)\n",
    "auc = roc_auc_score(y_test, y_pred_xg)\n",
    "\n",
    "predictions = [round(value) for value in y_pred_xg]\n",
    "predictions = [-1 if p ==0 else 1 for p in predictions]\n",
    "accuracy = accuracy_score(y_test, predictions)\n",
    "print(\"XGBOOST \\nAUC: %.2f%%\" % (auc * 100.0) + \"\\nAccuracy: %.2f%%\" % (accuracy * 100.0))"
   ]
  },
  {
   "cell_type": "markdown",
   "metadata": {},
   "source": [
    "d) Naive Bayes: A prior, we know that Naive Bayes is best for categorical data than numerical (is assumed that data distribute normally), but we include more models to compare the performance of different approaches."
   ]
  },
  {
   "cell_type": "code",
   "execution_count": 86,
   "metadata": {},
   "outputs": [
    {
     "name": "stdout",
     "output_type": "stream",
     "text": [
      "NAIVE BAYES \n",
      "AUC: 67.45%\n",
      "Accuracy: 52.52%\n"
     ]
    }
   ],
   "source": [
    "from sklearn.naive_bayes import GaussianNB\n",
    "clf = GaussianNB()\n",
    "clf.fit(X_train, y_train)\n",
    "\n",
    "y_pred_nb = clf.predict_proba(X_test)[:, 1]\n",
    "fpr_nb, tpr_nb, _ = roc_curve(y_test, y_pred_nb)\n",
    "auc = roc_auc_score(y_test, y_pred_nb)\n",
    "\n",
    "predictions = [round(value) for value in y_pred_nb]\n",
    "predictions = [-1 if p ==0 else 1 for p in predictions]\n",
    "accuracy = accuracy_score(y_test, predictions)\n",
    "print(\"NAIVE BAYES \\nAUC: %.2f%%\" % (auc * 100.0) + \"\\nAccuracy: %.2f%%\" % (accuracy * 100.0))"
   ]
  },
  {
   "cell_type": "markdown",
   "metadata": {},
   "source": [
    "e) Logistic Gradient Boosting and Logistic Random Forest"
   ]
  },
  {
   "cell_type": "code",
   "execution_count": 87,
   "metadata": {},
   "outputs": [],
   "source": [
    "# It is important to train the ensemble of trees on a different subset\n",
    "# of the training data than the linear regression model to avoid\n",
    "# overfitting, in particular if the total number of leaves is\n",
    "# similar to the number of training samples\n",
    "X_train_t, X_train_lr, y_train_t, y_train_lr = train_test_split(\n",
    "    X_train, y_train, test_size=0.5, random_state=42)"
   ]
  },
  {
   "cell_type": "code",
   "execution_count": 88,
   "metadata": {},
   "outputs": [],
   "source": [
    "np.random.seed(10)\n",
    "n_estimator = 10"
   ]
  },
  {
   "cell_type": "code",
   "execution_count": 89,
   "metadata": {},
   "outputs": [
    {
     "data": {
      "text/plain": [
       "LogisticRegression(C=1.0, class_weight=None, dual=False, fit_intercept=True,\n",
       "          intercept_scaling=1, max_iter=500, multi_class='warn',\n",
       "          n_jobs=None, penalty='l2', random_state=None, solver='lbfgs',\n",
       "          tol=0.0001, verbose=0, warm_start=False)"
      ]
     },
     "execution_count": 89,
     "metadata": {},
     "output_type": "execute_result"
    }
   ],
   "source": [
    "# Supervised transformation based on random forests\n",
    "rf = RandomForestClassifier(max_depth=3, n_estimators=n_estimator)\n",
    "rf_enc = OneHotEncoder(categories='auto')\n",
    "rf_lm = LogisticRegression(solver='lbfgs', max_iter=500)\n",
    "rf.fit(X_train_t, y_train_t)\n",
    "rf_enc.fit(rf.apply(X_train_t))\n",
    "rf_lm.fit(rf_enc.transform(rf.apply(X_train_lr)), y_train_lr)"
   ]
  },
  {
   "cell_type": "code",
   "execution_count": 90,
   "metadata": {},
   "outputs": [],
   "source": [
    "parameters_rf_lm = {'C': [0.01, 0.05, 0.1, 0.5, 1]}"
   ]
  },
  {
   "cell_type": "code",
   "execution_count": 91,
   "metadata": {},
   "outputs": [],
   "source": [
    "clf = GridSearchCV(rf_lm, parameters_rf_lm, cv=5)\n",
    "grid_result = clf.fit(X_train_t, y_train_t)"
   ]
  },
  {
   "cell_type": "code",
   "execution_count": 92,
   "metadata": {},
   "outputs": [
    {
     "data": {
      "text/plain": [
       "{'C': 0.01}"
      ]
     },
     "execution_count": 92,
     "metadata": {},
     "output_type": "execute_result"
    }
   ],
   "source": [
    "best_params = grid_result.best_params_\n",
    "best_params"
   ]
  },
  {
   "cell_type": "code",
   "execution_count": 94,
   "metadata": {},
   "outputs": [],
   "source": [
    "rf = RandomForestClassifier(max_depth=3, n_estimators=15)\n",
    "rf_enc = OneHotEncoder(categories='auto')\n",
    "rf_lm = LogisticRegression(solver='lbfgs', max_iter=500, C=0.01)\n",
    "rf.fit(X_train_t, y_train_t)\n",
    "rf_enc.fit(rf.apply(X_train_t))\n",
    "rf_lm.fit(rf_enc.transform(rf.apply(X_train_lr)), y_train_lr)\n",
    "\n",
    "y_pred_rf_lm = rf_lm.predict_proba(rf_enc.transform(rf.apply(X_test)))[:, 1]"
   ]
  },
  {
   "cell_type": "code",
   "execution_count": 95,
   "metadata": {},
   "outputs": [
    {
     "name": "stdout",
     "output_type": "stream",
     "text": [
      "LOGISTIC RANDOM FOREST \n",
      "AUC: 67.45%\n",
      "Accuracy: 70.92%\n"
     ]
    }
   ],
   "source": [
    "fpr_rf_lm, tpr_rf_lm, _ = roc_curve(y_test, y_pred_rf_lm)\n",
    "\n",
    "predictions = [round(value) for value in y_pred_rf_lm]\n",
    "predictions = [-1 if p ==0 else 1 for p in predictions]\n",
    "accuracy = accuracy_score(y_test, predictions)\n",
    "print(\"LOGISTIC RANDOM FOREST \\nAUC: %.2f%%\" % (auc * 100.0) + \"\\nAccuracy: %.2f%%\" % (accuracy * 100.0))"
   ]
  },
  {
   "cell_type": "code",
   "execution_count": 96,
   "metadata": {},
   "outputs": [],
   "source": [
    "# Supervised transformation based on gradient boosted trees\n",
    "grd = GradientBoostingClassifier(learning_rate= 0.1, max_features= None,  n_estimators= 15)\n",
    "grd_enc = OneHotEncoder(categories='auto')\n",
    "grd_lm = LogisticRegression(solver='lbfgs', max_iter=500, C=0.1)\n",
    "grd.fit(X_train_t, y_train_t)\n",
    "grd_enc.fit(grd.apply(X_train_t)[:, :, 0])\n",
    "grd_lm.fit(grd_enc.transform(grd.apply(X_train_lr)[:, :, 0]), y_train_lr)\n",
    "\n",
    "y_pred_grd_lm = grd_lm.predict_proba(grd_enc.transform(grd.apply(X_test)[:, :, 0]))[:, 1]"
   ]
  },
  {
   "cell_type": "code",
   "execution_count": 97,
   "metadata": {},
   "outputs": [
    {
     "name": "stdout",
     "output_type": "stream",
     "text": [
      "LOGISTIC GRADIENT BOOSTING \n",
      "AUC: 67.45%\n",
      "Accuracy: 74.48%\n"
     ]
    }
   ],
   "source": [
    "fpr_grd_lm, tpr_grd_lm, _ = roc_curve(y_test, y_pred_grd_lm)\n",
    "\n",
    "predictions = [round(value) for value in y_pred_grd_lm]\n",
    "predictions = [-1 if p ==0 else 1 for p in predictions]\n",
    "accuracy = accuracy_score(y_test, predictions)\n",
    "print(\"LOGISTIC GRADIENT BOOSTING \\nAUC: %.2f%%\" % (auc * 100.0) + \"\\nAccuracy: %.2f%%\" % (accuracy * 100.0))"
   ]
  },
  {
   "cell_type": "code",
   "execution_count": 98,
   "metadata": {},
   "outputs": [
    {
     "data": {
      "image/png": "[encoded data removed]",
      "text/plain": [
       "<Figure size 1440x720 with 1 Axes>"
      ]
     },
     "metadata": {},
     "output_type": "display_data"
    }
   ],
   "source": [
    "f, ax = plt.subplots(figsize=(20, 10))\n",
    "_ = plt.plot([0, 1], [0, 1], 'k--')\n",
    "_ = plt.plot(fpr_rf, tpr_rf, label='Random Forest', color='tomato', linestyle='-.', linewidth=2.0)\n",
    "_ = plt.plot(fpr_rf_lm, tpr_rf_lm, label='Random Forest Logistic Regression', color='orange', linestyle='-.', linewidth=2.0)\n",
    "_ = plt.plot(fpr_grd, tpr_grd, label='Gradient Boosting', color='darkcyan', linestyle='-.', linewidth=2.0)\n",
    "_ = plt.plot(fpr_grd_lm, tpr_grd_lm, label='Gradient Boosting Logistic Regression', color='navy', linestyle='-.', linewidth=3.0)\n",
    "_ = plt.plot(fpr_xg, tpr_xg, label='XGBoost', color='dodgerblue', linestyle='-.', linewidth=3.0)\n",
    "#_ = plt.plot(fpr_nb, tpr_nb, label='Naive Bayes', color='gray', linestyle='-.', linewidth=2.0)\n",
    "_ = plt.xlabel('False positive rate', fontsize=12)\n",
    "_ = plt.ylabel('True positive rate', fontsize=12)\n",
    "_ = plt.title('Comparative ROC curve using different models', fontsize=14)\n",
    "_ = plt.legend(loc='best')\n",
    "_ = sns.despine(offset=10, trim=True)\n",
    "plt.show()"
   ]
  },
  {
   "cell_type": "code",
   "execution_count": 99,
   "metadata": {},
   "outputs": [
    {
     "name": "stdout",
     "output_type": "stream",
     "text": [
      "Accuracy XGBoost: 73.29%\n"
     ]
    },
    {
     "data": {
      "text/plain": [
       "array([[ 97,  46],\n",
       "       [ 44, 150]])"
      ]
     },
     "execution_count": 99,
     "metadata": {},
     "output_type": "execute_result"
    }
   ],
   "source": [
    "predictions = [round(value) for value in y_pred_xg]\n",
    "predictions = [-1 if p ==0 else 1 for p in predictions]\n",
    "accuracy = accuracy_score(y_test, predictions)\n",
    "print(\"Accuracy XGBoost: %.2f%%\" % (accuracy * 100.0))\n",
    "confusion_matrix(y_test, predictions)\n"
   ]
  },
  {
   "cell_type": "code",
   "execution_count": 100,
   "metadata": {},
   "outputs": [
    {
     "name": "stdout",
     "output_type": "stream",
     "text": [
      "Accuracy Logistic Gradient Boosting: 74.48%\n"
     ]
    },
    {
     "data": {
      "text/plain": [
       "array([[104,  39],\n",
       "       [ 47, 147]])"
      ]
     },
     "execution_count": 100,
     "metadata": {},
     "output_type": "execute_result"
    }
   ],
   "source": [
    "predictions = [round(value) for value in y_pred_grd_lm]\n",
    "predictions = [-1 if p ==0 else 1 for p in predictions]\n",
    "accuracy = accuracy_score(y_test, predictions)\n",
    "print(\"Accuracy Logistic Gradient Boosting: %.2f%%\" % (accuracy * 100.0))\n",
    "confusion_matrix(y_test, predictions)"
   ]
  },
  {
   "cell_type": "code",
   "execution_count": null,
   "metadata": {},
   "outputs": [],
   "source": []
  }
 ],
 "metadata": {
  "kernelspec": {
   "display_name": "Python 3",
   "language": "python",
   "name": "python3"
  },
  "language_info": {
   "codemirror_mode": {
    "name": "ipython",
    "version": 3
   },
   "file_extension": ".py",
   "mimetype": "text/x-python",
   "name": "python",
   "nbconvert_exporter": "python",
   "pygments_lexer": "ipython3",
   "version": "3.7.1"
  }
 },
 "nbformat": 4,
 "nbformat_minor": 2
}
