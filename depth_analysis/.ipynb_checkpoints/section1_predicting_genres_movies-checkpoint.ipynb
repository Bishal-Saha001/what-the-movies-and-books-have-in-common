{
 "cells": [
  {
   "cell_type": "markdown",
   "metadata": {},
   "source": [
    "# Depth findings in Movies"
   ]
  },
  {
   "cell_type": "markdown",
   "metadata": {},
   "source": [
    "## I. Predicting genres using description of movies\n",
    "\n",
    "This dataset contains description of movies, key words and lists of genres. Every movie belongs to at least two genres, but some movies have more than five. In this scenario, for training a model using movies and genres, we need to find the best way to design the labels on base in genres. Create an unique label using all the genres of every movie (drama-thriller, drama-thriller-romance, drama-thriller-romance-music and so on) is not a good choice. "
   ]
  },
  {
   "cell_type": "markdown",
   "metadata": {},
   "source": [
    "### Importing Data"
   ]
  },
  {
   "cell_type": "markdown",
   "metadata": {},
   "source": [
    "Importing relevant packages:"
   ]
  },
  {
   "cell_type": "code",
   "execution_count": 1,
   "metadata": {},
   "outputs": [],
   "source": [
    "import re\n",
    "from scipy import stats\n",
    "import pandas as pd\n",
    "import matplotlib.pyplot as plt\n",
    "import seaborn as sns\n",
    "import numpy as np"
   ]
  },
  {
   "cell_type": "code",
   "execution_count": 2,
   "metadata": {},
   "outputs": [],
   "source": [
    "df_movies = pd.read_csv('../Data/interim/movies/movies.csv')"
   ]
  },
  {
   "cell_type": "code",
   "execution_count": 3,
   "metadata": {},
   "outputs": [],
   "source": [
    "df_movies.rename(columns = {'Unnamed: 0': 'counter'}, inplace=True)"
   ]
  },
  {
   "cell_type": "code",
   "execution_count": 4,
   "metadata": {},
   "outputs": [
    {
     "data": {
      "text/html": [
       "<div>\n",
       "<style scoped>\n",
       "    .dataframe tbody tr th:only-of-type {\n",
       "        vertical-align: middle;\n",
       "    }\n",
       "\n",
       "    .dataframe tbody tr th {\n",
       "        vertical-align: top;\n",
       "    }\n",
       "\n",
       "    .dataframe thead th {\n",
       "        text-align: right;\n",
       "    }\n",
       "</style>\n",
       "<table border=\"1\" class=\"dataframe\">\n",
       "  <thead>\n",
       "    <tr style=\"text-align: right;\">\n",
       "      <th></th>\n",
       "      <th>counter</th>\n",
       "      <th>adult</th>\n",
       "      <th>belongs_to_collection</th>\n",
       "      <th>genres</th>\n",
       "      <th>id</th>\n",
       "      <th>original_language</th>\n",
       "      <th>overview</th>\n",
       "      <th>popularity</th>\n",
       "      <th>production_companies</th>\n",
       "      <th>production_countries</th>\n",
       "      <th>...</th>\n",
       "      <th>Foreign</th>\n",
       "      <th>History</th>\n",
       "      <th>Horror</th>\n",
       "      <th>Music</th>\n",
       "      <th>Mystery</th>\n",
       "      <th>Romance</th>\n",
       "      <th>Thriller</th>\n",
       "      <th>War</th>\n",
       "      <th>Western</th>\n",
       "      <th>key_list</th>\n",
       "    </tr>\n",
       "  </thead>\n",
       "  <tbody>\n",
       "    <tr>\n",
       "      <th>0</th>\n",
       "      <td>0</td>\n",
       "      <td>False</td>\n",
       "      <td>{'id': 10194, 'name': 'Toy Story Collection', ...</td>\n",
       "      <td>[{'id': 16, 'name': 'Animation'}, {'id': 35, '...</td>\n",
       "      <td>862</td>\n",
       "      <td>en</td>\n",
       "      <td>Led by Woody, Andy's toys live happily in his ...</td>\n",
       "      <td>21.946943</td>\n",
       "      <td>[{'name': 'Pixar Animation Studios', 'id': 3}]</td>\n",
       "      <td>[{'iso_3166_1': 'US', 'name': 'United States o...</td>\n",
       "      <td>...</td>\n",
       "      <td>NaN</td>\n",
       "      <td>NaN</td>\n",
       "      <td>NaN</td>\n",
       "      <td>NaN</td>\n",
       "      <td>NaN</td>\n",
       "      <td>NaN</td>\n",
       "      <td>NaN</td>\n",
       "      <td>NaN</td>\n",
       "      <td>NaN</td>\n",
       "      <td>['jealousy', 'toy', 'boy', 'friendship', 'frie...</td>\n",
       "    </tr>\n",
       "    <tr>\n",
       "      <th>1</th>\n",
       "      <td>1</td>\n",
       "      <td>False</td>\n",
       "      <td>NaN</td>\n",
       "      <td>[{'id': 12, 'name': 'Adventure'}, {'id': 14, '...</td>\n",
       "      <td>8844</td>\n",
       "      <td>en</td>\n",
       "      <td>When siblings Judy and Peter discover an encha...</td>\n",
       "      <td>17.015539</td>\n",
       "      <td>[{'name': 'TriStar Pictures', 'id': 559}, {'na...</td>\n",
       "      <td>[{'iso_3166_1': 'US', 'name': 'United States o...</td>\n",
       "      <td>...</td>\n",
       "      <td>NaN</td>\n",
       "      <td>NaN</td>\n",
       "      <td>NaN</td>\n",
       "      <td>NaN</td>\n",
       "      <td>NaN</td>\n",
       "      <td>NaN</td>\n",
       "      <td>NaN</td>\n",
       "      <td>NaN</td>\n",
       "      <td>NaN</td>\n",
       "      <td>['disappearance', 'recluse']</td>\n",
       "    </tr>\n",
       "    <tr>\n",
       "      <th>2</th>\n",
       "      <td>2</td>\n",
       "      <td>False</td>\n",
       "      <td>{'id': 119050, 'name': 'Grumpy Old Men Collect...</td>\n",
       "      <td>[{'id': 10749, 'name': 'Romance'}, {'id': 35, ...</td>\n",
       "      <td>15602</td>\n",
       "      <td>en</td>\n",
       "      <td>A family wedding reignites the ancient feud be...</td>\n",
       "      <td>11.712900</td>\n",
       "      <td>[{'name': 'Warner Bros.', 'id': 6194}, {'name'...</td>\n",
       "      <td>[{'iso_3166_1': 'US', 'name': 'United States o...</td>\n",
       "      <td>...</td>\n",
       "      <td>NaN</td>\n",
       "      <td>NaN</td>\n",
       "      <td>NaN</td>\n",
       "      <td>NaN</td>\n",
       "      <td>NaN</td>\n",
       "      <td>Romance</td>\n",
       "      <td>NaN</td>\n",
       "      <td>NaN</td>\n",
       "      <td>NaN</td>\n",
       "      <td>['fishing', 'duringcreditsstinger']</td>\n",
       "    </tr>\n",
       "  </tbody>\n",
       "</table>\n",
       "<p>3 rows × 37 columns</p>\n",
       "</div>"
      ],
      "text/plain": [
       "   counter  adult                              belongs_to_collection  \\\n",
       "0        0  False  {'id': 10194, 'name': 'Toy Story Collection', ...   \n",
       "1        1  False                                                NaN   \n",
       "2        2  False  {'id': 119050, 'name': 'Grumpy Old Men Collect...   \n",
       "\n",
       "                                              genres     id original_language  \\\n",
       "0  [{'id': 16, 'name': 'Animation'}, {'id': 35, '...    862                en   \n",
       "1  [{'id': 12, 'name': 'Adventure'}, {'id': 14, '...   8844                en   \n",
       "2  [{'id': 10749, 'name': 'Romance'}, {'id': 35, ...  15602                en   \n",
       "\n",
       "                                            overview  popularity  \\\n",
       "0  Led by Woody, Andy's toys live happily in his ...   21.946943   \n",
       "1  When siblings Judy and Peter discover an encha...   17.015539   \n",
       "2  A family wedding reignites the ancient feud be...   11.712900   \n",
       "\n",
       "                                production_companies  \\\n",
       "0     [{'name': 'Pixar Animation Studios', 'id': 3}]   \n",
       "1  [{'name': 'TriStar Pictures', 'id': 559}, {'na...   \n",
       "2  [{'name': 'Warner Bros.', 'id': 6194}, {'name'...   \n",
       "\n",
       "                                production_countries  \\\n",
       "0  [{'iso_3166_1': 'US', 'name': 'United States o...   \n",
       "1  [{'iso_3166_1': 'US', 'name': 'United States o...   \n",
       "2  [{'iso_3166_1': 'US', 'name': 'United States o...   \n",
       "\n",
       "                         ...                         Foreign  History Horror  \\\n",
       "0                        ...                             NaN      NaN    NaN   \n",
       "1                        ...                             NaN      NaN    NaN   \n",
       "2                        ...                             NaN      NaN    NaN   \n",
       "\n",
       "  Music  Mystery  Romance  Thriller  War Western  \\\n",
       "0   NaN      NaN      NaN       NaN  NaN     NaN   \n",
       "1   NaN      NaN      NaN       NaN  NaN     NaN   \n",
       "2   NaN      NaN  Romance       NaN  NaN     NaN   \n",
       "\n",
       "                                            key_list  \n",
       "0  ['jealousy', 'toy', 'boy', 'friendship', 'frie...  \n",
       "1                       ['disappearance', 'recluse']  \n",
       "2                ['fishing', 'duringcreditsstinger']  \n",
       "\n",
       "[3 rows x 37 columns]"
      ]
     },
     "execution_count": 4,
     "metadata": {},
     "output_type": "execute_result"
    }
   ],
   "source": [
    "df_movies.head(3)"
   ]
  },
  {
   "cell_type": "markdown",
   "metadata": {},
   "source": [
    "### NLP Preprocessing to extract key words\n",
    "\n",
    "In this part, we are using NLP preprocessing pipeline to extract key words from overviews. We dont' want to repeat the pipeline in duplicates movies, then we assert that every id movie is unique."
   ]
  },
  {
   "cell_type": "code",
   "execution_count": 5,
   "metadata": {},
   "outputs": [],
   "source": [
    "try:\n",
    "    assert len(df_movies.id) == len(df_movies.id.unique())\n",
    "except:\n",
    "    df_movies.drop_duplicates('id', keep='first', inplace=True)"
   ]
  },
  {
   "cell_type": "code",
   "execution_count": 6,
   "metadata": {},
   "outputs": [],
   "source": [
    "from nltk.stem import WordNetLemmatizer \n",
    "import nltk\n",
    "import json"
   ]
  },
  {
   "cell_type": "code",
   "execution_count": 7,
   "metadata": {},
   "outputs": [],
   "source": [
    "\"\"\"\n",
    "from http://stackoverflow.com/questions/19790188/expanding-english-language-contractions-in-python\n",
    "all credits go to alko and arturomp @ stack overflow.\n",
    "\"\"\"\n",
    "\n",
    "with open('../Data_wrangling/wordLists/contractionList.txt', 'r') as f:\n",
    "    cList = json.loads(f.read())\n",
    "    c_re = re.compile('(%s)' % '|'.join(cList.keys()))\n",
    "\n",
    "def expandContractions(text, c_re=c_re):\n",
    "    def replace(match):\n",
    "        return cList[match.group(0)]\n",
    "    return c_re.sub(replace, text)"
   ]
  },
  {
   "cell_type": "code",
   "execution_count": 8,
   "metadata": {},
   "outputs": [],
   "source": [
    "wpt = nltk.WordPunctTokenizer()\n",
    "lemmatizer = WordNetLemmatizer()\n",
    "stopwords_list = nltk.corpus.stopwords.words('english')\n",
    "\n",
    "def pre_processing(text):\n",
    "    text = expandContractions(text.lower())\n",
    "    # Filtering special characters\n",
    "    text = re.sub(r'[^0-9-a-zA-Z\\s]','', text)\n",
    "    # Tokenization and filtering stop-words\n",
    "    tokens = wpt.tokenize(text)\n",
    "    # Filtering stop_words\n",
    "    tokens_filtered = [word for word in tokens if word.lower() not in stopwords_list]\n",
    "    # Lemmatization\n",
    "    words_lem = [lemmatizer.lemmatize(word) for word in tokens_filtered]\n",
    "    text_norm = ' '.join(words_lem)\n",
    "    \n",
    "    return text_norm"
   ]
  },
  {
   "cell_type": "markdown",
   "metadata": {},
   "source": [
    "Filtering NaN overviews:"
   ]
  },
  {
   "cell_type": "code",
   "execution_count": 9,
   "metadata": {},
   "outputs": [
    {
     "name": "stdout",
     "output_type": "stream",
     "text": [
      "size of data = 42777 \n",
      "size of data ignoring NaN in overviews = 42084\n"
     ]
    }
   ],
   "source": [
    "df_movies_copy = df_movies.copy()\n",
    "df_movies_copy.dropna(subset=['overview'], inplace=True)\n",
    "print('size of data = {}'.format(df_movies.shape[0]), '\\nsize of data ignoring NaN in overviews = {}'.format(df_movies_copy.shape[0]))"
   ]
  },
  {
   "cell_type": "code",
   "execution_count": 10,
   "metadata": {},
   "outputs": [],
   "source": [
    "df_movies_copy['overview_normalized'] = df_movies_copy.overview.apply(pre_processing)"
   ]
  },
  {
   "cell_type": "markdown",
   "metadata": {},
   "source": [
    "### Part of Speech to delete irrelevant words"
   ]
  },
  {
   "cell_type": "markdown",
   "metadata": {},
   "source": [
    "One approach is use our preprocessing NLP steps for filtering irrelevant words, but instead, we could use part of speech and extract only some specific structures of sentences, for instances, verbs, nouns and adjectives. "
   ]
  },
  {
   "cell_type": "code",
   "execution_count": 11,
   "metadata": {},
   "outputs": [],
   "source": [
    "from nltk.tag import pos_tag"
   ]
  },
  {
   "cell_type": "code",
   "execution_count": 12,
   "metadata": {},
   "outputs": [
    {
     "name": "stdout",
     "output_type": "stream",
     "text": [
      "[('failed', 'VBD'), ('hockey', 'NN'), ('player', 'NN'), ('-', ':'), ('turned', 'VBD'), ('-', ':'), ('golf', 'NN'), ('whiz', 'NN'), ('happy', 'JJ'), ('gilmore', 'NN'), ('--', ':'), ('whose', 'WP$'), ('unconventional', 'JJ'), ('approach', 'NN'), ('antic', 'JJ'), ('grass', 'NN'), ('court', 'NN'), ('ire', 'NN'), ('rival', 'JJ'), ('shooter', 'NN'), ('mcgavin', 'NN'), ('--', ':'), ('determined', 'VBD'), ('win', 'JJ'), ('pga', 'JJ'), ('tournament', 'NN'), ('save', 'VB'), ('granny', 'JJ'), ('house', 'NN'), ('prize', 'VB'), ('money', 'NN'), ('meanwhile', 'RB'), ('attractive', 'JJ'), ('tour', 'NN'), ('publicist', 'NN'), ('try', 'NN'), ('soften', 'VBD'), ('happys', 'JJ'), ('image', 'NN')]\n"
     ]
    }
   ],
   "source": [
    "sent = nltk.word_tokenize(df_movies_copy['overview_normalized'][100])\n",
    "sent = nltk.pos_tag(sent)\n",
    "print(sent)\n",
    "#Save CD-dates and NNP(places, names, countries, person)"
   ]
  },
  {
   "cell_type": "markdown",
   "metadata": {},
   "source": [
    "As you can note, the words `high school`, `teacher` are more descriptives than verbs as `writing` or `redefine`. Therefore, we apply a second filter based on the type of structure that every word represent, selecting nouns, adjectives and numbers over verbs."
   ]
  },
  {
   "cell_type": "markdown",
   "metadata": {},
   "source": [
    "We could go without preprositions `IN` and verbs `VB`, for instances. Using all the movies in the sample and filtering all except nouns `NN`, adjectives `JJ` and cardinal digits `CD`:"
   ]
  },
  {
   "cell_type": "code",
   "execution_count": 13,
   "metadata": {},
   "outputs": [],
   "source": [
    "def part_of_speech_filtering(text):\n",
    "    \"\"\"\n",
    "    This function filter words after to determine the part of speech of everyone using nltk library. \n",
    "    Only nouns, adjectives and numbers are retrieved, listed in post_list.\n",
    "    \"\"\"\n",
    "    pos_list = ['NN', 'VBP', 'NNS', 'NNPS', 'NNP', 'JJ', 'JJR', 'JJS', 'CD']\n",
    "    # Determining Part Of Speech of every word\n",
    "    tokens = nltk.word_tokenize(text)\n",
    "    pos = nltk.pos_tag(tokens)\n",
    "    # Filtering according to pos_list\n",
    "    words_pos = [p[0].lower() for p in pos if p[1] in pos_list]\n",
    "    # Joining the words again to return as text\n",
    "    text_pos = ' '.join(words_pos)\n",
    "    \n",
    "    return text_pos"
   ]
  },
  {
   "cell_type": "markdown",
   "metadata": {},
   "source": [
    "Applying over data:"
   ]
  },
  {
   "cell_type": "code",
   "execution_count": 14,
   "metadata": {},
   "outputs": [],
   "source": [
    "df_movies_copy['overview_PoS'] = df_movies_copy.overview.apply(part_of_speech_filtering)"
   ]
  },
  {
   "cell_type": "code",
   "execution_count": 15,
   "metadata": {},
   "outputs": [
    {
     "data": {
      "text/html": [
       "<div>\n",
       "<style scoped>\n",
       "    .dataframe tbody tr th:only-of-type {\n",
       "        vertical-align: middle;\n",
       "    }\n",
       "\n",
       "    .dataframe tbody tr th {\n",
       "        vertical-align: top;\n",
       "    }\n",
       "\n",
       "    .dataframe thead th {\n",
       "        text-align: right;\n",
       "    }\n",
       "</style>\n",
       "<table border=\"1\" class=\"dataframe\">\n",
       "  <thead>\n",
       "    <tr style=\"text-align: right;\">\n",
       "      <th></th>\n",
       "      <th>overview</th>\n",
       "      <th>overview_normalized</th>\n",
       "      <th>overview_PoS</th>\n",
       "    </tr>\n",
       "  </thead>\n",
       "  <tbody>\n",
       "    <tr>\n",
       "      <th>0</th>\n",
       "      <td>Led by Woody, Andy's toys live happily in his ...</td>\n",
       "      <td>led woody andys toy live happily room andys bi...</td>\n",
       "      <td>woody andy toys live room andy birthday buzz l...</td>\n",
       "    </tr>\n",
       "    <tr>\n",
       "      <th>1</th>\n",
       "      <td>When siblings Judy and Peter discover an encha...</td>\n",
       "      <td>sibling judy peter discover enchanted board ga...</td>\n",
       "      <td>siblings judy peter discover board game door m...</td>\n",
       "    </tr>\n",
       "    <tr>\n",
       "      <th>2</th>\n",
       "      <td>A family wedding reignites the ancient feud be...</td>\n",
       "      <td>family wedding reignites ancient feud next - d...</td>\n",
       "      <td>family wedding ancient feud next-door neighbor...</td>\n",
       "    </tr>\n",
       "    <tr>\n",
       "      <th>3</th>\n",
       "      <td>Cheated on, mistreated and stepped on, the wom...</td>\n",
       "      <td>cheated mistreated stepped woman holding breat...</td>\n",
       "      <td>women are breath elusive good man string less-...</td>\n",
       "    </tr>\n",
       "    <tr>\n",
       "      <th>4</th>\n",
       "      <td>Just when George Banks has recovered from his ...</td>\n",
       "      <td>george bank recovered daughter wedding receive...</td>\n",
       "      <td>george banks daughter wedding news pregnant ge...</td>\n",
       "    </tr>\n",
       "  </tbody>\n",
       "</table>\n",
       "</div>"
      ],
      "text/plain": [
       "                                            overview  \\\n",
       "0  Led by Woody, Andy's toys live happily in his ...   \n",
       "1  When siblings Judy and Peter discover an encha...   \n",
       "2  A family wedding reignites the ancient feud be...   \n",
       "3  Cheated on, mistreated and stepped on, the wom...   \n",
       "4  Just when George Banks has recovered from his ...   \n",
       "\n",
       "                                 overview_normalized  \\\n",
       "0  led woody andys toy live happily room andys bi...   \n",
       "1  sibling judy peter discover enchanted board ga...   \n",
       "2  family wedding reignites ancient feud next - d...   \n",
       "3  cheated mistreated stepped woman holding breat...   \n",
       "4  george bank recovered daughter wedding receive...   \n",
       "\n",
       "                                        overview_PoS  \n",
       "0  woody andy toys live room andy birthday buzz l...  \n",
       "1  siblings judy peter discover board game door m...  \n",
       "2  family wedding ancient feud next-door neighbor...  \n",
       "3  women are breath elusive good man string less-...  \n",
       "4  george banks daughter wedding news pregnant ge...  "
      ]
     },
     "execution_count": 15,
     "metadata": {},
     "output_type": "execute_result"
    }
   ],
   "source": [
    "df_movies_copy.loc[:, ('overview', 'overview_normalized', 'overview_PoS')].head()"
   ]
  },
  {
   "cell_type": "markdown",
   "metadata": {},
   "source": [
    "For instances, if the original text is:"
   ]
  },
  {
   "cell_type": "code",
   "execution_count": 16,
   "metadata": {},
   "outputs": [
    {
     "name": "stdout",
     "output_type": "stream",
     "text": [
      "When siblings Judy and Peter discover an enchanted board game that opens the door to a magical world, they unwittingly invite Alan -- an adult who's been trapped inside the game for 26 years -- into their living room. Alan's only hope for freedom is to finish the game, which proves risky as all three find themselves running from giant rhinoceroses, evil monkeys and other terrifying creatures.\n",
      "\n"
     ]
    }
   ],
   "source": [
    "print(df_movies_copy.overview[1] + '\\n')"
   ]
  },
  {
   "cell_type": "code",
   "execution_count": 17,
   "metadata": {},
   "outputs": [
    {
     "name": "stdout",
     "output_type": "stream",
     "text": [
      "67\n"
     ]
    }
   ],
   "source": [
    "print(len(df_movies_copy.overview[1].split(' ')))"
   ]
  },
  {
   "cell_type": "markdown",
   "metadata": {},
   "source": [
    "Comparing both approaches:"
   ]
  },
  {
   "cell_type": "code",
   "execution_count": 18,
   "metadata": {},
   "outputs": [
    {
     "name": "stdout",
     "output_type": "stream",
     "text": [
      "sibling judy peter discover enchanted board game open door magical world unwittingly invite alan -- adult trapped inside game 26 year -- living room alans hope freedom finish game prof risky three find running giant rhinoceros evil monkey terrifying creature\n",
      "\n",
      "siblings judy peter discover board game door magical world invite alan adult game 26 years living room alan only hope freedom game risky three find giant rhinoceroses evil monkeys other terrifying creatures\n"
     ]
    }
   ],
   "source": [
    "print(df_movies_copy.overview_normalized[1] + '\\n')\n",
    "print(df_movies_copy.overview_PoS[1])"
   ]
  },
  {
   "cell_type": "code",
   "execution_count": 19,
   "metadata": {},
   "outputs": [
    {
     "name": "stdout",
     "output_type": "stream",
     "text": [
      "Lenght of overview normalized using preprocessing nlp steps: 40\n",
      "Lenght of overview filtered using Part of Speech: 32\n"
     ]
    }
   ],
   "source": [
    "print('Lenght of overview normalized using preprocessing nlp steps: {}'.format(len(df_movies_copy.overview_normalized[1].split(' '))))\n",
    "print('Lenght of overview filtered using Part of Speech: {}'.format(len(df_movies_copy.overview_PoS[1].split(' '))))"
   ]
  },
  {
   "cell_type": "markdown",
   "metadata": {},
   "source": [
    "In this way, we delete the words that we don't need to build the document of every genre. Then, we add the `key_list` and `titles` to this new overview filtered by PoS:"
   ]
  },
  {
   "cell_type": "code",
   "execution_count": 20,
   "metadata": {},
   "outputs": [],
   "source": [
    "def key_text(key_list):\n",
    "    text = ''\n",
    "    for a in key_list.split(','):\n",
    "        text += ''.join(' ' +a.strip(\" ' \").strip(\" [' \").strip(\" '] \"))\n",
    "    return text[1:]"
   ]
  },
  {
   "cell_type": "code",
   "execution_count": 21,
   "metadata": {},
   "outputs": [],
   "source": [
    "df_movies_copy.loc[:, 'key_text'] = df_movies_copy.key_list.apply(key_text)"
   ]
  },
  {
   "cell_type": "code",
   "execution_count": 22,
   "metadata": {},
   "outputs": [],
   "source": [
    "df_movies_copy.title.replace(np.nan, '', regex=True, inplace=True)"
   ]
  },
  {
   "cell_type": "code",
   "execution_count": 23,
   "metadata": {},
   "outputs": [],
   "source": [
    "df_movies_copy['title_normalized'] = df_movies_copy.title.apply(pre_processing)"
   ]
  },
  {
   "cell_type": "markdown",
   "metadata": {},
   "source": [
    "Building `description` feature sum up titles, key words and filtered overview by PoS:"
   ]
  },
  {
   "cell_type": "code",
   "execution_count": 24,
   "metadata": {},
   "outputs": [],
   "source": [
    "df_movies_copy['description'] = df_movies_copy.title_normalized + ' ' + df_movies_copy.key_text + ' ' + df_movies_copy.overview_PoS\n"
   ]
  },
  {
   "cell_type": "markdown",
   "metadata": {},
   "source": [
    "Splitting dataFrame in 80% to build a document by genre and 20% to compare the genres predicted with the original labels:"
   ]
  },
  {
   "cell_type": "code",
   "execution_count": 25,
   "metadata": {},
   "outputs": [],
   "source": [
    "df_movies_train = df_movies_copy.sample(frac=0.8, random_state=42)"
   ]
  },
  {
   "cell_type": "code",
   "execution_count": 26,
   "metadata": {},
   "outputs": [],
   "source": [
    "df_movies_test = df_movies_copy.drop(df_movies_train.index)"
   ]
  },
  {
   "cell_type": "code",
   "execution_count": 27,
   "metadata": {},
   "outputs": [
    {
     "name": "stdout",
     "output_type": "stream",
     "text": [
      "Movies for training the model: 33667\n",
      "Movies for test similarities: 8417\n"
     ]
    }
   ],
   "source": [
    "print('Movies for training the model: {}'.format(df_movies_train.shape[0]) + '\\n' +\n",
    "      'Movies for test similarities: {}'.format(df_movies_test.shape[0]))"
   ]
  },
  {
   "cell_type": "code",
   "execution_count": 28,
   "metadata": {},
   "outputs": [
    {
     "data": {
      "text/html": [
       "<div>\n",
       "<style scoped>\n",
       "    .dataframe tbody tr th:only-of-type {\n",
       "        vertical-align: middle;\n",
       "    }\n",
       "\n",
       "    .dataframe tbody tr th {\n",
       "        vertical-align: top;\n",
       "    }\n",
       "\n",
       "    .dataframe thead th {\n",
       "        text-align: right;\n",
       "    }\n",
       "</style>\n",
       "<table border=\"1\" class=\"dataframe\">\n",
       "  <thead>\n",
       "    <tr style=\"text-align: right;\">\n",
       "      <th></th>\n",
       "      <th>id</th>\n",
       "      <th>genres_list</th>\n",
       "      <th>description</th>\n",
       "    </tr>\n",
       "  </thead>\n",
       "  <tbody>\n",
       "    <tr>\n",
       "      <th>40275</th>\n",
       "      <td>324263</td>\n",
       "      <td>['Documentary']</td>\n",
       "      <td>breaking monster  monster band members truth a...</td>\n",
       "    </tr>\n",
       "    <tr>\n",
       "      <th>20131</th>\n",
       "      <td>34601</td>\n",
       "      <td>['Crime', 'Drama', 'Thriller']</td>\n",
       "      <td>three way adultery kidnapping blackmail yacht ...</td>\n",
       "    </tr>\n",
       "    <tr>\n",
       "      <th>37350</th>\n",
       "      <td>69636</td>\n",
       "      <td>['Action', 'Drama', 'Mystery', 'Thriller']</td>\n",
       "      <td>ghajini revenge murder injustice memento film ...</td>\n",
       "    </tr>\n",
       "    <tr>\n",
       "      <th>7368</th>\n",
       "      <td>55730</td>\n",
       "      <td>['Comedy']</td>\n",
       "      <td>new gun gun neighbor debbie gerald lives chang...</td>\n",
       "    </tr>\n",
       "    <tr>\n",
       "      <th>28131</th>\n",
       "      <td>248559</td>\n",
       "      <td>['Comedy']</td>\n",
       "      <td>let u  sex comedy virgin freddie major complex...</td>\n",
       "    </tr>\n",
       "  </tbody>\n",
       "</table>\n",
       "</div>"
      ],
      "text/plain": [
       "           id                                 genres_list  \\\n",
       "40275  324263                             ['Documentary']   \n",
       "20131   34601              ['Crime', 'Drama', 'Thriller']   \n",
       "37350   69636  ['Action', 'Drama', 'Mystery', 'Thriller']   \n",
       "7368    55730                                  ['Comedy']   \n",
       "28131  248559                                  ['Comedy']   \n",
       "\n",
       "                                             description  \n",
       "40275  breaking monster  monster band members truth a...  \n",
       "20131  three way adultery kidnapping blackmail yacht ...  \n",
       "37350  ghajini revenge murder injustice memento film ...  \n",
       "7368   new gun gun neighbor debbie gerald lives chang...  \n",
       "28131  let u  sex comedy virgin freddie major complex...  "
      ]
     },
     "execution_count": 28,
     "metadata": {},
     "output_type": "execute_result"
    }
   ],
   "source": [
    "df_movies_train.loc[:, ['id', 'genres_list', 'description']].head()"
   ]
  },
  {
   "cell_type": "markdown",
   "metadata": {},
   "source": [
    "## Documents by genre"
   ]
  },
  {
   "cell_type": "markdown",
   "metadata": {},
   "source": [
    "We define `col` as the list of possible genres:"
   ]
  },
  {
   "cell_type": "code",
   "execution_count": 29,
   "metadata": {},
   "outputs": [],
   "source": [
    "col = df_movies_copy.loc[:, 'Action':'Western'].columns"
   ]
  },
  {
   "cell_type": "markdown",
   "metadata": {},
   "source": [
    "The following step is create a dataFrame with `description` by genre separately. It means that a movie with four genres appears in the list four time with a different label of genre."
   ]
  },
  {
   "cell_type": "code",
   "execution_count": 30,
   "metadata": {},
   "outputs": [],
   "source": [
    "df_movies_train = df_movies_train.reset_index()"
   ]
  },
  {
   "cell_type": "code",
   "execution_count": 31,
   "metadata": {},
   "outputs": [],
   "source": [
    "label, description_pos = [], []\n",
    "pattern = r'[^0-9-a-zA-Z\\s]'\n",
    "for k in range(df_movies_train.shape[0]): \n",
    "    # if the movie has more than one genre, we iterate over every genre and replicate the overview\n",
    "    if len(df_movies_train.genres_list[k]) > 1:\n",
    "        for g in df_movies_train.genres_list[k].split(','):\n",
    "            label.append((re.sub(pattern, '', g)).strip(' '))\n",
    "            description_pos.append(df_movies_train.description[k])\n",
    "    else:\n",
    "        label.append(re.sub(pattern, '', df_movies_train.genres_list[k]))\n",
    "        description_pos.append(df_movies_train.description[k])"
   ]
  },
  {
   "cell_type": "code",
   "execution_count": 32,
   "metadata": {},
   "outputs": [],
   "source": [
    "genres_movies = pd.DataFrame({'label': label, 'description' : description_pos})"
   ]
  },
  {
   "cell_type": "code",
   "execution_count": 33,
   "metadata": {},
   "outputs": [
    {
     "data": {
      "text/html": [
       "<div>\n",
       "<style scoped>\n",
       "    .dataframe tbody tr th:only-of-type {\n",
       "        vertical-align: middle;\n",
       "    }\n",
       "\n",
       "    .dataframe tbody tr th {\n",
       "        vertical-align: top;\n",
       "    }\n",
       "\n",
       "    .dataframe thead th {\n",
       "        text-align: right;\n",
       "    }\n",
       "</style>\n",
       "<table border=\"1\" class=\"dataframe\">\n",
       "  <thead>\n",
       "    <tr style=\"text-align: right;\">\n",
       "      <th></th>\n",
       "      <th>label</th>\n",
       "      <th>description</th>\n",
       "    </tr>\n",
       "  </thead>\n",
       "  <tbody>\n",
       "    <tr>\n",
       "      <th>0</th>\n",
       "      <td>Documentary</td>\n",
       "      <td>breaking monster  monster band members truth a...</td>\n",
       "    </tr>\n",
       "    <tr>\n",
       "      <th>1</th>\n",
       "      <td>Crime</td>\n",
       "      <td>three way adultery kidnapping blackmail yacht ...</td>\n",
       "    </tr>\n",
       "    <tr>\n",
       "      <th>2</th>\n",
       "      <td>Drama</td>\n",
       "      <td>three way adultery kidnapping blackmail yacht ...</td>\n",
       "    </tr>\n",
       "    <tr>\n",
       "      <th>3</th>\n",
       "      <td>Thriller</td>\n",
       "      <td>three way adultery kidnapping blackmail yacht ...</td>\n",
       "    </tr>\n",
       "    <tr>\n",
       "      <th>4</th>\n",
       "      <td>Action</td>\n",
       "      <td>ghajini revenge murder injustice memento film ...</td>\n",
       "    </tr>\n",
       "  </tbody>\n",
       "</table>\n",
       "</div>"
      ],
      "text/plain": [
       "         label                                        description\n",
       "0  Documentary  breaking monster  monster band members truth a...\n",
       "1        Crime  three way adultery kidnapping blackmail yacht ...\n",
       "2        Drama  three way adultery kidnapping blackmail yacht ...\n",
       "3     Thriller  three way adultery kidnapping blackmail yacht ...\n",
       "4       Action  ghajini revenge murder injustice memento film ..."
      ]
     },
     "execution_count": 33,
     "metadata": {},
     "output_type": "execute_result"
    }
   ],
   "source": [
    "genres_movies.head()"
   ]
  },
  {
   "cell_type": "markdown",
   "metadata": {},
   "source": [
    "How many overviews are building every genre corpora? "
   ]
  },
  {
   "cell_type": "code",
   "execution_count": 34,
   "metadata": {},
   "outputs": [
    {
     "data": {
      "text/html": [
       "<div>\n",
       "<style scoped>\n",
       "    .dataframe tbody tr th:only-of-type {\n",
       "        vertical-align: middle;\n",
       "    }\n",
       "\n",
       "    .dataframe tbody tr th {\n",
       "        vertical-align: top;\n",
       "    }\n",
       "\n",
       "    .dataframe thead th {\n",
       "        text-align: right;\n",
       "    }\n",
       "</style>\n",
       "<table border=\"1\" class=\"dataframe\">\n",
       "  <thead>\n",
       "    <tr style=\"text-align: right;\">\n",
       "      <th></th>\n",
       "      <th>description</th>\n",
       "    </tr>\n",
       "    <tr>\n",
       "      <th>label</th>\n",
       "      <th></th>\n",
       "    </tr>\n",
       "  </thead>\n",
       "  <tbody>\n",
       "    <tr>\n",
       "      <th>Action</th>\n",
       "      <td>5261</td>\n",
       "    </tr>\n",
       "    <tr>\n",
       "      <th>Adventure</th>\n",
       "      <td>2710</td>\n",
       "    </tr>\n",
       "    <tr>\n",
       "      <th>Animation</th>\n",
       "      <td>1545</td>\n",
       "    </tr>\n",
       "    <tr>\n",
       "      <th>Comedy</th>\n",
       "      <td>10246</td>\n",
       "    </tr>\n",
       "    <tr>\n",
       "      <th>Crime</th>\n",
       "      <td>3423</td>\n",
       "    </tr>\n",
       "    <tr>\n",
       "      <th>Documentary</th>\n",
       "      <td>3083</td>\n",
       "    </tr>\n",
       "    <tr>\n",
       "      <th>Drama</th>\n",
       "      <td>16043</td>\n",
       "    </tr>\n",
       "    <tr>\n",
       "      <th>Family</th>\n",
       "      <td>2189</td>\n",
       "    </tr>\n",
       "    <tr>\n",
       "      <th>Fantasy</th>\n",
       "      <td>1852</td>\n",
       "    </tr>\n",
       "    <tr>\n",
       "      <th>Foreign</th>\n",
       "      <td>1259</td>\n",
       "    </tr>\n",
       "    <tr>\n",
       "      <th>History</th>\n",
       "      <td>1093</td>\n",
       "    </tr>\n",
       "    <tr>\n",
       "      <th>Horror</th>\n",
       "      <td>3754</td>\n",
       "    </tr>\n",
       "    <tr>\n",
       "      <th>Music</th>\n",
       "      <td>1298</td>\n",
       "    </tr>\n",
       "    <tr>\n",
       "      <th>Mystery</th>\n",
       "      <td>1962</td>\n",
       "    </tr>\n",
       "    <tr>\n",
       "      <th>Romance</th>\n",
       "      <td>5360</td>\n",
       "    </tr>\n",
       "    <tr>\n",
       "      <th>Thriller</th>\n",
       "      <td>6062</td>\n",
       "    </tr>\n",
       "    <tr>\n",
       "      <th>War</th>\n",
       "      <td>1059</td>\n",
       "    </tr>\n",
       "    <tr>\n",
       "      <th>Western</th>\n",
       "      <td>824</td>\n",
       "    </tr>\n",
       "  </tbody>\n",
       "</table>\n",
       "</div>"
      ],
      "text/plain": [
       "             description\n",
       "label                   \n",
       "Action              5261\n",
       "Adventure           2710\n",
       "Animation           1545\n",
       "Comedy             10246\n",
       "Crime               3423\n",
       "Documentary         3083\n",
       "Drama              16043\n",
       "Family              2189\n",
       "Fantasy             1852\n",
       "Foreign             1259\n",
       "History             1093\n",
       "Horror              3754\n",
       "Music               1298\n",
       "Mystery             1962\n",
       "Romance             5360\n",
       "Thriller            6062\n",
       "War                 1059\n",
       "Western              824"
      ]
     },
     "execution_count": 34,
     "metadata": {},
     "output_type": "execute_result"
    }
   ],
   "source": [
    "genres_movies.groupby('label').count()"
   ]
  },
  {
   "cell_type": "code",
   "execution_count": 35,
   "metadata": {},
   "outputs": [
    {
     "data": {
      "image/png": "[encoded data removed]",
      "text/plain": [
       "<Figure size 1440x432 with 1 Axes>"
      ]
     },
     "metadata": {
      "needs_background": "light"
     },
     "output_type": "display_data"
    }
   ],
   "source": [
    "f, ax = plt.subplots(figsize=(20, 6))\n",
    "_ = sns.set_style(\"white\")\n",
    "ax = sns.barplot(x=genres_movies.groupby('label').count().index, y=genres_movies.groupby('label').count().description, \n",
    "                 palette='coolwarm')\n",
    "ax.set_yscale('log')\n",
    "_ = plt.xlabel('Genres', fontsize=10)\n",
    "_ = plt.ylabel('Number of movie overviews', fontsize=10)\n",
    "_ = plt.title('Overviews used to build Documents by Gender', fontsize=14)\n",
    "_ = sns.despine(offset=5, trim=True)"
   ]
  },
  {
   "cell_type": "code",
   "execution_count": 36,
   "metadata": {},
   "outputs": [
    {
     "data": {
      "image/png": "[encoded data removed]",
      "text/plain": [
       "<Figure size 216x432 with 1 Axes>"
      ]
     },
     "metadata": {},
     "output_type": "display_data"
    }
   ],
   "source": [
    "f, ax = plt.subplots(figsize=(3, 6))\n",
    "_ = sns.set_style(\"white\")\n",
    "ax = sns.boxplot(genres_movies.groupby('label').count().description, orient='v')\n",
    "_ = plt.ylabel('Number of movie overviews', fontsize=10)\n",
    "_ = sns.despine(offset=5, trim=True)"
   ]
  },
  {
   "cell_type": "markdown",
   "metadata": {},
   "source": [
    "According to the figure above, two genres are exceeding ten thousand overviews, *Drama* and *Comedy* and represent outliers. The third highest is *Thriller*, with six thousand overviews and the rest are concentrated between 1000-5000. Trying to reduce this difference, we establish the maximum number of overviews as 5000 and we take a sample of all the genres that exceed this value:"
   ]
  },
  {
   "cell_type": "code",
   "execution_count": 37,
   "metadata": {},
   "outputs": [
    {
     "data": {
      "text/html": [
       "<div>\n",
       "<style scoped>\n",
       "    .dataframe tbody tr th:only-of-type {\n",
       "        vertical-align: middle;\n",
       "    }\n",
       "\n",
       "    .dataframe tbody tr th {\n",
       "        vertical-align: top;\n",
       "    }\n",
       "\n",
       "    .dataframe thead th {\n",
       "        text-align: right;\n",
       "    }\n",
       "</style>\n",
       "<table border=\"1\" class=\"dataframe\">\n",
       "  <thead>\n",
       "    <tr style=\"text-align: right;\">\n",
       "      <th></th>\n",
       "      <th>description</th>\n",
       "    </tr>\n",
       "    <tr>\n",
       "      <th>label</th>\n",
       "      <th></th>\n",
       "    </tr>\n",
       "  </thead>\n",
       "  <tbody>\n",
       "    <tr>\n",
       "      <th>Action</th>\n",
       "      <td>5261</td>\n",
       "    </tr>\n",
       "    <tr>\n",
       "      <th>Comedy</th>\n",
       "      <td>10246</td>\n",
       "    </tr>\n",
       "    <tr>\n",
       "      <th>Drama</th>\n",
       "      <td>16043</td>\n",
       "    </tr>\n",
       "    <tr>\n",
       "      <th>Romance</th>\n",
       "      <td>5360</td>\n",
       "    </tr>\n",
       "    <tr>\n",
       "      <th>Thriller</th>\n",
       "      <td>6062</td>\n",
       "    </tr>\n",
       "  </tbody>\n",
       "</table>\n",
       "</div>"
      ],
      "text/plain": [
       "          description\n",
       "label                \n",
       "Action           5261\n",
       "Comedy          10246\n",
       "Drama           16043\n",
       "Romance          5360\n",
       "Thriller         6062"
      ]
     },
     "execution_count": 37,
     "metadata": {},
     "output_type": "execute_result"
    }
   ],
   "source": [
    "df_count_movies = genres_movies.groupby('label').count()\n",
    "df_count_movies[df_count_movies.description > 5000]"
   ]
  },
  {
   "cell_type": "code",
   "execution_count": 38,
   "metadata": {},
   "outputs": [],
   "source": [
    "action = genres_movies[genres_movies['label'] == 'Action']\n",
    "comedy = genres_movies[genres_movies['label'] == 'Comedy']\n",
    "drama = genres_movies[genres_movies['label'] == 'Drama']\n",
    "romance = genres_movies[genres_movies['label'] == 'Romance']\n",
    "thriller = genres_movies[genres_movies['label'] == 'Thriller']"
   ]
  },
  {
   "cell_type": "code",
   "execution_count": 39,
   "metadata": {},
   "outputs": [],
   "source": [
    "lower_genres_movies = genres_movies[~genres_movies.label.isin(['Action', 'Comedy', 'Drama', 'Romance', 'Thriller'])]"
   ]
  },
  {
   "cell_type": "code",
   "execution_count": 40,
   "metadata": {},
   "outputs": [],
   "source": [
    "n = 5000\n",
    "\n",
    "df_action = action.sample(n=n, random_state=0)\n",
    "df_comedy = comedy.sample(n=n, random_state=0)\n",
    "df_drama = drama.sample(n=n, random_state=0)\n",
    "df_romance = romance.sample(n=n, random_state=0)\n",
    "df_thriller = thriller.sample(n=n, random_state=0)\n",
    "\n",
    "df_genres_movies = pd.concat([df_action, \n",
    "                                    df_comedy, \n",
    "                                    df_drama, \n",
    "                                    df_romance, \n",
    "                                    df_thriller,\n",
    "                                    lower_genres_movies], axis=0, sort=False)"
   ]
  },
  {
   "cell_type": "code",
   "execution_count": 41,
   "metadata": {},
   "outputs": [
    {
     "data": {
      "image/png": "[encoded data removed]",
      "text/plain": [
       "<Figure size 1440x432 with 1 Axes>"
      ]
     },
     "metadata": {},
     "output_type": "display_data"
    }
   ],
   "source": [
    "overviews_genre = df_genres_movies.groupby('label').count()\n",
    "\n",
    "f, ax = plt.subplots(figsize=(20, 6))\n",
    "_ = sns.set_style(\"white\")\n",
    "ax = sns.barplot(x=overviews_genre.index, y=overviews_genre.description, palette='coolwarm')\n",
    "#ax.set_yscale('log')\n",
    "_ = plt.xlabel('Genres', fontsize=10)\n",
    "_ = plt.ylabel('Number of movie overviews', fontsize=10)\n",
    "_ = plt.title('Overviews used to build Documents by Gender', fontsize=14)\n",
    "_ = sns.despine(offset=5, trim=True)"
   ]
  },
  {
   "cell_type": "markdown",
   "metadata": {},
   "source": [
    "Then, we aggregate all the descriptions by genre, in one huge **corpora**:"
   ]
  },
  {
   "cell_type": "code",
   "execution_count": 42,
   "metadata": {},
   "outputs": [],
   "source": [
    "df_documents = df_genres_movies.groupby('label').sum()"
   ]
  },
  {
   "cell_type": "code",
   "execution_count": 43,
   "metadata": {},
   "outputs": [
    {
     "data": {
      "text/html": [
       "<div>\n",
       "<style scoped>\n",
       "    .dataframe tbody tr th:only-of-type {\n",
       "        vertical-align: middle;\n",
       "    }\n",
       "\n",
       "    .dataframe tbody tr th {\n",
       "        vertical-align: top;\n",
       "    }\n",
       "\n",
       "    .dataframe thead th {\n",
       "        text-align: right;\n",
       "    }\n",
       "</style>\n",
       "<table border=\"1\" class=\"dataframe\">\n",
       "  <thead>\n",
       "    <tr style=\"text-align: right;\">\n",
       "      <th></th>\n",
       "      <th>description</th>\n",
       "    </tr>\n",
       "    <tr>\n",
       "      <th>label</th>\n",
       "      <th></th>\n",
       "    </tr>\n",
       "  </thead>\n",
       "  <tbody>\n",
       "    <tr>\n",
       "      <th>Action</th>\n",
       "      <td>vanishing legion  mysterious master criminal v...</td>\n",
       "    </tr>\n",
       "    <tr>\n",
       "      <th>Adventure</th>\n",
       "      <td>jurassic park dna paleontology triceratops bro...</td>\n",
       "    </tr>\n",
       "    <tr>\n",
       "      <th>Animation</th>\n",
       "      <td>kizumonogatari part 2 nekketsu vampire anime k...</td>\n",
       "    </tr>\n",
       "    <tr>\n",
       "      <th>Comedy</th>\n",
       "      <td>xuxa crystal moon  maria da graça country girl...</td>\n",
       "    </tr>\n",
       "    <tr>\n",
       "      <th>Crime</th>\n",
       "      <td>three way adultery kidnapping blackmail yacht ...</td>\n",
       "    </tr>\n",
       "  </tbody>\n",
       "</table>\n",
       "</div>"
      ],
      "text/plain": [
       "                                                 description\n",
       "label                                                       \n",
       "Action     vanishing legion  mysterious master criminal v...\n",
       "Adventure  jurassic park dna paleontology triceratops bro...\n",
       "Animation  kizumonogatari part 2 nekketsu vampire anime k...\n",
       "Comedy     xuxa crystal moon  maria da graça country girl...\n",
       "Crime      three way adultery kidnapping blackmail yacht ..."
      ]
     },
     "execution_count": 43,
     "metadata": {},
     "output_type": "execute_result"
    }
   ],
   "source": [
    "df_documents.head()"
   ]
  },
  {
   "cell_type": "markdown",
   "metadata": {},
   "source": [
    "Saving the `df_documents` in the folder of processed data as *documents_movies_genres.csv*:"
   ]
  },
  {
   "cell_type": "code",
   "execution_count": 44,
   "metadata": {},
   "outputs": [],
   "source": [
    "df_documents.to_csv('../Data/processed/documents_movies_genres.csv')"
   ]
  },
  {
   "cell_type": "markdown",
   "metadata": {},
   "source": [
    "Finally, we build documents by genre:"
   ]
  },
  {
   "cell_type": "code",
   "execution_count": 45,
   "metadata": {},
   "outputs": [
    {
     "name": "stdout",
     "output_type": "stream",
     "text": [
      "(18, 105271)\n"
     ]
    }
   ],
   "source": [
    "from sklearn.feature_extraction.text import TfidfVectorizer\n",
    "\n",
    "tfidf_vectorizer = TfidfVectorizer()\n",
    "\n",
    "documents = (\n",
    "                df_documents['description'][0],\n",
    "                df_documents['description'][1],\n",
    "                df_documents['description'][2],\n",
    "                df_documents['description'][3],\n",
    "                df_documents['description'][4],\n",
    "                df_documents['description'][5],\n",
    "                df_documents['description'][6],\n",
    "                df_documents['description'][7],\n",
    "                df_documents['description'][8],\n",
    "                df_documents['description'][9],\n",
    "                df_documents['description'][10],\n",
    "                df_documents['description'][11],\n",
    "                df_documents['description'][12],\n",
    "                df_documents['description'][13],\n",
    "                df_documents['description'][14],\n",
    "                df_documents['description'][15],\n",
    "                df_documents['description'][16],\n",
    "                df_documents['description'][17]\n",
    "\n",
    ")\n",
    "\n",
    "tf_transformer = tfidf_vectorizer.fit(documents)\n",
    "\n",
    "tfidf_matrix = tfidf_vectorizer.fit_transform(documents)\n",
    "print (tfidf_matrix.shape)"
   ]
  },
  {
   "cell_type": "markdown",
   "metadata": {},
   "source": [
    "Importing the relevant packages for this section:"
   ]
  },
  {
   "cell_type": "code",
   "execution_count": 46,
   "metadata": {},
   "outputs": [],
   "source": [
    "from sklearn.metrics.pairwise import cosine_similarity"
   ]
  },
  {
   "cell_type": "code",
   "execution_count": 47,
   "metadata": {},
   "outputs": [],
   "source": [
    "from heapq import nlargest\n",
    "\n",
    "def similar_genres(movie_similarities, genres_names):\n",
    "    \"\"\"\n",
    "    Method to get the name of the genres with higher scores in similarity. We extract the positions of \n",
    "    the larger coefficients of similarity and look for the genres in the same positions in genres_names list.\n",
    "    \"\"\"\n",
    "    genres = []\n",
    "    tuples_largest = nlargest(5, enumerate(movie_similarities), key=lambda x: x[1])\n",
    "    for idx, score in tuples_largest:\n",
    "        genres.append(genres_names[idx])\n",
    "    return genres"
   ]
  },
  {
   "cell_type": "code",
   "execution_count": 48,
   "metadata": {},
   "outputs": [],
   "source": [
    "def dataframe_results_similarity(df_testing, tfidf_matrix):\n",
    "    \"\"\"\n",
    "    Method to get a dataframe with title, description of movies, original genres and labels predicted.\n",
    "    \"\"\"\n",
    "    predict_genres_test = []\n",
    "    \n",
    "    for doc in df_testing.description:\n",
    "        document = {doc}\n",
    "        \n",
    "        matrix = cosine_similarity(tfidf_vectorizer.transform(document), tfidf_matrix)\n",
    "        \n",
    "        predict_genres = []\n",
    "        for row in range(matrix.shape[0]):\n",
    "            predict_genres.append(similar_genres(matrix[row], col))\n",
    "            \n",
    "        predict_genres_test.append(predict_genres)\n",
    "        \n",
    "    df = pd.DataFrame({'id': df_testing.id,\n",
    "                       'title': df_testing.title, \n",
    "                       'genres': df_testing.genres_list, \n",
    "                       'description': df_testing.description,\n",
    "                       'predicted genres': predict_genres_test})\n",
    "    return df"
   ]
  },
  {
   "cell_type": "code",
   "execution_count": 49,
   "metadata": {},
   "outputs": [],
   "source": [
    "def filter_higher_genre_list(genre_list):\n",
    "    \"\"\"\n",
    "    Method to delete the movies in test package with more than 5 items in the genre list. This step is necessary to\n",
    "    compare the accuracy of the predictor of genres that only return 5 genres by movie.\n",
    "    \"\"\"\n",
    "    is_higher = 0\n",
    "    if len(genre_list.split(',')) > 5:\n",
    "        is_higher = 1\n",
    "    else:\n",
    "        is_higher = 0\n",
    "    return is_higher"
   ]
  },
  {
   "cell_type": "code",
   "execution_count": 50,
   "metadata": {},
   "outputs": [],
   "source": [
    "df_movies_test['more_than_5_genres'] = df_movies_test.genres_list.apply(filter_higher_genre_list)"
   ]
  },
  {
   "cell_type": "code",
   "execution_count": 51,
   "metadata": {},
   "outputs": [
    {
     "data": {
      "text/html": [
       "<div>\n",
       "<style scoped>\n",
       "    .dataframe tbody tr th:only-of-type {\n",
       "        vertical-align: middle;\n",
       "    }\n",
       "\n",
       "    .dataframe tbody tr th {\n",
       "        vertical-align: top;\n",
       "    }\n",
       "\n",
       "    .dataframe thead th {\n",
       "        text-align: right;\n",
       "    }\n",
       "</style>\n",
       "<table border=\"1\" class=\"dataframe\">\n",
       "  <thead>\n",
       "    <tr style=\"text-align: right;\">\n",
       "      <th></th>\n",
       "      <th>id</th>\n",
       "      <th>title</th>\n",
       "      <th>genres</th>\n",
       "      <th>description</th>\n",
       "      <th>predicted genres</th>\n",
       "    </tr>\n",
       "  </thead>\n",
       "  <tbody>\n",
       "    <tr>\n",
       "      <th>2</th>\n",
       "      <td>15602</td>\n",
       "      <td>Grumpier Old Men</td>\n",
       "      <td>['Romance', 'Comedy']</td>\n",
       "      <td>grumpier old men fishing duringcreditsstinger ...</td>\n",
       "      <td>[[Family, Comedy, Drama, Adventure, Foreign]]</td>\n",
       "    </tr>\n",
       "    <tr>\n",
       "      <th>9</th>\n",
       "      <td>710</td>\n",
       "      <td>GoldenEye</td>\n",
       "      <td>['Adventure', 'Action', 'Thriller']</td>\n",
       "      <td>goldeneye cuba kgb satellite cossack james bon...</td>\n",
       "      <td>[[Action, Thriller, Adventure, Western, Horror]]</td>\n",
       "    </tr>\n",
       "    <tr>\n",
       "      <th>10</th>\n",
       "      <td>9087</td>\n",
       "      <td>The American President</td>\n",
       "      <td>['Comedy', 'Drama', 'Romance']</td>\n",
       "      <td>american president widower widowed u.s. presid...</td>\n",
       "      <td>[[History, Adventure, Action, Documentary, War]]</td>\n",
       "    </tr>\n",
       "    <tr>\n",
       "      <th>12</th>\n",
       "      <td>21032</td>\n",
       "      <td>Balto</td>\n",
       "      <td>['Family', 'Animation', 'Adventure']</td>\n",
       "      <td>balto wolf alaska dog goose outcast half-wolf ...</td>\n",
       "      <td>[[Family, Drama, Adventure, Animation, Comedy]]</td>\n",
       "    </tr>\n",
       "    <tr>\n",
       "      <th>16</th>\n",
       "      <td>4584</td>\n",
       "      <td>Sense and Sensibility</td>\n",
       "      <td>['Drama', 'Romance']</td>\n",
       "      <td>sense sensibility bowling servant inheritance ...</td>\n",
       "      <td>[[Comedy, Thriller, Foreign, Action, Drama]]</td>\n",
       "    </tr>\n",
       "  </tbody>\n",
       "</table>\n",
       "</div>"
      ],
      "text/plain": [
       "       id                   title                                genres  \\\n",
       "2   15602        Grumpier Old Men                 ['Romance', 'Comedy']   \n",
       "9     710               GoldenEye   ['Adventure', 'Action', 'Thriller']   \n",
       "10   9087  The American President        ['Comedy', 'Drama', 'Romance']   \n",
       "12  21032                   Balto  ['Family', 'Animation', 'Adventure']   \n",
       "16   4584   Sense and Sensibility                  ['Drama', 'Romance']   \n",
       "\n",
       "                                          description  \\\n",
       "2   grumpier old men fishing duringcreditsstinger ...   \n",
       "9   goldeneye cuba kgb satellite cossack james bon...   \n",
       "10  american president widower widowed u.s. presid...   \n",
       "12  balto wolf alaska dog goose outcast half-wolf ...   \n",
       "16  sense sensibility bowling servant inheritance ...   \n",
       "\n",
       "                                    predicted genres  \n",
       "2      [[Family, Comedy, Drama, Adventure, Foreign]]  \n",
       "9   [[Action, Thriller, Adventure, Western, Horror]]  \n",
       "10  [[History, Adventure, Action, Documentary, War]]  \n",
       "12   [[Family, Drama, Adventure, Animation, Comedy]]  \n",
       "16      [[Comedy, Thriller, Foreign, Action, Drama]]  "
      ]
     },
     "execution_count": 51,
     "metadata": {},
     "output_type": "execute_result"
    }
   ],
   "source": [
    "df_prediction_genres = dataframe_results_similarity(df_movies_test[df_movies_test['more_than_5_genres'] == 0], tfidf_matrix)\n",
    "df_prediction_genres.head()"
   ]
  },
  {
   "cell_type": "markdown",
   "metadata": {},
   "source": [
    "Evaluating accuracy or match between genres and predicted genres:\n",
    "\n",
    "In this section, we compare the number of genres predicted according to the original labels. "
   ]
  },
  {
   "cell_type": "code",
   "execution_count": 52,
   "metadata": {},
   "outputs": [],
   "source": [
    "def accuracy_genres(df):\n",
    "    \"\"\"\n",
    "    We inspect the correct genres and count how many of them are predicted in the list of resultant genres.\n",
    "    For instances, an accuracy of 0.5 it means that the half of the right labels were predicted.\n",
    "    \"\"\"\n",
    "    accuracy = []\n",
    "    for idx in df.index:\n",
    "        n_genres, predictions = 0, 0\n",
    "        predicted_list = ''\n",
    "        for genres in df_prediction_genres['predicted genres'][idx]:\n",
    "            predicted_list = genres\n",
    "\n",
    "        for genre in df_prediction_genres.genres[idx].split(','):\n",
    "            genre = genre.replace('[', '').replace(']', '').replace(\"'\", \"\").replace(\" \", \"\")\n",
    "            predicted_list = str(predicted_list).replace('[', '').replace(']', '')\n",
    "            n_genres += 1\n",
    "            if re.search(str(genre), predicted_list):\n",
    "                predictions += 1\n",
    "        accuracy.append(predictions/n_genres)\n",
    "    \n",
    "    return (accuracy)"
   ]
  },
  {
   "cell_type": "code",
   "execution_count": 53,
   "metadata": {},
   "outputs": [],
   "source": [
    "df_prediction_genres['accuracy'] = accuracy_genres(df_prediction_genres)"
   ]
  },
  {
   "cell_type": "code",
   "execution_count": 54,
   "metadata": {},
   "outputs": [],
   "source": [
    "def binary_accuracy(accuracy):\n",
    "    if accuracy > 0:\n",
    "        return 1\n",
    "    else:\n",
    "        return 0"
   ]
  },
  {
   "cell_type": "code",
   "execution_count": 55,
   "metadata": {},
   "outputs": [
    {
     "data": {
      "text/html": [
       "<div>\n",
       "<style scoped>\n",
       "    .dataframe tbody tr th:only-of-type {\n",
       "        vertical-align: middle;\n",
       "    }\n",
       "\n",
       "    .dataframe tbody tr th {\n",
       "        vertical-align: top;\n",
       "    }\n",
       "\n",
       "    .dataframe thead th {\n",
       "        text-align: right;\n",
       "    }\n",
       "</style>\n",
       "<table border=\"1\" class=\"dataframe\">\n",
       "  <thead>\n",
       "    <tr style=\"text-align: right;\">\n",
       "      <th></th>\n",
       "      <th>id</th>\n",
       "      <th>title</th>\n",
       "      <th>genres</th>\n",
       "      <th>description</th>\n",
       "      <th>predicted genres</th>\n",
       "      <th>accuracy</th>\n",
       "    </tr>\n",
       "    <tr>\n",
       "      <th>prediction</th>\n",
       "      <th></th>\n",
       "      <th></th>\n",
       "      <th></th>\n",
       "      <th></th>\n",
       "      <th></th>\n",
       "      <th></th>\n",
       "    </tr>\n",
       "  </thead>\n",
       "  <tbody>\n",
       "    <tr>\n",
       "      <th>0</th>\n",
       "      <td>688</td>\n",
       "      <td>688</td>\n",
       "      <td>688</td>\n",
       "      <td>688</td>\n",
       "      <td>688</td>\n",
       "      <td>688</td>\n",
       "    </tr>\n",
       "    <tr>\n",
       "      <th>1</th>\n",
       "      <td>7715</td>\n",
       "      <td>7715</td>\n",
       "      <td>7715</td>\n",
       "      <td>7715</td>\n",
       "      <td>7715</td>\n",
       "      <td>7715</td>\n",
       "    </tr>\n",
       "  </tbody>\n",
       "</table>\n",
       "</div>"
      ],
      "text/plain": [
       "              id  title  genres  description  predicted genres  accuracy\n",
       "prediction                                                              \n",
       "0            688    688     688          688               688       688\n",
       "1           7715   7715    7715         7715              7715      7715"
      ]
     },
     "execution_count": 55,
     "metadata": {},
     "output_type": "execute_result"
    }
   ],
   "source": [
    "df_prediction_genres['prediction'] = df_prediction_genres.accuracy.apply(binary_accuracy)\n",
    "df_prediction_genres.groupby('prediction').count()"
   ]
  },
  {
   "cell_type": "code",
   "execution_count": 56,
   "metadata": {},
   "outputs": [
    {
     "name": "stdout",
     "output_type": "stream",
     "text": [
      "Binary accuracy: 91.81244793526122\n"
     ]
    }
   ],
   "source": [
    "predictions = df_prediction_genres.groupby('prediction').count().id[1]\n",
    "print('Binary accuracy: {}'.format(predictions/df_prediction_genres.shape[0]*100))"
   ]
  },
  {
   "cell_type": "markdown",
   "metadata": {},
   "source": [
    "Where we failed?"
   ]
  },
  {
   "cell_type": "code",
   "execution_count": 57,
   "metadata": {},
   "outputs": [
    {
     "data": {
      "text/html": [
       "<div>\n",
       "<style scoped>\n",
       "    .dataframe tbody tr th:only-of-type {\n",
       "        vertical-align: middle;\n",
       "    }\n",
       "\n",
       "    .dataframe tbody tr th {\n",
       "        vertical-align: top;\n",
       "    }\n",
       "\n",
       "    .dataframe thead th {\n",
       "        text-align: right;\n",
       "    }\n",
       "</style>\n",
       "<table border=\"1\" class=\"dataframe\">\n",
       "  <thead>\n",
       "    <tr style=\"text-align: right;\">\n",
       "      <th></th>\n",
       "      <th>id</th>\n",
       "      <th>title</th>\n",
       "      <th>genres</th>\n",
       "      <th>description</th>\n",
       "      <th>predicted genres</th>\n",
       "      <th>accuracy</th>\n",
       "      <th>prediction</th>\n",
       "    </tr>\n",
       "  </thead>\n",
       "  <tbody>\n",
       "    <tr>\n",
       "      <th>10</th>\n",
       "      <td>9087</td>\n",
       "      <td>The American President</td>\n",
       "      <td>['Comedy', 'Drama', 'Romance']</td>\n",
       "      <td>american president widower widowed u.s. presid...</td>\n",
       "      <td>[[History, Adventure, Action, Documentary, War]]</td>\n",
       "      <td>0.0</td>\n",
       "      <td>0</td>\n",
       "    </tr>\n",
       "    <tr>\n",
       "      <th>144</th>\n",
       "      <td>11780</td>\n",
       "      <td>Rob Roy</td>\n",
       "      <td>['Adventure']</td>\n",
       "      <td>rob roy scotland biography highlands highlands...</td>\n",
       "      <td>[[Western, Family, Comedy, Drama, Crime]]</td>\n",
       "      <td>0.0</td>\n",
       "      <td>0</td>\n",
       "    </tr>\n",
       "    <tr>\n",
       "      <th>288</th>\n",
       "      <td>41478</td>\n",
       "      <td>Panther</td>\n",
       "      <td>['Drama']</td>\n",
       "      <td>panther  panther semi-historic film origins bl...</td>\n",
       "      <td>[[Documentary, History, Music, Foreign, Animat...</td>\n",
       "      <td>0.0</td>\n",
       "      <td>0</td>\n",
       "    </tr>\n",
       "    <tr>\n",
       "      <th>392</th>\n",
       "      <td>316098</td>\n",
       "      <td>Brother Minister: The Assassination of Malcolm X</td>\n",
       "      <td>['Documentary']</td>\n",
       "      <td>brother minister assassination malcolm x  brot...</td>\n",
       "      <td>[[Action, Crime, Comedy, Drama, Thriller]]</td>\n",
       "      <td>0.0</td>\n",
       "      <td>0</td>\n",
       "    </tr>\n",
       "    <tr>\n",
       "      <th>494</th>\n",
       "      <td>9559</td>\n",
       "      <td>A Perfect World</td>\n",
       "      <td>['Crime', 'Drama', 'Thriller']</td>\n",
       "      <td>perfect world hostage criminologist boy strike...</td>\n",
       "      <td>[[Adventure, Animation, Family, Fantasy, Action]]</td>\n",
       "      <td>0.0</td>\n",
       "      <td>0</td>\n",
       "    </tr>\n",
       "  </tbody>\n",
       "</table>\n",
       "</div>"
      ],
      "text/plain": [
       "         id                                             title  \\\n",
       "10     9087                            The American President   \n",
       "144   11780                                           Rob Roy   \n",
       "288   41478                                           Panther   \n",
       "392  316098  Brother Minister: The Assassination of Malcolm X   \n",
       "494    9559                                   A Perfect World   \n",
       "\n",
       "                             genres  \\\n",
       "10   ['Comedy', 'Drama', 'Romance']   \n",
       "144                   ['Adventure']   \n",
       "288                       ['Drama']   \n",
       "392                 ['Documentary']   \n",
       "494  ['Crime', 'Drama', 'Thriller']   \n",
       "\n",
       "                                           description  \\\n",
       "10   american president widower widowed u.s. presid...   \n",
       "144  rob roy scotland biography highlands highlands...   \n",
       "288  panther  panther semi-historic film origins bl...   \n",
       "392  brother minister assassination malcolm x  brot...   \n",
       "494  perfect world hostage criminologist boy strike...   \n",
       "\n",
       "                                      predicted genres  accuracy  prediction  \n",
       "10    [[History, Adventure, Action, Documentary, War]]       0.0           0  \n",
       "144          [[Western, Family, Comedy, Drama, Crime]]       0.0           0  \n",
       "288  [[Documentary, History, Music, Foreign, Animat...       0.0           0  \n",
       "392         [[Action, Crime, Comedy, Drama, Thriller]]       0.0           0  \n",
       "494  [[Adventure, Animation, Family, Fantasy, Action]]       0.0           0  "
      ]
     },
     "execution_count": 57,
     "metadata": {},
     "output_type": "execute_result"
    }
   ],
   "source": [
    "df_prediction_genres[df_prediction_genres['prediction'] == 0].head()"
   ]
  },
  {
   "cell_type": "code",
   "execution_count": 58,
   "metadata": {},
   "outputs": [
    {
     "data": {
      "text/plain": [
       "'american president widower widowed u.s. president andrew shepherd one world powerful men anything sydney ellen wade washington lobbyist shepherd attempts spark wild rumors approval ratings'"
      ]
     },
     "execution_count": 58,
     "metadata": {},
     "output_type": "execute_result"
    }
   ],
   "source": [
    "df_prediction_genres.description[10]"
   ]
  },
  {
   "cell_type": "markdown",
   "metadata": {},
   "source": [
    "For instances, in the movie *The American President*, the words *president*, *washington*, *lobbyist* probably are leading the prediction towards *History* and *Documentary* instead *Comedy* and *Drama*. In this case, just using the description of the movie is hard to know the right labels."
   ]
  },
  {
   "cell_type": "markdown",
   "metadata": {},
   "source": [
    "And finally, inspecting right predictions:"
   ]
  },
  {
   "cell_type": "code",
   "execution_count": 59,
   "metadata": {},
   "outputs": [
    {
     "data": {
      "image/png": "[encoded data removed]",
      "text/plain": [
       "<Figure size 432x432 with 1 Axes>"
      ]
     },
     "metadata": {},
     "output_type": "display_data"
    }
   ],
   "source": [
    "#plt.hist(df_prediction_genres[df_prediction_genres['prediction'] == 1].accuracy, bins=5)\n",
    "\n",
    "f, ax = plt.subplots(figsize=(6, 6))\n",
    "_ = sns.set_style(\"white\")\n",
    "ax = sns.distplot(df_prediction_genres[df_prediction_genres['prediction'] == 1].accuracy,\n",
    "                  bins=4, kde=False, color='cadetblue')\n",
    "_ = plt.ylabel('Number of movies', fontsize=10)\n",
    "_ = plt.xlabel('Rate of accuracy', fontsize=10)\n",
    "_ = plt.title('Accuracy in genre predictions', fontsize=14)\n",
    "_ = sns.despine(offset=5, trim=True)"
   ]
  },
  {
   "cell_type": "code",
   "execution_count": 60,
   "metadata": {},
   "outputs": [
    {
     "data": {
      "text/html": [
       "<div>\n",
       "<style scoped>\n",
       "    .dataframe tbody tr th:only-of-type {\n",
       "        vertical-align: middle;\n",
       "    }\n",
       "\n",
       "    .dataframe tbody tr th {\n",
       "        vertical-align: top;\n",
       "    }\n",
       "\n",
       "    .dataframe thead th {\n",
       "        text-align: right;\n",
       "    }\n",
       "</style>\n",
       "<table border=\"1\" class=\"dataframe\">\n",
       "  <thead>\n",
       "    <tr style=\"text-align: right;\">\n",
       "      <th></th>\n",
       "      <th>id</th>\n",
       "      <th>title</th>\n",
       "      <th>genres</th>\n",
       "      <th>description</th>\n",
       "      <th>predicted genres</th>\n",
       "      <th>accuracy</th>\n",
       "      <th>prediction</th>\n",
       "    </tr>\n",
       "  </thead>\n",
       "  <tbody>\n",
       "    <tr>\n",
       "      <th>9</th>\n",
       "      <td>710</td>\n",
       "      <td>GoldenEye</td>\n",
       "      <td>['Adventure', 'Action', 'Thriller']</td>\n",
       "      <td>goldeneye cuba kgb satellite cossack james bon...</td>\n",
       "      <td>[[Action, Thriller, Adventure, Western, Horror]]</td>\n",
       "      <td>1.0</td>\n",
       "      <td>1</td>\n",
       "    </tr>\n",
       "    <tr>\n",
       "      <th>12</th>\n",
       "      <td>21032</td>\n",
       "      <td>Balto</td>\n",
       "      <td>['Family', 'Animation', 'Adventure']</td>\n",
       "      <td>balto wolf alaska dog goose outcast half-wolf ...</td>\n",
       "      <td>[[Family, Drama, Adventure, Animation, Comedy]]</td>\n",
       "      <td>1.0</td>\n",
       "      <td>1</td>\n",
       "    </tr>\n",
       "    <tr>\n",
       "      <th>28</th>\n",
       "      <td>902</td>\n",
       "      <td>The City of Lost Children</td>\n",
       "      <td>['Fantasy', 'Adventure']</td>\n",
       "      <td>city lost child clone dream island eye dystopi...</td>\n",
       "      <td>[[Family, Animation, Fantasy, Adventure, Drama]]</td>\n",
       "      <td>1.0</td>\n",
       "      <td>1</td>\n",
       "    </tr>\n",
       "    <tr>\n",
       "      <th>56</th>\n",
       "      <td>11010</td>\n",
       "      <td>The Postman</td>\n",
       "      <td>['Comedy', 'Drama', 'Romance']</td>\n",
       "      <td>postman island letter postman fisherman poet s...</td>\n",
       "      <td>[[Adventure, Comedy, Romance, Drama, Mystery]]</td>\n",
       "      <td>1.0</td>\n",
       "      <td>1</td>\n",
       "    </tr>\n",
       "    <tr>\n",
       "      <th>61</th>\n",
       "      <td>10607</td>\n",
       "      <td>Don't Be a Menace to South Central While Drink...</td>\n",
       "      <td>['Comedy']</td>\n",
       "      <td>menace south central drinking juice hood date ...</td>\n",
       "      <td>[[Crime, Action, Drama, Comedy, Family]]</td>\n",
       "      <td>1.0</td>\n",
       "      <td>1</td>\n",
       "    </tr>\n",
       "  </tbody>\n",
       "</table>\n",
       "</div>"
      ],
      "text/plain": [
       "       id                                              title  \\\n",
       "9     710                                          GoldenEye   \n",
       "12  21032                                              Balto   \n",
       "28    902                          The City of Lost Children   \n",
       "56  11010                                        The Postman   \n",
       "61  10607  Don't Be a Menace to South Central While Drink...   \n",
       "\n",
       "                                  genres  \\\n",
       "9    ['Adventure', 'Action', 'Thriller']   \n",
       "12  ['Family', 'Animation', 'Adventure']   \n",
       "28              ['Fantasy', 'Adventure']   \n",
       "56        ['Comedy', 'Drama', 'Romance']   \n",
       "61                            ['Comedy']   \n",
       "\n",
       "                                          description  \\\n",
       "9   goldeneye cuba kgb satellite cossack james bon...   \n",
       "12  balto wolf alaska dog goose outcast half-wolf ...   \n",
       "28  city lost child clone dream island eye dystopi...   \n",
       "56  postman island letter postman fisherman poet s...   \n",
       "61  menace south central drinking juice hood date ...   \n",
       "\n",
       "                                    predicted genres  accuracy  prediction  \n",
       "9   [[Action, Thriller, Adventure, Western, Horror]]       1.0           1  \n",
       "12   [[Family, Drama, Adventure, Animation, Comedy]]       1.0           1  \n",
       "28  [[Family, Animation, Fantasy, Adventure, Drama]]       1.0           1  \n",
       "56    [[Adventure, Comedy, Romance, Drama, Mystery]]       1.0           1  \n",
       "61          [[Crime, Action, Drama, Comedy, Family]]       1.0           1  "
      ]
     },
     "execution_count": 60,
     "metadata": {},
     "output_type": "execute_result"
    }
   ],
   "source": [
    "df_prediction_genres[df_prediction_genres['accuracy'] == 1].head()"
   ]
  },
  {
   "cell_type": "code",
   "execution_count": 61,
   "metadata": {},
   "outputs": [
    {
     "data": {
      "text/plain": [
       "'goldeneye cuba kgb satellite cossack james bond mysterious head janus syndicate leader goldeneye weapons system revenge britain'"
      ]
     },
     "execution_count": 61,
     "metadata": {},
     "output_type": "execute_result"
    }
   ],
   "source": [
    "df_prediction_genres.description[9]"
   ]
  },
  {
   "cell_type": "markdown",
   "metadata": {},
   "source": [
    "In this case, the words *james bond*, *mysterious* and *weapons* are leading the prediction towards the right genres. *Weapons* is probably a recurrent word in *Western* too, therefore, the model suggest that the movie belongs to this genre."
   ]
  }
 ],
 "metadata": {
  "kernelspec": {
   "display_name": "Python 3",
   "language": "python",
   "name": "python3"
  },
  "language_info": {
   "codemirror_mode": {
    "name": "ipython",
    "version": 3
   },
   "file_extension": ".py",
   "mimetype": "text/x-python",
   "name": "python",
   "nbconvert_exporter": "python",
   "pygments_lexer": "ipython3",
   "version": "3.7.1"
  }
 },
 "nbformat": 4,
 "nbformat_minor": 2
}
