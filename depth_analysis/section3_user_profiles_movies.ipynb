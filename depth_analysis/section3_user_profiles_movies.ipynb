{
 "cells": [
  {
   "cell_type": "markdown",
   "metadata": {},
   "source": [
    "# Depth findings in Movies"
   ]
  },
  {
   "cell_type": "markdown",
   "metadata": {},
   "source": [
    "## II. User profiles\n",
    "\n",
    "In this section, we try to build user profiles, looking for user with high participation on rankings. We want to discover the preferences of people, according genres, description of movies and key-words. "
   ]
  },
  {
   "cell_type": "markdown",
   "metadata": {},
   "source": [
    "### Importing Data"
   ]
  },
  {
   "cell_type": "markdown",
   "metadata": {},
   "source": [
    "Importing relevant packages:"
   ]
  },
  {
   "cell_type": "code",
   "execution_count": 1,
   "metadata": {},
   "outputs": [],
   "source": [
    "import re\n",
    "from scipy import stats\n",
    "import pandas as pd\n",
    "import matplotlib.pyplot as plt\n",
    "import seaborn as sns\n",
    "import numpy as np"
   ]
  },
  {
   "cell_type": "markdown",
   "metadata": {},
   "source": [
    "Importing movies and ratings datasets:"
   ]
  },
  {
   "cell_type": "code",
   "execution_count": 2,
   "metadata": {},
   "outputs": [],
   "source": [
    "df_movies = pd.read_csv('../Data/interim/movies/movies.csv')"
   ]
  },
  {
   "cell_type": "code",
   "execution_count": 3,
   "metadata": {},
   "outputs": [],
   "source": [
    "df_movies.rename(columns = {'Unnamed: 0': 'counter'}, inplace=True)"
   ]
  },
  {
   "cell_type": "code",
   "execution_count": 4,
   "metadata": {},
   "outputs": [
    {
     "data": {
      "text/html": [
       "<div>\n",
       "<style scoped>\n",
       "    .dataframe tbody tr th:only-of-type {\n",
       "        vertical-align: middle;\n",
       "    }\n",
       "\n",
       "    .dataframe tbody tr th {\n",
       "        vertical-align: top;\n",
       "    }\n",
       "\n",
       "    .dataframe thead th {\n",
       "        text-align: right;\n",
       "    }\n",
       "</style>\n",
       "<table border=\"1\" class=\"dataframe\">\n",
       "  <thead>\n",
       "    <tr style=\"text-align: right;\">\n",
       "      <th></th>\n",
       "      <th>counter</th>\n",
       "      <th>adult</th>\n",
       "      <th>belongs_to_collection</th>\n",
       "      <th>genres</th>\n",
       "      <th>id</th>\n",
       "      <th>original_language</th>\n",
       "      <th>overview</th>\n",
       "      <th>popularity</th>\n",
       "      <th>production_companies</th>\n",
       "      <th>production_countries</th>\n",
       "      <th>...</th>\n",
       "      <th>Foreign</th>\n",
       "      <th>History</th>\n",
       "      <th>Horror</th>\n",
       "      <th>Music</th>\n",
       "      <th>Mystery</th>\n",
       "      <th>Romance</th>\n",
       "      <th>Thriller</th>\n",
       "      <th>War</th>\n",
       "      <th>Western</th>\n",
       "      <th>key_list</th>\n",
       "    </tr>\n",
       "  </thead>\n",
       "  <tbody>\n",
       "    <tr>\n",
       "      <th>0</th>\n",
       "      <td>0</td>\n",
       "      <td>False</td>\n",
       "      <td>{'id': 10194, 'name': 'Toy Story Collection', ...</td>\n",
       "      <td>[{'id': 16, 'name': 'Animation'}, {'id': 35, '...</td>\n",
       "      <td>862</td>\n",
       "      <td>en</td>\n",
       "      <td>Led by Woody, Andy's toys live happily in his ...</td>\n",
       "      <td>21.946943</td>\n",
       "      <td>[{'name': 'Pixar Animation Studios', 'id': 3}]</td>\n",
       "      <td>[{'iso_3166_1': 'US', 'name': 'United States o...</td>\n",
       "      <td>...</td>\n",
       "      <td>NaN</td>\n",
       "      <td>NaN</td>\n",
       "      <td>NaN</td>\n",
       "      <td>NaN</td>\n",
       "      <td>NaN</td>\n",
       "      <td>NaN</td>\n",
       "      <td>NaN</td>\n",
       "      <td>NaN</td>\n",
       "      <td>NaN</td>\n",
       "      <td>['jealousy', 'toy', 'boy', 'friendship', 'frie...</td>\n",
       "    </tr>\n",
       "    <tr>\n",
       "      <th>1</th>\n",
       "      <td>1</td>\n",
       "      <td>False</td>\n",
       "      <td>NaN</td>\n",
       "      <td>[{'id': 12, 'name': 'Adventure'}, {'id': 14, '...</td>\n",
       "      <td>8844</td>\n",
       "      <td>en</td>\n",
       "      <td>When siblings Judy and Peter discover an encha...</td>\n",
       "      <td>17.015539</td>\n",
       "      <td>[{'name': 'TriStar Pictures', 'id': 559}, {'na...</td>\n",
       "      <td>[{'iso_3166_1': 'US', 'name': 'United States o...</td>\n",
       "      <td>...</td>\n",
       "      <td>NaN</td>\n",
       "      <td>NaN</td>\n",
       "      <td>NaN</td>\n",
       "      <td>NaN</td>\n",
       "      <td>NaN</td>\n",
       "      <td>NaN</td>\n",
       "      <td>NaN</td>\n",
       "      <td>NaN</td>\n",
       "      <td>NaN</td>\n",
       "      <td>['disappearance', 'recluse']</td>\n",
       "    </tr>\n",
       "  </tbody>\n",
       "</table>\n",
       "<p>2 rows × 37 columns</p>\n",
       "</div>"
      ],
      "text/plain": [
       "   counter  adult                              belongs_to_collection  \\\n",
       "0        0  False  {'id': 10194, 'name': 'Toy Story Collection', ...   \n",
       "1        1  False                                                NaN   \n",
       "\n",
       "                                              genres    id original_language  \\\n",
       "0  [{'id': 16, 'name': 'Animation'}, {'id': 35, '...   862                en   \n",
       "1  [{'id': 12, 'name': 'Adventure'}, {'id': 14, '...  8844                en   \n",
       "\n",
       "                                            overview  popularity  \\\n",
       "0  Led by Woody, Andy's toys live happily in his ...   21.946943   \n",
       "1  When siblings Judy and Peter discover an encha...   17.015539   \n",
       "\n",
       "                                production_companies  \\\n",
       "0     [{'name': 'Pixar Animation Studios', 'id': 3}]   \n",
       "1  [{'name': 'TriStar Pictures', 'id': 559}, {'na...   \n",
       "\n",
       "                                production_countries  \\\n",
       "0  [{'iso_3166_1': 'US', 'name': 'United States o...   \n",
       "1  [{'iso_3166_1': 'US', 'name': 'United States o...   \n",
       "\n",
       "                         ...                         Foreign  History Horror  \\\n",
       "0                        ...                             NaN      NaN    NaN   \n",
       "1                        ...                             NaN      NaN    NaN   \n",
       "\n",
       "  Music  Mystery  Romance  Thriller  War Western  \\\n",
       "0   NaN      NaN      NaN       NaN  NaN     NaN   \n",
       "1   NaN      NaN      NaN       NaN  NaN     NaN   \n",
       "\n",
       "                                            key_list  \n",
       "0  ['jealousy', 'toy', 'boy', 'friendship', 'frie...  \n",
       "1                       ['disappearance', 'recluse']  \n",
       "\n",
       "[2 rows x 37 columns]"
      ]
     },
     "execution_count": 4,
     "metadata": {},
     "output_type": "execute_result"
    }
   ],
   "source": [
    "df_movies.head(2)"
   ]
  },
  {
   "cell_type": "code",
   "execution_count": 5,
   "metadata": {},
   "outputs": [],
   "source": [
    "df_ratings = pd.read_csv('../Data/raw/movies/the-movies-dataset/ratings.csv')"
   ]
  },
  {
   "cell_type": "code",
   "execution_count": 6,
   "metadata": {},
   "outputs": [
    {
     "data": {
      "text/html": [
       "<div>\n",
       "<style scoped>\n",
       "    .dataframe tbody tr th:only-of-type {\n",
       "        vertical-align: middle;\n",
       "    }\n",
       "\n",
       "    .dataframe tbody tr th {\n",
       "        vertical-align: top;\n",
       "    }\n",
       "\n",
       "    .dataframe thead th {\n",
       "        text-align: right;\n",
       "    }\n",
       "</style>\n",
       "<table border=\"1\" class=\"dataframe\">\n",
       "  <thead>\n",
       "    <tr style=\"text-align: right;\">\n",
       "      <th></th>\n",
       "      <th>userId</th>\n",
       "      <th>movieId</th>\n",
       "      <th>rating</th>\n",
       "      <th>timestamp</th>\n",
       "    </tr>\n",
       "  </thead>\n",
       "  <tbody>\n",
       "    <tr>\n",
       "      <th>0</th>\n",
       "      <td>1</td>\n",
       "      <td>110</td>\n",
       "      <td>1.0</td>\n",
       "      <td>1425941529</td>\n",
       "    </tr>\n",
       "    <tr>\n",
       "      <th>1</th>\n",
       "      <td>1</td>\n",
       "      <td>147</td>\n",
       "      <td>4.5</td>\n",
       "      <td>1425942435</td>\n",
       "    </tr>\n",
       "    <tr>\n",
       "      <th>2</th>\n",
       "      <td>1</td>\n",
       "      <td>858</td>\n",
       "      <td>5.0</td>\n",
       "      <td>1425941523</td>\n",
       "    </tr>\n",
       "    <tr>\n",
       "      <th>3</th>\n",
       "      <td>1</td>\n",
       "      <td>1221</td>\n",
       "      <td>5.0</td>\n",
       "      <td>1425941546</td>\n",
       "    </tr>\n",
       "    <tr>\n",
       "      <th>4</th>\n",
       "      <td>1</td>\n",
       "      <td>1246</td>\n",
       "      <td>5.0</td>\n",
       "      <td>1425941556</td>\n",
       "    </tr>\n",
       "  </tbody>\n",
       "</table>\n",
       "</div>"
      ],
      "text/plain": [
       "   userId  movieId  rating   timestamp\n",
       "0       1      110     1.0  1425941529\n",
       "1       1      147     4.5  1425942435\n",
       "2       1      858     5.0  1425941523\n",
       "3       1     1221     5.0  1425941546\n",
       "4       1     1246     5.0  1425941556"
      ]
     },
     "execution_count": 6,
     "metadata": {},
     "output_type": "execute_result"
    }
   ],
   "source": [
    "df_ratings.head()"
   ]
  },
  {
   "cell_type": "markdown",
   "metadata": {},
   "source": [
    "As we can note, the rating dataset contains `userId`, `movieId` and `rating`. Grouping by users, we could determine which users are actively voting movies and they could bring us more information to generate profiles: "
   ]
  },
  {
   "cell_type": "code",
   "execution_count": 7,
   "metadata": {},
   "outputs": [],
   "source": [
    "df_users = df_ratings.groupby('userId').count().movieId"
   ]
  },
  {
   "cell_type": "code",
   "execution_count": 8,
   "metadata": {
    "scrolled": true
   },
   "outputs": [
    {
     "data": {
      "image/png": "[encoded data removed]",
      "text/plain": [
       "<Figure size 288x288 with 1 Axes>"
      ]
     },
     "metadata": {
      "needs_background": "light"
     },
     "output_type": "display_data"
    }
   ],
   "source": [
    "f, ax = plt.subplots(figsize=(4, 4))\n",
    "_ = sns.set_style(\"white\")\n",
    "ax = sns.distplot(df_users, kde=False, bins=15, color='dodgerblue')\n",
    "ax.set_yscale('log')\n",
    "_ = plt.xlabel('number of votes', fontsize=10)\n",
    "_ = plt.ylabel('users', fontsize=10)\n",
    "_ = plt.title('Histogram of number of movies voted by every user', fontsize=14)\n",
    "_ = sns.despine(offset=5, trim=True)"
   ]
  },
  {
   "cell_type": "markdown",
   "metadata": {},
   "source": [
    "According to the Figure, almost all people vote 1-5000 movies. Inspecting percentiles, we could get values to filter users:"
   ]
  },
  {
   "cell_type": "code",
   "execution_count": 9,
   "metadata": {},
   "outputs": [
    {
     "name": "stdout",
     "output_type": "stream",
     "text": [
      "Percentiles 80 = 119.0\n",
      "Percentile 95 = 398.0\n"
     ]
    }
   ],
   "source": [
    "print('Percentiles 80 = {}'.format(np.percentile(df_users.values, 80)) + '\\nPercentile 95 = {}'.format(np.percentile(df_users.values, 95)))"
   ]
  },
  {
   "cell_type": "markdown",
   "metadata": {},
   "source": [
    "80% of users had voted less than 120 movies and 95% of people sum up less than 400 movies. Therefore, the users with frecuencies lower than 120 movies and upper than 400 are filtered:"
   ]
  },
  {
   "cell_type": "code",
   "execution_count": 10,
   "metadata": {},
   "outputs": [
    {
     "name": "stdout",
     "output_type": "stream",
     "text": [
      "40301\n"
     ]
    }
   ],
   "source": [
    "users_idx = df_users.where((df_users.values > 120) & (df_users.values < 400)).dropna()\n",
    "print(len(users_idx))"
   ]
  },
  {
   "cell_type": "markdown",
   "metadata": {},
   "source": [
    "Filtering the users from the ratings dataFrame and then merging with the movies dataset:"
   ]
  },
  {
   "cell_type": "code",
   "execution_count": 11,
   "metadata": {},
   "outputs": [],
   "source": [
    "df_ratings_filter = df_ratings[df_ratings['userId'].isin(users_idx.index.tolist())]"
   ]
  },
  {
   "cell_type": "code",
   "execution_count": 12,
   "metadata": {},
   "outputs": [],
   "source": [
    "df_movies_rating = df_movies.merge(df_ratings_filter, left_on='id', right_on='movieId')"
   ]
  },
  {
   "cell_type": "code",
   "execution_count": 13,
   "metadata": {},
   "outputs": [
    {
     "data": {
      "text/html": [
       "<div>\n",
       "<style scoped>\n",
       "    .dataframe tbody tr th:only-of-type {\n",
       "        vertical-align: middle;\n",
       "    }\n",
       "\n",
       "    .dataframe tbody tr th {\n",
       "        vertical-align: top;\n",
       "    }\n",
       "\n",
       "    .dataframe thead th {\n",
       "        text-align: right;\n",
       "    }\n",
       "</style>\n",
       "<table border=\"1\" class=\"dataframe\">\n",
       "  <thead>\n",
       "    <tr style=\"text-align: right;\">\n",
       "      <th></th>\n",
       "      <th>counter</th>\n",
       "      <th>adult</th>\n",
       "      <th>belongs_to_collection</th>\n",
       "      <th>genres</th>\n",
       "      <th>id</th>\n",
       "      <th>original_language</th>\n",
       "      <th>overview</th>\n",
       "      <th>popularity</th>\n",
       "      <th>production_companies</th>\n",
       "      <th>production_countries</th>\n",
       "      <th>...</th>\n",
       "      <th>Music</th>\n",
       "      <th>Mystery</th>\n",
       "      <th>Romance</th>\n",
       "      <th>Thriller</th>\n",
       "      <th>War</th>\n",
       "      <th>Western</th>\n",
       "      <th>key_list</th>\n",
       "      <th>movieId</th>\n",
       "      <th>rating</th>\n",
       "      <th>timestamp</th>\n",
       "    </tr>\n",
       "    <tr>\n",
       "      <th>userId</th>\n",
       "      <th></th>\n",
       "      <th></th>\n",
       "      <th></th>\n",
       "      <th></th>\n",
       "      <th></th>\n",
       "      <th></th>\n",
       "      <th></th>\n",
       "      <th></th>\n",
       "      <th></th>\n",
       "      <th></th>\n",
       "      <th></th>\n",
       "      <th></th>\n",
       "      <th></th>\n",
       "      <th></th>\n",
       "      <th></th>\n",
       "      <th></th>\n",
       "      <th></th>\n",
       "      <th></th>\n",
       "      <th></th>\n",
       "      <th></th>\n",
       "      <th></th>\n",
       "    </tr>\n",
       "  </thead>\n",
       "  <tbody>\n",
       "    <tr>\n",
       "      <th>11</th>\n",
       "      <td>67</td>\n",
       "      <td>67</td>\n",
       "      <td>17</td>\n",
       "      <td>67</td>\n",
       "      <td>67</td>\n",
       "      <td>67</td>\n",
       "      <td>67</td>\n",
       "      <td>67</td>\n",
       "      <td>67</td>\n",
       "      <td>67</td>\n",
       "      <td>...</td>\n",
       "      <td>3</td>\n",
       "      <td>8</td>\n",
       "      <td>7</td>\n",
       "      <td>17</td>\n",
       "      <td>2</td>\n",
       "      <td>1</td>\n",
       "      <td>67</td>\n",
       "      <td>67</td>\n",
       "      <td>67</td>\n",
       "      <td>67</td>\n",
       "    </tr>\n",
       "    <tr>\n",
       "      <th>12</th>\n",
       "      <td>136</td>\n",
       "      <td>136</td>\n",
       "      <td>28</td>\n",
       "      <td>136</td>\n",
       "      <td>136</td>\n",
       "      <td>136</td>\n",
       "      <td>135</td>\n",
       "      <td>136</td>\n",
       "      <td>136</td>\n",
       "      <td>136</td>\n",
       "      <td>...</td>\n",
       "      <td>3</td>\n",
       "      <td>14</td>\n",
       "      <td>26</td>\n",
       "      <td>32</td>\n",
       "      <td>1</td>\n",
       "      <td>3</td>\n",
       "      <td>136</td>\n",
       "      <td>136</td>\n",
       "      <td>136</td>\n",
       "      <td>136</td>\n",
       "    </tr>\n",
       "    <tr>\n",
       "      <th>15</th>\n",
       "      <td>77</td>\n",
       "      <td>77</td>\n",
       "      <td>13</td>\n",
       "      <td>77</td>\n",
       "      <td>77</td>\n",
       "      <td>77</td>\n",
       "      <td>76</td>\n",
       "      <td>77</td>\n",
       "      <td>77</td>\n",
       "      <td>77</td>\n",
       "      <td>...</td>\n",
       "      <td>4</td>\n",
       "      <td>7</td>\n",
       "      <td>11</td>\n",
       "      <td>23</td>\n",
       "      <td>1</td>\n",
       "      <td>0</td>\n",
       "      <td>77</td>\n",
       "      <td>77</td>\n",
       "      <td>77</td>\n",
       "      <td>77</td>\n",
       "    </tr>\n",
       "    <tr>\n",
       "      <th>16</th>\n",
       "      <td>54</td>\n",
       "      <td>54</td>\n",
       "      <td>8</td>\n",
       "      <td>54</td>\n",
       "      <td>54</td>\n",
       "      <td>54</td>\n",
       "      <td>54</td>\n",
       "      <td>54</td>\n",
       "      <td>54</td>\n",
       "      <td>54</td>\n",
       "      <td>...</td>\n",
       "      <td>1</td>\n",
       "      <td>3</td>\n",
       "      <td>10</td>\n",
       "      <td>15</td>\n",
       "      <td>2</td>\n",
       "      <td>5</td>\n",
       "      <td>54</td>\n",
       "      <td>54</td>\n",
       "      <td>54</td>\n",
       "      <td>54</td>\n",
       "    </tr>\n",
       "    <tr>\n",
       "      <th>20</th>\n",
       "      <td>86</td>\n",
       "      <td>86</td>\n",
       "      <td>18</td>\n",
       "      <td>86</td>\n",
       "      <td>86</td>\n",
       "      <td>86</td>\n",
       "      <td>86</td>\n",
       "      <td>86</td>\n",
       "      <td>86</td>\n",
       "      <td>86</td>\n",
       "      <td>...</td>\n",
       "      <td>0</td>\n",
       "      <td>8</td>\n",
       "      <td>11</td>\n",
       "      <td>19</td>\n",
       "      <td>5</td>\n",
       "      <td>2</td>\n",
       "      <td>86</td>\n",
       "      <td>86</td>\n",
       "      <td>86</td>\n",
       "      <td>86</td>\n",
       "    </tr>\n",
       "  </tbody>\n",
       "</table>\n",
       "<p>5 rows × 40 columns</p>\n",
       "</div>"
      ],
      "text/plain": [
       "        counter  adult  belongs_to_collection  genres   id  original_language  \\\n",
       "userId                                                                          \n",
       "11           67     67                     17      67   67                 67   \n",
       "12          136    136                     28     136  136                136   \n",
       "15           77     77                     13      77   77                 77   \n",
       "16           54     54                      8      54   54                 54   \n",
       "20           86     86                     18      86   86                 86   \n",
       "\n",
       "        overview  popularity  production_companies  production_countries  \\\n",
       "userId                                                                     \n",
       "11            67          67                    67                    67   \n",
       "12           135         136                   136                   136   \n",
       "15            76          77                    77                    77   \n",
       "16            54          54                    54                    54   \n",
       "20            86          86                    86                    86   \n",
       "\n",
       "          ...      Music  Mystery  Romance  Thriller  War  Western  key_list  \\\n",
       "userId    ...                                                                  \n",
       "11        ...          3        8        7        17    2        1        67   \n",
       "12        ...          3       14       26        32    1        3       136   \n",
       "15        ...          4        7       11        23    1        0        77   \n",
       "16        ...          1        3       10        15    2        5        54   \n",
       "20        ...          0        8       11        19    5        2        86   \n",
       "\n",
       "        movieId  rating  timestamp  \n",
       "userId                              \n",
       "11           67      67         67  \n",
       "12          136     136        136  \n",
       "15           77      77         77  \n",
       "16           54      54         54  \n",
       "20           86      86         86  \n",
       "\n",
       "[5 rows x 40 columns]"
      ]
     },
     "execution_count": 13,
     "metadata": {},
     "output_type": "execute_result"
    }
   ],
   "source": [
    "df_movies_rating_group = df_movies_rating.groupby('userId').count()\n",
    "df_movies_rating_group.head()"
   ]
  },
  {
   "cell_type": "markdown",
   "metadata": {},
   "source": [
    "After merging datasets, we loss information from users and movies. Again, we filter users using the previously got percentiles 85 and 90:"
   ]
  },
  {
   "cell_type": "code",
   "execution_count": 14,
   "metadata": {},
   "outputs": [],
   "source": [
    "users_idx_filter = df_movies_rating_group.where((df_movies_rating_group.counter > 120) & (df_movies_rating_group.counter < 400)).dropna()"
   ]
  },
  {
   "cell_type": "code",
   "execution_count": 15,
   "metadata": {},
   "outputs": [
    {
     "data": {
      "text/plain": [
       "9246"
      ]
     },
     "execution_count": 15,
     "metadata": {},
     "output_type": "execute_result"
    }
   ],
   "source": [
    "len(users_idx_filter)"
   ]
  },
  {
   "cell_type": "code",
   "execution_count": 16,
   "metadata": {},
   "outputs": [],
   "source": [
    "df_user_sample = users_idx_filter.sample(frac=0.1, random_state=0)"
   ]
  },
  {
   "cell_type": "code",
   "execution_count": 17,
   "metadata": {},
   "outputs": [],
   "source": [
    "df_movies_rating_filter = df_movies_rating[df_movies_rating['userId'].isin(df_user_sample.index.tolist())]"
   ]
  },
  {
   "cell_type": "markdown",
   "metadata": {},
   "source": [
    "Building a copy of dataframe:"
   ]
  },
  {
   "cell_type": "code",
   "execution_count": 18,
   "metadata": {},
   "outputs": [],
   "source": [
    "df_mov_rating = df_movies_rating_filter.copy()"
   ]
  },
  {
   "cell_type": "markdown",
   "metadata": {},
   "source": [
    "Selecting columns for the analysis:"
   ]
  },
  {
   "cell_type": "code",
   "execution_count": 19,
   "metadata": {},
   "outputs": [],
   "source": [
    "df_mov_rating = df_mov_rating.loc[:, ['userId', 'movieId', 'title', \n",
    "                       'overview', 'spoken_languages', \n",
    "                       'rating', 'genres_list', 'key_list', \n",
    "                       'vote_count', 'vote_average',\n",
    "                       'runtime', 'release_date']]"
   ]
  },
  {
   "cell_type": "code",
   "execution_count": 20,
   "metadata": {},
   "outputs": [
    {
     "data": {
      "text/html": [
       "<div>\n",
       "<style scoped>\n",
       "    .dataframe tbody tr th:only-of-type {\n",
       "        vertical-align: middle;\n",
       "    }\n",
       "\n",
       "    .dataframe tbody tr th {\n",
       "        vertical-align: top;\n",
       "    }\n",
       "\n",
       "    .dataframe thead th {\n",
       "        text-align: right;\n",
       "    }\n",
       "</style>\n",
       "<table border=\"1\" class=\"dataframe\">\n",
       "  <thead>\n",
       "    <tr style=\"text-align: right;\">\n",
       "      <th></th>\n",
       "      <th>userId</th>\n",
       "      <th>movieId</th>\n",
       "      <th>title</th>\n",
       "      <th>overview</th>\n",
       "      <th>spoken_languages</th>\n",
       "      <th>rating</th>\n",
       "      <th>genres_list</th>\n",
       "      <th>key_list</th>\n",
       "      <th>vote_count</th>\n",
       "      <th>vote_average</th>\n",
       "      <th>runtime</th>\n",
       "      <th>release_date</th>\n",
       "    </tr>\n",
       "  </thead>\n",
       "  <tbody>\n",
       "    <tr>\n",
       "      <th>29</th>\n",
       "      <td>81267</td>\n",
       "      <td>862</td>\n",
       "      <td>Toy Story</td>\n",
       "      <td>Led by Woody, Andy's toys live happily in his ...</td>\n",
       "      <td>[{'iso_639_1': 'en', 'name': 'English'}]</td>\n",
       "      <td>4.0</td>\n",
       "      <td>['Animation', 'Comedy', 'Family']</td>\n",
       "      <td>['jealousy', 'toy', 'boy', 'friendship', 'frie...</td>\n",
       "      <td>5415.0</td>\n",
       "      <td>7.7</td>\n",
       "      <td>81.0</td>\n",
       "      <td>1995-10-30</td>\n",
       "    </tr>\n",
       "    <tr>\n",
       "      <th>44</th>\n",
       "      <td>108287</td>\n",
       "      <td>862</td>\n",
       "      <td>Toy Story</td>\n",
       "      <td>Led by Woody, Andy's toys live happily in his ...</td>\n",
       "      <td>[{'iso_639_1': 'en', 'name': 'English'}]</td>\n",
       "      <td>4.0</td>\n",
       "      <td>['Animation', 'Comedy', 'Family']</td>\n",
       "      <td>['jealousy', 'toy', 'boy', 'friendship', 'frie...</td>\n",
       "      <td>5415.0</td>\n",
       "      <td>7.7</td>\n",
       "      <td>81.0</td>\n",
       "      <td>1995-10-30</td>\n",
       "    </tr>\n",
       "  </tbody>\n",
       "</table>\n",
       "</div>"
      ],
      "text/plain": [
       "    userId  movieId      title  \\\n",
       "29   81267      862  Toy Story   \n",
       "44  108287      862  Toy Story   \n",
       "\n",
       "                                             overview  \\\n",
       "29  Led by Woody, Andy's toys live happily in his ...   \n",
       "44  Led by Woody, Andy's toys live happily in his ...   \n",
       "\n",
       "                            spoken_languages  rating  \\\n",
       "29  [{'iso_639_1': 'en', 'name': 'English'}]     4.0   \n",
       "44  [{'iso_639_1': 'en', 'name': 'English'}]     4.0   \n",
       "\n",
       "                          genres_list  \\\n",
       "29  ['Animation', 'Comedy', 'Family']   \n",
       "44  ['Animation', 'Comedy', 'Family']   \n",
       "\n",
       "                                             key_list  vote_count  \\\n",
       "29  ['jealousy', 'toy', 'boy', 'friendship', 'frie...      5415.0   \n",
       "44  ['jealousy', 'toy', 'boy', 'friendship', 'frie...      5415.0   \n",
       "\n",
       "    vote_average  runtime release_date  \n",
       "29           7.7     81.0   1995-10-30  \n",
       "44           7.7     81.0   1995-10-30  "
      ]
     },
     "execution_count": 20,
     "metadata": {},
     "output_type": "execute_result"
    }
   ],
   "source": [
    "df_mov_rating.head(2)"
   ]
  },
  {
   "cell_type": "markdown",
   "metadata": {},
   "source": [
    "Multi-indexing by users and movies:"
   ]
  },
  {
   "cell_type": "code",
   "execution_count": 21,
   "metadata": {
    "scrolled": true
   },
   "outputs": [],
   "source": [
    "df_user = df_mov_rating.set_index(['userId', 'movieId']).sort_values('userId')\n",
    "#df_user.reset_index()"
   ]
  },
  {
   "cell_type": "code",
   "execution_count": 22,
   "metadata": {},
   "outputs": [
    {
     "data": {
      "text/html": [
       "<div>\n",
       "<style scoped>\n",
       "    .dataframe tbody tr th:only-of-type {\n",
       "        vertical-align: middle;\n",
       "    }\n",
       "\n",
       "    .dataframe tbody tr th {\n",
       "        vertical-align: top;\n",
       "    }\n",
       "\n",
       "    .dataframe thead th {\n",
       "        text-align: right;\n",
       "    }\n",
       "</style>\n",
       "<table border=\"1\" class=\"dataframe\">\n",
       "  <thead>\n",
       "    <tr style=\"text-align: right;\">\n",
       "      <th></th>\n",
       "      <th></th>\n",
       "      <th>title</th>\n",
       "      <th>overview</th>\n",
       "      <th>spoken_languages</th>\n",
       "      <th>rating</th>\n",
       "      <th>genres_list</th>\n",
       "      <th>key_list</th>\n",
       "      <th>vote_count</th>\n",
       "      <th>vote_average</th>\n",
       "      <th>runtime</th>\n",
       "      <th>release_date</th>\n",
       "    </tr>\n",
       "    <tr>\n",
       "      <th>userId</th>\n",
       "      <th>movieId</th>\n",
       "      <th></th>\n",
       "      <th></th>\n",
       "      <th></th>\n",
       "      <th></th>\n",
       "      <th></th>\n",
       "      <th></th>\n",
       "      <th></th>\n",
       "      <th></th>\n",
       "      <th></th>\n",
       "      <th></th>\n",
       "    </tr>\n",
       "  </thead>\n",
       "  <tbody>\n",
       "    <tr>\n",
       "      <th rowspan=\"2\" valign=\"top\">321</th>\n",
       "      <th>2762</th>\n",
       "      <td>Young and Innocent</td>\n",
       "      <td>Derrick De Marney finds himself in a 39 Steps ...</td>\n",
       "      <td>[{'iso_639_1': 'en', 'name': 'English'}]</td>\n",
       "      <td>4.0</td>\n",
       "      <td>['Drama', 'Crime']</td>\n",
       "      <td>['murder', 'suspense']</td>\n",
       "      <td>42.0</td>\n",
       "      <td>6.8</td>\n",
       "      <td>83.0</td>\n",
       "      <td>1937-11-01</td>\n",
       "    </tr>\n",
       "    <tr>\n",
       "      <th>920</th>\n",
       "      <td>Cars</td>\n",
       "      <td>Lightning McQueen, a hotshot rookie race car d...</td>\n",
       "      <td>[{'iso_639_1': 'en', 'name': 'English'}, {'iso...</td>\n",
       "      <td>2.0</td>\n",
       "      <td>['Animation', 'Adventure', 'Comedy', 'Family']</td>\n",
       "      <td>['auto', 'wrecker', 'porsche', 'retirement', '...</td>\n",
       "      <td>3991.0</td>\n",
       "      <td>6.6</td>\n",
       "      <td>117.0</td>\n",
       "      <td>2006-06-08</td>\n",
       "    </tr>\n",
       "  </tbody>\n",
       "</table>\n",
       "</div>"
      ],
      "text/plain": [
       "                             title  \\\n",
       "userId movieId                       \n",
       "321    2762     Young and Innocent   \n",
       "       920                    Cars   \n",
       "\n",
       "                                                         overview  \\\n",
       "userId movieId                                                      \n",
       "321    2762     Derrick De Marney finds himself in a 39 Steps ...   \n",
       "       920      Lightning McQueen, a hotshot rookie race car d...   \n",
       "\n",
       "                                                 spoken_languages  rating  \\\n",
       "userId movieId                                                              \n",
       "321    2762              [{'iso_639_1': 'en', 'name': 'English'}]     4.0   \n",
       "       920      [{'iso_639_1': 'en', 'name': 'English'}, {'iso...     2.0   \n",
       "\n",
       "                                                   genres_list  \\\n",
       "userId movieId                                                   \n",
       "321    2762                                 ['Drama', 'Crime']   \n",
       "       920      ['Animation', 'Adventure', 'Comedy', 'Family']   \n",
       "\n",
       "                                                         key_list  vote_count  \\\n",
       "userId movieId                                                                  \n",
       "321    2762                                ['murder', 'suspense']        42.0   \n",
       "       920      ['auto', 'wrecker', 'porsche', 'retirement', '...      3991.0   \n",
       "\n",
       "                vote_average  runtime release_date  \n",
       "userId movieId                                      \n",
       "321    2762              6.8     83.0   1937-11-01  \n",
       "       920               6.6    117.0   2006-06-08  "
      ]
     },
     "execution_count": 22,
     "metadata": {},
     "output_type": "execute_result"
    }
   ],
   "source": [
    "df_user.head(2)"
   ]
  },
  {
   "cell_type": "markdown",
   "metadata": {},
   "source": [
    "Build a dictionary of userId, genres and genres (to count the number of movies depending on the genres and how the user qualify every genre)."
   ]
  },
  {
   "cell_type": "code",
   "execution_count": 23,
   "metadata": {},
   "outputs": [
    {
     "name": "stderr",
     "output_type": "stream",
     "text": [
      "/Users/daniela/anaconda3/lib/python3.7/site-packages/ipykernel/zmqshell.py:536: PerformanceWarning: indexing past lexsort depth may impact performance.\n",
      "  return super(ZMQInteractiveShell, self).run_cell(*args, **kwargs)\n"
     ]
    }
   ],
   "source": [
    "genres = []\n",
    "rating = []\n",
    "userId = []\n",
    "movieId = []\n",
    "vote_average = []\n",
    "\n",
    "for i in range(df_user.shape[0]):\n",
    "    a, b = df_user.index[i][0], df_user.index[i][1]\n",
    "    try:\n",
    "        df_user.genres_list[a, b].split(',')\n",
    "    except:\n",
    "        continue\n",
    "    for g in df_user.genres_list[a, b].split(','):\n",
    "        g = g.replace('[','').replace(']','').replace(\"'\", \"\").replace(\" \", \"\")\n",
    "        \n",
    "        userId.append(a)\n",
    "        movieId.append(b)\n",
    "        genres.append(g)\n",
    "        rating.append(df_user.rating[a, b])\n",
    "        vote_average.append(df_user.vote_average[a, b])\n",
    "        \n",
    "df_users_profiles = pd.DataFrame({'userId': userId, \n",
    "                                  'movieId': movieId, \n",
    "                                  'genre': genres, \n",
    "                                  'rating': rating, \n",
    "                                  'vote_average': vote_average})       "
   ]
  },
  {
   "cell_type": "markdown",
   "metadata": {},
   "source": [
    "Checking genres:"
   ]
  },
  {
   "cell_type": "code",
   "execution_count": 24,
   "metadata": {},
   "outputs": [
    {
     "data": {
      "text/plain": [
       "array(['Drama', 'Crime', 'Animation', 'Adventure', 'Comedy', 'Family',\n",
       "       'Foreign', 'Action', 'Thriller', 'Horror', 'Romance', 'Mystery',\n",
       "       'Western', 'Documentary', 'War', 'History', 'Fantasy', 'Music'],\n",
       "      dtype=object)"
      ]
     },
     "execution_count": 24,
     "metadata": {},
     "output_type": "execute_result"
    }
   ],
   "source": [
    "df_users_profiles.genre.unique()"
   ]
  },
  {
   "cell_type": "code",
   "execution_count": 25,
   "metadata": {},
   "outputs": [],
   "source": [
    "#df_users_profiles.userId.unique()"
   ]
  },
  {
   "cell_type": "markdown",
   "metadata": {},
   "source": [
    "Now, we use the information about a specific user and his preferences in genres. To visualize that, boxplots of every genre are displayed below, showing the votes that this user did for movies belongs to every genre:"
   ]
  },
  {
   "cell_type": "code",
   "execution_count": 26,
   "metadata": {},
   "outputs": [
    {
     "data": {
      "image/png": "[encoded data removed]",
      "text/plain": [
       "<Figure size 1440x432 with 1 Axes>"
      ]
     },
     "metadata": {},
     "output_type": "display_data"
    }
   ],
   "source": [
    "df_example = df_users_profiles[df_users_profiles.userId == 766]\n",
    "\n",
    "f, ax = plt.subplots(figsize=(20, 6))\n",
    "_ = sns.set_style(\"white\")\n",
    "_ = sns.boxplot(x='genre', y='rating', data=df_example, palette='coolwarm')\n",
    "_ = plt.title('Genre preferences for user B', fontsize=14)\n",
    "_ = plt.xlabel('Genre', fontsize=10)\n",
    "_ = plt.ylabel('Score', fontsize=10)\n",
    "_ = sns.despine(offset=5, trim=True)"
   ]
  },
  {
   "cell_type": "markdown",
   "metadata": {},
   "source": [
    "The boxplots of average ratings from the movies in this sample is displayed below. As we can see, every genre offers a different distribution of scores:"
   ]
  },
  {
   "cell_type": "code",
   "execution_count": 27,
   "metadata": {},
   "outputs": [],
   "source": [
    "def rescale(data):\n",
    "    x = ((5 - 0)*(data - 0)/(10-0)) + 0\n",
    "    return x"
   ]
  },
  {
   "cell_type": "code",
   "execution_count": 28,
   "metadata": {},
   "outputs": [
    {
     "name": "stderr",
     "output_type": "stream",
     "text": [
      "/Users/daniela/anaconda3/lib/python3.7/site-packages/ipykernel_launcher.py:1: SettingWithCopyWarning: \n",
      "A value is trying to be set on a copy of a slice from a DataFrame.\n",
      "Try using .loc[row_indexer,col_indexer] = value instead\n",
      "\n",
      "See the caveats in the documentation: http://pandas.pydata.org/pandas-docs/stable/indexing.html#indexing-view-versus-copy\n",
      "  \"\"\"Entry point for launching an IPython kernel.\n"
     ]
    },
    {
     "data": {
      "image/png": "[encoded data removed]",
      "text/plain": [
       "<Figure size 1440x432 with 1 Axes>"
      ]
     },
     "metadata": {},
     "output_type": "display_data"
    }
   ],
   "source": [
    "df_example['vote_average_rescaled'] = df_example.vote_average.apply(rescale)\n",
    "\n",
    "f, ax = plt.subplots(figsize=(20, 6))\n",
    "_ = sns.set_style(\"white\")\n",
    "_ = sns.boxplot(x='genre', y='vote_average_rescaled', data=df_example, palette='GnBu_d')\n",
    "_ = plt.title('General genre preferences for users', fontsize=14)\n",
    "_ = plt.xlabel('Genre', fontsize=10)\n",
    "_ = plt.ylabel('average movie rating', fontsize=10)\n",
    "_ = sns.despine(offset=5, trim=True)"
   ]
  },
  {
   "cell_type": "code",
   "execution_count": 29,
   "metadata": {
    "scrolled": true
   },
   "outputs": [
    {
     "data": {
      "text/html": [
       "<div>\n",
       "<style scoped>\n",
       "    .dataframe tbody tr th:only-of-type {\n",
       "        vertical-align: middle;\n",
       "    }\n",
       "\n",
       "    .dataframe tbody tr th {\n",
       "        vertical-align: top;\n",
       "    }\n",
       "\n",
       "    .dataframe thead th {\n",
       "        text-align: right;\n",
       "    }\n",
       "</style>\n",
       "<table border=\"1\" class=\"dataframe\">\n",
       "  <thead>\n",
       "    <tr style=\"text-align: right;\">\n",
       "      <th></th>\n",
       "      <th></th>\n",
       "      <th>mean</th>\n",
       "      <th>std</th>\n",
       "      <th>min</th>\n",
       "      <th>max</th>\n",
       "      <th>count</th>\n",
       "    </tr>\n",
       "    <tr>\n",
       "      <th>userId</th>\n",
       "      <th>genre</th>\n",
       "      <th></th>\n",
       "      <th></th>\n",
       "      <th></th>\n",
       "      <th></th>\n",
       "      <th></th>\n",
       "    </tr>\n",
       "  </thead>\n",
       "  <tbody>\n",
       "    <tr>\n",
       "      <th rowspan=\"5\" valign=\"top\">321</th>\n",
       "      <th>Action</th>\n",
       "      <td>3.068966</td>\n",
       "      <td>0.820759</td>\n",
       "      <td>0.5</td>\n",
       "      <td>4.5</td>\n",
       "      <td>29</td>\n",
       "    </tr>\n",
       "    <tr>\n",
       "      <th>Adventure</th>\n",
       "      <td>3.166667</td>\n",
       "      <td>0.841625</td>\n",
       "      <td>0.5</td>\n",
       "      <td>4.5</td>\n",
       "      <td>21</td>\n",
       "    </tr>\n",
       "    <tr>\n",
       "      <th>Animation</th>\n",
       "      <td>3.000000</td>\n",
       "      <td>0.790569</td>\n",
       "      <td>2.0</td>\n",
       "      <td>4.0</td>\n",
       "      <td>5</td>\n",
       "    </tr>\n",
       "    <tr>\n",
       "      <th>Comedy</th>\n",
       "      <td>3.043860</td>\n",
       "      <td>0.786497</td>\n",
       "      <td>0.5</td>\n",
       "      <td>4.5</td>\n",
       "      <td>57</td>\n",
       "    </tr>\n",
       "    <tr>\n",
       "      <th>Crime</th>\n",
       "      <td>3.280000</td>\n",
       "      <td>0.693421</td>\n",
       "      <td>2.0</td>\n",
       "      <td>4.5</td>\n",
       "      <td>25</td>\n",
       "    </tr>\n",
       "  </tbody>\n",
       "</table>\n",
       "</div>"
      ],
      "text/plain": [
       "                      mean       std  min  max  count\n",
       "userId genre                                         \n",
       "321    Action     3.068966  0.820759  0.5  4.5     29\n",
       "       Adventure  3.166667  0.841625  0.5  4.5     21\n",
       "       Animation  3.000000  0.790569  2.0  4.0      5\n",
       "       Comedy     3.043860  0.786497  0.5  4.5     57\n",
       "       Crime      3.280000  0.693421  2.0  4.5     25"
      ]
     },
     "execution_count": 29,
     "metadata": {},
     "output_type": "execute_result"
    }
   ],
   "source": [
    "df = df_users_profiles.groupby(['userId', 'genre']).rating.agg(['mean', 'std', 'min', 'max', 'count'])\n",
    "df.head()"
   ]
  },
  {
   "cell_type": "markdown",
   "metadata": {},
   "source": [
    "Algorithm to calculate rating of genres, adapted from https://math.stackexchange.com/questions/942738/algorithm-to-calculate-rating-based-on-multiple-reviews-using-both-review-score"
   ]
  },
  {
   "cell_type": "code",
   "execution_count": 30,
   "metadata": {},
   "outputs": [],
   "source": [
    "from math import exp\n",
    "\n",
    "def genres_ranking_by_user(df):\n",
    "    \"\"\"\n",
    "    We adapt the algorithm describe on the link below to get a coefficient that represent\n",
    "    the popularity of the genre for every user. This popularity depend on the number of movies \n",
    "    watched belongs to specific genre and the average rating for the same genre.\n",
    "    \"\"\"\n",
    "    genres_ranking = []\n",
    "    Q = 144\n",
    "    #Q = 144\n",
    "    for idx in df.index:\n",
    "        p = df.loc[idx, 'mean']\n",
    "        q = df.loc[idx, 'count']\n",
    "        score = 5*p/10 + 5*(1 - exp(-q/Q))\n",
    "        genres_ranking.append(score)\n",
    "        \n",
    "    return genres_ranking"
   ]
  },
  {
   "cell_type": "code",
   "execution_count": 31,
   "metadata": {},
   "outputs": [],
   "source": [
    "df['ranking_genres'] = genres_ranking_by_user(df)"
   ]
  },
  {
   "cell_type": "code",
   "execution_count": 32,
   "metadata": {},
   "outputs": [
    {
     "data": {
      "text/html": [
       "<div>\n",
       "<style scoped>\n",
       "    .dataframe tbody tr th:only-of-type {\n",
       "        vertical-align: middle;\n",
       "    }\n",
       "\n",
       "    .dataframe tbody tr th {\n",
       "        vertical-align: top;\n",
       "    }\n",
       "\n",
       "    .dataframe thead th {\n",
       "        text-align: right;\n",
       "    }\n",
       "</style>\n",
       "<table border=\"1\" class=\"dataframe\">\n",
       "  <thead>\n",
       "    <tr style=\"text-align: right;\">\n",
       "      <th></th>\n",
       "      <th></th>\n",
       "      <th>mean</th>\n",
       "      <th>std</th>\n",
       "      <th>min</th>\n",
       "      <th>max</th>\n",
       "      <th>count</th>\n",
       "      <th>ranking_genres</th>\n",
       "    </tr>\n",
       "    <tr>\n",
       "      <th>userId</th>\n",
       "      <th>genre</th>\n",
       "      <th></th>\n",
       "      <th></th>\n",
       "      <th></th>\n",
       "      <th></th>\n",
       "      <th></th>\n",
       "      <th></th>\n",
       "    </tr>\n",
       "  </thead>\n",
       "  <tbody>\n",
       "    <tr>\n",
       "      <th rowspan=\"18\" valign=\"top\">321</th>\n",
       "      <th>Action</th>\n",
       "      <td>3.068966</td>\n",
       "      <td>0.820759</td>\n",
       "      <td>0.5</td>\n",
       "      <td>4.5</td>\n",
       "      <td>29</td>\n",
       "      <td>2.446511</td>\n",
       "    </tr>\n",
       "    <tr>\n",
       "      <th>Adventure</th>\n",
       "      <td>3.166667</td>\n",
       "      <td>0.841625</td>\n",
       "      <td>0.5</td>\n",
       "      <td>4.5</td>\n",
       "      <td>21</td>\n",
       "      <td>2.261825</td>\n",
       "    </tr>\n",
       "    <tr>\n",
       "      <th>Animation</th>\n",
       "      <td>3.000000</td>\n",
       "      <td>0.790569</td>\n",
       "      <td>2.0</td>\n",
       "      <td>4.0</td>\n",
       "      <td>5</td>\n",
       "      <td>1.670632</td>\n",
       "    </tr>\n",
       "    <tr>\n",
       "      <th>Comedy</th>\n",
       "      <td>3.043860</td>\n",
       "      <td>0.786497</td>\n",
       "      <td>0.5</td>\n",
       "      <td>4.5</td>\n",
       "      <td>57</td>\n",
       "      <td>3.156335</td>\n",
       "    </tr>\n",
       "    <tr>\n",
       "      <th>Crime</th>\n",
       "      <td>3.280000</td>\n",
       "      <td>0.693421</td>\n",
       "      <td>2.0</td>\n",
       "      <td>4.5</td>\n",
       "      <td>25</td>\n",
       "      <td>2.436881</td>\n",
       "    </tr>\n",
       "    <tr>\n",
       "      <th>Documentary</th>\n",
       "      <td>3.500000</td>\n",
       "      <td>0.547723</td>\n",
       "      <td>3.0</td>\n",
       "      <td>4.5</td>\n",
       "      <td>6</td>\n",
       "      <td>1.954053</td>\n",
       "    </tr>\n",
       "    <tr>\n",
       "      <th>Drama</th>\n",
       "      <td>3.165000</td>\n",
       "      <td>0.855921</td>\n",
       "      <td>1.0</td>\n",
       "      <td>5.0</td>\n",
       "      <td>100</td>\n",
       "      <td>4.085741</td>\n",
       "    </tr>\n",
       "    <tr>\n",
       "      <th>Family</th>\n",
       "      <td>2.750000</td>\n",
       "      <td>0.891883</td>\n",
       "      <td>1.5</td>\n",
       "      <td>5.0</td>\n",
       "      <td>12</td>\n",
       "      <td>1.774778</td>\n",
       "    </tr>\n",
       "    <tr>\n",
       "      <th>Fantasy</th>\n",
       "      <td>3.208333</td>\n",
       "      <td>0.655686</td>\n",
       "      <td>2.0</td>\n",
       "      <td>4.5</td>\n",
       "      <td>12</td>\n",
       "      <td>2.003945</td>\n",
       "    </tr>\n",
       "    <tr>\n",
       "      <th>Foreign</th>\n",
       "      <td>4.000000</td>\n",
       "      <td>0.707107</td>\n",
       "      <td>3.5</td>\n",
       "      <td>4.5</td>\n",
       "      <td>2</td>\n",
       "      <td>2.068964</td>\n",
       "    </tr>\n",
       "    <tr>\n",
       "      <th>History</th>\n",
       "      <td>3.000000</td>\n",
       "      <td>0.845154</td>\n",
       "      <td>1.5</td>\n",
       "      <td>4.0</td>\n",
       "      <td>8</td>\n",
       "      <td>1.770203</td>\n",
       "    </tr>\n",
       "    <tr>\n",
       "      <th>Horror</th>\n",
       "      <td>3.093750</td>\n",
       "      <td>1.003639</td>\n",
       "      <td>0.5</td>\n",
       "      <td>4.0</td>\n",
       "      <td>16</td>\n",
       "      <td>2.072678</td>\n",
       "    </tr>\n",
       "    <tr>\n",
       "      <th>Music</th>\n",
       "      <td>2.857143</td>\n",
       "      <td>0.690066</td>\n",
       "      <td>1.5</td>\n",
       "      <td>3.5</td>\n",
       "      <td>7</td>\n",
       "      <td>1.665814</td>\n",
       "    </tr>\n",
       "    <tr>\n",
       "      <th>Mystery</th>\n",
       "      <td>3.461538</td>\n",
       "      <td>0.320256</td>\n",
       "      <td>3.0</td>\n",
       "      <td>4.0</td>\n",
       "      <td>13</td>\n",
       "      <td>2.162382</td>\n",
       "    </tr>\n",
       "    <tr>\n",
       "      <th>Romance</th>\n",
       "      <td>3.160000</td>\n",
       "      <td>0.850490</td>\n",
       "      <td>1.0</td>\n",
       "      <td>4.5</td>\n",
       "      <td>25</td>\n",
       "      <td>2.376881</td>\n",
       "    </tr>\n",
       "    <tr>\n",
       "      <th>Thriller</th>\n",
       "      <td>3.324324</td>\n",
       "      <td>0.603419</td>\n",
       "      <td>1.5</td>\n",
       "      <td>5.0</td>\n",
       "      <td>37</td>\n",
       "      <td>2.795106</td>\n",
       "    </tr>\n",
       "    <tr>\n",
       "      <th>War</th>\n",
       "      <td>2.833333</td>\n",
       "      <td>0.577350</td>\n",
       "      <td>2.5</td>\n",
       "      <td>3.5</td>\n",
       "      <td>3</td>\n",
       "      <td>1.519756</td>\n",
       "    </tr>\n",
       "    <tr>\n",
       "      <th>Western</th>\n",
       "      <td>3.000000</td>\n",
       "      <td>0.500000</td>\n",
       "      <td>2.5</td>\n",
       "      <td>3.5</td>\n",
       "      <td>3</td>\n",
       "      <td>1.603089</td>\n",
       "    </tr>\n",
       "  </tbody>\n",
       "</table>\n",
       "</div>"
      ],
      "text/plain": [
       "                        mean       std  min  max  count  ranking_genres\n",
       "userId genre                                                           \n",
       "321    Action       3.068966  0.820759  0.5  4.5     29        2.446511\n",
       "       Adventure    3.166667  0.841625  0.5  4.5     21        2.261825\n",
       "       Animation    3.000000  0.790569  2.0  4.0      5        1.670632\n",
       "       Comedy       3.043860  0.786497  0.5  4.5     57        3.156335\n",
       "       Crime        3.280000  0.693421  2.0  4.5     25        2.436881\n",
       "       Documentary  3.500000  0.547723  3.0  4.5      6        1.954053\n",
       "       Drama        3.165000  0.855921  1.0  5.0    100        4.085741\n",
       "       Family       2.750000  0.891883  1.5  5.0     12        1.774778\n",
       "       Fantasy      3.208333  0.655686  2.0  4.5     12        2.003945\n",
       "       Foreign      4.000000  0.707107  3.5  4.5      2        2.068964\n",
       "       History      3.000000  0.845154  1.5  4.0      8        1.770203\n",
       "       Horror       3.093750  1.003639  0.5  4.0     16        2.072678\n",
       "       Music        2.857143  0.690066  1.5  3.5      7        1.665814\n",
       "       Mystery      3.461538  0.320256  3.0  4.0     13        2.162382\n",
       "       Romance      3.160000  0.850490  1.0  4.5     25        2.376881\n",
       "       Thriller     3.324324  0.603419  1.5  5.0     37        2.795106\n",
       "       War          2.833333  0.577350  2.5  3.5      3        1.519756\n",
       "       Western      3.000000  0.500000  2.5  3.5      3        1.603089"
      ]
     },
     "execution_count": 32,
     "metadata": {},
     "output_type": "execute_result"
    }
   ],
   "source": [
    "df.head(18)"
   ]
  },
  {
   "cell_type": "code",
   "execution_count": 33,
   "metadata": {},
   "outputs": [
    {
     "name": "stderr",
     "output_type": "stream",
     "text": [
      "/Users/daniela/anaconda3/lib/python3.7/site-packages/scipy/stats/stats.py:1713: FutureWarning: Using a non-tuple sequence for multidimensional indexing is deprecated; use `arr[tuple(seq)]` instead of `arr[seq]`. In the future this will be interpreted as an array index, `arr[np.array(seq)]`, which will result either in an error or a different result.\n",
      "  return np.add.reduce(sorted[indexer] * weights, axis=axis) / sumval\n"
     ]
    },
    {
     "data": {
      "image/png": "[encoded data removed]",
      "text/plain": [
       "<Figure size 432x432 with 1 Axes>"
      ]
     },
     "metadata": {},
     "output_type": "display_data"
    }
   ],
   "source": [
    "f, ax = plt.subplots(figsize=(6, 6))\n",
    "_ = sns.set_style(\"white\")\n",
    "_ = sns.distplot(df['ranking_genres'], color='dodgerblue', kde=False)\n",
    "_ = plt.title('Measure of genre ratings using average score and quantity', fontsize=14)\n",
    "_ = plt.xlabel('Score', fontsize=10)\n",
    "_ = plt.ylabel('Genres for different users', fontsize=10)\n",
    "_ = sns.despine(offset=5, trim=True)"
   ]
  },
  {
   "cell_type": "code",
   "execution_count": 34,
   "metadata": {},
   "outputs": [
    {
     "name": "stdout",
     "output_type": "stream",
     "text": [
      "kurtosis = 1.4323602060837262\n",
      "skewness = 0.8240458660225864\n"
     ]
    }
   ],
   "source": [
    "from scipy.stats import kurtosis, skew\n",
    "\n",
    "print('kurtosis = {}'.format( kurtosis(df['ranking_genres'].values) ))\n",
    "print('skewness = {}'.format( skew(df['ranking_genres'].values) ))"
   ]
  },
  {
   "cell_type": "markdown",
   "metadata": {},
   "source": [
    "Building the matrix user-genre (or the feature vector of genres for every user):"
   ]
  },
  {
   "cell_type": "code",
   "execution_count": 35,
   "metadata": {},
   "outputs": [
    {
     "data": {
      "text/html": [
       "<div>\n",
       "<style scoped>\n",
       "    .dataframe tbody tr th:only-of-type {\n",
       "        vertical-align: middle;\n",
       "    }\n",
       "\n",
       "    .dataframe tbody tr th {\n",
       "        vertical-align: top;\n",
       "    }\n",
       "\n",
       "    .dataframe thead th {\n",
       "        text-align: right;\n",
       "    }\n",
       "</style>\n",
       "<table border=\"1\" class=\"dataframe\">\n",
       "  <thead>\n",
       "    <tr style=\"text-align: right;\">\n",
       "      <th>genre</th>\n",
       "      <th>Action</th>\n",
       "      <th>Adventure</th>\n",
       "      <th>Animation</th>\n",
       "      <th>Comedy</th>\n",
       "      <th>Crime</th>\n",
       "      <th>Documentary</th>\n",
       "      <th>Drama</th>\n",
       "      <th>Family</th>\n",
       "      <th>Fantasy</th>\n",
       "      <th>Foreign</th>\n",
       "      <th>History</th>\n",
       "      <th>Horror</th>\n",
       "      <th>Music</th>\n",
       "      <th>Mystery</th>\n",
       "      <th>Romance</th>\n",
       "      <th>Thriller</th>\n",
       "      <th>War</th>\n",
       "      <th>Western</th>\n",
       "    </tr>\n",
       "    <tr>\n",
       "      <th>userId</th>\n",
       "      <th></th>\n",
       "      <th></th>\n",
       "      <th></th>\n",
       "      <th></th>\n",
       "      <th></th>\n",
       "      <th></th>\n",
       "      <th></th>\n",
       "      <th></th>\n",
       "      <th></th>\n",
       "      <th></th>\n",
       "      <th></th>\n",
       "      <th></th>\n",
       "      <th></th>\n",
       "      <th></th>\n",
       "      <th></th>\n",
       "      <th></th>\n",
       "      <th></th>\n",
       "      <th></th>\n",
       "    </tr>\n",
       "  </thead>\n",
       "  <tbody>\n",
       "    <tr>\n",
       "      <th>321</th>\n",
       "      <td>3.068966</td>\n",
       "      <td>3.166667</td>\n",
       "      <td>3.00</td>\n",
       "      <td>3.043860</td>\n",
       "      <td>3.280000</td>\n",
       "      <td>3.500000</td>\n",
       "      <td>3.165000</td>\n",
       "      <td>2.750000</td>\n",
       "      <td>3.208333</td>\n",
       "      <td>4.000000</td>\n",
       "      <td>3.000</td>\n",
       "      <td>3.093750</td>\n",
       "      <td>2.857143</td>\n",
       "      <td>3.461538</td>\n",
       "      <td>3.160000</td>\n",
       "      <td>3.324324</td>\n",
       "      <td>2.833333</td>\n",
       "      <td>3.000000</td>\n",
       "    </tr>\n",
       "    <tr>\n",
       "      <th>463</th>\n",
       "      <td>2.756757</td>\n",
       "      <td>2.566667</td>\n",
       "      <td>2.50</td>\n",
       "      <td>2.435897</td>\n",
       "      <td>2.620690</td>\n",
       "      <td>3.000000</td>\n",
       "      <td>2.730769</td>\n",
       "      <td>2.250000</td>\n",
       "      <td>2.785714</td>\n",
       "      <td>NaN</td>\n",
       "      <td>2.125</td>\n",
       "      <td>3.181818</td>\n",
       "      <td>3.200000</td>\n",
       "      <td>3.058824</td>\n",
       "      <td>2.814815</td>\n",
       "      <td>3.000000</td>\n",
       "      <td>2.500000</td>\n",
       "      <td>2.000000</td>\n",
       "    </tr>\n",
       "    <tr>\n",
       "      <th>638</th>\n",
       "      <td>3.444444</td>\n",
       "      <td>3.115385</td>\n",
       "      <td>2.40</td>\n",
       "      <td>3.025641</td>\n",
       "      <td>3.285714</td>\n",
       "      <td>3.000000</td>\n",
       "      <td>3.113402</td>\n",
       "      <td>2.444444</td>\n",
       "      <td>3.400000</td>\n",
       "      <td>NaN</td>\n",
       "      <td>3.000</td>\n",
       "      <td>3.333333</td>\n",
       "      <td>3.200000</td>\n",
       "      <td>3.470588</td>\n",
       "      <td>3.111111</td>\n",
       "      <td>3.189189</td>\n",
       "      <td>3.500000</td>\n",
       "      <td>3.000000</td>\n",
       "    </tr>\n",
       "    <tr>\n",
       "      <th>766</th>\n",
       "      <td>3.142857</td>\n",
       "      <td>2.956522</td>\n",
       "      <td>3.50</td>\n",
       "      <td>2.880435</td>\n",
       "      <td>3.227273</td>\n",
       "      <td>2.833333</td>\n",
       "      <td>3.053191</td>\n",
       "      <td>2.590909</td>\n",
       "      <td>3.100000</td>\n",
       "      <td>NaN</td>\n",
       "      <td>3.375</td>\n",
       "      <td>2.843750</td>\n",
       "      <td>2.600000</td>\n",
       "      <td>3.125000</td>\n",
       "      <td>2.800000</td>\n",
       "      <td>3.197368</td>\n",
       "      <td>3.000000</td>\n",
       "      <td>3.000000</td>\n",
       "    </tr>\n",
       "    <tr>\n",
       "      <th>908</th>\n",
       "      <td>2.777778</td>\n",
       "      <td>2.466667</td>\n",
       "      <td>3.25</td>\n",
       "      <td>2.777778</td>\n",
       "      <td>2.833333</td>\n",
       "      <td>2.750000</td>\n",
       "      <td>2.770833</td>\n",
       "      <td>2.583333</td>\n",
       "      <td>3.000000</td>\n",
       "      <td>2.833333</td>\n",
       "      <td>2.900</td>\n",
       "      <td>2.266667</td>\n",
       "      <td>2.166667</td>\n",
       "      <td>2.843750</td>\n",
       "      <td>2.916667</td>\n",
       "      <td>2.903226</td>\n",
       "      <td>2.300000</td>\n",
       "      <td>2.857143</td>\n",
       "    </tr>\n",
       "  </tbody>\n",
       "</table>\n",
       "</div>"
      ],
      "text/plain": [
       "genre     Action  Adventure  Animation    Comedy     Crime  Documentary  \\\n",
       "userId                                                                    \n",
       "321     3.068966   3.166667       3.00  3.043860  3.280000     3.500000   \n",
       "463     2.756757   2.566667       2.50  2.435897  2.620690     3.000000   \n",
       "638     3.444444   3.115385       2.40  3.025641  3.285714     3.000000   \n",
       "766     3.142857   2.956522       3.50  2.880435  3.227273     2.833333   \n",
       "908     2.777778   2.466667       3.25  2.777778  2.833333     2.750000   \n",
       "\n",
       "genre      Drama    Family   Fantasy   Foreign  History    Horror     Music  \\\n",
       "userId                                                                        \n",
       "321     3.165000  2.750000  3.208333  4.000000    3.000  3.093750  2.857143   \n",
       "463     2.730769  2.250000  2.785714       NaN    2.125  3.181818  3.200000   \n",
       "638     3.113402  2.444444  3.400000       NaN    3.000  3.333333  3.200000   \n",
       "766     3.053191  2.590909  3.100000       NaN    3.375  2.843750  2.600000   \n",
       "908     2.770833  2.583333  3.000000  2.833333    2.900  2.266667  2.166667   \n",
       "\n",
       "genre    Mystery   Romance  Thriller       War   Western  \n",
       "userId                                                    \n",
       "321     3.461538  3.160000  3.324324  2.833333  3.000000  \n",
       "463     3.058824  2.814815  3.000000  2.500000  2.000000  \n",
       "638     3.470588  3.111111  3.189189  3.500000  3.000000  \n",
       "766     3.125000  2.800000  3.197368  3.000000  3.000000  \n",
       "908     2.843750  2.916667  2.903226  2.300000  2.857143  "
      ]
     },
     "execution_count": 35,
     "metadata": {},
     "output_type": "execute_result"
    }
   ],
   "source": [
    "df_reindex = df.reset_index()\n",
    "\n",
    "df_pivot = df_reindex.pivot(index='userId', columns='genre', values='mean')\n",
    "df_pivot.head()"
   ]
  },
  {
   "cell_type": "code",
   "execution_count": 36,
   "metadata": {},
   "outputs": [],
   "source": [
    "df_pivot.fillna(0, inplace=True)"
   ]
  },
  {
   "cell_type": "code",
   "execution_count": 37,
   "metadata": {},
   "outputs": [],
   "source": [
    "from sklearn.metrics import pairwise_distances\n",
    "\n",
    "cosine_sim = 1-pairwise_distances(df_pivot, metric=\"cosine\")"
   ]
  },
  {
   "cell_type": "code",
   "execution_count": 38,
   "metadata": {},
   "outputs": [
    {
     "data": {
      "text/html": [
       "<div>\n",
       "<style scoped>\n",
       "    .dataframe tbody tr th:only-of-type {\n",
       "        vertical-align: middle;\n",
       "    }\n",
       "\n",
       "    .dataframe tbody tr th {\n",
       "        vertical-align: top;\n",
       "    }\n",
       "\n",
       "    .dataframe thead th {\n",
       "        text-align: right;\n",
       "    }\n",
       "</style>\n",
       "<table border=\"1\" class=\"dataframe\">\n",
       "  <thead>\n",
       "    <tr style=\"text-align: right;\">\n",
       "      <th></th>\n",
       "      <th>0</th>\n",
       "      <th>1</th>\n",
       "      <th>2</th>\n",
       "      <th>3</th>\n",
       "      <th>4</th>\n",
       "      <th>5</th>\n",
       "      <th>6</th>\n",
       "      <th>7</th>\n",
       "      <th>8</th>\n",
       "      <th>9</th>\n",
       "      <th>...</th>\n",
       "      <th>915</th>\n",
       "      <th>916</th>\n",
       "      <th>917</th>\n",
       "      <th>918</th>\n",
       "      <th>919</th>\n",
       "      <th>920</th>\n",
       "      <th>921</th>\n",
       "      <th>922</th>\n",
       "      <th>923</th>\n",
       "      <th>924</th>\n",
       "    </tr>\n",
       "  </thead>\n",
       "  <tbody>\n",
       "    <tr>\n",
       "      <th>0</th>\n",
       "      <td>1.000000</td>\n",
       "      <td>0.948927</td>\n",
       "      <td>0.950499</td>\n",
       "      <td>0.951235</td>\n",
       "      <td>0.994089</td>\n",
       "      <td>0.937986</td>\n",
       "      <td>0.987778</td>\n",
       "      <td>0.987116</td>\n",
       "      <td>0.995074</td>\n",
       "      <td>0.996451</td>\n",
       "      <td>...</td>\n",
       "      <td>0.995692</td>\n",
       "      <td>0.939912</td>\n",
       "      <td>0.989376</td>\n",
       "      <td>0.974130</td>\n",
       "      <td>0.994863</td>\n",
       "      <td>0.951105</td>\n",
       "      <td>0.923309</td>\n",
       "      <td>0.925137</td>\n",
       "      <td>0.983860</td>\n",
       "      <td>0.994754</td>\n",
       "    </tr>\n",
       "    <tr>\n",
       "      <th>1</th>\n",
       "      <td>0.948927</td>\n",
       "      <td>1.000000</td>\n",
       "      <td>0.993012</td>\n",
       "      <td>0.986400</td>\n",
       "      <td>0.953510</td>\n",
       "      <td>0.986531</td>\n",
       "      <td>0.969521</td>\n",
       "      <td>0.973240</td>\n",
       "      <td>0.957311</td>\n",
       "      <td>0.960147</td>\n",
       "      <td>...</td>\n",
       "      <td>0.958811</td>\n",
       "      <td>0.981815</td>\n",
       "      <td>0.978189</td>\n",
       "      <td>0.981000</td>\n",
       "      <td>0.959795</td>\n",
       "      <td>0.992607</td>\n",
       "      <td>0.979119</td>\n",
       "      <td>0.974002</td>\n",
       "      <td>0.980425</td>\n",
       "      <td>0.954168</td>\n",
       "    </tr>\n",
       "    <tr>\n",
       "      <th>2</th>\n",
       "      <td>0.950499</td>\n",
       "      <td>0.993012</td>\n",
       "      <td>1.000000</td>\n",
       "      <td>0.992275</td>\n",
       "      <td>0.957452</td>\n",
       "      <td>0.981917</td>\n",
       "      <td>0.975075</td>\n",
       "      <td>0.980319</td>\n",
       "      <td>0.963787</td>\n",
       "      <td>0.963969</td>\n",
       "      <td>...</td>\n",
       "      <td>0.963658</td>\n",
       "      <td>0.978519</td>\n",
       "      <td>0.977210</td>\n",
       "      <td>0.992355</td>\n",
       "      <td>0.963937</td>\n",
       "      <td>0.995940</td>\n",
       "      <td>0.965294</td>\n",
       "      <td>0.967092</td>\n",
       "      <td>0.987720</td>\n",
       "      <td>0.956400</td>\n",
       "    </tr>\n",
       "    <tr>\n",
       "      <th>3</th>\n",
       "      <td>0.951235</td>\n",
       "      <td>0.986400</td>\n",
       "      <td>0.992275</td>\n",
       "      <td>1.000000</td>\n",
       "      <td>0.967274</td>\n",
       "      <td>0.981614</td>\n",
       "      <td>0.977624</td>\n",
       "      <td>0.979485</td>\n",
       "      <td>0.966448</td>\n",
       "      <td>0.966445</td>\n",
       "      <td>...</td>\n",
       "      <td>0.964886</td>\n",
       "      <td>0.982869</td>\n",
       "      <td>0.979458</td>\n",
       "      <td>0.985215</td>\n",
       "      <td>0.964028</td>\n",
       "      <td>0.995534</td>\n",
       "      <td>0.963569</td>\n",
       "      <td>0.967069</td>\n",
       "      <td>0.988277</td>\n",
       "      <td>0.962219</td>\n",
       "    </tr>\n",
       "    <tr>\n",
       "      <th>4</th>\n",
       "      <td>0.994089</td>\n",
       "      <td>0.953510</td>\n",
       "      <td>0.957452</td>\n",
       "      <td>0.967274</td>\n",
       "      <td>1.000000</td>\n",
       "      <td>0.946904</td>\n",
       "      <td>0.989666</td>\n",
       "      <td>0.986804</td>\n",
       "      <td>0.996086</td>\n",
       "      <td>0.996286</td>\n",
       "      <td>...</td>\n",
       "      <td>0.995463</td>\n",
       "      <td>0.950952</td>\n",
       "      <td>0.991257</td>\n",
       "      <td>0.976443</td>\n",
       "      <td>0.991383</td>\n",
       "      <td>0.961387</td>\n",
       "      <td>0.929289</td>\n",
       "      <td>0.933591</td>\n",
       "      <td>0.988861</td>\n",
       "      <td>0.995154</td>\n",
       "    </tr>\n",
       "  </tbody>\n",
       "</table>\n",
       "<p>5 rows × 925 columns</p>\n",
       "</div>"
      ],
      "text/plain": [
       "        0         1         2         3         4         5         6    \\\n",
       "0  1.000000  0.948927  0.950499  0.951235  0.994089  0.937986  0.987778   \n",
       "1  0.948927  1.000000  0.993012  0.986400  0.953510  0.986531  0.969521   \n",
       "2  0.950499  0.993012  1.000000  0.992275  0.957452  0.981917  0.975075   \n",
       "3  0.951235  0.986400  0.992275  1.000000  0.967274  0.981614  0.977624   \n",
       "4  0.994089  0.953510  0.957452  0.967274  1.000000  0.946904  0.989666   \n",
       "\n",
       "        7         8         9      ...          915       916       917  \\\n",
       "0  0.987116  0.995074  0.996451    ...     0.995692  0.939912  0.989376   \n",
       "1  0.973240  0.957311  0.960147    ...     0.958811  0.981815  0.978189   \n",
       "2  0.980319  0.963787  0.963969    ...     0.963658  0.978519  0.977210   \n",
       "3  0.979485  0.966448  0.966445    ...     0.964886  0.982869  0.979458   \n",
       "4  0.986804  0.996086  0.996286    ...     0.995463  0.950952  0.991257   \n",
       "\n",
       "        918       919       920       921       922       923       924  \n",
       "0  0.974130  0.994863  0.951105  0.923309  0.925137  0.983860  0.994754  \n",
       "1  0.981000  0.959795  0.992607  0.979119  0.974002  0.980425  0.954168  \n",
       "2  0.992355  0.963937  0.995940  0.965294  0.967092  0.987720  0.956400  \n",
       "3  0.985215  0.964028  0.995534  0.963569  0.967069  0.988277  0.962219  \n",
       "4  0.976443  0.991383  0.961387  0.929289  0.933591  0.988861  0.995154  \n",
       "\n",
       "[5 rows x 925 columns]"
      ]
     },
     "execution_count": 38,
     "metadata": {},
     "output_type": "execute_result"
    }
   ],
   "source": [
    "pd.DataFrame(cosine_sim).head()"
   ]
  },
  {
   "cell_type": "markdown",
   "metadata": {},
   "source": [
    "The following function find k similar users. We select four and compare the corrected genre scores using linear plots of every user."
   ]
  },
  {
   "cell_type": "code",
   "execution_count": 39,
   "metadata": {},
   "outputs": [],
   "source": [
    "from sklearn.neighbors import NearestNeighbors\n",
    "\n",
    "metric = 'cosine'\n",
    "k = 4\n",
    "def similar_users(user_id, feature_user_genre, metric = metric, k=k, verbose=True):\n",
    "    \"\"\"\n",
    "    Adaptation of findksimilarusers function availability in: \n",
    "    https://github.com/csaluja/JupyterNotebooks-Medium/blob/master/CF%20Recommendation%20System-Examples.ipynb?so\n",
    "    \"\"\"\n",
    "    similarities=[]\n",
    "    indices=[]\n",
    "    model_knn = NearestNeighbors(metric = metric) \n",
    "    model_knn.fit(feature_user_genre)\n",
    "\n",
    "    distances, indices = model_knn.kneighbors(feature_user_genre.iloc[user_id, :].values.reshape(1, -1), n_neighbors = k+1)\n",
    "    similarities = 1-distances.flatten()\n",
    "    if verbose:\n",
    "        print ('{} most similar users for user {}:\\n'.format(k,user_id))\n",
    "    for i in range(0, len(indices.flatten())):\n",
    "        #If index correspond to user asked, continue. Otherwise, print user\n",
    "        if indices.flatten()[i]+1 == user_id+1:\n",
    "            continue;\n",
    "\n",
    "        else:\n",
    "            if verbose:\n",
    "                print ('{}: User {}, with similarity of {}'.format(i, indices.flatten()[i], similarities.flatten()[i]))\n",
    "            \n",
    "    return similarities,indices"
   ]
  },
  {
   "cell_type": "code",
   "execution_count": 40,
   "metadata": {},
   "outputs": [
    {
     "name": "stdout",
     "output_type": "stream",
     "text": [
      "4 most similar users for user 0:\n",
      "\n",
      "1: User 97, with similarity of 0.9988045196834712\n",
      "2: User 741, with similarity of 0.9986940492112901\n",
      "3: User 453, with similarity of 0.9982437253877281\n",
      "4: User 664, with similarity of 0.9979992312260968\n"
     ]
    }
   ],
   "source": [
    "similarities,indices = similar_users(0, df_pivot, metric='cosine', k=4)"
   ]
  },
  {
   "cell_type": "code",
   "execution_count": 41,
   "metadata": {},
   "outputs": [],
   "source": [
    "df_similar_users = pd.concat([df_pivot.iloc[0, :].rename('user'), \n",
    "                              df_pivot.iloc[97, :].rename('first similar'), \n",
    "                              df_pivot.iloc[741, :].rename('second similar'),\n",
    "                              df_pivot.iloc[453, :].rename('third similar'),\n",
    "                              df_pivot.iloc[664, :].rename('fourth similar')\n",
    "                              ], axis=1)"
   ]
  },
  {
   "cell_type": "code",
   "execution_count": 42,
   "metadata": {},
   "outputs": [
    {
     "data": {
      "image/png": "[encoded data removed]",
      "text/plain": [
       "<Figure size 1440x432 with 1 Axes>"
      ]
     },
     "metadata": {},
     "output_type": "display_data"
    }
   ],
   "source": [
    "f, ax = plt.subplots(figsize=(20, 6))\n",
    "_ = sns.set_style(\"white\")\n",
    "_ = sns.lineplot(data=df_similar_users['user'], color='firebrick', linewidth=4)\n",
    "_ = sns.lineplot(data=df_similar_users['first similar'], color='grey', linewidth=2)\n",
    "_ = sns.lineplot(data=df_similar_users['second similar'], color='slateblue', linewidth=2)\n",
    "_ = sns.lineplot(data=df_similar_users['third similar'], color='dodgerblue', linewidth=2)\n",
    "_ = sns.lineplot(data=df_similar_users['fourth similar'], color='plum', linewidth=2)\n",
    "_ = plt.legend(['user', 'first similar', 'second similar', 'third similar', 'fourth similar'])\n",
    "_ = plt.title('Similar users', fontsize=14)\n",
    "_ = plt.xlabel('genres', fontsize=10)\n",
    "_ = plt.ylabel('corrected genre scores', fontsize=10)"
   ]
  },
  {
   "cell_type": "code",
   "execution_count": 43,
   "metadata": {},
   "outputs": [],
   "source": [
    "def predict_user_based(user_id, genre_id, feature_user_genre, metric = metric, k=k, verbose=True):\n",
    "    \"\"\"\n",
    "    Adaptation of predict_userbased function availability in: \n",
    "    https://github.com/csaluja/JupyterNotebooks-Medium/blob/master/CF%20Recommendation%20System-Examples.ipynb?so\n",
    "    \"\"\"\n",
    "    prediction=0\n",
    "    similarities, indices = similar_users(user_id, feature_user_genre ,metric, k, verbose=False) #similar users based on cosine similarity\n",
    "    mean_feature_user_genre = feature_user_genre.iloc[user_id,:].mean() #to adjust for zero based indexing\n",
    "    sum_wt = np.sum(similarities)-1\n",
    "    product=1\n",
    "    wtd_sum = 0 \n",
    "    \n",
    "    for i in range(0, len(indices.flatten())):\n",
    "        if indices.flatten()[i]+1 == user_id+1:\n",
    "            continue;\n",
    "        else: \n",
    "            feature_user_genre_diff = feature_user_genre.iloc[indices.flatten()[i],genre_id-1]-np.mean(feature_user_genre.iloc[indices.flatten()[i],:])\n",
    "            product = feature_user_genre_diff * (similarities[i])\n",
    "            wtd_sum = wtd_sum + product\n",
    "    \n",
    "    prediction = mean_feature_user_genre + (wtd_sum/sum_wt)\n",
    "    if verbose:\n",
    "        print ('\\nFor user {} and item {}, the predicted score is {}'.format(user_id, genre_id-1, prediction))\n",
    "\n",
    "    return prediction"
   ]
  },
  {
   "cell_type": "markdown",
   "metadata": {},
   "source": [
    "Predicting scores for every genre of User 0:"
   ]
  },
  {
   "cell_type": "code",
   "execution_count": 44,
   "metadata": {},
   "outputs": [],
   "source": [
    "user_test = 800\n",
    "prediction = []\n",
    "for i in range(18):\n",
    "    p = predict_user_based(user_test, i+1, df_pivot, metric='cosine', k=4, verbose=False)\n",
    "    prediction.append(p)\n",
    "    \n",
    "df_similar_users['prediction'] = prediction"
   ]
  },
  {
   "cell_type": "code",
   "execution_count": 45,
   "metadata": {},
   "outputs": [
    {
     "data": {
      "image/png": "[encoded data removed]",
      "text/plain": [
       "<Figure size 1440x432 with 1 Axes>"
      ]
     },
     "metadata": {},
     "output_type": "display_data"
    }
   ],
   "source": [
    "f, ax = plt.subplots(figsize=(20, 6))\n",
    "_ = sns.set_style(\"white\")\n",
    "_ = sns.lineplot(data=df_pivot.iloc[user_test, :], color='black', linewidth=2)\n",
    "_ = sns.lineplot(data=df_similar_users['prediction'], color='dodgerblue', linewidth=2)\n",
    "_ = plt.legend(['user', 'prediction'])\n",
    "_ = plt.title('Prediction of user profile', fontsize=14)\n",
    "_ = plt.xlabel('genres', fontsize=10)\n",
    "_ = plt.ylabel('corrected genre scores', fontsize=10)"
   ]
  },
  {
   "cell_type": "code",
   "execution_count": 46,
   "metadata": {},
   "outputs": [
    {
     "data": {
      "text/plain": [
       "0.034962314885032236"
      ]
     },
     "execution_count": 46,
     "metadata": {},
     "output_type": "execute_result"
    }
   ],
   "source": [
    "from sklearn.metrics import mean_squared_error\n",
    "mean_squared_error(df_pivot.iloc[user_test, :].values, df_similar_users['prediction'].values)"
   ]
  },
  {
   "cell_type": "code",
   "execution_count": null,
   "metadata": {},
   "outputs": [],
   "source": []
  }
 ],
 "metadata": {
  "kernelspec": {
   "display_name": "Python 3",
   "language": "python",
   "name": "python3"
  },
  "language_info": {
   "codemirror_mode": {
    "name": "ipython",
    "version": 3
   },
   "file_extension": ".py",
   "mimetype": "text/x-python",
   "name": "python",
   "nbconvert_exporter": "python",
   "pygments_lexer": "ipython3",
   "version": "3.7.1"
  }
 },
 "nbformat": 4,
 "nbformat_minor": 2
}
