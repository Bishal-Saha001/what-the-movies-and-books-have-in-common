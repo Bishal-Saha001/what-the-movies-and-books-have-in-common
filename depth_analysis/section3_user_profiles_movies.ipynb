{
 "cells": [
  {
   "cell_type": "markdown",
   "metadata": {},
   "source": [
    "# Depth findings in Movies"
   ]
  },
  {
   "cell_type": "markdown",
   "metadata": {},
   "source": [
    "## II. User profiles\n",
    "\n",
    "In this section, we try to build user profiles, looking for user with high participation on rankings. We want to discover the preferences of people, according genres, description of movies and key-words. "
   ]
  },
  {
   "cell_type": "markdown",
   "metadata": {},
   "source": [
    "### Importing Data"
   ]
  },
  {
   "cell_type": "markdown",
   "metadata": {},
   "source": [
    "Importing relevant packages:"
   ]
  },
  {
   "cell_type": "code",
   "execution_count": 1,
   "metadata": {},
   "outputs": [],
   "source": [
    "import re\n",
    "from scipy import stats\n",
    "import pandas as pd\n",
    "import matplotlib.pyplot as plt\n",
    "import seaborn as sns\n",
    "import numpy as np"
   ]
  },
  {
   "cell_type": "markdown",
   "metadata": {},
   "source": [
    "Importing movies and ratings datasets:"
   ]
  },
  {
   "cell_type": "code",
   "execution_count": 2,
   "metadata": {},
   "outputs": [],
   "source": [
    "df_movies = pd.read_csv('../Data/interim/movies/movies.csv')"
   ]
  },
  {
   "cell_type": "code",
   "execution_count": 3,
   "metadata": {},
   "outputs": [],
   "source": [
    "df_movies.rename(columns = {'Unnamed: 0': 'counter'}, inplace=True)"
   ]
  },
  {
   "cell_type": "code",
   "execution_count": 4,
   "metadata": {},
   "outputs": [
    {
     "data": {
      "text/html": [
       "<div>\n",
       "<style scoped>\n",
       "    .dataframe tbody tr th:only-of-type {\n",
       "        vertical-align: middle;\n",
       "    }\n",
       "\n",
       "    .dataframe tbody tr th {\n",
       "        vertical-align: top;\n",
       "    }\n",
       "\n",
       "    .dataframe thead th {\n",
       "        text-align: right;\n",
       "    }\n",
       "</style>\n",
       "<table border=\"1\" class=\"dataframe\">\n",
       "  <thead>\n",
       "    <tr style=\"text-align: right;\">\n",
       "      <th></th>\n",
       "      <th>counter</th>\n",
       "      <th>adult</th>\n",
       "      <th>belongs_to_collection</th>\n",
       "      <th>genres</th>\n",
       "      <th>id</th>\n",
       "      <th>original_language</th>\n",
       "      <th>overview</th>\n",
       "      <th>popularity</th>\n",
       "      <th>production_companies</th>\n",
       "      <th>production_countries</th>\n",
       "      <th>...</th>\n",
       "      <th>Foreign</th>\n",
       "      <th>History</th>\n",
       "      <th>Horror</th>\n",
       "      <th>Music</th>\n",
       "      <th>Mystery</th>\n",
       "      <th>Romance</th>\n",
       "      <th>Thriller</th>\n",
       "      <th>War</th>\n",
       "      <th>Western</th>\n",
       "      <th>key_list</th>\n",
       "    </tr>\n",
       "  </thead>\n",
       "  <tbody>\n",
       "    <tr>\n",
       "      <th>0</th>\n",
       "      <td>0</td>\n",
       "      <td>False</td>\n",
       "      <td>{'id': 10194, 'name': 'Toy Story Collection', ...</td>\n",
       "      <td>[{'id': 16, 'name': 'Animation'}, {'id': 35, '...</td>\n",
       "      <td>862</td>\n",
       "      <td>en</td>\n",
       "      <td>Led by Woody, Andy's toys live happily in his ...</td>\n",
       "      <td>21.946943</td>\n",
       "      <td>[{'name': 'Pixar Animation Studios', 'id': 3}]</td>\n",
       "      <td>[{'iso_3166_1': 'US', 'name': 'United States o...</td>\n",
       "      <td>...</td>\n",
       "      <td>NaN</td>\n",
       "      <td>NaN</td>\n",
       "      <td>NaN</td>\n",
       "      <td>NaN</td>\n",
       "      <td>NaN</td>\n",
       "      <td>NaN</td>\n",
       "      <td>NaN</td>\n",
       "      <td>NaN</td>\n",
       "      <td>NaN</td>\n",
       "      <td>['jealousy', 'toy', 'boy', 'friendship', 'frie...</td>\n",
       "    </tr>\n",
       "    <tr>\n",
       "      <th>1</th>\n",
       "      <td>1</td>\n",
       "      <td>False</td>\n",
       "      <td>NaN</td>\n",
       "      <td>[{'id': 12, 'name': 'Adventure'}, {'id': 14, '...</td>\n",
       "      <td>8844</td>\n",
       "      <td>en</td>\n",
       "      <td>When siblings Judy and Peter discover an encha...</td>\n",
       "      <td>17.015539</td>\n",
       "      <td>[{'name': 'TriStar Pictures', 'id': 559}, {'na...</td>\n",
       "      <td>[{'iso_3166_1': 'US', 'name': 'United States o...</td>\n",
       "      <td>...</td>\n",
       "      <td>NaN</td>\n",
       "      <td>NaN</td>\n",
       "      <td>NaN</td>\n",
       "      <td>NaN</td>\n",
       "      <td>NaN</td>\n",
       "      <td>NaN</td>\n",
       "      <td>NaN</td>\n",
       "      <td>NaN</td>\n",
       "      <td>NaN</td>\n",
       "      <td>['disappearance', 'recluse']</td>\n",
       "    </tr>\n",
       "  </tbody>\n",
       "</table>\n",
       "<p>2 rows × 37 columns</p>\n",
       "</div>"
      ],
      "text/plain": [
       "   counter  adult                              belongs_to_collection  \\\n",
       "0        0  False  {'id': 10194, 'name': 'Toy Story Collection', ...   \n",
       "1        1  False                                                NaN   \n",
       "\n",
       "                                              genres    id original_language  \\\n",
       "0  [{'id': 16, 'name': 'Animation'}, {'id': 35, '...   862                en   \n",
       "1  [{'id': 12, 'name': 'Adventure'}, {'id': 14, '...  8844                en   \n",
       "\n",
       "                                            overview  popularity  \\\n",
       "0  Led by Woody, Andy's toys live happily in his ...   21.946943   \n",
       "1  When siblings Judy and Peter discover an encha...   17.015539   \n",
       "\n",
       "                                production_companies  \\\n",
       "0     [{'name': 'Pixar Animation Studios', 'id': 3}]   \n",
       "1  [{'name': 'TriStar Pictures', 'id': 559}, {'na...   \n",
       "\n",
       "                                production_countries  \\\n",
       "0  [{'iso_3166_1': 'US', 'name': 'United States o...   \n",
       "1  [{'iso_3166_1': 'US', 'name': 'United States o...   \n",
       "\n",
       "                         ...                         Foreign  History Horror  \\\n",
       "0                        ...                             NaN      NaN    NaN   \n",
       "1                        ...                             NaN      NaN    NaN   \n",
       "\n",
       "  Music  Mystery  Romance  Thriller  War Western  \\\n",
       "0   NaN      NaN      NaN       NaN  NaN     NaN   \n",
       "1   NaN      NaN      NaN       NaN  NaN     NaN   \n",
       "\n",
       "                                            key_list  \n",
       "0  ['jealousy', 'toy', 'boy', 'friendship', 'frie...  \n",
       "1                       ['disappearance', 'recluse']  \n",
       "\n",
       "[2 rows x 37 columns]"
      ]
     },
     "execution_count": 4,
     "metadata": {},
     "output_type": "execute_result"
    }
   ],
   "source": [
    "df_movies.head(2)"
   ]
  },
  {
   "cell_type": "code",
   "execution_count": 5,
   "metadata": {},
   "outputs": [],
   "source": [
    "df_ratings = pd.read_csv('../Data/raw/movies/the-movies-dataset/ratings.csv')"
   ]
  },
  {
   "cell_type": "code",
   "execution_count": 6,
   "metadata": {},
   "outputs": [
    {
     "data": {
      "text/html": [
       "<div>\n",
       "<style scoped>\n",
       "    .dataframe tbody tr th:only-of-type {\n",
       "        vertical-align: middle;\n",
       "    }\n",
       "\n",
       "    .dataframe tbody tr th {\n",
       "        vertical-align: top;\n",
       "    }\n",
       "\n",
       "    .dataframe thead th {\n",
       "        text-align: right;\n",
       "    }\n",
       "</style>\n",
       "<table border=\"1\" class=\"dataframe\">\n",
       "  <thead>\n",
       "    <tr style=\"text-align: right;\">\n",
       "      <th></th>\n",
       "      <th>userId</th>\n",
       "      <th>movieId</th>\n",
       "      <th>rating</th>\n",
       "      <th>timestamp</th>\n",
       "    </tr>\n",
       "  </thead>\n",
       "  <tbody>\n",
       "    <tr>\n",
       "      <th>0</th>\n",
       "      <td>1</td>\n",
       "      <td>110</td>\n",
       "      <td>1.0</td>\n",
       "      <td>1425941529</td>\n",
       "    </tr>\n",
       "    <tr>\n",
       "      <th>1</th>\n",
       "      <td>1</td>\n",
       "      <td>147</td>\n",
       "      <td>4.5</td>\n",
       "      <td>1425942435</td>\n",
       "    </tr>\n",
       "    <tr>\n",
       "      <th>2</th>\n",
       "      <td>1</td>\n",
       "      <td>858</td>\n",
       "      <td>5.0</td>\n",
       "      <td>1425941523</td>\n",
       "    </tr>\n",
       "    <tr>\n",
       "      <th>3</th>\n",
       "      <td>1</td>\n",
       "      <td>1221</td>\n",
       "      <td>5.0</td>\n",
       "      <td>1425941546</td>\n",
       "    </tr>\n",
       "    <tr>\n",
       "      <th>4</th>\n",
       "      <td>1</td>\n",
       "      <td>1246</td>\n",
       "      <td>5.0</td>\n",
       "      <td>1425941556</td>\n",
       "    </tr>\n",
       "  </tbody>\n",
       "</table>\n",
       "</div>"
      ],
      "text/plain": [
       "   userId  movieId  rating   timestamp\n",
       "0       1      110     1.0  1425941529\n",
       "1       1      147     4.5  1425942435\n",
       "2       1      858     5.0  1425941523\n",
       "3       1     1221     5.0  1425941546\n",
       "4       1     1246     5.0  1425941556"
      ]
     },
     "execution_count": 6,
     "metadata": {},
     "output_type": "execute_result"
    }
   ],
   "source": [
    "df_ratings.head()"
   ]
  },
  {
   "cell_type": "markdown",
   "metadata": {},
   "source": [
    "As we can note, the rating dataset contains `userId`, `movieId` and `rating`. Grouping by users, we could determine which users are actively voting movies and they could bring us more information to generate profiles: "
   ]
  },
  {
   "cell_type": "code",
   "execution_count": 7,
   "metadata": {},
   "outputs": [],
   "source": [
    "df_users = df_ratings.groupby('userId').count().movieId"
   ]
  },
  {
   "cell_type": "code",
   "execution_count": 8,
   "metadata": {
    "scrolled": true
   },
   "outputs": [
    {
     "data": {
      "image/png": "[encoded data removed]",
      "text/plain": [
       "<Figure size 288x288 with 1 Axes>"
      ]
     },
     "metadata": {
      "needs_background": "light"
     },
     "output_type": "display_data"
    }
   ],
   "source": [
    "f, ax = plt.subplots(figsize=(4, 4))\n",
    "_ = sns.set_style(\"white\")\n",
    "ax = sns.distplot(df_users, kde=False, bins=15, color='dodgerblue')\n",
    "ax.set_yscale('log')\n",
    "_ = plt.xlabel('number of votes', fontsize=10)\n",
    "_ = plt.ylabel('users', fontsize=10)\n",
    "_ = plt.title('Histogram of number of movies voted by every user', fontsize=14)\n",
    "_ = sns.despine(offset=5, trim=True)"
   ]
  },
  {
   "cell_type": "markdown",
   "metadata": {},
   "source": [
    "According to the Figure, almost all people vote 1-5000 movies. Inspecting percentiles, we could get values to filter users:"
   ]
  },
  {
   "cell_type": "code",
   "execution_count": 9,
   "metadata": {},
   "outputs": [
    {
     "name": "stdout",
     "output_type": "stream",
     "text": [
      "Percentiles 80 = 119.0\n",
      "Percentile 95 = 398.0\n"
     ]
    }
   ],
   "source": [
    "print('Percentiles 80 = {}'.format(np.percentile(df_users.values, 80)) + '\\nPercentile 95 = {}'.format(np.percentile(df_users.values, 95)))"
   ]
  },
  {
   "cell_type": "markdown",
   "metadata": {},
   "source": [
    "80% of users had voted less than 120 movies and 95% of people sum up less than 400 movies. Therefore, the users with frecuencies lower than 120 movies and upper than 400 are filtered:"
   ]
  },
  {
   "cell_type": "code",
   "execution_count": 10,
   "metadata": {},
   "outputs": [
    {
     "name": "stdout",
     "output_type": "stream",
     "text": [
      "40301\n"
     ]
    }
   ],
   "source": [
    "users_idx = df_users.where((df_users.values > 120) & (df_users.values < 400)).dropna()\n",
    "print(len(users_idx))"
   ]
  },
  {
   "cell_type": "markdown",
   "metadata": {},
   "source": [
    "Filtering the users from the ratings dataFrame and then merging with the movies dataset:"
   ]
  },
  {
   "cell_type": "code",
   "execution_count": 11,
   "metadata": {},
   "outputs": [],
   "source": [
    "df_ratings_filter = df_ratings[df_ratings['userId'].isin(users_idx.index.tolist())]"
   ]
  },
  {
   "cell_type": "code",
   "execution_count": 12,
   "metadata": {},
   "outputs": [],
   "source": [
    "df_movies_rating = df_movies.merge(df_ratings_filter, left_on='id', right_on='movieId')"
   ]
  },
  {
   "cell_type": "code",
   "execution_count": 13,
   "metadata": {},
   "outputs": [
    {
     "data": {
      "text/html": [
       "<div>\n",
       "<style scoped>\n",
       "    .dataframe tbody tr th:only-of-type {\n",
       "        vertical-align: middle;\n",
       "    }\n",
       "\n",
       "    .dataframe tbody tr th {\n",
       "        vertical-align: top;\n",
       "    }\n",
       "\n",
       "    .dataframe thead th {\n",
       "        text-align: right;\n",
       "    }\n",
       "</style>\n",
       "<table border=\"1\" class=\"dataframe\">\n",
       "  <thead>\n",
       "    <tr style=\"text-align: right;\">\n",
       "      <th></th>\n",
       "      <th>counter</th>\n",
       "      <th>adult</th>\n",
       "      <th>belongs_to_collection</th>\n",
       "      <th>genres</th>\n",
       "      <th>id</th>\n",
       "      <th>original_language</th>\n",
       "      <th>overview</th>\n",
       "      <th>popularity</th>\n",
       "      <th>production_companies</th>\n",
       "      <th>production_countries</th>\n",
       "      <th>...</th>\n",
       "      <th>Music</th>\n",
       "      <th>Mystery</th>\n",
       "      <th>Romance</th>\n",
       "      <th>Thriller</th>\n",
       "      <th>War</th>\n",
       "      <th>Western</th>\n",
       "      <th>key_list</th>\n",
       "      <th>movieId</th>\n",
       "      <th>rating</th>\n",
       "      <th>timestamp</th>\n",
       "    </tr>\n",
       "    <tr>\n",
       "      <th>userId</th>\n",
       "      <th></th>\n",
       "      <th></th>\n",
       "      <th></th>\n",
       "      <th></th>\n",
       "      <th></th>\n",
       "      <th></th>\n",
       "      <th></th>\n",
       "      <th></th>\n",
       "      <th></th>\n",
       "      <th></th>\n",
       "      <th></th>\n",
       "      <th></th>\n",
       "      <th></th>\n",
       "      <th></th>\n",
       "      <th></th>\n",
       "      <th></th>\n",
       "      <th></th>\n",
       "      <th></th>\n",
       "      <th></th>\n",
       "      <th></th>\n",
       "      <th></th>\n",
       "    </tr>\n",
       "  </thead>\n",
       "  <tbody>\n",
       "    <tr>\n",
       "      <th>11</th>\n",
       "      <td>67</td>\n",
       "      <td>67</td>\n",
       "      <td>17</td>\n",
       "      <td>67</td>\n",
       "      <td>67</td>\n",
       "      <td>67</td>\n",
       "      <td>67</td>\n",
       "      <td>67</td>\n",
       "      <td>67</td>\n",
       "      <td>67</td>\n",
       "      <td>...</td>\n",
       "      <td>3</td>\n",
       "      <td>8</td>\n",
       "      <td>7</td>\n",
       "      <td>17</td>\n",
       "      <td>2</td>\n",
       "      <td>1</td>\n",
       "      <td>67</td>\n",
       "      <td>67</td>\n",
       "      <td>67</td>\n",
       "      <td>67</td>\n",
       "    </tr>\n",
       "    <tr>\n",
       "      <th>12</th>\n",
       "      <td>136</td>\n",
       "      <td>136</td>\n",
       "      <td>28</td>\n",
       "      <td>136</td>\n",
       "      <td>136</td>\n",
       "      <td>136</td>\n",
       "      <td>135</td>\n",
       "      <td>136</td>\n",
       "      <td>136</td>\n",
       "      <td>136</td>\n",
       "      <td>...</td>\n",
       "      <td>3</td>\n",
       "      <td>14</td>\n",
       "      <td>26</td>\n",
       "      <td>32</td>\n",
       "      <td>1</td>\n",
       "      <td>3</td>\n",
       "      <td>136</td>\n",
       "      <td>136</td>\n",
       "      <td>136</td>\n",
       "      <td>136</td>\n",
       "    </tr>\n",
       "    <tr>\n",
       "      <th>15</th>\n",
       "      <td>77</td>\n",
       "      <td>77</td>\n",
       "      <td>13</td>\n",
       "      <td>77</td>\n",
       "      <td>77</td>\n",
       "      <td>77</td>\n",
       "      <td>76</td>\n",
       "      <td>77</td>\n",
       "      <td>77</td>\n",
       "      <td>77</td>\n",
       "      <td>...</td>\n",
       "      <td>4</td>\n",
       "      <td>7</td>\n",
       "      <td>11</td>\n",
       "      <td>23</td>\n",
       "      <td>1</td>\n",
       "      <td>0</td>\n",
       "      <td>77</td>\n",
       "      <td>77</td>\n",
       "      <td>77</td>\n",
       "      <td>77</td>\n",
       "    </tr>\n",
       "    <tr>\n",
       "      <th>16</th>\n",
       "      <td>54</td>\n",
       "      <td>54</td>\n",
       "      <td>8</td>\n",
       "      <td>54</td>\n",
       "      <td>54</td>\n",
       "      <td>54</td>\n",
       "      <td>54</td>\n",
       "      <td>54</td>\n",
       "      <td>54</td>\n",
       "      <td>54</td>\n",
       "      <td>...</td>\n",
       "      <td>1</td>\n",
       "      <td>3</td>\n",
       "      <td>10</td>\n",
       "      <td>15</td>\n",
       "      <td>2</td>\n",
       "      <td>5</td>\n",
       "      <td>54</td>\n",
       "      <td>54</td>\n",
       "      <td>54</td>\n",
       "      <td>54</td>\n",
       "    </tr>\n",
       "    <tr>\n",
       "      <th>20</th>\n",
       "      <td>86</td>\n",
       "      <td>86</td>\n",
       "      <td>18</td>\n",
       "      <td>86</td>\n",
       "      <td>86</td>\n",
       "      <td>86</td>\n",
       "      <td>86</td>\n",
       "      <td>86</td>\n",
       "      <td>86</td>\n",
       "      <td>86</td>\n",
       "      <td>...</td>\n",
       "      <td>0</td>\n",
       "      <td>8</td>\n",
       "      <td>11</td>\n",
       "      <td>19</td>\n",
       "      <td>5</td>\n",
       "      <td>2</td>\n",
       "      <td>86</td>\n",
       "      <td>86</td>\n",
       "      <td>86</td>\n",
       "      <td>86</td>\n",
       "    </tr>\n",
       "  </tbody>\n",
       "</table>\n",
       "<p>5 rows × 40 columns</p>\n",
       "</div>"
      ],
      "text/plain": [
       "        counter  adult  belongs_to_collection  genres   id  original_language  \\\n",
       "userId                                                                          \n",
       "11           67     67                     17      67   67                 67   \n",
       "12          136    136                     28     136  136                136   \n",
       "15           77     77                     13      77   77                 77   \n",
       "16           54     54                      8      54   54                 54   \n",
       "20           86     86                     18      86   86                 86   \n",
       "\n",
       "        overview  popularity  production_companies  production_countries  \\\n",
       "userId                                                                     \n",
       "11            67          67                    67                    67   \n",
       "12           135         136                   136                   136   \n",
       "15            76          77                    77                    77   \n",
       "16            54          54                    54                    54   \n",
       "20            86          86                    86                    86   \n",
       "\n",
       "          ...      Music  Mystery  Romance  Thriller  War  Western  key_list  \\\n",
       "userId    ...                                                                  \n",
       "11        ...          3        8        7        17    2        1        67   \n",
       "12        ...          3       14       26        32    1        3       136   \n",
       "15        ...          4        7       11        23    1        0        77   \n",
       "16        ...          1        3       10        15    2        5        54   \n",
       "20        ...          0        8       11        19    5        2        86   \n",
       "\n",
       "        movieId  rating  timestamp  \n",
       "userId                              \n",
       "11           67      67         67  \n",
       "12          136     136        136  \n",
       "15           77      77         77  \n",
       "16           54      54         54  \n",
       "20           86      86         86  \n",
       "\n",
       "[5 rows x 40 columns]"
      ]
     },
     "execution_count": 13,
     "metadata": {},
     "output_type": "execute_result"
    }
   ],
   "source": [
    "df_movies_rating_group = df_movies_rating.groupby('userId').count()\n",
    "df_movies_rating_group.head()"
   ]
  },
  {
   "cell_type": "markdown",
   "metadata": {},
   "source": [
    "After merging datasets, we loss information from users and movies. Again, we filter users using the previously got percentiles 85 and 90:"
   ]
  },
  {
   "cell_type": "code",
   "execution_count": 14,
   "metadata": {},
   "outputs": [],
   "source": [
    "users_idx_filter = df_movies_rating_group.where((df_movies_rating_group.counter > 120) & (df_movies_rating_group.counter < 400)).dropna()"
   ]
  },
  {
   "cell_type": "code",
   "execution_count": 15,
   "metadata": {},
   "outputs": [
    {
     "data": {
      "text/plain": [
       "9246"
      ]
     },
     "execution_count": 15,
     "metadata": {},
     "output_type": "execute_result"
    }
   ],
   "source": [
    "len(users_idx_filter)"
   ]
  },
  {
   "cell_type": "code",
   "execution_count": 16,
   "metadata": {},
   "outputs": [],
   "source": [
    "df_user_sample = users_idx_filter.sample(frac=0.1, random_state=0)"
   ]
  },
  {
   "cell_type": "code",
   "execution_count": 17,
   "metadata": {},
   "outputs": [],
   "source": [
    "df_movies_rating_filter = df_movies_rating[df_movies_rating['userId'].isin(df_user_sample.index.tolist())]"
   ]
  },
  {
   "cell_type": "markdown",
   "metadata": {},
   "source": [
    "Building a copy of dataframe:"
   ]
  },
  {
   "cell_type": "code",
   "execution_count": 18,
   "metadata": {},
   "outputs": [],
   "source": [
    "df_mov_rating = df_movies_rating_filter.copy()"
   ]
  },
  {
   "cell_type": "markdown",
   "metadata": {},
   "source": [
    "Selecting columns for the analysis:"
   ]
  },
  {
   "cell_type": "code",
   "execution_count": 19,
   "metadata": {},
   "outputs": [],
   "source": [
    "df_mov_rating = df_mov_rating.loc[:, ['userId', 'movieId', 'title', \n",
    "                       'overview', 'spoken_languages', \n",
    "                       'rating', 'genres_list', 'key_list', \n",
    "                       'vote_count', 'vote_average',\n",
    "                       'runtime', 'release_date']]"
   ]
  },
  {
   "cell_type": "code",
   "execution_count": 20,
   "metadata": {},
   "outputs": [
    {
     "data": {
      "text/html": [
       "<div>\n",
       "<style scoped>\n",
       "    .dataframe tbody tr th:only-of-type {\n",
       "        vertical-align: middle;\n",
       "    }\n",
       "\n",
       "    .dataframe tbody tr th {\n",
       "        vertical-align: top;\n",
       "    }\n",
       "\n",
       "    .dataframe thead th {\n",
       "        text-align: right;\n",
       "    }\n",
       "</style>\n",
       "<table border=\"1\" class=\"dataframe\">\n",
       "  <thead>\n",
       "    <tr style=\"text-align: right;\">\n",
       "      <th></th>\n",
       "      <th>userId</th>\n",
       "      <th>movieId</th>\n",
       "      <th>title</th>\n",
       "      <th>overview</th>\n",
       "      <th>spoken_languages</th>\n",
       "      <th>rating</th>\n",
       "      <th>genres_list</th>\n",
       "      <th>key_list</th>\n",
       "      <th>vote_count</th>\n",
       "      <th>vote_average</th>\n",
       "      <th>runtime</th>\n",
       "      <th>release_date</th>\n",
       "    </tr>\n",
       "  </thead>\n",
       "  <tbody>\n",
       "    <tr>\n",
       "      <th>29</th>\n",
       "      <td>81267</td>\n",
       "      <td>862</td>\n",
       "      <td>Toy Story</td>\n",
       "      <td>Led by Woody, Andy's toys live happily in his ...</td>\n",
       "      <td>[{'iso_639_1': 'en', 'name': 'English'}]</td>\n",
       "      <td>4.0</td>\n",
       "      <td>['Animation', 'Comedy', 'Family']</td>\n",
       "      <td>['jealousy', 'toy', 'boy', 'friendship', 'frie...</td>\n",
       "      <td>5415.0</td>\n",
       "      <td>7.7</td>\n",
       "      <td>81.0</td>\n",
       "      <td>1995-10-30</td>\n",
       "    </tr>\n",
       "    <tr>\n",
       "      <th>44</th>\n",
       "      <td>108287</td>\n",
       "      <td>862</td>\n",
       "      <td>Toy Story</td>\n",
       "      <td>Led by Woody, Andy's toys live happily in his ...</td>\n",
       "      <td>[{'iso_639_1': 'en', 'name': 'English'}]</td>\n",
       "      <td>4.0</td>\n",
       "      <td>['Animation', 'Comedy', 'Family']</td>\n",
       "      <td>['jealousy', 'toy', 'boy', 'friendship', 'frie...</td>\n",
       "      <td>5415.0</td>\n",
       "      <td>7.7</td>\n",
       "      <td>81.0</td>\n",
       "      <td>1995-10-30</td>\n",
       "    </tr>\n",
       "  </tbody>\n",
       "</table>\n",
       "</div>"
      ],
      "text/plain": [
       "    userId  movieId      title  \\\n",
       "29   81267      862  Toy Story   \n",
       "44  108287      862  Toy Story   \n",
       "\n",
       "                                             overview  \\\n",
       "29  Led by Woody, Andy's toys live happily in his ...   \n",
       "44  Led by Woody, Andy's toys live happily in his ...   \n",
       "\n",
       "                            spoken_languages  rating  \\\n",
       "29  [{'iso_639_1': 'en', 'name': 'English'}]     4.0   \n",
       "44  [{'iso_639_1': 'en', 'name': 'English'}]     4.0   \n",
       "\n",
       "                          genres_list  \\\n",
       "29  ['Animation', 'Comedy', 'Family']   \n",
       "44  ['Animation', 'Comedy', 'Family']   \n",
       "\n",
       "                                             key_list  vote_count  \\\n",
       "29  ['jealousy', 'toy', 'boy', 'friendship', 'frie...      5415.0   \n",
       "44  ['jealousy', 'toy', 'boy', 'friendship', 'frie...      5415.0   \n",
       "\n",
       "    vote_average  runtime release_date  \n",
       "29           7.7     81.0   1995-10-30  \n",
       "44           7.7     81.0   1995-10-30  "
      ]
     },
     "execution_count": 20,
     "metadata": {},
     "output_type": "execute_result"
    }
   ],
   "source": [
    "df_mov_rating.head(2)"
   ]
  },
  {
   "cell_type": "markdown",
   "metadata": {},
   "source": [
    "Multi-indexing by users and movies:"
   ]
  },
  {
   "cell_type": "code",
   "execution_count": 21,
   "metadata": {
    "scrolled": true
   },
   "outputs": [],
   "source": [
    "df_user = df_mov_rating.set_index(['userId', 'movieId']).sort_values('userId')\n",
    "#df_user.reset_index()"
   ]
  },
  {
   "cell_type": "code",
   "execution_count": 22,
   "metadata": {},
   "outputs": [
    {
     "data": {
      "text/html": [
       "<div>\n",
       "<style scoped>\n",
       "    .dataframe tbody tr th:only-of-type {\n",
       "        vertical-align: middle;\n",
       "    }\n",
       "\n",
       "    .dataframe tbody tr th {\n",
       "        vertical-align: top;\n",
       "    }\n",
       "\n",
       "    .dataframe thead th {\n",
       "        text-align: right;\n",
       "    }\n",
       "</style>\n",
       "<table border=\"1\" class=\"dataframe\">\n",
       "  <thead>\n",
       "    <tr style=\"text-align: right;\">\n",
       "      <th></th>\n",
       "      <th></th>\n",
       "      <th>title</th>\n",
       "      <th>overview</th>\n",
       "      <th>spoken_languages</th>\n",
       "      <th>rating</th>\n",
       "      <th>genres_list</th>\n",
       "      <th>key_list</th>\n",
       "      <th>vote_count</th>\n",
       "      <th>vote_average</th>\n",
       "      <th>runtime</th>\n",
       "      <th>release_date</th>\n",
       "    </tr>\n",
       "    <tr>\n",
       "      <th>userId</th>\n",
       "      <th>movieId</th>\n",
       "      <th></th>\n",
       "      <th></th>\n",
       "      <th></th>\n",
       "      <th></th>\n",
       "      <th></th>\n",
       "      <th></th>\n",
       "      <th></th>\n",
       "      <th></th>\n",
       "      <th></th>\n",
       "      <th></th>\n",
       "    </tr>\n",
       "  </thead>\n",
       "  <tbody>\n",
       "    <tr>\n",
       "      <th rowspan=\"2\" valign=\"top\">321</th>\n",
       "      <th>2762</th>\n",
       "      <td>Young and Innocent</td>\n",
       "      <td>Derrick De Marney finds himself in a 39 Steps ...</td>\n",
       "      <td>[{'iso_639_1': 'en', 'name': 'English'}]</td>\n",
       "      <td>4.0</td>\n",
       "      <td>['Drama', 'Crime']</td>\n",
       "      <td>['murder', 'suspense']</td>\n",
       "      <td>42.0</td>\n",
       "      <td>6.8</td>\n",
       "      <td>83.0</td>\n",
       "      <td>1937-11-01</td>\n",
       "    </tr>\n",
       "    <tr>\n",
       "      <th>920</th>\n",
       "      <td>Cars</td>\n",
       "      <td>Lightning McQueen, a hotshot rookie race car d...</td>\n",
       "      <td>[{'iso_639_1': 'en', 'name': 'English'}, {'iso...</td>\n",
       "      <td>2.0</td>\n",
       "      <td>['Animation', 'Adventure', 'Comedy', 'Family']</td>\n",
       "      <td>['auto', 'wrecker', 'porsche', 'retirement', '...</td>\n",
       "      <td>3991.0</td>\n",
       "      <td>6.6</td>\n",
       "      <td>117.0</td>\n",
       "      <td>2006-06-08</td>\n",
       "    </tr>\n",
       "  </tbody>\n",
       "</table>\n",
       "</div>"
      ],
      "text/plain": [
       "                             title  \\\n",
       "userId movieId                       \n",
       "321    2762     Young and Innocent   \n",
       "       920                    Cars   \n",
       "\n",
       "                                                         overview  \\\n",
       "userId movieId                                                      \n",
       "321    2762     Derrick De Marney finds himself in a 39 Steps ...   \n",
       "       920      Lightning McQueen, a hotshot rookie race car d...   \n",
       "\n",
       "                                                 spoken_languages  rating  \\\n",
       "userId movieId                                                              \n",
       "321    2762              [{'iso_639_1': 'en', 'name': 'English'}]     4.0   \n",
       "       920      [{'iso_639_1': 'en', 'name': 'English'}, {'iso...     2.0   \n",
       "\n",
       "                                                   genres_list  \\\n",
       "userId movieId                                                   \n",
       "321    2762                                 ['Drama', 'Crime']   \n",
       "       920      ['Animation', 'Adventure', 'Comedy', 'Family']   \n",
       "\n",
       "                                                         key_list  vote_count  \\\n",
       "userId movieId                                                                  \n",
       "321    2762                                ['murder', 'suspense']        42.0   \n",
       "       920      ['auto', 'wrecker', 'porsche', 'retirement', '...      3991.0   \n",
       "\n",
       "                vote_average  runtime release_date  \n",
       "userId movieId                                      \n",
       "321    2762              6.8     83.0   1937-11-01  \n",
       "       920               6.6    117.0   2006-06-08  "
      ]
     },
     "execution_count": 22,
     "metadata": {},
     "output_type": "execute_result"
    }
   ],
   "source": [
    "df_user.head(2)"
   ]
  },
  {
   "cell_type": "markdown",
   "metadata": {},
   "source": [
    "Build a dictionary of userId, genres and genres (to count the number of movies depending on the genres and how the user qualify every genre)."
   ]
  },
  {
   "cell_type": "code",
   "execution_count": 23,
   "metadata": {},
   "outputs": [
    {
     "name": "stderr",
     "output_type": "stream",
     "text": [
      "/Users/daniela/anaconda3/lib/python3.7/site-packages/ipykernel/zmqshell.py:536: PerformanceWarning: indexing past lexsort depth may impact performance.\n",
      "  return super(ZMQInteractiveShell, self).run_cell(*args, **kwargs)\n"
     ]
    }
   ],
   "source": [
    "genres = []\n",
    "rating = []\n",
    "userId = []\n",
    "movieId = []\n",
    "vote_average = []\n",
    "\n",
    "for i in range(df_user.shape[0]):\n",
    "    a, b = df_user.index[i][0], df_user.index[i][1]\n",
    "    try:\n",
    "        df_user.genres_list[a, b].split(',')\n",
    "    except:\n",
    "        continue\n",
    "    for g in df_user.genres_list[a, b].split(','):\n",
    "        g = g.replace('[','').replace(']','').replace(\"'\", \"\").replace(\" \", \"\")\n",
    "        \n",
    "        userId.append(a)\n",
    "        movieId.append(b)\n",
    "        genres.append(g)\n",
    "        rating.append(df_user.rating[a, b])\n",
    "        vote_average.append(df_user.vote_average[a, b])\n",
    "        \n",
    "df_users_profiles = pd.DataFrame({'userId': userId, \n",
    "                                  'movieId': movieId, \n",
    "                                  'genre': genres, \n",
    "                                  'rating': rating, \n",
    "                                  'vote_average': vote_average})       "
   ]
  },
  {
   "cell_type": "markdown",
   "metadata": {},
   "source": [
    "Checking genres:"
   ]
  },
  {
   "cell_type": "code",
   "execution_count": 24,
   "metadata": {},
   "outputs": [
    {
     "data": {
      "text/plain": [
       "array(['Drama', 'Crime', 'Animation', 'Adventure', 'Comedy', 'Family',\n",
       "       'Foreign', 'Action', 'Thriller', 'Horror', 'Romance', 'Mystery',\n",
       "       'Western', 'Documentary', 'War', 'History', 'Fantasy', 'Music'],\n",
       "      dtype=object)"
      ]
     },
     "execution_count": 24,
     "metadata": {},
     "output_type": "execute_result"
    }
   ],
   "source": [
    "df_users_profiles.genre.unique()"
   ]
  },
  {
   "cell_type": "code",
   "execution_count": 25,
   "metadata": {},
   "outputs": [],
   "source": [
    "#df_users_profiles.userId.unique()"
   ]
  },
  {
   "cell_type": "markdown",
   "metadata": {},
   "source": [
    "Now, we use the information about a specific user and his preferences in genres. To visualize that, boxplots of every genre are displayed below, showing the votes that this user did for movies belongs to every genre:"
   ]
  },
  {
   "cell_type": "code",
   "execution_count": 26,
   "metadata": {},
   "outputs": [
    {
     "data": {
      "image/png": "[encoded data removed]",
      "text/plain": [
       "<Figure size 1440x432 with 1 Axes>"
      ]
     },
     "metadata": {},
     "output_type": "display_data"
    }
   ],
   "source": [
    "df_example = df_users_profiles[df_users_profiles.userId == 766]\n",
    "\n",
    "f, ax = plt.subplots(figsize=(20, 6))\n",
    "_ = sns.set_style(\"white\")\n",
    "_ = sns.boxplot(x='genre', y='rating', data=df_example, palette='coolwarm')\n",
    "_ = plt.title('Genre preferences for user B', fontsize=14)\n",
    "_ = plt.xlabel('Genre', fontsize=10)\n",
    "_ = plt.ylabel('Score', fontsize=10)\n",
    "_ = sns.despine(offset=5, trim=True)"
   ]
  },
  {
   "cell_type": "markdown",
   "metadata": {},
   "source": [
    "The boxplots of average ratings from the movies in this sample is displayed below. As we can see, every genre offers a different distribution of scores:"
   ]
  },
  {
   "cell_type": "code",
   "execution_count": 27,
   "metadata": {},
   "outputs": [],
   "source": [
    "def rescale(data):\n",
    "    x = ((5 - 0)*(data - 0)/(10-0)) + 0\n",
    "    return x"
   ]
  },
  {
   "cell_type": "code",
   "execution_count": 28,
   "metadata": {},
   "outputs": [
    {
     "name": "stderr",
     "output_type": "stream",
     "text": [
      "/Users/daniela/anaconda3/lib/python3.7/site-packages/ipykernel_launcher.py:1: SettingWithCopyWarning: \n",
      "A value is trying to be set on a copy of a slice from a DataFrame.\n",
      "Try using .loc[row_indexer,col_indexer] = value instead\n",
      "\n",
      "See the caveats in the documentation: http://pandas.pydata.org/pandas-docs/stable/indexing.html#indexing-view-versus-copy\n",
      "  \"\"\"Entry point for launching an IPython kernel.\n"
     ]
    },
    {
     "data": {
      "image/png": "[encoded data removed]",
      "text/plain": [
       "<Figure size 1440x432 with 1 Axes>"
      ]
     },
     "metadata": {},
     "output_type": "display_data"
    }
   ],
   "source": [
    "df_example['vote_average_rescaled'] = df_example.vote_average.apply(rescale)\n",
    "\n",
    "f, ax = plt.subplots(figsize=(20, 6))\n",
    "_ = sns.set_style(\"white\")\n",
    "_ = sns.boxplot(x='genre', y='vote_average_rescaled', data=df_example, palette='GnBu_d')\n",
    "_ = plt.title('General genre preferences for users', fontsize=14)\n",
    "_ = plt.xlabel('Genre', fontsize=10)\n",
    "_ = plt.ylabel('average movie rating', fontsize=10)\n",
    "_ = sns.despine(offset=5, trim=True)"
   ]
  },
  {
   "cell_type": "code",
   "execution_count": 29,
   "metadata": {
    "scrolled": true
   },
   "outputs": [
    {
     "data": {
      "text/html": [
       "<div>\n",
       "<style scoped>\n",
       "    .dataframe tbody tr th:only-of-type {\n",
       "        vertical-align: middle;\n",
       "    }\n",
       "\n",
       "    .dataframe tbody tr th {\n",
       "        vertical-align: top;\n",
       "    }\n",
       "\n",
       "    .dataframe thead th {\n",
       "        text-align: right;\n",
       "    }\n",
       "</style>\n",
       "<table border=\"1\" class=\"dataframe\">\n",
       "  <thead>\n",
       "    <tr style=\"text-align: right;\">\n",
       "      <th></th>\n",
       "      <th></th>\n",
       "      <th>mean</th>\n",
       "      <th>std</th>\n",
       "      <th>min</th>\n",
       "      <th>max</th>\n",
       "      <th>count</th>\n",
       "    </tr>\n",
       "    <tr>\n",
       "      <th>userId</th>\n",
       "      <th>genre</th>\n",
       "      <th></th>\n",
       "      <th></th>\n",
       "      <th></th>\n",
       "      <th></th>\n",
       "      <th></th>\n",
       "    </tr>\n",
       "  </thead>\n",
       "  <tbody>\n",
       "    <tr>\n",
       "      <th rowspan=\"5\" valign=\"top\">321</th>\n",
       "      <th>Action</th>\n",
       "      <td>3.068966</td>\n",
       "      <td>0.820759</td>\n",
       "      <td>0.5</td>\n",
       "      <td>4.5</td>\n",
       "      <td>29</td>\n",
       "    </tr>\n",
       "    <tr>\n",
       "      <th>Adventure</th>\n",
       "      <td>3.166667</td>\n",
       "      <td>0.841625</td>\n",
       "      <td>0.5</td>\n",
       "      <td>4.5</td>\n",
       "      <td>21</td>\n",
       "    </tr>\n",
       "    <tr>\n",
       "      <th>Animation</th>\n",
       "      <td>3.000000</td>\n",
       "      <td>0.790569</td>\n",
       "      <td>2.0</td>\n",
       "      <td>4.0</td>\n",
       "      <td>5</td>\n",
       "    </tr>\n",
       "    <tr>\n",
       "      <th>Comedy</th>\n",
       "      <td>3.043860</td>\n",
       "      <td>0.786497</td>\n",
       "      <td>0.5</td>\n",
       "      <td>4.5</td>\n",
       "      <td>57</td>\n",
       "    </tr>\n",
       "    <tr>\n",
       "      <th>Crime</th>\n",
       "      <td>3.280000</td>\n",
       "      <td>0.693421</td>\n",
       "      <td>2.0</td>\n",
       "      <td>4.5</td>\n",
       "      <td>25</td>\n",
       "    </tr>\n",
       "  </tbody>\n",
       "</table>\n",
       "</div>"
      ],
      "text/plain": [
       "                      mean       std  min  max  count\n",
       "userId genre                                         \n",
       "321    Action     3.068966  0.820759  0.5  4.5     29\n",
       "       Adventure  3.166667  0.841625  0.5  4.5     21\n",
       "       Animation  3.000000  0.790569  2.0  4.0      5\n",
       "       Comedy     3.043860  0.786497  0.5  4.5     57\n",
       "       Crime      3.280000  0.693421  2.0  4.5     25"
      ]
     },
     "execution_count": 29,
     "metadata": {},
     "output_type": "execute_result"
    }
   ],
   "source": [
    "df = df_users_profiles.groupby(['userId', 'genre']).rating.agg(['mean', 'std', 'min', 'max', 'count'])\n",
    "df.head()"
   ]
  },
  {
   "cell_type": "markdown",
   "metadata": {},
   "source": [
    "Algorithm to calculate rating of genres, adapted from https://math.stackexchange.com/questions/942738/algorithm-to-calculate-rating-based-on-multiple-reviews-using-both-review-score"
   ]
  },
  {
   "cell_type": "code",
   "execution_count": 30,
   "metadata": {},
   "outputs": [],
   "source": [
    "from math import exp\n",
    "\n",
    "def genres_ranking_by_user(df):\n",
    "    \"\"\"\n",
    "    We adapt the algorithm describe on the link below to get a coefficient that represent\n",
    "    the popularity of the genre for every user. This popularity depend on the number of movies \n",
    "    watched belongs to specific genre and the average rating for the same genre.\n",
    "    \"\"\"\n",
    "    genres_ranking = []\n",
    "    Q = max(df.loc[:, 'count'])\n",
    "    #Q = 144\n",
    "    for idx in df.index:\n",
    "        p = df.loc[idx, 'mean']\n",
    "        q = df.loc[idx, 'count']\n",
    "        score = 5*p/10 + 5*(1 - exp(-q/Q))\n",
    "        genres_ranking.append(score)\n",
    "        \n",
    "    return genres_ranking"
   ]
  },
  {
   "cell_type": "code",
   "execution_count": 31,
   "metadata": {},
   "outputs": [],
   "source": [
    "df['ranking_genres'] = genres_ranking_by_user(df)"
   ]
  },
  {
   "cell_type": "code",
   "execution_count": 32,
   "metadata": {},
   "outputs": [
    {
     "data": {
      "text/html": [
       "<div>\n",
       "<style scoped>\n",
       "    .dataframe tbody tr th:only-of-type {\n",
       "        vertical-align: middle;\n",
       "    }\n",
       "\n",
       "    .dataframe tbody tr th {\n",
       "        vertical-align: top;\n",
       "    }\n",
       "\n",
       "    .dataframe thead th {\n",
       "        text-align: right;\n",
       "    }\n",
       "</style>\n",
       "<table border=\"1\" class=\"dataframe\">\n",
       "  <thead>\n",
       "    <tr style=\"text-align: right;\">\n",
       "      <th></th>\n",
       "      <th></th>\n",
       "      <th>mean</th>\n",
       "      <th>std</th>\n",
       "      <th>min</th>\n",
       "      <th>max</th>\n",
       "      <th>count</th>\n",
       "      <th>ranking_genres</th>\n",
       "    </tr>\n",
       "    <tr>\n",
       "      <th>userId</th>\n",
       "      <th>genre</th>\n",
       "      <th></th>\n",
       "      <th></th>\n",
       "      <th></th>\n",
       "      <th></th>\n",
       "      <th></th>\n",
       "      <th></th>\n",
       "    </tr>\n",
       "  </thead>\n",
       "  <tbody>\n",
       "    <tr>\n",
       "      <th rowspan=\"18\" valign=\"top\">321</th>\n",
       "      <th>Action</th>\n",
       "      <td>3.068966</td>\n",
       "      <td>0.820759</td>\n",
       "      <td>0.5</td>\n",
       "      <td>4.5</td>\n",
       "      <td>29</td>\n",
       "      <td>2.377770</td>\n",
       "    </tr>\n",
       "    <tr>\n",
       "      <th>Adventure</th>\n",
       "      <td>3.166667</td>\n",
       "      <td>0.841625</td>\n",
       "      <td>0.5</td>\n",
       "      <td>4.5</td>\n",
       "      <td>21</td>\n",
       "      <td>2.209324</td>\n",
       "    </tr>\n",
       "    <tr>\n",
       "      <th>Animation</th>\n",
       "      <td>3.000000</td>\n",
       "      <td>0.790569</td>\n",
       "      <td>2.0</td>\n",
       "      <td>4.0</td>\n",
       "      <td>5</td>\n",
       "      <td>1.656727</td>\n",
       "    </tr>\n",
       "    <tr>\n",
       "      <th>Comedy</th>\n",
       "      <td>3.043860</td>\n",
       "      <td>0.786497</td>\n",
       "      <td>0.5</td>\n",
       "      <td>4.5</td>\n",
       "      <td>57</td>\n",
       "      <td>3.044197</td>\n",
       "    </tr>\n",
       "    <tr>\n",
       "      <th>Crime</th>\n",
       "      <td>3.280000</td>\n",
       "      <td>0.693421</td>\n",
       "      <td>2.0</td>\n",
       "      <td>4.5</td>\n",
       "      <td>25</td>\n",
       "      <td>2.376023</td>\n",
       "    </tr>\n",
       "    <tr>\n",
       "      <th>Documentary</th>\n",
       "      <td>3.500000</td>\n",
       "      <td>0.547723</td>\n",
       "      <td>3.0</td>\n",
       "      <td>4.5</td>\n",
       "      <td>6</td>\n",
       "      <td>1.937478</td>\n",
       "    </tr>\n",
       "    <tr>\n",
       "      <th>Drama</th>\n",
       "      <td>3.165000</td>\n",
       "      <td>0.855921</td>\n",
       "      <td>1.0</td>\n",
       "      <td>5.0</td>\n",
       "      <td>100</td>\n",
       "      <td>3.937965</td>\n",
       "    </tr>\n",
       "    <tr>\n",
       "      <th>Family</th>\n",
       "      <td>2.750000</td>\n",
       "      <td>0.891883</td>\n",
       "      <td>1.5</td>\n",
       "      <td>5.0</td>\n",
       "      <td>12</td>\n",
       "      <td>1.742926</td>\n",
       "    </tr>\n",
       "    <tr>\n",
       "      <th>Fantasy</th>\n",
       "      <td>3.208333</td>\n",
       "      <td>0.655686</td>\n",
       "      <td>2.0</td>\n",
       "      <td>4.5</td>\n",
       "      <td>12</td>\n",
       "      <td>1.972092</td>\n",
       "    </tr>\n",
       "    <tr>\n",
       "      <th>Foreign</th>\n",
       "      <td>4.000000</td>\n",
       "      <td>0.707107</td>\n",
       "      <td>3.5</td>\n",
       "      <td>4.5</td>\n",
       "      <td>2</td>\n",
       "      <td>2.063290</td>\n",
       "    </tr>\n",
       "    <tr>\n",
       "      <th>History</th>\n",
       "      <td>3.000000</td>\n",
       "      <td>0.845154</td>\n",
       "      <td>1.5</td>\n",
       "      <td>4.0</td>\n",
       "      <td>8</td>\n",
       "      <td>1.748395</td>\n",
       "    </tr>\n",
       "    <tr>\n",
       "      <th>Horror</th>\n",
       "      <td>3.093750</td>\n",
       "      <td>1.003639</td>\n",
       "      <td>0.5</td>\n",
       "      <td>4.0</td>\n",
       "      <td>16</td>\n",
       "      <td>2.031325</td>\n",
       "    </tr>\n",
       "    <tr>\n",
       "      <th>Music</th>\n",
       "      <td>2.857143</td>\n",
       "      <td>0.690066</td>\n",
       "      <td>1.5</td>\n",
       "      <td>3.5</td>\n",
       "      <td>7</td>\n",
       "      <td>1.646605</td>\n",
       "    </tr>\n",
       "    <tr>\n",
       "      <th>Mystery</th>\n",
       "      <td>3.461538</td>\n",
       "      <td>0.320256</td>\n",
       "      <td>3.0</td>\n",
       "      <td>4.0</td>\n",
       "      <td>13</td>\n",
       "      <td>2.128105</td>\n",
       "    </tr>\n",
       "    <tr>\n",
       "      <th>Romance</th>\n",
       "      <td>3.160000</td>\n",
       "      <td>0.850490</td>\n",
       "      <td>1.0</td>\n",
       "      <td>4.5</td>\n",
       "      <td>25</td>\n",
       "      <td>2.316023</td>\n",
       "    </tr>\n",
       "    <tr>\n",
       "      <th>Thriller</th>\n",
       "      <td>3.324324</td>\n",
       "      <td>0.603419</td>\n",
       "      <td>1.5</td>\n",
       "      <td>5.0</td>\n",
       "      <td>37</td>\n",
       "      <td>2.711951</td>\n",
       "    </tr>\n",
       "    <tr>\n",
       "      <th>War</th>\n",
       "      <td>2.833333</td>\n",
       "      <td>0.577350</td>\n",
       "      <td>2.5</td>\n",
       "      <td>3.5</td>\n",
       "      <td>3</td>\n",
       "      <td>1.511301</td>\n",
       "    </tr>\n",
       "    <tr>\n",
       "      <th>Western</th>\n",
       "      <td>3.000000</td>\n",
       "      <td>0.500000</td>\n",
       "      <td>2.5</td>\n",
       "      <td>3.5</td>\n",
       "      <td>3</td>\n",
       "      <td>1.594634</td>\n",
       "    </tr>\n",
       "  </tbody>\n",
       "</table>\n",
       "</div>"
      ],
      "text/plain": [
       "                        mean       std  min  max  count  ranking_genres\n",
       "userId genre                                                           \n",
       "321    Action       3.068966  0.820759  0.5  4.5     29        2.377770\n",
       "       Adventure    3.166667  0.841625  0.5  4.5     21        2.209324\n",
       "       Animation    3.000000  0.790569  2.0  4.0      5        1.656727\n",
       "       Comedy       3.043860  0.786497  0.5  4.5     57        3.044197\n",
       "       Crime        3.280000  0.693421  2.0  4.5     25        2.376023\n",
       "       Documentary  3.500000  0.547723  3.0  4.5      6        1.937478\n",
       "       Drama        3.165000  0.855921  1.0  5.0    100        3.937965\n",
       "       Family       2.750000  0.891883  1.5  5.0     12        1.742926\n",
       "       Fantasy      3.208333  0.655686  2.0  4.5     12        1.972092\n",
       "       Foreign      4.000000  0.707107  3.5  4.5      2        2.063290\n",
       "       History      3.000000  0.845154  1.5  4.0      8        1.748395\n",
       "       Horror       3.093750  1.003639  0.5  4.0     16        2.031325\n",
       "       Music        2.857143  0.690066  1.5  3.5      7        1.646605\n",
       "       Mystery      3.461538  0.320256  3.0  4.0     13        2.128105\n",
       "       Romance      3.160000  0.850490  1.0  4.5     25        2.316023\n",
       "       Thriller     3.324324  0.603419  1.5  5.0     37        2.711951\n",
       "       War          2.833333  0.577350  2.5  3.5      3        1.511301\n",
       "       Western      3.000000  0.500000  2.5  3.5      3        1.594634"
      ]
     },
     "execution_count": 32,
     "metadata": {},
     "output_type": "execute_result"
    }
   ],
   "source": [
    "df.head(18)"
   ]
  },
  {
   "cell_type": "code",
   "execution_count": 33,
   "metadata": {},
   "outputs": [
    {
     "name": "stderr",
     "output_type": "stream",
     "text": [
      "/Users/daniela/anaconda3/lib/python3.7/site-packages/scipy/stats/stats.py:1713: FutureWarning: Using a non-tuple sequence for multidimensional indexing is deprecated; use `arr[tuple(seq)]` instead of `arr[seq]`. In the future this will be interpreted as an array index, `arr[np.array(seq)]`, which will result either in an error or a different result.\n",
      "  return np.add.reduce(sorted[indexer] * weights, axis=axis) / sumval\n"
     ]
    },
    {
     "data": {
      "image/png": "[encoded data removed]",
      "text/plain": [
       "<Figure size 432x432 with 1 Axes>"
      ]
     },
     "metadata": {},
     "output_type": "display_data"
    }
   ],
   "source": [
    "f, ax = plt.subplots(figsize=(6, 6))\n",
    "_ = sns.set_style(\"white\")\n",
    "_ = sns.distplot(df['ranking_genres'], color='dodgerblue', kde=False)\n",
    "_ = plt.title('Measure of genre ratings using average score and quantity', fontsize=14)\n",
    "_ = plt.xlabel('Score', fontsize=10)\n",
    "_ = plt.ylabel('Genres for different users', fontsize=10)\n",
    "_ = sns.despine(offset=5, trim=True)"
   ]
  },
  {
   "cell_type": "code",
   "execution_count": 34,
   "metadata": {},
   "outputs": [
    {
     "name": "stdout",
     "output_type": "stream",
     "text": [
      "kurtosis = 1.4713019226542228\n",
      "skewness = 0.780037812397359\n"
     ]
    }
   ],
   "source": [
    "from scipy.stats import kurtosis, skew\n",
    "\n",
    "print('kurtosis = {}'.format( kurtosis(df['ranking_genres'].values) ))\n",
    "print('skewness = {}'.format( skew(df['ranking_genres'].values) ))"
   ]
  },
  {
   "cell_type": "markdown",
   "metadata": {},
   "source": [
    "Building the matrix user-genre (or the feature vector of genres for every user):"
   ]
  },
  {
   "cell_type": "code",
   "execution_count": 35,
   "metadata": {},
   "outputs": [
    {
     "data": {
      "text/html": [
       "<div>\n",
       "<style scoped>\n",
       "    .dataframe tbody tr th:only-of-type {\n",
       "        vertical-align: middle;\n",
       "    }\n",
       "\n",
       "    .dataframe tbody tr th {\n",
       "        vertical-align: top;\n",
       "    }\n",
       "\n",
       "    .dataframe thead th {\n",
       "        text-align: right;\n",
       "    }\n",
       "</style>\n",
       "<table border=\"1\" class=\"dataframe\">\n",
       "  <thead>\n",
       "    <tr style=\"text-align: right;\">\n",
       "      <th>genre</th>\n",
       "      <th>Action</th>\n",
       "      <th>Adventure</th>\n",
       "      <th>Animation</th>\n",
       "      <th>Comedy</th>\n",
       "      <th>Crime</th>\n",
       "      <th>Documentary</th>\n",
       "      <th>Drama</th>\n",
       "      <th>Family</th>\n",
       "      <th>Fantasy</th>\n",
       "      <th>Foreign</th>\n",
       "      <th>History</th>\n",
       "      <th>Horror</th>\n",
       "      <th>Music</th>\n",
       "      <th>Mystery</th>\n",
       "      <th>Romance</th>\n",
       "      <th>Thriller</th>\n",
       "      <th>War</th>\n",
       "      <th>Western</th>\n",
       "    </tr>\n",
       "    <tr>\n",
       "      <th>userId</th>\n",
       "      <th></th>\n",
       "      <th></th>\n",
       "      <th></th>\n",
       "      <th></th>\n",
       "      <th></th>\n",
       "      <th></th>\n",
       "      <th></th>\n",
       "      <th></th>\n",
       "      <th></th>\n",
       "      <th></th>\n",
       "      <th></th>\n",
       "      <th></th>\n",
       "      <th></th>\n",
       "      <th></th>\n",
       "      <th></th>\n",
       "      <th></th>\n",
       "      <th></th>\n",
       "      <th></th>\n",
       "    </tr>\n",
       "  </thead>\n",
       "  <tbody>\n",
       "    <tr>\n",
       "      <th>321</th>\n",
       "      <td>2.377770</td>\n",
       "      <td>2.209324</td>\n",
       "      <td>1.656727</td>\n",
       "      <td>3.044197</td>\n",
       "      <td>2.376023</td>\n",
       "      <td>1.937478</td>\n",
       "      <td>3.937965</td>\n",
       "      <td>1.742926</td>\n",
       "      <td>1.972092</td>\n",
       "      <td>2.063290</td>\n",
       "      <td>1.748395</td>\n",
       "      <td>2.031325</td>\n",
       "      <td>1.646605</td>\n",
       "      <td>2.128105</td>\n",
       "      <td>2.316023</td>\n",
       "      <td>2.711951</td>\n",
       "      <td>1.511301</td>\n",
       "      <td>1.594634</td>\n",
       "    </tr>\n",
       "    <tr>\n",
       "      <th>463</th>\n",
       "      <td>2.428167</td>\n",
       "      <td>2.153012</td>\n",
       "      <td>1.437478</td>\n",
       "      <td>2.317739</td>\n",
       "      <td>2.153632</td>\n",
       "      <td>1.563290</td>\n",
       "      <td>3.323058</td>\n",
       "      <td>1.373395</td>\n",
       "      <td>1.819416</td>\n",
       "      <td>NaN</td>\n",
       "      <td>1.310895</td>\n",
       "      <td>1.929237</td>\n",
       "      <td>1.908541</td>\n",
       "      <td>2.042531</td>\n",
       "      <td>2.197404</td>\n",
       "      <td>2.746031</td>\n",
       "      <td>1.313290</td>\n",
       "      <td>1.125779</td>\n",
       "    </tr>\n",
       "    <tr>\n",
       "      <th>638</th>\n",
       "      <td>2.512219</td>\n",
       "      <td>2.320788</td>\n",
       "      <td>1.356727</td>\n",
       "      <td>2.612611</td>\n",
       "      <td>2.642003</td>\n",
       "      <td>1.656727</td>\n",
       "      <td>3.861148</td>\n",
       "      <td>1.500786</td>\n",
       "      <td>2.008541</td>\n",
       "      <td>NaN</td>\n",
       "      <td>1.656727</td>\n",
       "      <td>1.854144</td>\n",
       "      <td>1.908541</td>\n",
       "      <td>2.248414</td>\n",
       "      <td>2.345552</td>\n",
       "      <td>2.644383</td>\n",
       "      <td>1.813290</td>\n",
       "      <td>1.531746</td>\n",
       "    </tr>\n",
       "    <tr>\n",
       "      <th>766</th>\n",
       "      <td>2.388156</td>\n",
       "      <td>2.159618</td>\n",
       "      <td>1.875779</td>\n",
       "      <td>2.710083</td>\n",
       "      <td>2.267399</td>\n",
       "      <td>1.511301</td>\n",
       "      <td>3.779040</td>\n",
       "      <td>1.633782</td>\n",
       "      <td>2.005596</td>\n",
       "      <td>NaN</td>\n",
       "      <td>1.813279</td>\n",
       "      <td>1.906325</td>\n",
       "      <td>1.456727</td>\n",
       "      <td>2.046950</td>\n",
       "      <td>2.136023</td>\n",
       "      <td>2.673553</td>\n",
       "      <td>1.625779</td>\n",
       "      <td>1.718033</td>\n",
       "    </tr>\n",
       "    <tr>\n",
       "      <th>908</th>\n",
       "      <td>2.178886</td>\n",
       "      <td>1.688930</td>\n",
       "      <td>1.688290</td>\n",
       "      <td>2.413437</td>\n",
       "      <td>2.206664</td>\n",
       "      <td>1.438290</td>\n",
       "      <td>3.224572</td>\n",
       "      <td>1.479144</td>\n",
       "      <td>1.838328</td>\n",
       "      <td>1.511301</td>\n",
       "      <td>1.606727</td>\n",
       "      <td>1.588930</td>\n",
       "      <td>1.177968</td>\n",
       "      <td>1.906325</td>\n",
       "      <td>2.167111</td>\n",
       "      <td>2.347516</td>\n",
       "      <td>1.306727</td>\n",
       "      <td>1.646605</td>\n",
       "    </tr>\n",
       "  </tbody>\n",
       "</table>\n",
       "</div>"
      ],
      "text/plain": [
       "genre     Action  Adventure  Animation    Comedy     Crime  Documentary  \\\n",
       "userId                                                                    \n",
       "321     2.377770   2.209324   1.656727  3.044197  2.376023     1.937478   \n",
       "463     2.428167   2.153012   1.437478  2.317739  2.153632     1.563290   \n",
       "638     2.512219   2.320788   1.356727  2.612611  2.642003     1.656727   \n",
       "766     2.388156   2.159618   1.875779  2.710083  2.267399     1.511301   \n",
       "908     2.178886   1.688930   1.688290  2.413437  2.206664     1.438290   \n",
       "\n",
       "genre      Drama    Family   Fantasy   Foreign   History    Horror     Music  \\\n",
       "userId                                                                         \n",
       "321     3.937965  1.742926  1.972092  2.063290  1.748395  2.031325  1.646605   \n",
       "463     3.323058  1.373395  1.819416       NaN  1.310895  1.929237  1.908541   \n",
       "638     3.861148  1.500786  2.008541       NaN  1.656727  1.854144  1.908541   \n",
       "766     3.779040  1.633782  2.005596       NaN  1.813279  1.906325  1.456727   \n",
       "908     3.224572  1.479144  1.838328  1.511301  1.606727  1.588930  1.177968   \n",
       "\n",
       "genre    Mystery   Romance  Thriller       War   Western  \n",
       "userId                                                    \n",
       "321     2.128105  2.316023  2.711951  1.511301  1.594634  \n",
       "463     2.042531  2.197404  2.746031  1.313290  1.125779  \n",
       "638     2.248414  2.345552  2.644383  1.813290  1.531746  \n",
       "766     2.046950  2.136023  2.673553  1.625779  1.718033  \n",
       "908     1.906325  2.167111  2.347516  1.306727  1.646605  "
      ]
     },
     "execution_count": 35,
     "metadata": {},
     "output_type": "execute_result"
    }
   ],
   "source": [
    "df_reindex = df.reset_index()\n",
    "\n",
    "df_pivot = df_reindex.pivot(index='userId', columns='genre', values='ranking_genres')\n",
    "df_pivot.head()"
   ]
  },
  {
   "cell_type": "code",
   "execution_count": 36,
   "metadata": {},
   "outputs": [],
   "source": [
    "df_pivot.fillna(0, inplace=True)"
   ]
  },
  {
   "cell_type": "code",
   "execution_count": 37,
   "metadata": {},
   "outputs": [],
   "source": [
    "from sklearn.metrics import pairwise_distances\n",
    "\n",
    "cosine_sim = 1-pairwise_distances(df_pivot, metric=\"cosine\")"
   ]
  },
  {
   "cell_type": "code",
   "execution_count": 38,
   "metadata": {},
   "outputs": [
    {
     "data": {
      "text/html": [
       "<div>\n",
       "<style scoped>\n",
       "    .dataframe tbody tr th:only-of-type {\n",
       "        vertical-align: middle;\n",
       "    }\n",
       "\n",
       "    .dataframe tbody tr th {\n",
       "        vertical-align: top;\n",
       "    }\n",
       "\n",
       "    .dataframe thead th {\n",
       "        text-align: right;\n",
       "    }\n",
       "</style>\n",
       "<table border=\"1\" class=\"dataframe\">\n",
       "  <thead>\n",
       "    <tr style=\"text-align: right;\">\n",
       "      <th></th>\n",
       "      <th>0</th>\n",
       "      <th>1</th>\n",
       "      <th>2</th>\n",
       "      <th>3</th>\n",
       "      <th>4</th>\n",
       "      <th>5</th>\n",
       "      <th>6</th>\n",
       "      <th>7</th>\n",
       "      <th>8</th>\n",
       "      <th>9</th>\n",
       "      <th>...</th>\n",
       "      <th>915</th>\n",
       "      <th>916</th>\n",
       "      <th>917</th>\n",
       "      <th>918</th>\n",
       "      <th>919</th>\n",
       "      <th>920</th>\n",
       "      <th>921</th>\n",
       "      <th>922</th>\n",
       "      <th>923</th>\n",
       "      <th>924</th>\n",
       "    </tr>\n",
       "  </thead>\n",
       "  <tbody>\n",
       "    <tr>\n",
       "      <th>0</th>\n",
       "      <td>1.000000</td>\n",
       "      <td>0.969983</td>\n",
       "      <td>0.972030</td>\n",
       "      <td>0.973856</td>\n",
       "      <td>0.995714</td>\n",
       "      <td>0.964074</td>\n",
       "      <td>0.989538</td>\n",
       "      <td>0.991320</td>\n",
       "      <td>0.995597</td>\n",
       "      <td>0.996904</td>\n",
       "      <td>...</td>\n",
       "      <td>0.996370</td>\n",
       "      <td>0.969712</td>\n",
       "      <td>0.992934</td>\n",
       "      <td>0.983267</td>\n",
       "      <td>0.994423</td>\n",
       "      <td>0.974511</td>\n",
       "      <td>0.958093</td>\n",
       "      <td>0.957123</td>\n",
       "      <td>0.990320</td>\n",
       "      <td>0.994551</td>\n",
       "    </tr>\n",
       "    <tr>\n",
       "      <th>1</th>\n",
       "      <td>0.969983</td>\n",
       "      <td>1.000000</td>\n",
       "      <td>0.995703</td>\n",
       "      <td>0.991738</td>\n",
       "      <td>0.972001</td>\n",
       "      <td>0.991350</td>\n",
       "      <td>0.978400</td>\n",
       "      <td>0.981427</td>\n",
       "      <td>0.973455</td>\n",
       "      <td>0.972480</td>\n",
       "      <td>...</td>\n",
       "      <td>0.978351</td>\n",
       "      <td>0.989954</td>\n",
       "      <td>0.984377</td>\n",
       "      <td>0.988002</td>\n",
       "      <td>0.968905</td>\n",
       "      <td>0.995182</td>\n",
       "      <td>0.987992</td>\n",
       "      <td>0.983520</td>\n",
       "      <td>0.989519</td>\n",
       "      <td>0.965879</td>\n",
       "    </tr>\n",
       "    <tr>\n",
       "      <th>2</th>\n",
       "      <td>0.972030</td>\n",
       "      <td>0.995703</td>\n",
       "      <td>1.000000</td>\n",
       "      <td>0.994885</td>\n",
       "      <td>0.975640</td>\n",
       "      <td>0.990313</td>\n",
       "      <td>0.982034</td>\n",
       "      <td>0.986066</td>\n",
       "      <td>0.976094</td>\n",
       "      <td>0.974490</td>\n",
       "      <td>...</td>\n",
       "      <td>0.980734</td>\n",
       "      <td>0.989659</td>\n",
       "      <td>0.983280</td>\n",
       "      <td>0.994078</td>\n",
       "      <td>0.973755</td>\n",
       "      <td>0.997342</td>\n",
       "      <td>0.982380</td>\n",
       "      <td>0.981996</td>\n",
       "      <td>0.992929</td>\n",
       "      <td>0.967763</td>\n",
       "    </tr>\n",
       "    <tr>\n",
       "      <th>3</th>\n",
       "      <td>0.973856</td>\n",
       "      <td>0.991738</td>\n",
       "      <td>0.994885</td>\n",
       "      <td>1.000000</td>\n",
       "      <td>0.980582</td>\n",
       "      <td>0.985578</td>\n",
       "      <td>0.982131</td>\n",
       "      <td>0.984395</td>\n",
       "      <td>0.978665</td>\n",
       "      <td>0.976619</td>\n",
       "      <td>...</td>\n",
       "      <td>0.981626</td>\n",
       "      <td>0.992375</td>\n",
       "      <td>0.985090</td>\n",
       "      <td>0.990363</td>\n",
       "      <td>0.974706</td>\n",
       "      <td>0.997364</td>\n",
       "      <td>0.977697</td>\n",
       "      <td>0.979052</td>\n",
       "      <td>0.993589</td>\n",
       "      <td>0.972411</td>\n",
       "    </tr>\n",
       "    <tr>\n",
       "      <th>4</th>\n",
       "      <td>0.995714</td>\n",
       "      <td>0.972001</td>\n",
       "      <td>0.975640</td>\n",
       "      <td>0.980582</td>\n",
       "      <td>1.000000</td>\n",
       "      <td>0.964750</td>\n",
       "      <td>0.991289</td>\n",
       "      <td>0.990535</td>\n",
       "      <td>0.997072</td>\n",
       "      <td>0.996935</td>\n",
       "      <td>...</td>\n",
       "      <td>0.998198</td>\n",
       "      <td>0.974047</td>\n",
       "      <td>0.992840</td>\n",
       "      <td>0.986239</td>\n",
       "      <td>0.993564</td>\n",
       "      <td>0.977650</td>\n",
       "      <td>0.956751</td>\n",
       "      <td>0.958566</td>\n",
       "      <td>0.992689</td>\n",
       "      <td>0.994639</td>\n",
       "    </tr>\n",
       "  </tbody>\n",
       "</table>\n",
       "<p>5 rows × 925 columns</p>\n",
       "</div>"
      ],
      "text/plain": [
       "        0         1         2         3         4         5         6    \\\n",
       "0  1.000000  0.969983  0.972030  0.973856  0.995714  0.964074  0.989538   \n",
       "1  0.969983  1.000000  0.995703  0.991738  0.972001  0.991350  0.978400   \n",
       "2  0.972030  0.995703  1.000000  0.994885  0.975640  0.990313  0.982034   \n",
       "3  0.973856  0.991738  0.994885  1.000000  0.980582  0.985578  0.982131   \n",
       "4  0.995714  0.972001  0.975640  0.980582  1.000000  0.964750  0.991289   \n",
       "\n",
       "        7         8         9      ...          915       916       917  \\\n",
       "0  0.991320  0.995597  0.996904    ...     0.996370  0.969712  0.992934   \n",
       "1  0.981427  0.973455  0.972480    ...     0.978351  0.989954  0.984377   \n",
       "2  0.986066  0.976094  0.974490    ...     0.980734  0.989659  0.983280   \n",
       "3  0.984395  0.978665  0.976619    ...     0.981626  0.992375  0.985090   \n",
       "4  0.990535  0.997072  0.996935    ...     0.998198  0.974047  0.992840   \n",
       "\n",
       "        918       919       920       921       922       923       924  \n",
       "0  0.983267  0.994423  0.974511  0.958093  0.957123  0.990320  0.994551  \n",
       "1  0.988002  0.968905  0.995182  0.987992  0.983520  0.989519  0.965879  \n",
       "2  0.994078  0.973755  0.997342  0.982380  0.981996  0.992929  0.967763  \n",
       "3  0.990363  0.974706  0.997364  0.977697  0.979052  0.993589  0.972411  \n",
       "4  0.986239  0.993564  0.977650  0.956751  0.958566  0.992689  0.994639  \n",
       "\n",
       "[5 rows x 925 columns]"
      ]
     },
     "execution_count": 38,
     "metadata": {},
     "output_type": "execute_result"
    }
   ],
   "source": [
    "pd.DataFrame(cosine_sim).head()"
   ]
  },
  {
   "cell_type": "markdown",
   "metadata": {},
   "source": [
    "The following function find k similar users. We select four and compare the corrected genre scores using linear plots of every user."
   ]
  },
  {
   "cell_type": "code",
   "execution_count": 39,
   "metadata": {},
   "outputs": [],
   "source": [
    "from sklearn.neighbors import NearestNeighbors\n",
    "\n",
    "metric = 'cosine'\n",
    "k = 4\n",
    "def similar_users(user_id, feature_user_genre, metric = metric, k=k, verbose=True):\n",
    "    \"\"\"\n",
    "    Adaptation of findksimilarusers function availability in: \n",
    "    https://github.com/csaluja/JupyterNotebooks-Medium/blob/master/CF%20Recommendation%20System-Examples.ipynb?so\n",
    "    \"\"\"\n",
    "    similarities=[]\n",
    "    indices=[]\n",
    "    model_knn = NearestNeighbors(metric = metric) \n",
    "    model_knn.fit(feature_user_genre)\n",
    "\n",
    "    distances, indices = model_knn.kneighbors(feature_user_genre.iloc[user_id, :].values.reshape(1, -1), n_neighbors = k+1)\n",
    "    similarities = 1-distances.flatten()\n",
    "    if verbose:\n",
    "        print ('{} most similar users for user {}:\\n'.format(k,user_id))\n",
    "    for i in range(0, len(indices.flatten())):\n",
    "        #If index correspond to user asked, continue. Otherwise, print user\n",
    "        if indices.flatten()[i]+1 == user_id+1:\n",
    "            continue;\n",
    "\n",
    "        else:\n",
    "            if verbose:\n",
    "                print ('{}: User {}, with similarity of {}'.format(i, indices.flatten()[i], similarities.flatten()[i]))\n",
    "            \n",
    "    return similarities,indices"
   ]
  },
  {
   "cell_type": "code",
   "execution_count": 40,
   "metadata": {},
   "outputs": [
    {
     "name": "stdout",
     "output_type": "stream",
     "text": [
      "4 most similar users for user 0:\n",
      "\n",
      "1: User 741, with similarity of 0.9986922676863139\n",
      "2: User 768, with similarity of 0.9985028031625671\n",
      "3: User 97, with similarity of 0.9983001011709597\n",
      "4: User 240, with similarity of 0.9980157451656653\n"
     ]
    }
   ],
   "source": [
    "similarities,indices = similar_users(0, df_pivot, metric='cosine', k=4)"
   ]
  },
  {
   "cell_type": "code",
   "execution_count": 41,
   "metadata": {},
   "outputs": [],
   "source": [
    "df_similar_users = pd.concat([df_pivot.iloc[0, :].rename('user'), \n",
    "                              df_pivot.iloc[741, :].rename('first similar'), \n",
    "                              df_pivot.iloc[768, :].rename('second similar'),\n",
    "                              df_pivot.iloc[97, :].rename('third similar'),\n",
    "                              df_pivot.iloc[240, :].rename('fourth similar')\n",
    "                              ], axis=1)"
   ]
  },
  {
   "cell_type": "code",
   "execution_count": 42,
   "metadata": {},
   "outputs": [
    {
     "data": {
      "image/png": "[encoded data removed]",
      "text/plain": [
       "<Figure size 1440x432 with 1 Axes>"
      ]
     },
     "metadata": {},
     "output_type": "display_data"
    }
   ],
   "source": [
    "f, ax = plt.subplots(figsize=(20, 6))\n",
    "_ = sns.set_style(\"white\")\n",
    "_ = sns.lineplot(data=df_similar_users['user'], color='firebrick', linewidth=4)\n",
    "_ = sns.lineplot(data=df_similar_users['first similar'], color='grey', linewidth=2)\n",
    "_ = sns.lineplot(data=df_similar_users['second similar'], color='slateblue', linewidth=2)\n",
    "_ = sns.lineplot(data=df_similar_users['third similar'], color='dodgerblue', linewidth=2)\n",
    "_ = sns.lineplot(data=df_similar_users['fourth similar'], color='plum', linewidth=2)\n",
    "_ = plt.legend(['user', 'first similar', 'second similar', 'third similar', 'fourth similar'])\n",
    "_ = plt.title('Similar users', fontsize=14)\n",
    "_ = plt.xlabel('genres', fontsize=10)\n",
    "_ = plt.ylabel('corrected genre scores', fontsize=10)"
   ]
  },
  {
   "cell_type": "code",
   "execution_count": 43,
   "metadata": {},
   "outputs": [],
   "source": [
    "def predict_user_based(user_id, genre_id, feature_user_genre, metric = metric, k=k, verbose=True):\n",
    "    \"\"\"\n",
    "    Adaptation of predict_userbased function availability in: \n",
    "    https://github.com/csaluja/JupyterNotebooks-Medium/blob/master/CF%20Recommendation%20System-Examples.ipynb?so\n",
    "    \"\"\"\n",
    "    prediction=0\n",
    "    similarities, indices = similar_users(user_id, feature_user_genre ,metric, k, verbose=False) #similar users based on cosine similarity\n",
    "    mean_feature_user_genre = feature_user_genre.iloc[user_id,:].mean() #to adjust for zero based indexing\n",
    "    sum_wt = np.sum(similarities)-1\n",
    "    product=1\n",
    "    wtd_sum = 0 \n",
    "    \n",
    "    for i in range(0, len(indices.flatten())):\n",
    "        if indices.flatten()[i]+1 == user_id+1:\n",
    "            continue;\n",
    "        else: \n",
    "            feature_user_genre_diff = feature_user_genre.iloc[indices.flatten()[i],genre_id-1]-np.mean(feature_user_genre.iloc[indices.flatten()[i],:])\n",
    "            product = feature_user_genre_diff * (similarities[i])\n",
    "            wtd_sum = wtd_sum + product\n",
    "    \n",
    "    prediction = mean_feature_user_genre + (wtd_sum/sum_wt)\n",
    "    if verbose:\n",
    "        print ('\\nFor user {} and item {}, the predicted score is {}'.format(user_id, genre_id-1, prediction))\n",
    "\n",
    "    return prediction"
   ]
  },
  {
   "cell_type": "markdown",
   "metadata": {},
   "source": [
    "Predicting scores for every genre of User 0:"
   ]
  },
  {
   "cell_type": "code",
   "execution_count": 44,
   "metadata": {},
   "outputs": [],
   "source": [
    "prediction = []\n",
    "for i in range(18):\n",
    "    p = predict_user_based(200, i+1, df_pivot, metric='cosine', k=4, verbose=False)\n",
    "    prediction.append(p)\n",
    "    \n",
    "df_similar_users['prediction'] = prediction"
   ]
  },
  {
   "cell_type": "code",
   "execution_count": 45,
   "metadata": {},
   "outputs": [
    {
     "data": {
      "image/png": "[encoded data removed]",
      "text/plain": [
       "<Figure size 1440x432 with 1 Axes>"
      ]
     },
     "metadata": {},
     "output_type": "display_data"
    }
   ],
   "source": [
    "f, ax = plt.subplots(figsize=(20, 6))\n",
    "_ = sns.set_style(\"white\")\n",
    "_ = sns.lineplot(data=df_similar_users['user'], color='black', linewidth=2)\n",
    "_ = sns.lineplot(data=df_similar_users['prediction'], color='dodgerblue', linewidth=2)\n",
    "_ = plt.legend(['user', 'prediction'])\n",
    "_ = plt.title('Prediction of user profile', fontsize=14)\n",
    "_ = plt.xlabel('genres', fontsize=10)\n",
    "_ = plt.ylabel('corrected genre scores', fontsize=10)"
   ]
  },
  {
   "cell_type": "code",
   "execution_count": 46,
   "metadata": {},
   "outputs": [
    {
     "data": {
      "text/plain": [
       "0.0588428933711542"
      ]
     },
     "execution_count": 46,
     "metadata": {},
     "output_type": "execute_result"
    }
   ],
   "source": [
    "from sklearn.metrics import mean_squared_error\n",
    "mean_squared_error(df_similar_users['user'].values, df_similar_users['prediction'].values)"
   ]
  },
  {
   "cell_type": "code",
   "execution_count": null,
   "metadata": {},
   "outputs": [],
   "source": []
  }
 ],
 "metadata": {
  "kernelspec": {
   "display_name": "Python 3",
   "language": "python",
   "name": "python3"
  },
  "language_info": {
   "codemirror_mode": {
    "name": "ipython",
    "version": 3
   },
   "file_extension": ".py",
   "mimetype": "text/x-python",
   "name": "python",
   "nbconvert_exporter": "python",
   "pygments_lexer": "ipython3",
   "version": "3.7.1"
  }
 },
 "nbformat": 4,
 "nbformat_minor": 2
}
